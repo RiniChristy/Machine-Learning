{
 "cells": [
  {
   "cell_type": "markdown",
   "id": "2acb8ef6",
   "metadata": {
    "papermill": {
     "duration": 0.041499,
     "end_time": "2022-05-26T17:10:57.434050",
     "exception": false,
     "start_time": "2022-05-26T17:10:57.392551",
     "status": "completed"
    },
    "tags": []
   },
   "source": [
    "# **Behind the Scenes of Logistic Regression Algorithm**\n",
    "\n",
    "## **Table of Contents**\n",
    "\n",
    "  * [Logistic Regression: Introduction](#Introduction)<br>\n",
    "  * [Mathematical Intepretation of Logistic Regression Algorithm](#Mathematics)<br>\n",
    "  * [Cost Function](#CostFunction)<br>\n",
    "  * [Gradient Descent](#Gradient)<br>\n",
    "  * [Implementation of Logistic Regression Algorithm](#implementation)<br>\n",
    "  * [Decision Boundary Display](#Decision)<br>\n",
    "  * [Dealing with the problem of overfitting: Regularization](#Regularization)\n",
    "    \n",
    "\n",
    "\n",
    "### **Import Libraries & Primary modules**"
   ]
  },
  {
   "cell_type": "code",
   "execution_count": 1,
   "id": "cd678c7e",
   "metadata": {
    "execution": {
     "iopub.execute_input": "2022-05-26T17:10:57.514846Z",
     "iopub.status.busy": "2022-05-26T17:10:57.514272Z",
     "iopub.status.idle": "2022-05-26T17:10:58.621015Z",
     "shell.execute_reply": "2022-05-26T17:10:58.620100Z"
    },
    "papermill": {
     "duration": 1.149645,
     "end_time": "2022-05-26T17:10:58.623522",
     "exception": false,
     "start_time": "2022-05-26T17:10:57.473877",
     "status": "completed"
    },
    "tags": []
   },
   "outputs": [],
   "source": [
    "import numpy as np \n",
    "import pandas as pd \n",
    "import seaborn as sns\n",
    "import matplotlib.pyplot as plt \n",
    "import warnings\n",
    "warnings.filterwarnings('ignore')"
   ]
  },
  {
   "cell_type": "markdown",
   "id": "e1cbc776",
   "metadata": {
    "papermill": {
     "duration": 0.039551,
     "end_time": "2022-05-26T17:10:58.702946",
     "exception": false,
     "start_time": "2022-05-26T17:10:58.663395",
     "status": "completed"
    },
    "tags": []
   },
   "source": [
    "## **Logistic Regression: Introduction**<a name = 'Introduction'></a> \n",
    "\n",
    "While Linear Regression is suited for estimating continuous values, it is not the best tool for predicting the class of an observed data point. In order to estimate the class of a data point, some sort of guidance is required on what would be the most probable class for that data point. For this, Logistic Regression is used.\n",
    "\n",
    "In simple terms a linear regression is expressed by the following equation: \n",
    "$$ Y = b_0 + b_0X$$\n",
    "<br>\n",
    "With Sigmoid function applied---->\n",
    "$$P = \\frac {1}{1 + e^{(-y)}} $$\n",
    "<br><br>\n",
    "$$ln(\\frac{p}{1-p}) = b_0 + b_0X$$\n",
    "<br><br>\n",
    "\n",
    "\n",
    "**Linear regression** finds a function that relates a continuous dependent variable, **y**, to some predictors (independent variables $x_1$, $x_2$, etc.). For example, Simple linear regression assumes a function of the form:\n",
    "<br><br>\n",
    "$$\n",
    "y = \\theta_0 + \\theta_1  x_1 + \\theta_2  x_2 + \\cdots\n",
    "$$\n",
    "<br>\n",
    "and finds the values of parameters $\\theta_0, \\theta_1, \\theta_2$, etc, where the term $\\theta_0$ is the \"intercept\". It can be generally shown as:\n",
    "<br><br>\n",
    "$$\n",
    "ℎ_\\theta(𝑥) = \\theta^TX\n",
    "$$\n",
    "<br>\n",
    "\n",
    "\n",
    "**Logistic Regression** is a variation of Linear Regression, useful when the observed dependent variable, **y**, is categorical. It produces a formula that predicts the probability of the class label as a function of the independent variables. \n",
    "\n",
    "Logistic regression fits a special s-shaped curve by taking the linear regression and transforming the numeric estimate into a probability with the following function, which is called sigmoid function 𝜎:\n",
    "\n",
    "$$\n",
    "ℎ_\\theta(𝑥) = \\sigma(\\theta^TX) =  \\frac {e^{(\\theta_0 + \\theta_1  x_1 + \\theta_2  x_2 +...)}}{1 + e^{(\\theta_0 + \\theta_1  x_1 + \\theta_2  x_2 +\\cdots)}}\n",
    "$$\n",
    "Or:\n",
    "$$\n",
    "ProbabilityOfaClass_1 =  P(Y=1|X) = \\sigma(\\theta^TX) = \\frac{e^(\\theta^TX)}{1+e^(\\theta^TX)} \n",
    "$$\n",
    "\n",
    "In this equation, $(\\theta^TX)$ is the regression result (the sum of the variables weighted by the coefficients), `exp` is the exponential function and $\\sigma(\\theta^TX)$ is the sigmoid or [logistic function](https://en.wikipedia.org/wiki/Logistic_function), also called logistic curve. It is a common \"S\" shape (sigmoid curve).\n",
    "\n",
    "So, briefly, Logistic Regression passes the input through the logistic/sigmoid but then treats the result as a probability:\n",
    "\n",
    "<img\n",
    "src=\"https://ibm.box.com/shared/static/kgv9alcghmjcv97op4d6onkyxevk23b1.png\" width=\"400\" align=\"center\">\n",
    "\n",
    "Image credit: [IBM](https://ibm.box.com/shared/static/kgv9alcghmjcv97op4d6onkyxevk23b1.png)\n",
    "\n",
    "The objective of __Logistic Regression__ algorithm, is to find the best parameters θ, for $ℎ_\\theta(𝑥)$ = $\\sigma(\\theta^TX)$, in such a way that the model best predicts the class of each case.\n"
   ]
  },
  {
   "cell_type": "code",
   "execution_count": 2,
   "id": "e1ff6075",
   "metadata": {
    "execution": {
     "iopub.execute_input": "2022-05-26T17:10:58.786556Z",
     "iopub.status.busy": "2022-05-26T17:10:58.786284Z",
     "iopub.status.idle": "2022-05-26T17:10:59.006268Z",
     "shell.execute_reply": "2022-05-26T17:10:59.005323Z"
    },
    "papermill": {
     "duration": 0.264941,
     "end_time": "2022-05-26T17:10:59.009291",
     "exception": false,
     "start_time": "2022-05-26T17:10:58.744350",
     "status": "completed"
    },
    "tags": []
   },
   "outputs": [
    {
     "data": {
      "image/png": "[encoded data removed]",
      "text/plain": [
       "<Figure size 432x288 with 1 Axes>"
      ]
     },
     "metadata": {
      "needs_background": "light"
     },
     "output_type": "display_data"
    }
   ],
   "source": [
    "X = np.arange(-5.0, 5.0, 0.1)\n",
    "Y = 1/(1+np.power(2.712, -(X-2)))\n",
    "Y_noise = 0.25 * np.random.normal(size=X.size) \n",
    "Ydata = Y + Y_noise\n",
    "\n",
    "plt.plot(X,Y, '-r') \n",
    "plt.plot(X, Ydata,  'bo')\n",
    "plt.ylabel('Dependent Variable')\n",
    "plt.xlabel('Indepdendent Variable')\n",
    "plt.show()"
   ]
  },
  {
   "cell_type": "markdown",
   "id": "f472b4b1",
   "metadata": {
    "papermill": {
     "duration": 0.040776,
     "end_time": "2022-05-26T17:10:59.091689",
     "exception": false,
     "start_time": "2022-05-26T17:10:59.050913",
     "status": "completed"
    },
    "tags": []
   },
   "source": [
    "If we use Linear Regression in this problem, we will get a best-fit line like this:"
   ]
  },
  {
   "cell_type": "code",
   "execution_count": 3,
   "id": "4b20c56c",
   "metadata": {
    "execution": {
     "iopub.execute_input": "2022-05-26T17:10:59.175581Z",
     "iopub.status.busy": "2022-05-26T17:10:59.174854Z",
     "iopub.status.idle": "2022-05-26T17:10:59.686791Z",
     "shell.execute_reply": "2022-05-26T17:10:59.685549Z"
    },
    "papermill": {
     "duration": 0.557127,
     "end_time": "2022-05-26T17:10:59.689588",
     "exception": false,
     "start_time": "2022-05-26T17:10:59.132461",
     "status": "completed"
    },
    "tags": []
   },
   "outputs": [
    {
     "data": {
      "image/png": "[encoded data removed]",
      "text/plain": [
       "<Figure size 432x288 with 1 Axes>"
      ]
     },
     "metadata": {
      "needs_background": "light"
     },
     "output_type": "display_data"
    }
   ],
   "source": [
    "X = np.arange(-5.0, 5.0, 0.1)\n",
    "Y = 1/(1+np.power(2.712, -(X-2)))\n",
    "Y_noise = 0.07 * np.random.normal(size=X.size) \n",
    "Ydata = Y + Y_noise\n",
    "\n",
    "plt.plot(X,Y, '-r', label = 'sigmoid') \n",
    "plt.plot(X, Ydata,  'go')\n",
    "plt.ylabel('Dependent Variable')\n",
    "plt.xlabel('Indepdendent Variable')\n",
    "x= X.reshape(len(X),1)\n",
    "y = 1/(1+np.power(3, -(x-2)))\n",
    "from sklearn.linear_model import LinearRegression\n",
    "lr = LinearRegression()\n",
    "lr.fit(x, y)\n",
    "Yhat = lr.predict(x)\n",
    "plt.plot(x, Yhat,  'b', label = 'linear')\n",
    "plt.xlim([-7,7])\n",
    "plt.legend()\n",
    "plt.show()"
   ]
  },
  {
   "cell_type": "markdown",
   "id": "1ed739eb",
   "metadata": {
    "papermill": {
     "duration": 0.041773,
     "end_time": "2022-05-26T17:10:59.773401",
     "exception": false,
     "start_time": "2022-05-26T17:10:59.731628",
     "status": "completed"
    },
    "tags": []
   },
   "source": [
    "Applying the Linear regression, obtained a line (blue one) with equation Yhat = ßX + b.\n",
    "\n",
    "If this line is extended, values greater than 1 and less than 0 are obtained, which do not make much sense in a classification problem. It will make a model interpretation a challenge. If we needed to predict a continuous variable as an output, then this model could be helpful. But here we need to classify our data as Y = 0 or Y = 1. That is where ***Logistic Regression*** comes in for rescue."
   ]
  },
  {
   "cell_type": "markdown",
   "id": "8b2bf990",
   "metadata": {
    "papermill": {
     "duration": 0.041277,
     "end_time": "2022-05-26T17:10:59.856424",
     "exception": false,
     "start_time": "2022-05-26T17:10:59.815147",
     "status": "completed"
    },
    "tags": []
   },
   "source": [
    "## **Mathematical Intepretation of Logistic Regression Algorithm**<a  name = 'Mathematics'></a>\n",
    "Logistic regression hypothesis is defined as:\n",
    "$$ Ŷ  = h_0(X) = \\sigma(Z)$$\n",
    "\n",
    "where h(θ) is the probability estimation or the hypothesis function. Function $\\sigma$ is the sigmoid function. The sigmoid function for parameter z can be represented as follows:\n",
    "\n",
    "$$Ŷ =\\frac{1}{1+ e^{-z}}$$\n",
    "\n",
    "$$ \n",
    "\\sigma(Z) = \\frac{1}{1+ e^{-z}} \n",
    "$$\n",
    "\n",
    "$$ Z = \\theta^TX$$\n",
    "\n",
    "$$ \n",
    "\\sigma(\\theta^TX) = \\frac{1}{1+ e^{-\\theta^TX}} \n",
    "$$\n",
    "\n",
    "Note that the sigmoid function always lies in the range of 0 to 1. This gives us a perfect output representation of probabilities too.\n",
    "\n",
    "Here θ stands for the estimated parameter vector and X is the vector of variables considered.\n",
    "\n",
    "$X = X_0, X_1 ... X_n$    <- n Features and X0=1\n",
    "\n",
    "$θ = θ_0, θ_1 ... θ_n $   <- Parameters to be estimated\n",
    "\n",
    "\n",
    "The following plot shows us what the sigmoid function looks like. The function y = \\sigma(z), shown here, maps any real number to the (0, 1) interval, making it useful for transforming an arbitrary-valued function into a function better suited for classification. When $\\sigma(z)$ > 0.5 y can be classified as belong to class 1 and those below 0.5 can be included in class 0."
   ]
  },
  {
   "cell_type": "code",
   "execution_count": 4,
   "id": "3fe32f25",
   "metadata": {
    "execution": {
     "iopub.execute_input": "2022-05-26T17:10:59.941823Z",
     "iopub.status.busy": "2022-05-26T17:10:59.941362Z",
     "iopub.status.idle": "2022-05-26T17:11:00.381023Z",
     "shell.execute_reply": "2022-05-26T17:11:00.380073Z"
    },
    "papermill": {
     "duration": 0.485051,
     "end_time": "2022-05-26T17:11:00.383309",
     "exception": false,
     "start_time": "2022-05-26T17:10:59.898258",
     "status": "completed"
    },
    "tags": []
   },
   "outputs": [
    {
     "data": {
      "image/png": "[encoded data removed]",
      "text/plain": [
       "<Figure size 864x432 with 1 Axes>"
      ]
     },
     "metadata": {
      "needs_background": "light"
     },
     "output_type": "display_data"
    }
   ],
   "source": [
    "x = np.arange(-10,10, 0.1)\n",
    "y = 1/(1+np.exp(-x))\n",
    "Y_noise = 0.07 * np.random.normal(size=x.size) \n",
    "Ydata = y + Y_noise\n",
    "y1 = 0.5 + np.zeros(len(x))\n",
    "plt.figure(figsize= (12,6))\n",
    "plt.plot(x, Ydata,  'go')\n",
    "plt.plot(x,y, c = 'Blue')\n",
    "plt.plot(x,y1, c = 'Red')\n",
    "plt.xlabel('z', fontsize = 14)\n",
    "plt.ylabel('$\\sigma(z)$',fontsize = 14)\n",
    "plt.title('Sigmoid function');"
   ]
  },
  {
   "cell_type": "markdown",
   "id": "cc304561",
   "metadata": {
    "papermill": {
     "duration": 0.043225,
     "end_time": "2022-05-26T17:11:00.470165",
     "exception": false,
     "start_time": "2022-05-26T17:11:00.426940",
     "status": "completed"
    },
    "tags": []
   },
   "source": [
    "Whenever the hypothesis outputs that the probability of y being 1 is greater than or equal to 0.5, this means that if there is more likely to be y equals 1 than y equals 0, then let's predict y equals 1. And otherwise, if the estimated probability of y being 1 is less than 0.5, then let's predict y equals 0. \n",
    "\n",
    "If we look at this plot of the sigmoid function, we'll notice that the sigmoid function, $\\sigma(z)$ is greater than or equal to 0.5 whenever z is greater than or equal to zero. So is in this half of the figure that $\\sigma$ takes on values that are 0.5 and higher. This notch here, that's 0.5, and so when z is positive, $\\sigma(z)$, the sigmoid function is greater than or equal to 0.5. Since the hypothesis for logistic regression is $$h_0(X) = \\sigma(\\theta^TX)$$, this is therefore going to be greater than or equal to 0.5, whenever $\\theta^TX$ is greater than or equal to 0. Because here $\\theta^TX$ takes the role of z as,$$Z = \\theta^TX$$, so what is shown here is that a hypothesis is going to predict y equals 1 whenever $\\theta^TX$ is greater than or equal to 0."
   ]
  },
  {
   "cell_type": "code",
   "execution_count": 5,
   "id": "bb940426",
   "metadata": {
    "execution": {
     "iopub.execute_input": "2022-05-26T17:11:00.559357Z",
     "iopub.status.busy": "2022-05-26T17:11:00.558940Z",
     "iopub.status.idle": "2022-05-26T17:11:00.825817Z",
     "shell.execute_reply": "2022-05-26T17:11:00.824966Z"
    },
    "papermill": {
     "duration": 0.313357,
     "end_time": "2022-05-26T17:11:00.827777",
     "exception": false,
     "start_time": "2022-05-26T17:11:00.514420",
     "status": "completed"
    },
    "tags": []
   },
   "outputs": [
    {
     "data": {
      "image/png": "[encoded data removed]",
      "text/plain": [
       "<Figure size 864x432 with 1 Axes>"
      ]
     },
     "metadata": {
      "needs_background": "light"
     },
     "output_type": "display_data"
    }
   ],
   "source": [
    "x = np.arange(-10,10, 0.1)\n",
    "y = 1/(1+np.exp(-x))\n",
    "y1 = 0.5 + np.zeros(len(x))\n",
    "plt.figure(figsize= (12,6))\n",
    "plt.plot(x,y, label = 'Sigmoid')\n",
    "plt.plot(x,y1, label = 'Decision Boundary')\n",
    "plt.xlabel('$h(𝜃^𝑇𝑋)$', fontsize = 14)\n",
    "plt.ylabel('$\\sigma(𝜃^𝑇𝑋)$', fontsize = 14)\n",
    "plt.legend()\n",
    "plt.title('Sigmoid function');"
   ]
  },
  {
   "cell_type": "markdown",
   "id": "376d9a8b",
   "metadata": {
    "papermill": {
     "duration": 0.043888,
     "end_time": "2022-05-26T17:11:00.916623",
     "exception": false,
     "start_time": "2022-05-26T17:11:00.872735",
     "status": "completed"
    },
    "tags": []
   },
   "source": [
    "Let's now consider the other case of when a hypothesis will predict y is equal to 0. Well, by similar argument, h(x) is going to be less than 0.5 whenever g(z) is less than 0.5 because the range of values of z that cause g(z) to take on values less than 0.5, well, that's when z is negative. So when g(z) is less than 0.5, a hypothesis will predict that y is equal to 0. And by similar argument to what we had earlier, $$h_0(X) = \\sigma(\\theta^TX)$$ and so we'll predict y equals 0 whenever this quantity $\\theta^TX$ is less than 0. \n",
    "\n",
    "To summarize this, to predict whether y=1 or y=0 depending on whether the estimated probability is greater than or equal to 0.5, or whether less than 0.5, then that's the same as saying that \n",
    "\n",
    "we predict $ y=1$  whenever $ \\theta^TX >= 0$, \n",
    "\n",
    "And we'll predict $y = 0 $ whenever $\\theta^TX < 0$ "
   ]
  },
  {
   "cell_type": "markdown",
   "id": "49d325a5",
   "metadata": {
    "papermill": {
     "duration": 0.045203,
     "end_time": "2022-05-26T17:11:01.006239",
     "exception": false,
     "start_time": "2022-05-26T17:11:00.961036",
     "status": "completed"
    },
    "tags": []
   },
   "source": [
    "## **Cost Function**<a name = 'CostFunction'></a>\n",
    "\n",
    "Our task now is to choose the best parameters θs in the equation above, in order to minimize errors. The procedure is similar to that for linear regression: define a cost function and try to find the best possible values of each θ that minimizes the cost function output. The gradient descent algorithm is used for this error minimization, whose task is to adjust the parameters θs to minimize the cost function output until it finds the lowest minimum point.\n",
    "\n",
    "\n",
    "Mean Squared Error is the most commonly used Cost function. **However, keep this in mind that the Mean Squared Error as a cost function used in Linear Regression is not used in Logistic Regression**\n",
    "\n",
    "The original cost function J(θ) used in linear regression is not going to work here with logistic regression with sigmoid transformation, which is non-linear. This is because, the linear regression's cost function will only generate a non-convex function instead of typical convex plot that we get in linear regression. With this wierdly-shaped graph with a number of local minima it will never achieve its minimum global point, instaed get stuck in some local minima creating complications to find global minima.\n",
    "\n",
    "Second reason is in classification problems, where we have target values like 0/1, So when Y is either 0 or 1, a continuous Ŷ value generated after Sigmoid transformation,  $(Ŷ-Y)^2$ will always be in between 0-1 which can make it very difficult to keep track of the errors and it is difficult to store high precision floating numbers.\n",
    "\n",
    "To achieve a convex graph which converges to a global minimum we have to apply a better cost function for logistic regression. The cost function used in Logistic Regression is termed as **Log Loss**. Mathematically  Log Loss can be interpretated as the negative average of the log of corrected predicted probabilities for each instance."
   ]
  },
  {
   "cell_type": "markdown",
   "id": "1b0aae7c",
   "metadata": {
    "papermill": {
     "duration": 0.044753,
     "end_time": "2022-05-26T17:11:01.095405",
     "exception": false,
     "start_time": "2022-05-26T17:11:01.050652",
     "status": "completed"
    },
    "tags": []
   },
   "source": [
    "### **Log Loss: A new Cost Function for Logistic Regression**\n",
    "\n",
    "The multivariable form of the hypothesis function accommodating these multiple features is as follows:\n",
    "<br>\n",
    "$\n",
    "h_\\theta (x) = \\theta_0 + \\theta_1  x_1 + \\theta_2 x_2 + \\theta_3 x_3 + \\cdots + \\theta_n x_n\n",
    "$\n",
    "\n",
    "<br></br>\n",
    "$\n",
    "Parameters : \\theta_0, \\theta_1,  \\theta_2,  \\theta_3,   \\cdots  \\theta_n \n",
    "$\n",
    "<br></br>\n",
    "The accuracy of the hypothesis function can be measured by using a cost function. This takes an average difference of all the results of the hypothesis with inputs from x's and the actual output y's. \n",
    "\n",
    "\n",
    "The cost function used in linear regression is represented by the following equation:\n",
    "<br>\n",
    "$$\n",
    "J(\\theta_0, \\theta_1) = \\frac {1}{2m}{\\sum_{i=1} ^{m} (\\hat{y_i} -y_i)^2} = \\frac {1}{2m}{\\sum_{i=1} ^{m} (h_\\theta (x_i) -y_i)^2}\n",
    "$$\n",
    "<br></br>\n",
    "\n",
    "Rearrange the equation in a slightly different way by just moving the 1/2 inside the summation part:\n",
    "<br>\n",
    "$$\n",
    "J(\\theta_0, \\theta_1) = \\frac {1}{m}{\\sum_{i=1} ^{m}\\frac {1}{2} (\\hat{y_i} -y_i)^2} = \\frac {1}{m}{\\sum_{i=1} ^{m}\\frac {1}{2} (h_\\theta (x_i) -y_i)^2}\n",
    "$$\n",
    "<br></br>\n",
    "\n",
    "Now define a new function by separating the part inside summation as follows \n",
    "<br></br>\n",
    "$$Cost(h_\\theta (x_i),  y_i) = \\frac {1}{2} (h_\\theta (x_i) -y_i)^2$$\n",
    "\n",
    "<br></br>\n",
    "Substituting this in the first equation:\n",
    "<br></br>\n",
    "\n",
    "$$\n",
    "J(\\theta) = \\frac {1}{m}{\\sum_{i=1} ^{m}(Cost(h_\\theta (x_i),  y_i)}\n",
    "$$\n",
    "\n",
    "<br></br>\n",
    "Upto this point both linear regression and logistic regression cost function look similar. However, the linear regression's cost function cannot be used in logistic regression problems.So we have to find a different Cost function, while the summation part stays the same."
   ]
  },
  {
   "cell_type": "markdown",
   "id": "c349078b",
   "metadata": {
    "papermill": {
     "duration": 0.045285,
     "end_time": "2022-05-26T17:11:01.184646",
     "exception": false,
     "start_time": "2022-05-26T17:11:01.139361",
     "status": "completed"
    },
    "tags": []
   },
   "source": [
    "### **Log Loss: Logistic regression cost function illustration**\n",
    "For logistic regression, the Cost function is defined as:\n",
    "\n",
    "$$\n",
    "Log\\ loss = \\frac {1}{m}{\\sum_{i=1} ^{m}(log Pi)}\n",
    "$$\n",
    "\n",
    "if y = 1  $$Cost(h_\\theta (x_i),  y_i) = -log h_\\theta (x)$$ \n",
    "\n",
    "and \n",
    "\n",
    "if y = 0  $$Cost(h_\\theta (x_i),  y_i) = -log (1- h_\\theta (x))$$ \n",
    "\n",
    "This is the cost the algorithm pays if it predicts a value hθ(x) while the actual cost label turns out to be y. By using this function the convexity to the function the gradient descent algorithm has to process is achieved. \n",
    "\n",
    "This can be illustrated by the following example. Generate a random dataset with two features and two classes. Our objective is to discover the proper values of θ for the two features."
   ]
  },
  {
   "cell_type": "code",
   "execution_count": 6,
   "id": "bf3e29d9",
   "metadata": {
    "execution": {
     "iopub.execute_input": "2022-05-26T17:11:01.276234Z",
     "iopub.status.busy": "2022-05-26T17:11:01.275687Z",
     "iopub.status.idle": "2022-05-26T17:11:01.354917Z",
     "shell.execute_reply": "2022-05-26T17:11:01.354210Z"
    },
    "papermill": {
     "duration": 0.127689,
     "end_time": "2022-05-26T17:11:01.357415",
     "exception": false,
     "start_time": "2022-05-26T17:11:01.229726",
     "status": "completed"
    },
    "tags": []
   },
   "outputs": [
    {
     "name": "stdout",
     "output_type": "stream",
     "text": [
      "(100, 2) (100,)\n"
     ]
    }
   ],
   "source": [
    "from sklearn.datasets import make_classification\n",
    "# define dataset\n",
    "X, y = make_classification(n_features=2, n_redundant=0, n_informative=2, random_state=1, n_clusters_per_class=1)\n",
    "#X, y = make_classification(n_samples=1000, n_features=2, n_informative=2, n_redundant=0, random_state=1, n_clusters_per_class = 1)\n",
    "# summarize the dataset\n",
    "print(X.shape, y.shape)"
   ]
  },
  {
   "cell_type": "code",
   "execution_count": 7,
   "id": "561fe958",
   "metadata": {
    "execution": {
     "iopub.execute_input": "2022-05-26T17:11:01.448493Z",
     "iopub.status.busy": "2022-05-26T17:11:01.448189Z",
     "iopub.status.idle": "2022-05-26T17:11:01.455125Z",
     "shell.execute_reply": "2022-05-26T17:11:01.454134Z"
    },
    "papermill": {
     "duration": 0.055202,
     "end_time": "2022-05-26T17:11:01.457436",
     "exception": false,
     "start_time": "2022-05-26T17:11:01.402234",
     "status": "completed"
    },
    "tags": []
   },
   "outputs": [
    {
     "data": {
      "text/plain": [
       "array([[-1.04948638,  0.8786438 ],\n",
       "       [ 0.8780991 ,  0.89551051],\n",
       "       [ 0.95928819,  1.03967316],\n",
       "       [-1.18013412,  1.12062155],\n",
       "       [-0.90731836,  1.06040861]])"
      ]
     },
     "execution_count": 7,
     "metadata": {},
     "output_type": "execute_result"
    }
   ],
   "source": [
    "X[0:5]"
   ]
  },
  {
   "cell_type": "code",
   "execution_count": 8,
   "id": "7db9823a",
   "metadata": {
    "execution": {
     "iopub.execute_input": "2022-05-26T17:11:01.552345Z",
     "iopub.status.busy": "2022-05-26T17:11:01.551799Z",
     "iopub.status.idle": "2022-05-26T17:11:01.572331Z",
     "shell.execute_reply": "2022-05-26T17:11:01.571568Z"
    },
    "papermill": {
     "duration": 0.070711,
     "end_time": "2022-05-26T17:11:01.574319",
     "exception": false,
     "start_time": "2022-05-26T17:11:01.503608",
     "status": "completed"
    },
    "tags": []
   },
   "outputs": [
    {
     "data": {
      "text/html": [
       "<div>\n",
       "<style scoped>\n",
       "    .dataframe tbody tr th:only-of-type {\n",
       "        vertical-align: middle;\n",
       "    }\n",
       "\n",
       "    .dataframe tbody tr th {\n",
       "        vertical-align: top;\n",
       "    }\n",
       "\n",
       "    .dataframe thead th {\n",
       "        text-align: right;\n",
       "    }\n",
       "</style>\n",
       "<table border=\"1\" class=\"dataframe\">\n",
       "  <thead>\n",
       "    <tr style=\"text-align: right;\">\n",
       "      <th></th>\n",
       "      <th>0</th>\n",
       "      <th>1</th>\n",
       "      <th>y</th>\n",
       "    </tr>\n",
       "  </thead>\n",
       "  <tbody>\n",
       "    <tr>\n",
       "      <th>0</th>\n",
       "      <td>-1.049486</td>\n",
       "      <td>0.878644</td>\n",
       "      <td>1</td>\n",
       "    </tr>\n",
       "    <tr>\n",
       "      <th>1</th>\n",
       "      <td>0.878099</td>\n",
       "      <td>0.895511</td>\n",
       "      <td>0</td>\n",
       "    </tr>\n",
       "    <tr>\n",
       "      <th>2</th>\n",
       "      <td>0.959288</td>\n",
       "      <td>1.039673</td>\n",
       "      <td>0</td>\n",
       "    </tr>\n",
       "    <tr>\n",
       "      <th>3</th>\n",
       "      <td>-1.180134</td>\n",
       "      <td>1.120622</td>\n",
       "      <td>1</td>\n",
       "    </tr>\n",
       "    <tr>\n",
       "      <th>4</th>\n",
       "      <td>-0.907318</td>\n",
       "      <td>1.060409</td>\n",
       "      <td>1</td>\n",
       "    </tr>\n",
       "  </tbody>\n",
       "</table>\n",
       "</div>"
      ],
      "text/plain": [
       "          0         1  y\n",
       "0 -1.049486  0.878644  1\n",
       "1  0.878099  0.895511  0\n",
       "2  0.959288  1.039673  0\n",
       "3 -1.180134  1.120622  1\n",
       "4 -0.907318  1.060409  1"
      ]
     },
     "execution_count": 8,
     "metadata": {},
     "output_type": "execute_result"
    }
   ],
   "source": [
    "df = pd.DataFrame(X)\n",
    "df.insert(2, 'y', y)\n",
    "df.head()"
   ]
  },
  {
   "cell_type": "code",
   "execution_count": 9,
   "id": "fed6203c",
   "metadata": {
    "execution": {
     "iopub.execute_input": "2022-05-26T17:11:01.669088Z",
     "iopub.status.busy": "2022-05-26T17:11:01.668565Z",
     "iopub.status.idle": "2022-05-26T17:11:01.954610Z",
     "shell.execute_reply": "2022-05-26T17:11:01.953667Z"
    },
    "papermill": {
     "duration": 0.337013,
     "end_time": "2022-05-26T17:11:01.957044",
     "exception": false,
     "start_time": "2022-05-26T17:11:01.620031",
     "status": "completed"
    },
    "tags": []
   },
   "outputs": [
    {
     "data": {
      "image/png": "[encoded data removed]",
      "text/plain": [
       "<Figure size 432x288 with 1 Axes>"
      ]
     },
     "metadata": {
      "needs_background": "light"
     },
     "output_type": "display_data"
    }
   ],
   "source": [
    "sns.scatterplot(x = 0, y = 1, data = df, hue = df['y'], palette = 'hsv');"
   ]
  },
  {
   "cell_type": "markdown",
   "id": "e95d1c35",
   "metadata": {
    "papermill": {
     "duration": 0.047447,
     "end_time": "2022-05-26T17:11:02.052197",
     "exception": false,
     "start_time": "2022-05-26T17:11:02.004750",
     "status": "completed"
    },
    "tags": []
   },
   "source": [
    "\n",
    "\n"
   ]
  },
  {
   "cell_type": "markdown",
   "id": "c8c39550",
   "metadata": {
    "papermill": {
     "duration": 0.045761,
     "end_time": "2022-05-26T17:11:02.144851",
     "exception": false,
     "start_time": "2022-05-26T17:11:02.099090",
     "status": "completed"
    },
    "tags": []
   },
   "source": [
    "Applying log"
   ]
  },
  {
   "cell_type": "code",
   "execution_count": 10,
   "id": "bde08983",
   "metadata": {
    "execution": {
     "iopub.execute_input": "2022-05-26T17:11:02.241911Z",
     "iopub.status.busy": "2022-05-26T17:11:02.241326Z",
     "iopub.status.idle": "2022-05-26T17:11:02.459090Z",
     "shell.execute_reply": "2022-05-26T17:11:02.458032Z"
    },
    "papermill": {
     "duration": 0.269088,
     "end_time": "2022-05-26T17:11:02.461456",
     "exception": false,
     "start_time": "2022-05-26T17:11:02.192368",
     "status": "completed"
    },
    "tags": []
   },
   "outputs": [
    {
     "data": {
      "image/png": "[encoded data removed]",
      "text/plain": [
       "<Figure size 720x360 with 1 Axes>"
      ]
     },
     "metadata": {
      "needs_background": "light"
     },
     "output_type": "display_data"
    }
   ],
   "source": [
    "y = np.log(x)\n",
    "fig = plt.figure(figsize=(10,5))\n",
    "plt.plot(x,y, color=\"Blue\", label=\"If y=1\")\n",
    "x = np.arange(0.001, 1, 0.01)\n",
    "y = np.log(1-x)\n",
    "plt.plot(x,y, color=\"C2\", label=\"If y=0\")\n",
    "plt.legend()\n",
    "plt.xlabel(\"h(x)\")\n",
    "plt.ylabel(\"loss\")\n",
    "plt.title('The behaviour of the cost function');"
   ]
  },
  {
   "cell_type": "markdown",
   "id": "e2345afb",
   "metadata": {
    "papermill": {
     "duration": 0.047279,
     "end_time": "2022-05-26T17:11:02.557077",
     "exception": false,
     "start_time": "2022-05-26T17:11:02.509798",
     "status": "completed"
    },
    "tags": []
   },
   "source": [
    "As you can see these log values are negative. To deal with the negative sign, we take the negative average of these values, to maintain a common convention that lower loss scores are better.\n",
    "Applying negative log,"
   ]
  },
  {
   "cell_type": "code",
   "execution_count": 11,
   "id": "e39592c1",
   "metadata": {
    "execution": {
     "iopub.execute_input": "2022-05-26T17:11:02.654378Z",
     "iopub.status.busy": "2022-05-26T17:11:02.654125Z",
     "iopub.status.idle": "2022-05-26T17:11:03.013446Z",
     "shell.execute_reply": "2022-05-26T17:11:03.012774Z"
    },
    "papermill": {
     "duration": 0.410888,
     "end_time": "2022-05-26T17:11:03.015536",
     "exception": false,
     "start_time": "2022-05-26T17:11:02.604648",
     "status": "completed"
    },
    "tags": []
   },
   "outputs": [
    {
     "data": {
      "image/png": "[encoded data removed]",
      "text/plain": [
       "<Figure size 720x360 with 1 Axes>"
      ]
     },
     "metadata": {
      "needs_background": "light"
     },
     "output_type": "display_data"
    }
   ],
   "source": [
    "y = -np.log(x)\n",
    "fig = plt.figure(figsize=(10,5))\n",
    "plt.plot(x,y, color=\"Blue\", label=\"If y=1\")\n",
    "x = np.arange(0.001, 1, 0.01)\n",
    "y = -np.log(1-x)\n",
    "plt.plot(x,y, color=\"Green\", label=\"If y=0\")\n",
    "plt.legend()\n",
    "plt.xlabel(\"$h_θ(x)$\")\n",
    "plt.ylabel(\"loss\")\n",
    "plt.title('The behaviour of the cost function');"
   ]
  },
  {
   "cell_type": "markdown",
   "id": "8dc732c0",
   "metadata": {
    "papermill": {
     "duration": 0.051849,
     "end_time": "2022-05-26T17:11:03.118985",
     "exception": false,
     "start_time": "2022-05-26T17:11:03.067136",
     "status": "completed"
    },
    "tags": []
   },
   "source": [
    "In case y=1 (blue curve), the output (i.e. the cost to pay) approaches to 0 as $h_θ(x)$ approaches to 1. Conversely, the cost to pay grows to infinity as $h_θ(x)$ approaches to 0. \n",
    "\n",
    "Similarly, the same logic applies when y=0, depicted above. Bigger penalties that goes to infinity when the label is y=0 but the algorithm predicts $h_θ(x)$=1."
   ]
  },
  {
   "cell_type": "markdown",
   "id": "557fe516",
   "metadata": {
    "papermill": {
     "duration": 0.048915,
     "end_time": "2022-05-26T17:11:03.217463",
     "exception": false,
     "start_time": "2022-05-26T17:11:03.168548",
     "status": "completed"
    },
    "tags": []
   },
   "source": [
    "In short, there are three steps to find Log Loss:\n",
    "1. Find predicted probabilities using Sigmoid function.\n",
    "2. Take a log of predicted probabilities obtained.\n",
    "3. Take the negative average of the values obtained in the 2nd step.\n",
    "\n",
    "If we summarize all the above steps, We can make it more compact into a one-line expression:-\n",
    "\n",
    "$$Cost(h_\\theta (x_i),  y_i) = -ylog (h_\\theta (x)) - (1-y)log (1- h_\\theta (x))$$\n",
    "\n",
    "Substituting this in the original logistic regression the entire cost function (log loss) equation can be wriiten as follows:\n",
    "\n",
    "$$\n",
    "Log\\ loss = \\frac {1}{m}{\\sum_{i=1} ^{m}(-ylog (h_\\theta (x)) - (1-y)log (1- h_\\theta (x)))}\n",
    "$$\n",
    "Moving the minus sign outside \n",
    "$$\n",
    "Log\\ loss = -\\frac {1}{m}{\\sum_{i=1} ^{m}(ylog (h_\\theta (x)) + (1-y)log (1- h_\\theta (x)))}\n",
    "$$"
   ]
  },
  {
   "cell_type": "markdown",
   "id": "fe15b193",
   "metadata": {
    "papermill": {
     "duration": 0.051996,
     "end_time": "2022-05-26T17:11:03.318559",
     "exception": false,
     "start_time": "2022-05-26T17:11:03.266563",
     "status": "completed"
    },
    "tags": []
   },
   "source": [
    "## **Gradient Descent**<a name = 'Gradient'></a>\n",
    "Now, the hypothesis function and the cost function are ready. The next step is gradient descent to find the best values for θs parameters that minimizes the cost function. The procedure is almost similar to that for linear regression, except that the cost function is log loss here.\n",
    "\n",
    "Gradient descent is an optimization algorithm used to obtain the optimized network weights and bias values. It works by iteratively trying to minimize the cost function by calculating the gradient of cost function and moving in the negative direction until the local/ global minimum is achieved. The size of the steps taken are called the learning rate $\\alpha$. If the learning rate increases, the area covered in the search space will increase and so we might reach global minimum faster. However, we can overshoot the target. For small learning rates, training will take much longer to reach optimized bias & weight values. \n",
    "\n",
    "\n",
    "* **Goal:** \n",
    "<ul>\n",
    "minimize $ J(\\theta)$ that will output a set of parameters θ, the best ones with the least error possible. Once done,the model with the new θs in the hypothesis function will be suitable to make predictions on new set of testing examples with their features x.\n",
    "    \n",
    "$$ Ŷ  = h_0(X) = \\sigma(Z) = \\frac{1}{1+ e^{-z}} = \\frac{1}{1+ e^{-\\theta^TX}} $$\n",
    "\n",
    "Where Ŷ or hθ(x) is the probability prediction output that y=1.\n",
    "    \n",
    "\n",
    "Gradient Descent works as follows: <br>\n",
    "1. Pick random values for weights and bias ($\\theta_i$) and substitute. \n",
    "2. Calculate the gradient (derivative) of the Loss function, $\\frac{d(loss)}{d\\theta_i}$\n",
    "3. Calculate the step size (how much are we going to update the parameters?)\n",
    "\n",
    "    Step size = learning rate * gradient = $\\alpha *  \\frac{d(loss)}{d\\theta_i}$\n",
    "\n",
    "4. Update the parameters simultaneously and repeat\n",
    "\n",
    "    New bias = old bias– step size\n",
    "\n",
    "    New weight = old weight – step size\n",
    "\n",
    "    $\\theta_new = \\theta_old = \\alpha *  \\frac{d(loss)}{d\\theta_i}$\n",
    "\n",
    "\n",
    "**Mathematical representation of Gradient Descent**\n",
    "    \n",
    "Cost function is represented by the following equation.\n",
    "<br>\n",
    "$\n",
    "J(\\theta) = \\frac {1}{2m}{\\sum_{i=1} ^{m} (error)^2} = \\frac {1}{2m}{\\sum_{i=1} ^{m} (\\hat{y_i} -y_i)^2} = \\frac {1}{2m}{\\sum_{i=1} ^{m} (h_\\theta (x_i) -y_i)^2}\n",
    "$\n",
    "<br>\n",
    "  \n",
    "To minimize the cost function the gradient descent function is run on each parameter, repeat each step until convergence.\n",
    "\n",
    "* Gradient $\\frac{d}{d\\theta_i} J(\\theta_i)$ represents that when θ is moved + or − a unit, how much J will + or − correspondingly\n",
    "* Since the goal is to decrease J, θ is updated  with partial gradient (partial unit of θ change) controlled by learning rate $(\\alpha)$.\n",
    "* Update all parameters at the same time (simultaneous updation) as given by the following equation , so that the cost function keeps same for all parameters in single round.\n",
    "<br>\n",
    "$\\theta_1:=\\theta_1-\\alpha \\frac{d}{d\\theta_1} J(\\theta_1)$<br></br>\n",
    "$\\theta_2:=\\theta_2-\\alpha \\frac{d}{d\\theta_2} J(\\theta_2)$<br></br>\n",
    "$\\theta_j:=\\theta_j-\\alpha \\frac{d}{d\\theta_j} J(\\theta_j)$\n",
    "\n",
    "As in the linear regression counterpart, update all θj simultaneously. if there are n features, all n+1 the parameter vector θ⃗ =[θ0,θ1,⋯θn], have to be updated simultaneously on each iteration, repeating until convergence.\n",
    "\n",
    "It is time to compute the derivative of the cost function in order to update the parameterss. The derivative part can be worked out using calculus to get:\n",
    "\n",
    "$\\frac{d}{d\\theta_j}J(\\theta_j) = \\frac {1}{m}{\\sum_{i=1} ^{m} (h_\\theta (x_i) -y_i)x_j}$\n",
    "\n",
    "Substitutung in the theta parameter the loop above,\n",
    "\n",
    "$\\theta_j:=\\theta_j-\\frac {\\alpha}{m}{\\sum_{i=1} ^{m} (h_\\theta (x_i) -y_i)x_j}$\n",
    "\n",
    "Notice that this algorithm is identical to the one used in linear regression. The only change is in the definition of the hypothesis $h_\\theta(x)$: \n",
    "* for linear regression: $h_\\theta(x)=\\theta^⊤x$, \n",
    "* whereas for logistic regression $h_\\theta(x)= \\frac{1}{1+ e^{-\\theta^TX}} $."
   ]
  },
  {
   "cell_type": "markdown",
   "id": "3ce06c35",
   "metadata": {
    "papermill": {
     "duration": 0.05102,
     "end_time": "2022-05-26T17:11:03.420981",
     "exception": false,
     "start_time": "2022-05-26T17:11:03.369961",
     "status": "completed"
    },
    "tags": []
   },
   "source": [
    "## **Implementation of Logistic Regression Algorithm**<a name = 'implementation'></a>\n",
    "We have a training set of m training examples and as usual, each of our examples is represented by a (n +1) dimensional theta and as usual we have $X_o$ equals one, so as to make (m x (n+1)) dimensional X.\n",
    "Here θ stands for the estimated parameter vector and X is the vector of variables considered.\n",
    "\n",
    "$X = x_0, x_1 ... x_n$    <- n Features and X0=1 creating (m x (n+1)) matrix\n",
    "\n",
    "$θ = θ_0, θ_1 ... θ_n $   <- Parameters to be estimated and is a ((n+1) x 1) sized vector.\n"
   ]
  },
  {
   "cell_type": "code",
   "execution_count": 12,
   "id": "26d3a112",
   "metadata": {
    "execution": {
     "iopub.execute_input": "2022-05-26T17:11:03.528079Z",
     "iopub.status.busy": "2022-05-26T17:11:03.527638Z",
     "iopub.status.idle": "2022-05-26T17:11:03.540305Z",
     "shell.execute_reply": "2022-05-26T17:11:03.539049Z"
    },
    "papermill": {
     "duration": 0.068743,
     "end_time": "2022-05-26T17:11:03.542409",
     "exception": false,
     "start_time": "2022-05-26T17:11:03.473666",
     "status": "completed"
    },
    "tags": []
   },
   "outputs": [
    {
     "name": "stdout",
     "output_type": "stream",
     "text": [
      "[-0.13931403]\n",
      "[[-3.36656909  0.12308678]]\n"
     ]
    }
   ],
   "source": [
    "from sklearn.linear_model import LogisticRegression\n",
    "X, y = make_classification(n_features=2, n_redundant=0, n_informative=2, random_state=1, n_clusters_per_class=1)\n",
    "log = LogisticRegression()\n",
    "log.fit(X,y)\n",
    "print(log.intercept_)\n",
    "print(log.coef_)"
   ]
  },
  {
   "cell_type": "code",
   "execution_count": 13,
   "id": "65ec60ed",
   "metadata": {
    "execution": {
     "iopub.execute_input": "2022-05-26T17:11:03.644637Z",
     "iopub.status.busy": "2022-05-26T17:11:03.644229Z",
     "iopub.status.idle": "2022-05-26T17:11:03.650429Z",
     "shell.execute_reply": "2022-05-26T17:11:03.649557Z"
    },
    "papermill": {
     "duration": 0.059163,
     "end_time": "2022-05-26T17:11:03.652279",
     "exception": false,
     "start_time": "2022-05-26T17:11:03.593116",
     "status": "completed"
    },
    "tags": []
   },
   "outputs": [
    {
     "data": {
      "text/plain": [
       "array([[-1.04948638,  0.8786438 ],\n",
       "       [ 0.8780991 ,  0.89551051],\n",
       "       [ 0.95928819,  1.03967316],\n",
       "       [-1.18013412,  1.12062155],\n",
       "       [-0.90731836,  1.06040861]])"
      ]
     },
     "execution_count": 13,
     "metadata": {},
     "output_type": "execute_result"
    }
   ],
   "source": [
    "X[0:5]"
   ]
  },
  {
   "cell_type": "code",
   "execution_count": 14,
   "id": "476479e2",
   "metadata": {
    "execution": {
     "iopub.execute_input": "2022-05-26T17:11:03.753596Z",
     "iopub.status.busy": "2022-05-26T17:11:03.753196Z",
     "iopub.status.idle": "2022-05-26T17:11:03.760180Z",
     "shell.execute_reply": "2022-05-26T17:11:03.759319Z"
    },
    "papermill": {
     "duration": 0.059797,
     "end_time": "2022-05-26T17:11:03.762049",
     "exception": false,
     "start_time": "2022-05-26T17:11:03.702252",
     "status": "completed"
    },
    "tags": []
   },
   "outputs": [
    {
     "data": {
      "text/plain": [
       "array([[ 1.        , -1.04948638,  0.8786438 ],\n",
       "       [ 1.        ,  0.8780991 ,  0.89551051],\n",
       "       [ 1.        ,  0.95928819,  1.03967316],\n",
       "       [ 1.        , -1.18013412,  1.12062155],\n",
       "       [ 1.        , -0.90731836,  1.06040861]])"
      ]
     },
     "execution_count": 14,
     "metadata": {},
     "output_type": "execute_result"
    }
   ],
   "source": [
    "# Adding 1 to each rows of first column to make X0 =1) \n",
    "X = np.concatenate([np.ones((len(X), 1)), X], axis=1)\n",
    "X[0:5]"
   ]
  },
  {
   "cell_type": "markdown",
   "id": "dae204bd",
   "metadata": {
    "papermill": {
     "duration": 0.050085,
     "end_time": "2022-05-26T17:11:03.861894",
     "exception": false,
     "start_time": "2022-05-26T17:11:03.811809",
     "status": "completed"
    },
    "tags": []
   },
   "source": [
    "### **Define hypothesis function**\n",
    "The first line of code will compute a vector 'h' containing all of the hypothesis values - one for each training example (i.e. for each row of X).\n",
    "The hypothesis (also called the prediction) is simply the product of X and theta. Since X is size (m x n) and theta is size (n x 1), arrange the order of operators so the result is size (m x 1). Vectorization with np.dot() is to be used to obtain the matrix or vector multiplication which is far more efficient than using a for loop. "
   ]
  },
  {
   "cell_type": "code",
   "execution_count": 15,
   "id": "96983e66",
   "metadata": {
    "execution": {
     "iopub.execute_input": "2022-05-26T17:11:03.963537Z",
     "iopub.status.busy": "2022-05-26T17:11:03.963143Z",
     "iopub.status.idle": "2022-05-26T17:11:03.967935Z",
     "shell.execute_reply": "2022-05-26T17:11:03.967279Z"
    },
    "papermill": {
     "duration": 0.058286,
     "end_time": "2022-05-26T17:11:03.970007",
     "exception": false,
     "start_time": "2022-05-26T17:11:03.911721",
     "status": "completed"
    },
    "tags": []
   },
   "outputs": [],
   "source": [
    "def h(theta, Xi):\n",
    "    return 1/(1 + np.exp(-1*np.dot(Xi, theta)))"
   ]
  },
  {
   "cell_type": "markdown",
   "id": "f728cf6f",
   "metadata": {
    "papermill": {
     "duration": 0.0526,
     "end_time": "2022-05-26T17:11:04.075907",
     "exception": false,
     "start_time": "2022-05-26T17:11:04.023307",
     "status": "completed"
    },
    "tags": []
   },
   "source": [
    "The next is to implement this sigmoid cost function in two steps. The first step will compute the difference between the hypothesis and y - that's the error for each training example. After this, in the second step each of those error terms is squared.  "
   ]
  },
  {
   "cell_type": "code",
   "execution_count": 16,
   "id": "05379b18",
   "metadata": {
    "execution": {
     "iopub.execute_input": "2022-05-26T17:11:04.180883Z",
     "iopub.status.busy": "2022-05-26T17:11:04.180445Z",
     "iopub.status.idle": "2022-05-26T17:11:04.185181Z",
     "shell.execute_reply": "2022-05-26T17:11:04.184605Z"
    },
    "papermill": {
     "duration": 0.058307,
     "end_time": "2022-05-26T17:11:04.187016",
     "exception": false,
     "start_time": "2022-05-26T17:11:04.128709",
     "status": "completed"
    },
    "tags": []
   },
   "outputs": [],
   "source": [
    "def sigmoid_cost_function(theta, X, y):\n",
    "    m = len(X)\n",
    "    return 1/(2*m) * sum((h(theta, X) - y)**2)"
   ]
  },
  {
   "cell_type": "markdown",
   "id": "40079f2a",
   "metadata": {
    "papermill": {
     "duration": 0.049785,
     "end_time": "2022-05-26T17:11:04.287736",
     "exception": false,
     "start_time": "2022-05-26T17:11:04.237951",
     "status": "completed"
    },
    "tags": []
   },
   "source": [
    "### **Applying the function**\n",
    "We can obtain our p(y=1) estimate using the following function call. Note that the intercept value should be used as the first element of theta parameter and the rest in order. Add an additional 1 for the feature vector which corresponds to the $X_0$ =1."
   ]
  },
  {
   "cell_type": "code",
   "execution_count": 17,
   "id": "039a1520",
   "metadata": {
    "execution": {
     "iopub.execute_input": "2022-05-26T17:11:04.389564Z",
     "iopub.status.busy": "2022-05-26T17:11:04.389239Z",
     "iopub.status.idle": "2022-05-26T17:11:04.395379Z",
     "shell.execute_reply": "2022-05-26T17:11:04.394539Z"
    },
    "papermill": {
     "duration": 0.059789,
     "end_time": "2022-05-26T17:11:04.397463",
     "exception": false,
     "start_time": "2022-05-26T17:11:04.337674",
     "status": "completed"
    },
    "tags": []
   },
   "outputs": [
    {
     "data": {
      "text/plain": [
       "0.037656931098779683"
      ]
     },
     "execution_count": 17,
     "metadata": {},
     "output_type": "execute_result"
    }
   ],
   "source": [
    "# h(theta, Xi)\n",
    "h([-0.13931403, -3.36656909,  0.12308678],[1, 0.95928819,  1.03967316])"
   ]
  },
  {
   "cell_type": "markdown",
   "id": "21635532",
   "metadata": {
    "papermill": {
     "duration": 0.050123,
     "end_time": "2022-05-26T17:11:04.498211",
     "exception": false,
     "start_time": "2022-05-26T17:11:04.448088",
     "status": "completed"
    },
    "tags": []
   },
   "source": [
    "hθ(x) will give us the probability that our output is 1. If hθ(x)=0.8 it gives us a probability of 80% that our output is 1. \n",
    "\n",
    "Here, hθ(x)=0.03 gives us a probability of 3.8% that our output is 1. In other words, there is a probability of 96.2% chance that the point belongs to the class 0. The probability that the prediction is 0 is just the complement of our probability that it is 1 (e.g. if probability that it is 1 is 30%, then the probability that it is 0 is 70%.\n",
    "$$hθ(x)=P(y=1|x;θ)=1−P(y=0|x;θ)$$\n",
    "$$P(y=0|x;θ)+P(y=1|x;θ)=1$$"
   ]
  },
  {
   "cell_type": "markdown",
   "id": "0d7745fc",
   "metadata": {
    "papermill": {
     "duration": 0.050023,
     "end_time": "2022-05-26T17:11:04.598949",
     "exception": false,
     "start_time": "2022-05-26T17:11:04.548926",
     "status": "completed"
    },
    "tags": []
   },
   "source": [
    "Predit y = 1 if hθ(x) is >=0.\n",
    "\n",
    "Substituting for theta values obtained,\n",
    "\n",
    "-0.13931403 -3.36656909* X[0] + 0.12308678 * X[1] >=0\n",
    "\n",
    "-3.36656909* X[0] + 0.12308678 * X[1] >= 0.13931403"
   ]
  },
  {
   "cell_type": "code",
   "execution_count": 18,
   "id": "6920a918",
   "metadata": {
    "execution": {
     "iopub.execute_input": "2022-05-26T17:11:04.704671Z",
     "iopub.status.busy": "2022-05-26T17:11:04.703973Z",
     "iopub.status.idle": "2022-05-26T17:11:04.709665Z",
     "shell.execute_reply": "2022-05-26T17:11:04.708852Z"
    },
    "papermill": {
     "duration": 0.063012,
     "end_time": "2022-05-26T17:11:04.712360",
     "exception": false,
     "start_time": "2022-05-26T17:11:04.649348",
     "status": "completed"
    },
    "tags": []
   },
   "outputs": [
    {
     "data": {
      "text/plain": [
       "-3.1015399473392224"
      ]
     },
     "execution_count": 18,
     "metadata": {},
     "output_type": "execute_result"
    }
   ],
   "source": [
    "#Substituting for X1 and X2\n",
    "-3.36656909* 0.95928819 + 0.12308678 * 1.03967316"
   ]
  },
  {
   "cell_type": "markdown",
   "id": "6e7dea0b",
   "metadata": {
    "papermill": {
     "duration": 0.0618,
     "end_time": "2022-05-26T17:11:04.839670",
     "exception": false,
     "start_time": "2022-05-26T17:11:04.777870",
     "status": "completed"
    },
    "tags": []
   },
   "source": [
    "Since the -3.10 is not greater than 1.04 y= 1 cannot be predicted. So the answer is y=0. This is confirmed by sklearn algorithm as follows:"
   ]
  },
  {
   "cell_type": "code",
   "execution_count": 19,
   "id": "0b17c9ea",
   "metadata": {
    "execution": {
     "iopub.execute_input": "2022-05-26T17:11:04.950750Z",
     "iopub.status.busy": "2022-05-26T17:11:04.950493Z",
     "iopub.status.idle": "2022-05-26T17:11:04.957380Z",
     "shell.execute_reply": "2022-05-26T17:11:04.956503Z"
    },
    "papermill": {
     "duration": 0.067055,
     "end_time": "2022-05-26T17:11:04.959963",
     "exception": false,
     "start_time": "2022-05-26T17:11:04.892908",
     "status": "completed"
    },
    "tags": []
   },
   "outputs": [
    {
     "name": "stdout",
     "output_type": "stream",
     "text": [
      "[[0.96234307 0.03765693]]\n",
      "[0]\n"
     ]
    }
   ],
   "source": [
    "print(log.predict_proba([[0.95928819,  1.03967316]]))\n",
    "print(log.predict([[0.95928819,  1.03967316]]))"
   ]
  },
  {
   "cell_type": "markdown",
   "id": "c8ed2341",
   "metadata": {
    "papermill": {
     "duration": 0.068448,
     "end_time": "2022-05-26T17:11:05.089198",
     "exception": false,
     "start_time": "2022-05-26T17:11:05.020750",
     "status": "completed"
    },
    "tags": []
   },
   "source": [
    "## **Decision Boundary Display**<a name = 'Decision'></a>\n",
    "Finally, plot decision boundary in two different ways as follows. Decision Boundary can be visualized by dense sampling via meshgrid. The purpose of meshgrid is to create a rectangular grid out of an array of x values and an array of y values. More information on meshgrid can be obtained from [here](https://stackoverflow.com/questions/36013063/what-is-the-purpose-of-meshgrid-in-python-numpy/49439331). "
   ]
  },
  {
   "cell_type": "code",
   "execution_count": 20,
   "id": "0df1007b",
   "metadata": {
    "execution": {
     "iopub.execute_input": "2022-05-26T17:11:05.198418Z",
     "iopub.status.busy": "2022-05-26T17:11:05.197754Z",
     "iopub.status.idle": "2022-05-26T17:11:05.571558Z",
     "shell.execute_reply": "2022-05-26T17:11:05.570594Z"
    },
    "papermill": {
     "duration": 0.430668,
     "end_time": "2022-05-26T17:11:05.574567",
     "exception": false,
     "start_time": "2022-05-26T17:11:05.143899",
     "status": "completed"
    },
    "tags": []
   },
   "outputs": [
    {
     "data": {
      "image/png": "[encoded data removed]",
      "text/plain": [
       "<Figure size 432x288 with 1 Axes>"
      ]
     },
     "metadata": {
      "needs_background": "light"
     },
     "output_type": "display_data"
    }
   ],
   "source": [
    "X, y = make_classification(n_features=2, n_redundant=0, n_informative=2, random_state=1, n_clusters_per_class=1)\n",
    "from matplotlib.colors import ListedColormap\n",
    "X1, X2 = np.meshgrid(np.arange(start = X[:, 0].min() - 1, stop = X[:, 0].max() + 1, step = 0.01),\n",
    "                     np.arange(start = X[:, 1].min() - 1, stop = X[:, 1].max() + 1, step = 0.01))\n",
    "plt.contourf(X1, X2, log.predict(np.array([X1.ravel(), X2.ravel()]).T).reshape(X1.shape),\n",
    "             alpha = 0.75, c = ListedColormap(('yellow', 'purple')))\n",
    "plt.xlim(X1.min(), X1.max())\n",
    "plt.ylim(X2.min(), X2.max())\n",
    "for i, j in enumerate(np.unique(y)):\n",
    "    plt.scatter(X[y == j, 0], X[y == j, 1],\n",
    "                c = ListedColormap(('red', 'green'))(i), label = j)\n",
    "plt.xlabel('Feature 1')\n",
    "plt.ylabel('Feature 2')\n",
    "plt.title('Logistic Regression')\n",
    "plt.legend()\n",
    "plt.show()\n"
   ]
  },
  {
   "cell_type": "code",
   "execution_count": 21,
   "id": "736be143",
   "metadata": {
    "execution": {
     "iopub.execute_input": "2022-05-26T17:11:05.688354Z",
     "iopub.status.busy": "2022-05-26T17:11:05.687521Z",
     "iopub.status.idle": "2022-05-26T17:11:05.941692Z",
     "shell.execute_reply": "2022-05-26T17:11:05.940819Z"
    },
    "papermill": {
     "duration": 0.310226,
     "end_time": "2022-05-26T17:11:05.943922",
     "exception": false,
     "start_time": "2022-05-26T17:11:05.633696",
     "status": "completed"
    },
    "tags": []
   },
   "outputs": [
    {
     "data": {
      "image/png": "[encoded data removed]",
      "text/plain": [
       "<Figure size 432x288 with 1 Axes>"
      ]
     },
     "metadata": {
      "needs_background": "light"
     },
     "output_type": "display_data"
    }
   ],
   "source": [
    "# Define a function to plot a decision boundary.\n",
    "def plot_decision_boundary(pred_func):\n",
    "    # Set min and max values and give it some padding\n",
    "    x_min, x_max = X[:, 0].min() - .5, X[:, 0].max() + .5\n",
    "    y_min, y_max = X[:, 1].min() - .5, X[:, 1].max() + .5\n",
    "    h = 0.01\n",
    "    # Generate a grid of points with distance h between them\n",
    "    xx, yy = np.meshgrid(np.arange(x_min, x_max, h), np.arange(y_min, y_max, h))\n",
    "    # Predict the function value for the whole gid\n",
    "    Z = pred_func(np.c_[xx.ravel(), yy.ravel()])\n",
    "    Z = Z.reshape(xx.shape)\n",
    "    # Plot the contour and training examples\n",
    "    plt.contourf(xx, yy, Z, cmap=plt.cm.Spectral)\n",
    "    plt.scatter(X[:, 0], X[:, 1], c=y, cmap=plt.cm.plasma)\n",
    "\n",
    "# Plot the decision boundary\n",
    "plot_decision_boundary(lambda x: log.predict(x))\n",
    "plt.xlabel('Feature 1')\n",
    "plt.ylabel('Feature 2')\n",
    "plt.title(\"Logistic Regression\");"
   ]
  },
  {
   "cell_type": "markdown",
   "id": "30ee0759",
   "metadata": {
    "papermill": {
     "duration": 0.054253,
     "end_time": "2022-05-26T17:11:06.052442",
     "exception": false,
     "start_time": "2022-05-26T17:11:05.998189",
     "status": "completed"
    },
    "tags": []
   },
   "source": [
    "## **Dealing with the problem of overfitting: Regularization**<a name = 'Regularization'></a>\n",
    "\n",
    "While underfitting algorithm has high bias, overfitting, on the other hand, has high variance. Underfitting happens when the form of hypothesis function h maps poorly to the trend of the data. It is usually caused by a function that is too simple or uses too few features. At the other extreme, overfitting, or high variance, is caused by a hypothesis function that fits the available data but does not generalize well to predict new data. It is usually caused by a complicated function that creates a lot of unnecessary curves and angles unrelated to the data.\n",
    "\n",
    "This terminology is applied to both linear and logistic regression. There are two main options to address the issue of overfitting:\n",
    "\n",
    "1) Reduce the number of features:<br>\n",
    "• Manually select which features to keep.<br>\n",
    "• Use a model selection algorithm.<br>\n",
    "\n",
    "2) Regularization <br>\n",
    "• Keep all the features, but reduce the magnitude of parameters $\\theta_j$. Regularization works well when there are a lot of slightly useful features. \n",
    "\n",
    "The main focus here is to understand intuitions behind how regularization works to reduce the problem of overfitting."
   ]
  },
  {
   "cell_type": "markdown",
   "id": "877217ef",
   "metadata": {
    "papermill": {
     "duration": 0.052623,
     "end_time": "2022-05-26T17:11:06.158285",
     "exception": false,
     "start_time": "2022-05-26T17:11:06.105662",
     "status": "completed"
    },
    "tags": []
   },
   "source": [
    "### **Regularized Cost Function**\n",
    "\n",
    "Consider two hypothesis functions from the same training data.\n",
    "\n",
    "$\\theta_1 X_1$, $\\theta_2 X_2$, $\\theta_3 X_3$ <- Just right, works perfectly well in both training and testing data\n",
    "\n",
    "$\\theta_1 X_1$, $\\theta_2 X_2$, $\\theta_3 X_3$, $\\theta_4 X_4$,....$\\theta_j X_j$  <- suffers from overfitting\n",
    "\n",
    "The two parameters $θ_3$ and $θ_4$ contribute too much to the curliness of the function causing overfitting. So remedy is to penalize those additional parameters and make them very small, so that they will contribute less, or even don't contribute at all to the function shape. It would basically end up with the first function, which fits well the data. However, there is one hurdle to this. It is nearly impossible to know which parameter contributes more or less to the overfitting issue. So in regularization the cost function is modified to shrink all parameters by some amount.\n",
    "\n",
    "The regularized version adds an extra term, called regularization term $\\lambda$ that shrinks all the parameters:\n",
    "\n",
    "\n",
    "$\n",
    "J(\\theta) =  \\frac {1}{2m}{\\sum_{i=1} ^{m} (h_\\theta (x_i) -y_i)^2}$ <- The Original Cost function\n",
    "\n",
    "<br>\n",
    "\n",
    "$\n",
    "J_{reg}(\\theta) =  \\frac {1}{2m}[{\\sum_{i=1} ^{m} (h_\\theta (x_i) -y_i)^2} + \\lambda\\sum_{i=1} ^{n}\\theta_j^2] $ <- Regularized Cost function\n",
    "\n",
    "By convention the first parameter $θ_0$ is left unprocessed, as the loop in the regularization term starts from 1 (i.e. j=1) and not zero.\n",
    "\n",
    "The λ, or lambda, is the regularization parameter. It determines how much the costs of our theta parameters are inflated. \n",
    "Using the above cost function with the extra summation, the output of hypothesis function can be smoothed out to reduce overfitting. The regularization parameter must be chosen carefully. If lambda is chosen to be too large, it may smooth out the function too much and cause underfitting. When its too large, it will crush all the parameters except the first one, ending up with a hypothesis function like $h_θ(x)=θ_0$ where all other θs are next to zero. Such function becomes a simple horizontal line, suffers from underfitting that doesn't fit well the data."
   ]
  },
  {
   "cell_type": "markdown",
   "id": "4f6b7df0",
   "metadata": {
    "papermill": {
     "duration": 0.053011,
     "end_time": "2022-05-26T17:11:06.264843",
     "exception": false,
     "start_time": "2022-05-26T17:11:06.211832",
     "status": "completed"
    },
    "tags": []
   },
   "source": [
    "## **Gradient descent of Regularized Linear Regression**\n",
    "\n",
    "Regularization can be applied to both linear regression and logistic regression. \n",
    "\n",
    "Repeat until convergence:{    \n",
    "$\\theta_0:=\\theta_j-\\frac {\\alpha}{m}{\\sum_{i=1} ^{m} (h_\\theta (x_i) -y_i)x_0}$\n",
    "\n",
    "$\\theta_j:=\\theta_j-\\alpha[(\\frac {1}{m}{\\sum_{i=1} ^{m} (h_\\theta (x_i) -y_i)x_j} + \\frac {\\lambda}{m}\\theta_j]$ <- for j∈{1,2...n}\n",
    "\n",
    "}\n",
    "\n",
    "Rearranging this, leaving  $θ_0$ untouched as always,\n",
    "\n",
    "Repeat until convergence:{\n",
    "\n",
    "$\\theta_0:=\\theta_j-\\frac {\\alpha}{m}{\\sum_{i=1} ^{m} (h_\\theta (x_i) -y_i)x_0}$\n",
    "\n",
    "$\\theta_j:=\\theta_j(1-\\alpha\\frac{\\lambda}{m})-\\frac {\\alpha}{m}{\\sum_{i=1} ^{m} (h_\\theta (x_i) -y_i)x_j}$\n",
    "\n",
    "}\n",
    "\n",
    "The first term in the above equation, $(1 - \\alpha\\frac{\\lambda}{m})$ that multiplies with $θ_j$ will always be less than 1 and it's responsible for its shrinkage. Intuitively it can be seen as reducing the value of $\\theta_j$ by some amount on every update. Notice that the second term is now exactly the same as it was before the whole regularization thing.        "
   ]
  },
  {
   "cell_type": "markdown",
   "id": "2b860825",
   "metadata": {
    "papermill": {
     "duration": 0.052906,
     "end_time": "2022-05-26T17:11:06.370974",
     "exception": false,
     "start_time": "2022-05-26T17:11:06.318068",
     "status": "completed"
    },
    "tags": []
   },
   "source": [
    "## **Gradient descent of Regularized Logistic Regression**\n",
    "To avoid overfitting logistic regression can also be regularized in a similar way.\n",
    "\n",
    "$\n",
    "J(\\theta) = -\\frac {1}{m}{\\sum_{i=1} ^{m}(ylog (h_\\theta (x)) + (1-y)log (1- h_\\theta (x)))}\n",
    "$\n",
    "\n",
    "We can regularize this equation by adding a term to the end:\n",
    "\n",
    "$\n",
    "J_{reg}(\\theta) =  -\\frac {1}{m}[{\\sum_{i=1} ^{m}(ylog (h_\\theta (x)) + (1-y)log (1- h_\\theta (x))}]+ \\frac {\\lambda}{2m}{\\sum_{i=1} ^{n}\\theta_j^2} $\n",
    "\n",
    "The second sum, $\\sum_{j=1}^n \\theta_j^2 $ means to explicitly exclude the bias term, $\\theta_0$. ie.. the θ vector is indexed from 0 to n (holding n+1 values, $\\theta_0$ through $\\theta_n$), and this sum explicitly skips $\\theta_0$, by running from 1 to n, skipping 0. Thus, when computing the equation, we should continuously update the two following equations simultaneously:\n",
    "\n",
    "Taking the derivative of cost function for gradient descent, \n",
    "\n",
    "Repeat until convergence: {  \n",
    "\n",
    "$\\theta_0:=\\theta_j-\\frac {\\alpha}{m}{\\sum_{i=1} ^{m} (h_\\theta (x_i) -y_i)x_0}$\n",
    "\n",
    "$\\theta_j:=\\theta_j-\\alpha[\\frac {1}{m}{\\sum_{i=1} ^{m} (h_\\theta (x_i) -y_i)x_j} + \\frac {\\lambda}{m}\\theta_j]$ <- for j∈{1,2...n}\n",
    "\n",
    "}"
   ]
  },
  {
   "cell_type": "code",
   "execution_count": null,
   "id": "f11264c4",
   "metadata": {
    "papermill": {
     "duration": 0.05299,
     "end_time": "2022-05-26T17:11:06.477645",
     "exception": false,
     "start_time": "2022-05-26T17:11:06.424655",
     "status": "completed"
    },
    "tags": []
   },
   "outputs": [],
   "source": []
  }
 ],
 "metadata": {
  "kernelspec": {
   "display_name": "Python 3",
   "language": "python",
   "name": "python3"
  },
  "language_info": {
   "codemirror_mode": {
    "name": "ipython",
    "version": 3
   },
   "file_extension": ".py",
   "mimetype": "text/x-python",
   "name": "python",
   "nbconvert_exporter": "python",
   "pygments_lexer": "ipython3",
   "version": "3.7.12"
  },
  "papermill": {
   "default_parameters": {},
   "duration": 19.922843,
   "end_time": "2022-05-26T17:11:07.253226",
   "environment_variables": {},
   "exception": null,
   "input_path": "__notebook__.ipynb",
   "output_path": "__notebook__.ipynb",
   "parameters": {},
   "start_time": "2022-05-26T17:10:47.330383",
   "version": "2.3.4"
  }
 },
 "nbformat": 4,
 "nbformat_minor": 5
}
