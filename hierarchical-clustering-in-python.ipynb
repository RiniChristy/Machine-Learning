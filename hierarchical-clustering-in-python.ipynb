{
 "cells": [
  {
   "cell_type": "markdown",
   "id": "407621e8",
   "metadata": {
    "papermill": {
     "duration": 0.01675,
     "end_time": "2022-03-18T15:46:32.561834",
     "exception": false,
     "start_time": "2022-03-18T15:46:32.545084",
     "status": "completed"
    },
    "tags": []
   },
   "source": [
    "# **Hierarchical Clustering in Python**"
   ]
  },
  {
   "cell_type": "markdown",
   "id": "56085d83",
   "metadata": {
    "papermill": {
     "duration": 0.013261,
     "end_time": "2022-03-18T15:46:32.591095",
     "exception": false,
     "start_time": "2022-03-18T15:46:32.577834",
     "status": "completed"
    },
    "tags": []
   },
   "source": [
    "## **Importing the libraries**"
   ]
  },
  {
   "cell_type": "code",
   "execution_count": 1,
   "id": "74d3497b",
   "metadata": {
    "execution": {
     "iopub.execute_input": "2022-03-18T15:46:32.628584Z",
     "iopub.status.busy": "2022-03-18T15:46:32.627954Z",
     "iopub.status.idle": "2022-03-18T15:46:32.634720Z",
     "shell.execute_reply": "2022-03-18T15:46:32.633901Z",
     "shell.execute_reply.started": "2022-03-18T15:16:56.186757Z"
    },
    "papermill": {
     "duration": 0.030128,
     "end_time": "2022-03-18T15:46:32.634887",
     "exception": false,
     "start_time": "2022-03-18T15:46:32.604759",
     "status": "completed"
    },
    "tags": []
   },
   "outputs": [],
   "source": [
    "import numpy as np\n",
    "import matplotlib.pyplot as plt\n",
    "import pandas as pd"
   ]
  },
  {
   "cell_type": "markdown",
   "id": "443ca5ae",
   "metadata": {
    "papermill": {
     "duration": 0.013189,
     "end_time": "2022-03-18T15:46:32.661811",
     "exception": false,
     "start_time": "2022-03-18T15:46:32.648622",
     "status": "completed"
    },
    "tags": []
   },
   "source": [
    "## **Importing the dataset**"
   ]
  },
  {
   "cell_type": "code",
   "execution_count": 2,
   "id": "cf9532dd",
   "metadata": {
    "execution": {
     "iopub.execute_input": "2022-03-18T15:46:32.692601Z",
     "iopub.status.busy": "2022-03-18T15:46:32.691918Z",
     "iopub.status.idle": "2022-03-18T15:46:32.724233Z",
     "shell.execute_reply": "2022-03-18T15:46:32.724781Z",
     "shell.execute_reply.started": "2022-03-18T15:19:43.381335Z"
    },
    "papermill": {
     "duration": 0.049504,
     "end_time": "2022-03-18T15:46:32.724960",
     "exception": false,
     "start_time": "2022-03-18T15:46:32.675456",
     "status": "completed"
    },
    "tags": []
   },
   "outputs": [
    {
     "data": {
      "text/html": [
       "<div>\n",
       "<style scoped>\n",
       "    .dataframe tbody tr th:only-of-type {\n",
       "        vertical-align: middle;\n",
       "    }\n",
       "\n",
       "    .dataframe tbody tr th {\n",
       "        vertical-align: top;\n",
       "    }\n",
       "\n",
       "    .dataframe thead th {\n",
       "        text-align: right;\n",
       "    }\n",
       "</style>\n",
       "<table border=\"1\" class=\"dataframe\">\n",
       "  <thead>\n",
       "    <tr style=\"text-align: right;\">\n",
       "      <th></th>\n",
       "      <th>CustomerID</th>\n",
       "      <th>Genre</th>\n",
       "      <th>Age</th>\n",
       "      <th>Annual Income (k$)</th>\n",
       "      <th>Spending Score (1-100)</th>\n",
       "    </tr>\n",
       "  </thead>\n",
       "  <tbody>\n",
       "    <tr>\n",
       "      <th>0</th>\n",
       "      <td>1</td>\n",
       "      <td>Male</td>\n",
       "      <td>19</td>\n",
       "      <td>15</td>\n",
       "      <td>39</td>\n",
       "    </tr>\n",
       "    <tr>\n",
       "      <th>1</th>\n",
       "      <td>2</td>\n",
       "      <td>Male</td>\n",
       "      <td>21</td>\n",
       "      <td>15</td>\n",
       "      <td>81</td>\n",
       "    </tr>\n",
       "    <tr>\n",
       "      <th>2</th>\n",
       "      <td>3</td>\n",
       "      <td>Female</td>\n",
       "      <td>20</td>\n",
       "      <td>16</td>\n",
       "      <td>6</td>\n",
       "    </tr>\n",
       "    <tr>\n",
       "      <th>3</th>\n",
       "      <td>4</td>\n",
       "      <td>Female</td>\n",
       "      <td>23</td>\n",
       "      <td>16</td>\n",
       "      <td>77</td>\n",
       "    </tr>\n",
       "    <tr>\n",
       "      <th>4</th>\n",
       "      <td>5</td>\n",
       "      <td>Female</td>\n",
       "      <td>31</td>\n",
       "      <td>17</td>\n",
       "      <td>40</td>\n",
       "    </tr>\n",
       "  </tbody>\n",
       "</table>\n",
       "</div>"
      ],
      "text/plain": [
       "   CustomerID   Genre  Age  Annual Income (k$)  Spending Score (1-100)\n",
       "0           1    Male   19                  15                      39\n",
       "1           2    Male   21                  15                      81\n",
       "2           3  Female   20                  16                       6\n",
       "3           4  Female   23                  16                      77\n",
       "4           5  Female   31                  17                      40"
      ]
     },
     "execution_count": 2,
     "metadata": {},
     "output_type": "execute_result"
    }
   ],
   "source": [
    "ds = pd.read_csv('../input/mall-customers/Mall_Customers.csv')\n",
    "ds.head()"
   ]
  },
  {
   "cell_type": "code",
   "execution_count": 3,
   "id": "37204797",
   "metadata": {
    "execution": {
     "iopub.execute_input": "2022-03-18T15:46:32.757168Z",
     "iopub.status.busy": "2022-03-18T15:46:32.756460Z",
     "iopub.status.idle": "2022-03-18T15:46:32.765650Z",
     "shell.execute_reply": "2022-03-18T15:46:32.766127Z",
     "shell.execute_reply.started": "2022-03-18T15:19:59.371666Z"
    },
    "papermill": {
     "duration": 0.026952,
     "end_time": "2022-03-18T15:46:32.766308",
     "exception": false,
     "start_time": "2022-03-18T15:46:32.739356",
     "status": "completed"
    },
    "tags": []
   },
   "outputs": [
    {
     "data": {
      "text/plain": [
       "array([[15, 39],\n",
       "       [15, 81],\n",
       "       [16,  6],\n",
       "       [16, 77],\n",
       "       [17, 40]])"
      ]
     },
     "execution_count": 3,
     "metadata": {},
     "output_type": "execute_result"
    }
   ],
   "source": [
    "X = ds.iloc[:, [3,4]].values\n",
    "X[0:5]"
   ]
  },
  {
   "cell_type": "markdown",
   "id": "84f5a77a",
   "metadata": {
    "papermill": {
     "duration": 0.01409,
     "end_time": "2022-03-18T15:46:32.794776",
     "exception": false,
     "start_time": "2022-03-18T15:46:32.780686",
     "status": "completed"
    },
    "tags": []
   },
   "source": [
    "## **Using the dendrogram to find the optimal number of clusters**"
   ]
  },
  {
   "cell_type": "code",
   "execution_count": 4,
   "id": "51847e83",
   "metadata": {
    "execution": {
     "iopub.execute_input": "2022-03-18T15:46:32.826501Z",
     "iopub.status.busy": "2022-03-18T15:46:32.825834Z",
     "iopub.status.idle": "2022-03-18T15:46:37.396480Z",
     "shell.execute_reply": "2022-03-18T15:46:37.395951Z",
     "shell.execute_reply.started": "2022-03-18T15:26:46.297669Z"
    },
    "papermill": {
     "duration": 4.587622,
     "end_time": "2022-03-18T15:46:37.396629",
     "exception": false,
     "start_time": "2022-03-18T15:46:32.809007",
     "status": "completed"
    },
    "tags": []
   },
   "outputs": [
    {
     "data": {
      "image/png": "[encoded data removed]",
      "text/plain": [
       "<Figure size 432x288 with 1 Axes>"
      ]
     },
     "metadata": {
      "needs_background": "light"
     },
     "output_type": "display_data"
    }
   ],
   "source": [
    "import scipy.cluster.hierarchy as sch\n",
    "dendrogram = sch.dendrogram(sch.linkage(X, method = 'ward'))\n",
    "plt.title('Dendrogram')\n",
    "plt.xlabel('Customers')\n",
    "plt.ylabel('Euclidean distances')\n",
    "plt.show()"
   ]
  },
  {
   "cell_type": "markdown",
   "id": "c6fee689",
   "metadata": {
    "papermill": {
     "duration": 0.015167,
     "end_time": "2022-03-18T15:46:37.427984",
     "exception": false,
     "start_time": "2022-03-18T15:46:37.412817",
     "status": "completed"
    },
    "tags": []
   },
   "source": [
    "## **Training the Hierarchical Clustering model on the dataset**"
   ]
  },
  {
   "cell_type": "code",
   "execution_count": 5,
   "id": "1d0039e6",
   "metadata": {
    "execution": {
     "iopub.execute_input": "2022-03-18T15:46:37.464386Z",
     "iopub.status.busy": "2022-03-18T15:46:37.463633Z",
     "iopub.status.idle": "2022-03-18T15:46:38.461667Z",
     "shell.execute_reply": "2022-03-18T15:46:38.461038Z",
     "shell.execute_reply.started": "2022-03-18T15:27:43.764607Z"
    },
    "papermill": {
     "duration": 1.018546,
     "end_time": "2022-03-18T15:46:38.461816",
     "exception": false,
     "start_time": "2022-03-18T15:46:37.443270",
     "status": "completed"
    },
    "tags": []
   },
   "outputs": [],
   "source": [
    "from sklearn.cluster import AgglomerativeClustering\n",
    "hc = AgglomerativeClustering(n_clusters = 5, affinity = 'euclidean', linkage = 'ward')\n",
    "y_hc = hc.fit_predict(X)"
   ]
  },
  {
   "cell_type": "code",
   "execution_count": 6,
   "id": "36734eb8",
   "metadata": {
    "execution": {
     "iopub.execute_input": "2022-03-18T15:46:38.502297Z",
     "iopub.status.busy": "2022-03-18T15:46:38.500931Z",
     "iopub.status.idle": "2022-03-18T15:46:38.830081Z",
     "shell.execute_reply": "2022-03-18T15:46:38.829431Z",
     "shell.execute_reply.started": "2022-03-18T15:30:11.291941Z"
    },
    "papermill": {
     "duration": 0.353014,
     "end_time": "2022-03-18T15:46:38.830226",
     "exception": false,
     "start_time": "2022-03-18T15:46:38.477212",
     "status": "completed"
    },
    "tags": []
   },
   "outputs": [
    {
     "data": {
      "image/png": "[encoded data removed]",
      "text/plain": [
       "<Figure size 432x288 with 1 Axes>"
      ]
     },
     "metadata": {
      "needs_background": "light"
     },
     "output_type": "display_data"
    }
   ],
   "source": [
    "# Visualising the clusters\n",
    "plt.scatter(X[y_hc == 0, 0], X[y_hc == 0, 1], s = 100, c = 'red', label = 'Cluster 1')\n",
    "plt.scatter(X[y_hc == 1, 0], X[y_hc == 1, 1], s = 100, c = 'blue', label = 'Cluster 2')\n",
    "plt.scatter(X[y_hc == 2, 0], X[y_hc == 2, 1], s = 100, c = 'green', label = 'Cluster 3')\n",
    "plt.scatter(X[y_hc == 3, 0], X[y_hc == 3, 1], s = 100, c = 'cyan', label = 'Cluster 4')\n",
    "plt.scatter(X[y_hc == 4, 0], X[y_hc == 4, 1], s = 100, c = 'magenta', label = 'Cluster 5')\n",
    "plt.title('Clusters of customers')\n",
    "plt.xlabel('Annual Income (k$)')\n",
    "plt.ylabel('Spending Score (1-100)')\n",
    "plt.legend(bbox_to_anchor=(1.0, 0.5), loc = 'center left')\n",
    "plt.show()"
   ]
  },
  {
   "cell_type": "code",
   "execution_count": null,
   "id": "612bf335",
   "metadata": {
    "papermill": {
     "duration": 0.016149,
     "end_time": "2022-03-18T15:46:38.864190",
     "exception": false,
     "start_time": "2022-03-18T15:46:38.848041",
     "status": "completed"
    },
    "tags": []
   },
   "outputs": [],
   "source": []
  },
  {
   "cell_type": "code",
   "execution_count": null,
   "id": "0e8c7a5d",
   "metadata": {
    "papermill": {
     "duration": 0.0164,
     "end_time": "2022-03-18T15:46:38.897024",
     "exception": false,
     "start_time": "2022-03-18T15:46:38.880624",
     "status": "completed"
    },
    "tags": []
   },
   "outputs": [],
   "source": []
  },
  {
   "cell_type": "code",
   "execution_count": null,
   "id": "1639cb77",
   "metadata": {
    "papermill": {
     "duration": 0.016234,
     "end_time": "2022-03-18T15:46:38.930619",
     "exception": false,
     "start_time": "2022-03-18T15:46:38.914385",
     "status": "completed"
    },
    "tags": []
   },
   "outputs": [],
   "source": []
  },
  {
   "cell_type": "code",
   "execution_count": null,
   "id": "fe755eb6",
   "metadata": {
    "papermill": {
     "duration": 0.015979,
     "end_time": "2022-03-18T15:46:38.962973",
     "exception": false,
     "start_time": "2022-03-18T15:46:38.946994",
     "status": "completed"
    },
    "tags": []
   },
   "outputs": [],
   "source": []
  },
  {
   "cell_type": "code",
   "execution_count": null,
   "id": "37673f93",
   "metadata": {
    "papermill": {
     "duration": 0.01602,
     "end_time": "2022-03-18T15:46:38.995348",
     "exception": false,
     "start_time": "2022-03-18T15:46:38.979328",
     "status": "completed"
    },
    "tags": []
   },
   "outputs": [],
   "source": []
  },
  {
   "cell_type": "code",
   "execution_count": null,
   "id": "07b4605f",
   "metadata": {
    "papermill": {
     "duration": 0.015954,
     "end_time": "2022-03-18T15:46:39.027615",
     "exception": false,
     "start_time": "2022-03-18T15:46:39.011661",
     "status": "completed"
    },
    "tags": []
   },
   "outputs": [],
   "source": []
  },
  {
   "cell_type": "code",
   "execution_count": null,
   "id": "2ee6d076",
   "metadata": {
    "papermill": {
     "duration": 0.016232,
     "end_time": "2022-03-18T15:46:39.060784",
     "exception": false,
     "start_time": "2022-03-18T15:46:39.044552",
     "status": "completed"
    },
    "tags": []
   },
   "outputs": [],
   "source": []
  },
  {
   "cell_type": "code",
   "execution_count": null,
   "id": "acb67f05",
   "metadata": {
    "papermill": {
     "duration": 0.015951,
     "end_time": "2022-03-18T15:46:39.093077",
     "exception": false,
     "start_time": "2022-03-18T15:46:39.077126",
     "status": "completed"
    },
    "tags": []
   },
   "outputs": [],
   "source": []
  }
 ],
 "metadata": {
  "kernelspec": {
   "display_name": "Python 3",
   "language": "python",
   "name": "python3"
  },
  "language_info": {
   "codemirror_mode": {
    "name": "ipython",
    "version": 3
   },
   "file_extension": ".py",
   "mimetype": "text/x-python",
   "name": "python",
   "nbconvert_exporter": "python",
   "pygments_lexer": "ipython3",
   "version": "3.7.10"
  },
  "papermill": {
   "default_parameters": {},
   "duration": 16.634475,
   "end_time": "2022-03-18T15:46:39.819589",
   "environment_variables": {},
   "exception": null,
   "input_path": "__notebook__.ipynb",
   "output_path": "__notebook__.ipynb",
   "parameters": {},
   "start_time": "2022-03-18T15:46:23.185114",
   "version": "2.3.3"
  }
 },
 "nbformat": 4,
 "nbformat_minor": 5
}
