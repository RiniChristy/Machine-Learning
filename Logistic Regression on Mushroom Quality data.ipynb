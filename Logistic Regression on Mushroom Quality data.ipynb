{
 "cells": [
  {
   "cell_type": "markdown",
   "id": "1ba6482a",
   "metadata": {
    "papermill": {
     "duration": 0.02492,
     "end_time": "2022-04-12T06:50:09.418248",
     "exception": false,
     "start_time": "2022-04-12T06:50:09.393328",
     "status": "completed"
    },
    "tags": []
   },
   "source": [
    "# **Logistic Regression on Mushroom Quality data**\n",
    "**Logistic Regression**\n",
    "\n",
    "While Linear Regression is suited for estimating continuous values, it is not the best tool for predicting the class of an observed data point. In order to estimate the class of a data point, some sort of guidance is required on what would be the most probable class for that data point. For this, Logistic Regression is used.\n",
    "\n",
    "In simple terms: \n",
    "$$ Y = b_0 + b_0X$$\n",
    "<br>\n",
    "With Sigmoid function applied---->\n",
    "$$P = \\frac {1}{1 + e^{(-y)}} $$\n",
    "<br><br>\n",
    "$$ln(\\frac{p}{1-p}) = b_0 + b_0X$$\n",
    "<br><br>\n",
    "**Logistic Regression explanation in detail**\n",
    "\n",
    "**Linear regression** finds a function that relates a continuous dependent variable, **y**, to some predictors (independent variables $x_1$, $x_2$, etc.). For example, Simple linear regression assumes a function of the form:\n",
    "<br><br>\n",
    "$$\n",
    "y = \\theta_0 + \\theta_1  x_1 + \\theta_2  x_2 + \\cdots\n",
    "$$\n",
    "<br>\n",
    "and finds the values of parameters $\\theta_0, \\theta_1, \\theta_2$, etc, where the term $\\theta_0$ is the \"intercept\". It can be generally shown as:\n",
    "<br><br>\n",
    "$$\n",
    "ℎ_\\theta(𝑥) = \\theta^TX\n",
    "$$\n",
    "<br>\n",
    "\n",
    "**Logistic Regression** is a variation of Linear Regression, useful when the observed dependent variable, **y**, is categorical. It produces a formula that predicts the probability of the class label as a function of the independent variables.\n",
    "\n",
    "Logistic regression fits a special s-shaped curve by taking the linear regression and transforming the numeric estimate into a probability with the following function, which is called sigmoid function 𝜎:\n",
    "\n",
    "$$\n",
    "ℎ_\\theta(𝑥) = \\sigma(\\theta^TX) =  \\frac {e^{(\\theta_0 + \\theta_1  x_1 + \\theta_2  x_2 +...)}}{1 + e^{(\\theta_0 + \\theta_1  x_1 + \\theta_2  x_2 +\\cdots)}}\n",
    "$$\n",
    "Or:\n",
    "$$\n",
    "ProbabilityOfaClass_1 =  P(Y=1|X) = \\sigma(\\theta^TX) = \\frac{e^(\\theta^TX)}{1+e^(\\theta^TX)} \n",
    "$$\n",
    "\n",
    "In this equation, $(\\theta^TX)$ is the regression result (the sum of the variables weighted by the coefficients), `exp` is the exponential function and $\\sigma(\\theta^TX)$ is the sigmoid or [logistic function](https://en.wikipedia.org/wiki/Logistic_function), also called logistic curve. It is a common \"S\" shape (sigmoid curve).\n",
    "\n",
    "So, briefly, Logistic Regression passes the input through the logistic/sigmoid but then treats the result as a probability:\n",
    "\n",
    "<img\n",
    "src=\"https://ibm.box.com/shared/static/kgv9alcghmjcv97op4d6onkyxevk23b1.png\" width=\"400\" align=\"center\">\n",
    "\n",
    "The objective of __Logistic Regression__ algorithm, is to find the best parameters θ, for $ℎ_\\theta(𝑥)$ = $\\sigma(\\theta^TX)$, in such a way that the model best predicts the class of each case."
   ]
  },
  {
   "cell_type": "markdown",
   "id": "a1ae55e5",
   "metadata": {
    "papermill": {
     "duration": 0.023621,
     "end_time": "2022-04-12T06:50:09.466029",
     "exception": false,
     "start_time": "2022-04-12T06:50:09.442408",
     "status": "completed"
    },
    "tags": []
   },
   "source": [
    "## **Table of Contents**\n",
    "\n",
    "* [Dataset Information](#Dataset)\n",
    "* [Method Development: Setting up the Logistic Regression Classifier](#Method)\n",
    "* [Model Evaluation](#Evaluation)\n"
   ]
  },
  {
   "cell_type": "markdown",
   "id": "d51c315e",
   "metadata": {
    "papermill": {
     "duration": 0.023651,
     "end_time": "2022-04-12T06:50:09.513800",
     "exception": false,
     "start_time": "2022-04-12T06:50:09.490149",
     "status": "completed"
    },
    "tags": []
   },
   "source": [
    "### **Import required library packages:**"
   ]
  },
  {
   "cell_type": "code",
   "execution_count": 1,
   "id": "71f77ae1",
   "metadata": {
    "execution": {
     "iopub.execute_input": "2022-04-12T06:50:09.573991Z",
     "iopub.status.busy": "2022-04-12T06:50:09.573366Z",
     "iopub.status.idle": "2022-04-12T06:50:10.573172Z",
     "shell.execute_reply": "2022-04-12T06:50:10.572025Z",
     "shell.execute_reply.started": "2022-04-12T06:48:54.704853Z"
    },
    "papermill": {
     "duration": 1.035562,
     "end_time": "2022-04-12T06:50:10.573367",
     "exception": false,
     "start_time": "2022-04-12T06:50:09.537805",
     "status": "completed"
    },
    "tags": []
   },
   "outputs": [],
   "source": [
    "import pandas as pd\n",
    "import numpy as np\n",
    "import seaborn as sns\n",
    "import matplotlib.pyplot as plt"
   ]
  },
  {
   "cell_type": "markdown",
   "id": "a92a150f",
   "metadata": {
    "papermill": {
     "duration": 0.023802,
     "end_time": "2022-04-12T06:50:10.620964",
     "exception": false,
     "start_time": "2022-04-12T06:50:10.597162",
     "status": "completed"
    },
    "tags": []
   },
   "source": [
    "## **Data Set Information: Mushroom Quality data**<a name=\"Dataset\"></a>\n",
    "This data set includes descriptions of hypothetical samples corresponding to 23 species of gilled mushrooms in the Agaricus and Lepiota Family . Each species is identified as definitely edible, definitely poisonous, or of unknown edibility and not recommended. This latter class was combined with the poisonous one.\n",
    "Attribute Information:\n",
    "1. cap-shape: bell=b,conical=c,convex=x,flat=f, knobbed=k,sunken=s\n",
    "2. cap-surface: fibrous=f,grooves=g,scaly=y,smooth=s\n",
    "3. cap-color: brown=n,buff=b,cinnamon=c,gray=g,green=r, pink=p,purple=u,red=e,white=w,yellow=y\n",
    "4. bruises?: bruises=t,no=f\n",
    "5. odor: almond=a,anise=l,creosote=c,fishy=y,foul=f, musty=m,none=n,pungent=p,spicy=s\n",
    "6. gill-attachment: attached=a,descending=d,free=f,notched=n\n",
    "7. gill-spacing: close=c,crowded=w,distant=d\n",
    "8. gill-size: broad=b,narrow=n\n",
    "9. gill-color: black=k,brown=n,buff=b,chocolate=h,gray=g, green=r,orange=o,pink=p,purple=u,red=e, white=w,yellow=y\n",
    "10. stalk-shape: enlarging=e,tapering=t\n",
    "11. stalk-root: bulbous=b,club=c,cup=u,equal=e, rhizomorphs=z,rooted=r,missing=?\n",
    "12. stalk-surface-above-ring: fibrous=f,scaly=y,silky=k,smooth=s\n",
    "13. stalk-surface-below-ring: fibrous=f,scaly=y,silky=k,smooth=s\n",
    "14. stalk-color-above-ring: brown=n,buff=b,cinnamon=c,gray=g,orange=o, pink=p,red=e,white=w,yellow=y\n",
    "15. stalk-color-below-ring: brown=n,buff=b,cinnamon=c,gray=g,orange=o, pink=p,red=e,white=w,yellow=y\n",
    "16. veil-type: partial=p,universal=u\n",
    "17. veil-color: brown=n,orange=o,white=w,yellow=y\n",
    "18. ring-number: none=n,one=o,two=t\n",
    "19. ring-type: cobwebby=c,evanescent=e,flaring=f,large=l, none=n,pendant=p,sheathing=s,zone=z\n",
    "20. spore-print-color: black=k,brown=n,buff=b,chocolate=h,green=r, orange=o,purple=u,white=w,yellow=y\n",
    "21. population: abundant=a,clustered=c,numerous=n, scattered=s,several=v,solitary=y\n",
    "22. habitat: grasses=g,leaves=l,meadows=m,paths=p, urban=u,waste=w,woods=d\n"
   ]
  },
  {
   "cell_type": "markdown",
   "id": "f35947e6",
   "metadata": {
    "papermill": {
     "duration": 0.023344,
     "end_time": "2022-04-12T06:50:10.668179",
     "exception": false,
     "start_time": "2022-04-12T06:50:10.644835",
     "status": "completed"
    },
    "tags": []
   },
   "source": [
    "### **Load the Mushroom quality data**"
   ]
  },
  {
   "cell_type": "code",
   "execution_count": 2,
   "id": "246b74cf",
   "metadata": {
    "execution": {
     "iopub.execute_input": "2022-04-12T06:50:10.720526Z",
     "iopub.status.busy": "2022-04-12T06:50:10.718839Z",
     "iopub.status.idle": "2022-04-12T06:50:10.799033Z",
     "shell.execute_reply": "2022-04-12T06:50:10.799556Z",
     "shell.execute_reply.started": "2022-04-12T06:48:55.847120Z"
    },
    "papermill": {
     "duration": 0.107714,
     "end_time": "2022-04-12T06:50:10.799733",
     "exception": false,
     "start_time": "2022-04-12T06:50:10.692019",
     "status": "completed"
    },
    "tags": []
   },
   "outputs": [
    {
     "data": {
      "text/html": [
       "<div>\n",
       "<style scoped>\n",
       "    .dataframe tbody tr th:only-of-type {\n",
       "        vertical-align: middle;\n",
       "    }\n",
       "\n",
       "    .dataframe tbody tr th {\n",
       "        vertical-align: top;\n",
       "    }\n",
       "\n",
       "    .dataframe thead th {\n",
       "        text-align: right;\n",
       "    }\n",
       "</style>\n",
       "<table border=\"1\" class=\"dataframe\">\n",
       "  <thead>\n",
       "    <tr style=\"text-align: right;\">\n",
       "      <th></th>\n",
       "      <th>Mushroom_quality</th>\n",
       "      <th>cap_shape</th>\n",
       "      <th>cap_surface</th>\n",
       "      <th>cap_color</th>\n",
       "      <th>bruises</th>\n",
       "      <th>odor</th>\n",
       "      <th>gill_attachment</th>\n",
       "      <th>gill_spacing</th>\n",
       "      <th>gill_size</th>\n",
       "      <th>gill_color</th>\n",
       "      <th>...</th>\n",
       "      <th>stalk_surface_below_ring</th>\n",
       "      <th>stalk_color_above_ring</th>\n",
       "      <th>stalk_color_below_ring</th>\n",
       "      <th>veil_type</th>\n",
       "      <th>veil_color</th>\n",
       "      <th>ring_number</th>\n",
       "      <th>ring_type</th>\n",
       "      <th>spore_print_color</th>\n",
       "      <th>population</th>\n",
       "      <th>habitat</th>\n",
       "    </tr>\n",
       "  </thead>\n",
       "  <tbody>\n",
       "    <tr>\n",
       "      <th>0</th>\n",
       "      <td>p</td>\n",
       "      <td>x</td>\n",
       "      <td>s</td>\n",
       "      <td>n</td>\n",
       "      <td>t</td>\n",
       "      <td>p</td>\n",
       "      <td>f</td>\n",
       "      <td>c</td>\n",
       "      <td>n</td>\n",
       "      <td>k</td>\n",
       "      <td>...</td>\n",
       "      <td>s</td>\n",
       "      <td>w</td>\n",
       "      <td>w</td>\n",
       "      <td>p</td>\n",
       "      <td>w</td>\n",
       "      <td>o</td>\n",
       "      <td>p</td>\n",
       "      <td>k</td>\n",
       "      <td>s</td>\n",
       "      <td>u</td>\n",
       "    </tr>\n",
       "    <tr>\n",
       "      <th>1</th>\n",
       "      <td>e</td>\n",
       "      <td>x</td>\n",
       "      <td>s</td>\n",
       "      <td>y</td>\n",
       "      <td>t</td>\n",
       "      <td>a</td>\n",
       "      <td>f</td>\n",
       "      <td>c</td>\n",
       "      <td>b</td>\n",
       "      <td>k</td>\n",
       "      <td>...</td>\n",
       "      <td>s</td>\n",
       "      <td>w</td>\n",
       "      <td>w</td>\n",
       "      <td>p</td>\n",
       "      <td>w</td>\n",
       "      <td>o</td>\n",
       "      <td>p</td>\n",
       "      <td>n</td>\n",
       "      <td>n</td>\n",
       "      <td>g</td>\n",
       "    </tr>\n",
       "    <tr>\n",
       "      <th>2</th>\n",
       "      <td>e</td>\n",
       "      <td>b</td>\n",
       "      <td>s</td>\n",
       "      <td>w</td>\n",
       "      <td>t</td>\n",
       "      <td>l</td>\n",
       "      <td>f</td>\n",
       "      <td>c</td>\n",
       "      <td>b</td>\n",
       "      <td>n</td>\n",
       "      <td>...</td>\n",
       "      <td>s</td>\n",
       "      <td>w</td>\n",
       "      <td>w</td>\n",
       "      <td>p</td>\n",
       "      <td>w</td>\n",
       "      <td>o</td>\n",
       "      <td>p</td>\n",
       "      <td>n</td>\n",
       "      <td>n</td>\n",
       "      <td>m</td>\n",
       "    </tr>\n",
       "    <tr>\n",
       "      <th>3</th>\n",
       "      <td>p</td>\n",
       "      <td>x</td>\n",
       "      <td>y</td>\n",
       "      <td>w</td>\n",
       "      <td>t</td>\n",
       "      <td>p</td>\n",
       "      <td>f</td>\n",
       "      <td>c</td>\n",
       "      <td>n</td>\n",
       "      <td>n</td>\n",
       "      <td>...</td>\n",
       "      <td>s</td>\n",
       "      <td>w</td>\n",
       "      <td>w</td>\n",
       "      <td>p</td>\n",
       "      <td>w</td>\n",
       "      <td>o</td>\n",
       "      <td>p</td>\n",
       "      <td>k</td>\n",
       "      <td>s</td>\n",
       "      <td>u</td>\n",
       "    </tr>\n",
       "    <tr>\n",
       "      <th>4</th>\n",
       "      <td>e</td>\n",
       "      <td>x</td>\n",
       "      <td>s</td>\n",
       "      <td>g</td>\n",
       "      <td>f</td>\n",
       "      <td>n</td>\n",
       "      <td>f</td>\n",
       "      <td>w</td>\n",
       "      <td>b</td>\n",
       "      <td>k</td>\n",
       "      <td>...</td>\n",
       "      <td>s</td>\n",
       "      <td>w</td>\n",
       "      <td>w</td>\n",
       "      <td>p</td>\n",
       "      <td>w</td>\n",
       "      <td>o</td>\n",
       "      <td>e</td>\n",
       "      <td>n</td>\n",
       "      <td>a</td>\n",
       "      <td>g</td>\n",
       "    </tr>\n",
       "  </tbody>\n",
       "</table>\n",
       "<p>5 rows × 23 columns</p>\n",
       "</div>"
      ],
      "text/plain": [
       "  Mushroom_quality cap_shape cap_surface cap_color bruises odor  \\\n",
       "0                p         x           s         n       t    p   \n",
       "1                e         x           s         y       t    a   \n",
       "2                e         b           s         w       t    l   \n",
       "3                p         x           y         w       t    p   \n",
       "4                e         x           s         g       f    n   \n",
       "\n",
       "  gill_attachment gill_spacing gill_size gill_color  ...  \\\n",
       "0               f            c         n          k  ...   \n",
       "1               f            c         b          k  ...   \n",
       "2               f            c         b          n  ...   \n",
       "3               f            c         n          n  ...   \n",
       "4               f            w         b          k  ...   \n",
       "\n",
       "  stalk_surface_below_ring stalk_color_above_ring stalk_color_below_ring  \\\n",
       "0                        s                      w                      w   \n",
       "1                        s                      w                      w   \n",
       "2                        s                      w                      w   \n",
       "3                        s                      w                      w   \n",
       "4                        s                      w                      w   \n",
       "\n",
       "  veil_type veil_color ring_number ring_type spore_print_color population  \\\n",
       "0         p          w           o         p                 k          s   \n",
       "1         p          w           o         p                 n          n   \n",
       "2         p          w           o         p                 n          n   \n",
       "3         p          w           o         p                 k          s   \n",
       "4         p          w           o         e                 n          a   \n",
       "\n",
       "  habitat  \n",
       "0       u  \n",
       "1       g  \n",
       "2       m  \n",
       "3       u  \n",
       "4       g  \n",
       "\n",
       "[5 rows x 23 columns]"
      ]
     },
     "execution_count": 2,
     "metadata": {},
     "output_type": "execute_result"
    }
   ],
   "source": [
    "df = pd.read_csv('../input/uci-mushroom-dataset/Mushroom data.csv')\n",
    "df.head()"
   ]
  },
  {
   "cell_type": "markdown",
   "id": "2ce7e14c",
   "metadata": {
    "papermill": {
     "duration": 0.024504,
     "end_time": "2022-04-12T06:50:10.849435",
     "exception": false,
     "start_time": "2022-04-12T06:50:10.824931",
     "status": "completed"
    },
    "tags": []
   },
   "source": [
    "### **Data Preprocessing**"
   ]
  },
  {
   "cell_type": "code",
   "execution_count": 3,
   "id": "712892e9",
   "metadata": {
    "execution": {
     "iopub.execute_input": "2022-04-12T06:50:10.901663Z",
     "iopub.status.busy": "2022-04-12T06:50:10.901048Z",
     "iopub.status.idle": "2022-04-12T06:50:10.931441Z",
     "shell.execute_reply": "2022-04-12T06:50:10.930898Z",
     "shell.execute_reply.started": "2022-04-12T06:48:55.921884Z"
    },
    "papermill": {
     "duration": 0.0575,
     "end_time": "2022-04-12T06:50:10.931579",
     "exception": false,
     "start_time": "2022-04-12T06:50:10.874079",
     "status": "completed"
    },
    "tags": []
   },
   "outputs": [
    {
     "data": {
      "text/html": [
       "<div>\n",
       "<style scoped>\n",
       "    .dataframe tbody tr th:only-of-type {\n",
       "        vertical-align: middle;\n",
       "    }\n",
       "\n",
       "    .dataframe tbody tr th {\n",
       "        vertical-align: top;\n",
       "    }\n",
       "\n",
       "    .dataframe thead th {\n",
       "        text-align: right;\n",
       "    }\n",
       "</style>\n",
       "<table border=\"1\" class=\"dataframe\">\n",
       "  <thead>\n",
       "    <tr style=\"text-align: right;\">\n",
       "      <th></th>\n",
       "      <th>cap_shape</th>\n",
       "      <th>cap_surface</th>\n",
       "      <th>cap_color</th>\n",
       "      <th>bruises</th>\n",
       "      <th>odor</th>\n",
       "      <th>gill_attachment</th>\n",
       "      <th>gill_spacing</th>\n",
       "      <th>gill_size</th>\n",
       "      <th>gill_color</th>\n",
       "      <th>stalkshape</th>\n",
       "      <th>...</th>\n",
       "      <th>stalk_color_above_ring</th>\n",
       "      <th>stalk_color_below_ring</th>\n",
       "      <th>veil_type</th>\n",
       "      <th>veil_color</th>\n",
       "      <th>ring_number</th>\n",
       "      <th>ring_type</th>\n",
       "      <th>spore_print_color</th>\n",
       "      <th>population</th>\n",
       "      <th>habitat</th>\n",
       "      <th>Mushroom_quality</th>\n",
       "    </tr>\n",
       "  </thead>\n",
       "  <tbody>\n",
       "    <tr>\n",
       "      <th>0</th>\n",
       "      <td>x</td>\n",
       "      <td>s</td>\n",
       "      <td>n</td>\n",
       "      <td>t</td>\n",
       "      <td>p</td>\n",
       "      <td>f</td>\n",
       "      <td>c</td>\n",
       "      <td>n</td>\n",
       "      <td>k</td>\n",
       "      <td>e</td>\n",
       "      <td>...</td>\n",
       "      <td>w</td>\n",
       "      <td>w</td>\n",
       "      <td>p</td>\n",
       "      <td>w</td>\n",
       "      <td>o</td>\n",
       "      <td>p</td>\n",
       "      <td>k</td>\n",
       "      <td>s</td>\n",
       "      <td>u</td>\n",
       "      <td>p</td>\n",
       "    </tr>\n",
       "    <tr>\n",
       "      <th>1</th>\n",
       "      <td>x</td>\n",
       "      <td>s</td>\n",
       "      <td>y</td>\n",
       "      <td>t</td>\n",
       "      <td>a</td>\n",
       "      <td>f</td>\n",
       "      <td>c</td>\n",
       "      <td>b</td>\n",
       "      <td>k</td>\n",
       "      <td>e</td>\n",
       "      <td>...</td>\n",
       "      <td>w</td>\n",
       "      <td>w</td>\n",
       "      <td>p</td>\n",
       "      <td>w</td>\n",
       "      <td>o</td>\n",
       "      <td>p</td>\n",
       "      <td>n</td>\n",
       "      <td>n</td>\n",
       "      <td>g</td>\n",
       "      <td>e</td>\n",
       "    </tr>\n",
       "    <tr>\n",
       "      <th>2</th>\n",
       "      <td>b</td>\n",
       "      <td>s</td>\n",
       "      <td>w</td>\n",
       "      <td>t</td>\n",
       "      <td>l</td>\n",
       "      <td>f</td>\n",
       "      <td>c</td>\n",
       "      <td>b</td>\n",
       "      <td>n</td>\n",
       "      <td>e</td>\n",
       "      <td>...</td>\n",
       "      <td>w</td>\n",
       "      <td>w</td>\n",
       "      <td>p</td>\n",
       "      <td>w</td>\n",
       "      <td>o</td>\n",
       "      <td>p</td>\n",
       "      <td>n</td>\n",
       "      <td>n</td>\n",
       "      <td>m</td>\n",
       "      <td>e</td>\n",
       "    </tr>\n",
       "    <tr>\n",
       "      <th>3</th>\n",
       "      <td>x</td>\n",
       "      <td>y</td>\n",
       "      <td>w</td>\n",
       "      <td>t</td>\n",
       "      <td>p</td>\n",
       "      <td>f</td>\n",
       "      <td>c</td>\n",
       "      <td>n</td>\n",
       "      <td>n</td>\n",
       "      <td>e</td>\n",
       "      <td>...</td>\n",
       "      <td>w</td>\n",
       "      <td>w</td>\n",
       "      <td>p</td>\n",
       "      <td>w</td>\n",
       "      <td>o</td>\n",
       "      <td>p</td>\n",
       "      <td>k</td>\n",
       "      <td>s</td>\n",
       "      <td>u</td>\n",
       "      <td>p</td>\n",
       "    </tr>\n",
       "    <tr>\n",
       "      <th>4</th>\n",
       "      <td>x</td>\n",
       "      <td>s</td>\n",
       "      <td>g</td>\n",
       "      <td>f</td>\n",
       "      <td>n</td>\n",
       "      <td>f</td>\n",
       "      <td>w</td>\n",
       "      <td>b</td>\n",
       "      <td>k</td>\n",
       "      <td>t</td>\n",
       "      <td>...</td>\n",
       "      <td>w</td>\n",
       "      <td>w</td>\n",
       "      <td>p</td>\n",
       "      <td>w</td>\n",
       "      <td>o</td>\n",
       "      <td>e</td>\n",
       "      <td>n</td>\n",
       "      <td>a</td>\n",
       "      <td>g</td>\n",
       "      <td>e</td>\n",
       "    </tr>\n",
       "  </tbody>\n",
       "</table>\n",
       "<p>5 rows × 23 columns</p>\n",
       "</div>"
      ],
      "text/plain": [
       "  cap_shape cap_surface cap_color bruises odor gill_attachment gill_spacing  \\\n",
       "0         x           s         n       t    p               f            c   \n",
       "1         x           s         y       t    a               f            c   \n",
       "2         b           s         w       t    l               f            c   \n",
       "3         x           y         w       t    p               f            c   \n",
       "4         x           s         g       f    n               f            w   \n",
       "\n",
       "  gill_size gill_color stalkshape  ... stalk_color_above_ring  \\\n",
       "0         n          k          e  ...                      w   \n",
       "1         b          k          e  ...                      w   \n",
       "2         b          n          e  ...                      w   \n",
       "3         n          n          e  ...                      w   \n",
       "4         b          k          t  ...                      w   \n",
       "\n",
       "  stalk_color_below_ring veil_type veil_color ring_number ring_type  \\\n",
       "0                      w         p          w           o         p   \n",
       "1                      w         p          w           o         p   \n",
       "2                      w         p          w           o         p   \n",
       "3                      w         p          w           o         p   \n",
       "4                      w         p          w           o         e   \n",
       "\n",
       "  spore_print_color population habitat Mushroom_quality  \n",
       "0                 k          s       u                p  \n",
       "1                 n          n       g                e  \n",
       "2                 n          n       m                e  \n",
       "3                 k          s       u                p  \n",
       "4                 n          a       g                e  \n",
       "\n",
       "[5 rows x 23 columns]"
      ]
     },
     "execution_count": 3,
     "metadata": {},
     "output_type": "execute_result"
    }
   ],
   "source": [
    "df =df[['cap_shape', 'cap_surface', 'cap_color', 'bruises', 'odor', 'gill_attachment', 'gill_spacing', 'gill_size', 'gill_color', 'stalkshape', 'stalk_root', 'stalk_surface_above_ring', 'stalk_surface_below_ring', 'stalk_color_above_ring', 'stalk_color_below_ring', 'veil_type', 'veil_color', 'ring_number', 'ring_type', 'spore_print_color', 'population', 'habitat', 'Mushroom_quality']]\n",
    "df.head()"
   ]
  },
  {
   "cell_type": "code",
   "execution_count": 4,
   "id": "6dbc1336",
   "metadata": {
    "execution": {
     "iopub.execute_input": "2022-04-12T06:50:10.987428Z",
     "iopub.status.busy": "2022-04-12T06:50:10.984924Z",
     "iopub.status.idle": "2022-04-12T06:50:10.990115Z",
     "shell.execute_reply": "2022-04-12T06:50:10.990629Z",
     "shell.execute_reply.started": "2022-04-12T06:48:55.957085Z"
    },
    "papermill": {
     "duration": 0.033837,
     "end_time": "2022-04-12T06:50:10.990807",
     "exception": false,
     "start_time": "2022-04-12T06:50:10.956970",
     "status": "completed"
    },
    "tags": []
   },
   "outputs": [
    {
     "name": "stdout",
     "output_type": "stream",
     "text": [
      "186852\n",
      "(8124, 23)\n",
      "2\n"
     ]
    }
   ],
   "source": [
    "print(df.size)\n",
    "print(df.shape)\n",
    "print(df.ndim)"
   ]
  },
  {
   "cell_type": "markdown",
   "id": "9a6de89a",
   "metadata": {
    "papermill": {
     "duration": 0.027615,
     "end_time": "2022-04-12T06:50:11.044172",
     "exception": false,
     "start_time": "2022-04-12T06:50:11.016557",
     "status": "completed"
    },
    "tags": []
   },
   "source": [
    "### **Label Encoding**\n",
    "\n",
    "Some features in this dataset are categorical such as Sex or BP. Unfortunately, Sklearn Decision Trees do not handle categorical variables. To convert these features to numerical values, LabelEncoder from sklearn.preprocessing can be used to convert categorical variable into dummy/indicator variables."
   ]
  },
  {
   "cell_type": "code",
   "execution_count": 5,
   "id": "09a56bb0",
   "metadata": {
    "execution": {
     "iopub.execute_input": "2022-04-12T06:50:11.109822Z",
     "iopub.status.busy": "2022-04-12T06:50:11.104110Z",
     "iopub.status.idle": "2022-04-12T06:50:11.360549Z",
     "shell.execute_reply": "2022-04-12T06:50:11.361557Z",
     "shell.execute_reply.started": "2022-04-12T06:48:55.965189Z"
    },
    "papermill": {
     "duration": 0.291553,
     "end_time": "2022-04-12T06:50:11.361755",
     "exception": false,
     "start_time": "2022-04-12T06:50:11.070202",
     "status": "completed"
    },
    "tags": []
   },
   "outputs": [
    {
     "name": "stdout",
     "output_type": "stream",
     "text": [
      "<class 'pandas.core.frame.DataFrame'>\n",
      "RangeIndex: 8124 entries, 0 to 8123\n",
      "Data columns (total 23 columns):\n",
      " #   Column                    Non-Null Count  Dtype \n",
      "---  ------                    --------------  ----- \n",
      " 0   cap_shape                 8124 non-null   int64 \n",
      " 1   cap_surface               8124 non-null   int64 \n",
      " 2   cap_color                 8124 non-null   int64 \n",
      " 3   bruises                   8124 non-null   int64 \n",
      " 4   odor                      8124 non-null   int64 \n",
      " 5   gill_attachment           8124 non-null   int64 \n",
      " 6   gill_spacing              8124 non-null   int64 \n",
      " 7   gill_size                 8124 non-null   int64 \n",
      " 8   gill_color                8124 non-null   int64 \n",
      " 9   stalkshape                8124 non-null   int64 \n",
      " 10  stalk_root                8124 non-null   int64 \n",
      " 11  stalk_surface_above_ring  8124 non-null   int64 \n",
      " 12  stalk_surface_below_ring  8124 non-null   int64 \n",
      " 13  stalk_color_above_ring    8124 non-null   int64 \n",
      " 14  stalk_color_below_ring    8124 non-null   int64 \n",
      " 15  veil_type                 8124 non-null   int64 \n",
      " 16  veil_color                8124 non-null   int64 \n",
      " 17  ring_number               8124 non-null   int64 \n",
      " 18  ring_type                 8124 non-null   int64 \n",
      " 19  spore_print_color         8124 non-null   int64 \n",
      " 20  population                8124 non-null   int64 \n",
      " 21  habitat                   8124 non-null   int64 \n",
      " 22  Mushroom_quality          8124 non-null   object\n",
      "dtypes: int64(22), object(1)\n",
      "memory usage: 1.4+ MB\n"
     ]
    },
    {
     "name": "stderr",
     "output_type": "stream",
     "text": [
      "/opt/conda/lib/python3.7/site-packages/ipykernel_launcher.py:21: SettingWithCopyWarning: \n",
      "A value is trying to be set on a copy of a slice from a DataFrame\n",
      "\n",
      "See the caveats in the documentation: https://pandas.pydata.org/pandas-docs/stable/user_guide/indexing.html#returning-a-view-versus-a-copy\n",
      "/opt/conda/lib/python3.7/site-packages/ipykernel_launcher.py:22: SettingWithCopyWarning: \n",
      "A value is trying to be set on a copy of a slice from a DataFrame\n",
      "\n",
      "See the caveats in the documentation: https://pandas.pydata.org/pandas-docs/stable/user_guide/indexing.html#returning-a-view-versus-a-copy\n"
     ]
    }
   ],
   "source": [
    "from sklearn.preprocessing import LabelEncoder\n",
    "le = LabelEncoder()\n",
    "df['gill_attachment'] = le.fit_transform(df['gill_attachment'])\n",
    "df['cap_shape'] = le.fit_transform(df['cap_shape'])\n",
    "df['cap_surface'] = le.fit_transform(df['cap_surface'])\n",
    "df['cap_color'] = le.fit_transform(df['cap_color'])\n",
    "df['odor'] = le.fit_transform(df['odor'])\n",
    "df['gill_color'] = le.fit_transform(df['gill_color'])\n",
    "df['stalk_root'] = le.fit_transform(df['stalk_root'])\n",
    "df['stalk_surface_above_ring'] = le.fit_transform(df['stalk_surface_above_ring'])\n",
    "df['stalk_surface_below_ring'] = le.fit_transform(df['stalk_surface_below_ring'])\n",
    "df['stalk_color_above_ring'] = le.fit_transform(df['stalk_color_above_ring'])\n",
    "df['stalk_color_below_ring'] = le.fit_transform(df['stalk_color_below_ring'])\n",
    "df['veil_color'] = le.fit_transform(df['veil_color'])\n",
    "df['ring_number'] = le.fit_transform(df['ring_number'])\n",
    "df['ring_type'] = le.fit_transform(df['ring_type'])\n",
    "df['spore_print_color'] = le.fit_transform(df['spore_print_color'])\n",
    "df['population'] = le.fit_transform(df['population'])\n",
    "df['habitat'] = le.fit_transform(df['habitat'])\n",
    "\n",
    "df['gill_spacing'] = df['gill_spacing']['c']= 1\n",
    "df['gill_spacing'] = df['gill_spacing']['w']= 0\n",
    "\n",
    "df['gill_size'] = df['gill_size'].replace({'b' : 1, 'n' : 0})\n",
    "\n",
    "df['stalkshape'] = df['stalkshape'].map({'e': 1, 't': 0})\n",
    "df[\"veil_type\"] = df[\"veil_type\"].apply({'u':1, 'p':0}.get)\n",
    "df['bruises'] = df['bruises'].replace({'t' : 1, 'f' : 0})\n",
    "df.info()\n"
   ]
  },
  {
   "cell_type": "code",
   "execution_count": 6,
   "id": "1feebdb0",
   "metadata": {
    "execution": {
     "iopub.execute_input": "2022-04-12T06:50:11.424999Z",
     "iopub.status.busy": "2022-04-12T06:50:11.424284Z",
     "iopub.status.idle": "2022-04-12T06:50:11.428435Z",
     "shell.execute_reply": "2022-04-12T06:50:11.426979Z",
     "shell.execute_reply.started": "2022-04-12T06:48:56.259002Z"
    },
    "papermill": {
     "duration": 0.039357,
     "end_time": "2022-04-12T06:50:11.428598",
     "exception": false,
     "start_time": "2022-04-12T06:50:11.389241",
     "status": "completed"
    },
    "tags": []
   },
   "outputs": [],
   "source": [
    "df['Mushroom_quality'] = df['Mushroom_quality'].replace({'e' : 'Edible', 'p' : 'Poisonous'})"
   ]
  },
  {
   "cell_type": "code",
   "execution_count": 7,
   "id": "f6797db2",
   "metadata": {
    "execution": {
     "iopub.execute_input": "2022-04-12T06:50:11.488076Z",
     "iopub.status.busy": "2022-04-12T06:50:11.487457Z",
     "iopub.status.idle": "2022-04-12T06:50:11.505216Z",
     "shell.execute_reply": "2022-04-12T06:50:11.504589Z",
     "shell.execute_reply.started": "2022-04-12T06:48:56.269380Z"
    },
    "papermill": {
     "duration": 0.050284,
     "end_time": "2022-04-12T06:50:11.505369",
     "exception": false,
     "start_time": "2022-04-12T06:50:11.455085",
     "status": "completed"
    },
    "tags": []
   },
   "outputs": [
    {
     "data": {
      "text/html": [
       "<div>\n",
       "<style scoped>\n",
       "    .dataframe tbody tr th:only-of-type {\n",
       "        vertical-align: middle;\n",
       "    }\n",
       "\n",
       "    .dataframe tbody tr th {\n",
       "        vertical-align: top;\n",
       "    }\n",
       "\n",
       "    .dataframe thead th {\n",
       "        text-align: right;\n",
       "    }\n",
       "</style>\n",
       "<table border=\"1\" class=\"dataframe\">\n",
       "  <thead>\n",
       "    <tr style=\"text-align: right;\">\n",
       "      <th></th>\n",
       "      <th>cap_shape</th>\n",
       "      <th>cap_surface</th>\n",
       "      <th>cap_color</th>\n",
       "      <th>bruises</th>\n",
       "      <th>odor</th>\n",
       "      <th>gill_attachment</th>\n",
       "      <th>gill_spacing</th>\n",
       "      <th>gill_size</th>\n",
       "      <th>gill_color</th>\n",
       "      <th>stalkshape</th>\n",
       "      <th>...</th>\n",
       "      <th>stalk_surface_below_ring</th>\n",
       "      <th>stalk_color_above_ring</th>\n",
       "      <th>stalk_color_below_ring</th>\n",
       "      <th>veil_type</th>\n",
       "      <th>veil_color</th>\n",
       "      <th>ring_number</th>\n",
       "      <th>ring_type</th>\n",
       "      <th>spore_print_color</th>\n",
       "      <th>population</th>\n",
       "      <th>habitat</th>\n",
       "    </tr>\n",
       "  </thead>\n",
       "  <tbody>\n",
       "    <tr>\n",
       "      <th>0</th>\n",
       "      <td>5</td>\n",
       "      <td>2</td>\n",
       "      <td>4</td>\n",
       "      <td>1</td>\n",
       "      <td>6</td>\n",
       "      <td>1</td>\n",
       "      <td>0</td>\n",
       "      <td>0</td>\n",
       "      <td>4</td>\n",
       "      <td>1</td>\n",
       "      <td>...</td>\n",
       "      <td>2</td>\n",
       "      <td>7</td>\n",
       "      <td>7</td>\n",
       "      <td>0</td>\n",
       "      <td>2</td>\n",
       "      <td>1</td>\n",
       "      <td>4</td>\n",
       "      <td>2</td>\n",
       "      <td>3</td>\n",
       "      <td>5</td>\n",
       "    </tr>\n",
       "    <tr>\n",
       "      <th>1</th>\n",
       "      <td>5</td>\n",
       "      <td>2</td>\n",
       "      <td>9</td>\n",
       "      <td>1</td>\n",
       "      <td>0</td>\n",
       "      <td>1</td>\n",
       "      <td>0</td>\n",
       "      <td>1</td>\n",
       "      <td>4</td>\n",
       "      <td>1</td>\n",
       "      <td>...</td>\n",
       "      <td>2</td>\n",
       "      <td>7</td>\n",
       "      <td>7</td>\n",
       "      <td>0</td>\n",
       "      <td>2</td>\n",
       "      <td>1</td>\n",
       "      <td>4</td>\n",
       "      <td>3</td>\n",
       "      <td>2</td>\n",
       "      <td>1</td>\n",
       "    </tr>\n",
       "    <tr>\n",
       "      <th>2</th>\n",
       "      <td>0</td>\n",
       "      <td>2</td>\n",
       "      <td>8</td>\n",
       "      <td>1</td>\n",
       "      <td>3</td>\n",
       "      <td>1</td>\n",
       "      <td>0</td>\n",
       "      <td>1</td>\n",
       "      <td>5</td>\n",
       "      <td>1</td>\n",
       "      <td>...</td>\n",
       "      <td>2</td>\n",
       "      <td>7</td>\n",
       "      <td>7</td>\n",
       "      <td>0</td>\n",
       "      <td>2</td>\n",
       "      <td>1</td>\n",
       "      <td>4</td>\n",
       "      <td>3</td>\n",
       "      <td>2</td>\n",
       "      <td>3</td>\n",
       "    </tr>\n",
       "    <tr>\n",
       "      <th>3</th>\n",
       "      <td>5</td>\n",
       "      <td>3</td>\n",
       "      <td>8</td>\n",
       "      <td>1</td>\n",
       "      <td>6</td>\n",
       "      <td>1</td>\n",
       "      <td>0</td>\n",
       "      <td>0</td>\n",
       "      <td>5</td>\n",
       "      <td>1</td>\n",
       "      <td>...</td>\n",
       "      <td>2</td>\n",
       "      <td>7</td>\n",
       "      <td>7</td>\n",
       "      <td>0</td>\n",
       "      <td>2</td>\n",
       "      <td>1</td>\n",
       "      <td>4</td>\n",
       "      <td>2</td>\n",
       "      <td>3</td>\n",
       "      <td>5</td>\n",
       "    </tr>\n",
       "    <tr>\n",
       "      <th>4</th>\n",
       "      <td>5</td>\n",
       "      <td>2</td>\n",
       "      <td>3</td>\n",
       "      <td>0</td>\n",
       "      <td>5</td>\n",
       "      <td>1</td>\n",
       "      <td>0</td>\n",
       "      <td>1</td>\n",
       "      <td>4</td>\n",
       "      <td>0</td>\n",
       "      <td>...</td>\n",
       "      <td>2</td>\n",
       "      <td>7</td>\n",
       "      <td>7</td>\n",
       "      <td>0</td>\n",
       "      <td>2</td>\n",
       "      <td>1</td>\n",
       "      <td>0</td>\n",
       "      <td>3</td>\n",
       "      <td>0</td>\n",
       "      <td>1</td>\n",
       "    </tr>\n",
       "  </tbody>\n",
       "</table>\n",
       "<p>5 rows × 22 columns</p>\n",
       "</div>"
      ],
      "text/plain": [
       "   cap_shape  cap_surface  cap_color  bruises  odor  gill_attachment  \\\n",
       "0          5            2          4        1     6                1   \n",
       "1          5            2          9        1     0                1   \n",
       "2          0            2          8        1     3                1   \n",
       "3          5            3          8        1     6                1   \n",
       "4          5            2          3        0     5                1   \n",
       "\n",
       "   gill_spacing  gill_size  gill_color  stalkshape  ...  \\\n",
       "0             0          0           4           1  ...   \n",
       "1             0          1           4           1  ...   \n",
       "2             0          1           5           1  ...   \n",
       "3             0          0           5           1  ...   \n",
       "4             0          1           4           0  ...   \n",
       "\n",
       "   stalk_surface_below_ring  stalk_color_above_ring  stalk_color_below_ring  \\\n",
       "0                         2                       7                       7   \n",
       "1                         2                       7                       7   \n",
       "2                         2                       7                       7   \n",
       "3                         2                       7                       7   \n",
       "4                         2                       7                       7   \n",
       "\n",
       "   veil_type  veil_color  ring_number  ring_type  spore_print_color  \\\n",
       "0          0           2            1          4                  2   \n",
       "1          0           2            1          4                  3   \n",
       "2          0           2            1          4                  3   \n",
       "3          0           2            1          4                  2   \n",
       "4          0           2            1          0                  3   \n",
       "\n",
       "   population  habitat  \n",
       "0           3        5  \n",
       "1           2        1  \n",
       "2           2        3  \n",
       "3           3        5  \n",
       "4           0        1  \n",
       "\n",
       "[5 rows x 22 columns]"
      ]
     },
     "execution_count": 7,
     "metadata": {},
     "output_type": "execute_result"
    }
   ],
   "source": [
    "# X = df.iloc[:,:-1]  \n",
    "# X = df.drop('Mushroom_quality',axis=1)\n",
    "# X = df[[cap_shape', 'cap_surface', 'cap_color', 'bruises', 'odor', 'gill_attachment', 'gill_spacing', 'gill_size', 'gill_color', 'stalkshape', 'stalk_root', 'stalk_surface_above_ring', 'stalk_surface_below_ring', 'stalk_color_above_ring', 'stalk_color_below_ring', 'veil_type', 'veil_color', 'ring_number', 'ring_type', 'spore_print_color', 'population', 'habitat']] .values  #.astype(float)\n",
    "X = df.loc[:, df.columns != 'Mushroom_quality']\n",
    "X.head()"
   ]
  },
  {
   "cell_type": "code",
   "execution_count": 8,
   "id": "ecc566d5",
   "metadata": {
    "execution": {
     "iopub.execute_input": "2022-04-12T06:50:11.567065Z",
     "iopub.status.busy": "2022-04-12T06:50:11.566395Z",
     "iopub.status.idle": "2022-04-12T06:50:11.569471Z",
     "shell.execute_reply": "2022-04-12T06:50:11.569995Z",
     "shell.execute_reply.started": "2022-04-12T06:48:56.305715Z"
    },
    "papermill": {
     "duration": 0.03745,
     "end_time": "2022-04-12T06:50:11.570172",
     "exception": false,
     "start_time": "2022-04-12T06:50:11.532722",
     "status": "completed"
    },
    "tags": []
   },
   "outputs": [
    {
     "data": {
      "text/plain": [
       "0    Poisonous\n",
       "1       Edible\n",
       "2       Edible\n",
       "3    Poisonous\n",
       "4       Edible\n",
       "Name: Mushroom_quality, dtype: object"
      ]
     },
     "execution_count": 8,
     "metadata": {},
     "output_type": "execute_result"
    }
   ],
   "source": [
    "y = df[\"Mushroom_quality\"]\n",
    "y[0:5]"
   ]
  },
  {
   "cell_type": "code",
   "execution_count": 9,
   "id": "ce3d6a9f",
   "metadata": {
    "execution": {
     "iopub.execute_input": "2022-04-12T06:50:11.629384Z",
     "iopub.status.busy": "2022-04-12T06:50:11.628707Z",
     "iopub.status.idle": "2022-04-12T06:50:11.686313Z",
     "shell.execute_reply": "2022-04-12T06:50:11.685682Z",
     "shell.execute_reply.started": "2022-04-12T06:48:56.314546Z"
    },
    "papermill": {
     "duration": 0.088646,
     "end_time": "2022-04-12T06:50:11.686465",
     "exception": false,
     "start_time": "2022-04-12T06:50:11.597819",
     "status": "completed"
    },
    "tags": []
   },
   "outputs": [
    {
     "name": "stdout",
     "output_type": "stream",
     "text": [
      "Train set- X_train shape: (5686, 22) ;  y_train shape: (5686,)\n",
      "Test set- X_test shape: (2438, 22) ;  y_train shape: (2438,)\n"
     ]
    }
   ],
   "source": [
    "from sklearn.model_selection import train_test_split\n",
    "X_train, X_test, y_train, y_test = train_test_split(X, y, test_size=0.3, random_state=3)\n",
    "print ('Train set- X_train shape:', X_train.shape,  ';  y_train shape:', y_train.shape)\n",
    "print ('Test set- X_test shape:', X_test.shape, ';  y_train shape:', y_test.shape)"
   ]
  },
  {
   "cell_type": "markdown",
   "id": "1f3aa531",
   "metadata": {
    "papermill": {
     "duration": 0.029022,
     "end_time": "2022-04-12T06:50:11.743961",
     "exception": false,
     "start_time": "2022-04-12T06:50:11.714939",
     "status": "completed"
    },
    "tags": []
   },
   "source": [
    "## **Method Development:**<a name=\"Method\"></a>\n",
    "Build the model using __LogisticRegression__ from Scikit-learn package. This function implements logistic regression and can use different numerical optimizers to find parameters, including ‘newton-cg’, ‘lbfgs’, ‘liblinear’, ‘sag’, ‘saga’ solvers. You can find extensive information about the pros and cons of these optimizers if you search it in internet.\n",
    "\n",
    "The version of Logistic Regression in Scikit-learn, support regularization. Regularization is a technique used to solve the overfitting problem in machine learning models.\n",
    "\n",
    "__C__ parameter indicates __inverse of regularization strength__ which must be a positive float. Smaller values specify stronger regularization. \n",
    "\n",
    "Now fit the model with train set:"
   ]
  },
  {
   "cell_type": "code",
   "execution_count": 10,
   "id": "5dfc1b80",
   "metadata": {
    "execution": {
     "iopub.execute_input": "2022-04-12T06:50:11.807460Z",
     "iopub.status.busy": "2022-04-12T06:50:11.806557Z",
     "iopub.status.idle": "2022-04-12T06:50:11.925075Z",
     "shell.execute_reply": "2022-04-12T06:50:11.925567Z",
     "shell.execute_reply.started": "2022-04-12T06:48:56.384609Z"
    },
    "papermill": {
     "duration": 0.152946,
     "end_time": "2022-04-12T06:50:11.925742",
     "exception": false,
     "start_time": "2022-04-12T06:50:11.772796",
     "status": "completed"
    },
    "tags": []
   },
   "outputs": [
    {
     "data": {
      "text/plain": [
       "LogisticRegression(C=0.01, solver='liblinear')"
      ]
     },
     "execution_count": 10,
     "metadata": {},
     "output_type": "execute_result"
    }
   ],
   "source": [
    "from sklearn.linear_model import LogisticRegression\n",
    "from sklearn.metrics import confusion_matrix\n",
    "LR = LogisticRegression(C=0.01, solver='liblinear').fit(X_train,y_train)\n",
    "LR"
   ]
  },
  {
   "cell_type": "code",
   "execution_count": 11,
   "id": "12b74b65",
   "metadata": {
    "execution": {
     "iopub.execute_input": "2022-04-12T06:50:11.989125Z",
     "iopub.status.busy": "2022-04-12T06:50:11.988500Z",
     "iopub.status.idle": "2022-04-12T06:50:11.999925Z",
     "shell.execute_reply": "2022-04-12T06:50:11.998426Z",
     "shell.execute_reply.started": "2022-04-12T06:48:56.528529Z"
    },
    "papermill": {
     "duration": 0.045734,
     "end_time": "2022-04-12T06:50:12.000195",
     "exception": false,
     "start_time": "2022-04-12T06:50:11.954461",
     "status": "completed"
    },
    "tags": []
   },
   "outputs": [
    {
     "data": {
      "text/plain": [
       "array(['Edible', 'Edible', 'Edible', ..., 'Edible', 'Poisonous',\n",
       "       'Poisonous'], dtype=object)"
      ]
     },
     "execution_count": 11,
     "metadata": {},
     "output_type": "execute_result"
    }
   ],
   "source": [
    "y_pred = LR.predict(X_test)\n",
    "y_pred"
   ]
  },
  {
   "cell_type": "markdown",
   "id": "5af69b22",
   "metadata": {
    "papermill": {
     "duration": 0.054996,
     "end_time": "2022-04-12T06:50:12.110683",
     "exception": false,
     "start_time": "2022-04-12T06:50:12.055687",
     "status": "completed"
    },
    "tags": []
   },
   "source": [
    "predict_proba returns estimates for all classes, ordered by the label of classes. So, the first column is the probability of class 0, P(Y=1|X), and second column is probability of class 1, P(Y=0|X):"
   ]
  },
  {
   "cell_type": "code",
   "execution_count": 12,
   "id": "eec4b0f7",
   "metadata": {
    "execution": {
     "iopub.execute_input": "2022-04-12T06:50:12.177023Z",
     "iopub.status.busy": "2022-04-12T06:50:12.175901Z",
     "iopub.status.idle": "2022-04-12T06:50:12.183507Z",
     "shell.execute_reply": "2022-04-12T06:50:12.184571Z",
     "shell.execute_reply.started": "2022-04-12T06:48:56.690248Z"
    },
    "papermill": {
     "duration": 0.044764,
     "end_time": "2022-04-12T06:50:12.184852",
     "exception": false,
     "start_time": "2022-04-12T06:50:12.140088",
     "status": "completed"
    },
    "tags": []
   },
   "outputs": [
    {
     "data": {
      "text/plain": [
       "array([[0.88849273, 0.11150727],\n",
       "       [0.88329675, 0.11670325],\n",
       "       [0.93655442, 0.06344558],\n",
       "       [0.63868665, 0.36131335],\n",
       "       [0.89842799, 0.10157201]])"
      ]
     },
     "execution_count": 12,
     "metadata": {},
     "output_type": "execute_result"
    }
   ],
   "source": [
    "y_pred_prob = LR.predict_proba(X_test)\n",
    "y_pred_prob[0:5]"
   ]
  },
  {
   "cell_type": "markdown",
   "id": "0cdac0ad",
   "metadata": {
    "papermill": {
     "duration": 0.054156,
     "end_time": "2022-04-12T06:50:12.294048",
     "exception": false,
     "start_time": "2022-04-12T06:50:12.239892",
     "status": "completed"
    },
    "tags": []
   },
   "source": [
    "## **Model Evaluation - Logistic Regression Classification**<a name=\"Evaluation\"></a>\n",
    "KEY PERFORMANCE INDICATORS (KPI): Generating the Confusion Matrix and Classification report"
   ]
  },
  {
   "cell_type": "code",
   "execution_count": 13,
   "id": "2612b969",
   "metadata": {
    "execution": {
     "iopub.execute_input": "2022-04-12T06:50:12.363098Z",
     "iopub.status.busy": "2022-04-12T06:50:12.361866Z",
     "iopub.status.idle": "2022-04-12T06:50:12.590029Z",
     "shell.execute_reply": "2022-04-12T06:50:12.590871Z",
     "shell.execute_reply.started": "2022-04-12T06:48:56.841400Z"
    },
    "papermill": {
     "duration": 0.266468,
     "end_time": "2022-04-12T06:50:12.591184",
     "exception": false,
     "start_time": "2022-04-12T06:50:12.324716",
     "status": "completed"
    },
    "tags": []
   },
   "outputs": [
    {
     "data": {
      "image/png": "[encoded data removed]",
      "text/plain": [
       "<Figure size 432x288 with 1 Axes>"
      ]
     },
     "metadata": {
      "needs_background": "light"
     },
     "output_type": "display_data"
    }
   ],
   "source": [
    "from sklearn.metrics import confusion_matrix\n",
    "predict_train = LR.predict(X_train)\n",
    "cm = confusion_matrix(y_train, predict_train)\n",
    "plt.imshow(cm, cmap=plt.cm.Reds, interpolation='nearest')\n",
    "plt.xticks(np.arange(0, 2), ['Edible', 'Poisonous'])\n",
    "plt.yticks(np.arange(0, 2), ['Edible', 'Poisonous'])\n",
    "plt.title('Confusion matrix');"
   ]
  },
  {
   "cell_type": "code",
   "execution_count": 14,
   "id": "46099cd8",
   "metadata": {
    "execution": {
     "iopub.execute_input": "2022-04-12T06:50:12.684940Z",
     "iopub.status.busy": "2022-04-12T06:50:12.684292Z",
     "iopub.status.idle": "2022-04-12T06:50:12.998132Z",
     "shell.execute_reply": "2022-04-12T06:50:12.998723Z",
     "shell.execute_reply.started": "2022-04-12T06:48:57.069741Z"
    },
    "papermill": {
     "duration": 0.350687,
     "end_time": "2022-04-12T06:50:12.998899",
     "exception": false,
     "start_time": "2022-04-12T06:50:12.648212",
     "status": "completed"
    },
    "tags": []
   },
   "outputs": [
    {
     "data": {
      "image/png": "[encoded data removed]",
      "text/plain": [
       "<Figure size 432x288 with 2 Axes>"
      ]
     },
     "metadata": {
      "needs_background": "light"
     },
     "output_type": "display_data"
    }
   ],
   "source": [
    "y_pred = LR.predict(X_test)\n",
    "cm = confusion_matrix(y_test, y_pred)\n",
    "plt.figure()\n",
    "plt.title('Confusion matrix')\n",
    "sns.heatmap(cm, annot=True, cmap = 'plasma',  linecolor='black', linewidths=1)\n",
    "plt.xlabel(\"Actual\")\n",
    "plt.ylabel(\"Predicted\")\n",
    "plt.xticks(np.arange(0.5, 2.5), ['Edible', 'Poisonous'])\n",
    "plt.yticks(np.arange(0.5, 2.5), ['Edible', 'Poisonous']);"
   ]
  },
  {
   "cell_type": "markdown",
   "id": "02352e44",
   "metadata": {
    "papermill": {
     "duration": 0.031249,
     "end_time": "2022-04-12T06:50:13.062008",
     "exception": false,
     "start_time": "2022-04-12T06:50:13.030759",
     "status": "completed"
    },
    "tags": []
   },
   "source": [
    "**Mushrooms with Edible Quality**\n",
    "\n",
    "The first column is for mushrooms with quality in test set is edible. As can be calculated, out of 2438 mushroom samples, the quality of 1401 of them is edible. And out of these 1401, the classifier correctly predicted 1219 of them as edible, and 60 of them as poisonous. \n",
    "\n",
    "It means, for 1215 samples, the actual quality were edible in test set, and classifier also correctly predicted those as edible. However, while the actual label of 60 samples were edible, the classifier predicted those as poisonous, which is good. \n",
    "\n",
    "**Mushrooms with Poisonous Quality**\n",
    "\n",
    "The classifier correctly predicted only 977 of them as poisonous, and 182 of them wrongly as edible. So, it has done a very bad job in predicting the mushroom samples with poisonous quality. Consider it as error of the model for second column.  \n",
    "\n",
    "A good thing about confusion matrix is that shows the model’s ability to correctly predict or separate the classes. In specific case of binary classifier, such as this example, these numbers can be interpreted as the count of true positives, false positives, true negatives, and false negatives on the basis of testing for poisonous quality of mushroom samples.\n",
    "\n",
    "In this case, the model failed to detect 182 poisonous sample which is a very serious issue to be considered. So Important metric when we care about false negatives is recall. Recall is also called True Positive rate or sensitivity\n",
    "\n",
    "**Recall**\n",
    "\n",
    "Recall = TP/ Actual TRUE = TP/ (TP+FN) (when the class was actually TRUE, how often did the classiﬁer get it right?)\n",
    "<br><br>\n",
    "$$Recall = \\frac{True Positive}{True Positive + False Negative}$$\n",
    "<br>\n",
    "$$Recall = \\frac{977}{977+182} = 0.84$$ \n",
    "<br><br>\n",
    "**Precision**\n",
    "\n",
    "Precision = TP/Total TRUE Predictions (When model predicted TRUE class, how often was it right?) \n",
    "\n",
    "Precision is an important metric when False positives are important. In this case model wrongly predicted 60 edible mushrooms as poisonous. Its not a big deal. \n",
    "<br><br>\n",
    "$$Precision = \\frac{True Positives}{True Positives + False Positives}$$\n",
    "<br>\n",
    "$$Precision = \\frac{977}{977+60} = 0.94$$\n",
    "<br>\n",
    "Here false negative is to be given more importance than false positives, focus should be on Recall metric.\n",
    "\n",
    "Classiﬁcation Accuracy = (TP+TN) / (TP + TN + FP + FN) \n",
    "\n",
    "Misclassiﬁcation rate (Error Rate) = (FP + FN) / (TP + TN + FP + FN) \n",
    "\n",
    "In unbalanced datasets, if we have large number of true negatives (healthy patients), accuracy could be misleading. Therefore, F1 score might be a better KPI to use since it provides a balance between recall and precision in the presence of unbalanced datasets. \n",
    "F1 Score is an overall measure of a model's accuracy that combines precision and recall. \n",
    "F1 score is the harmonic mean of precision and recall. \n",
    "<br><br>\n",
    "$$F1 Score = \\frac{2 x Precision x Recall}{Precision + Recall}$$\n",
    "<br> <br>\n",
    "$$F1 Score = \\frac{2 x TP}{2 x TP + FP +FN}$$"
   ]
  },
  {
   "cell_type": "code",
   "execution_count": 15,
   "id": "e723fd39",
   "metadata": {
    "execution": {
     "iopub.execute_input": "2022-04-12T06:50:13.167996Z",
     "iopub.status.busy": "2022-04-12T06:50:13.147960Z",
     "iopub.status.idle": "2022-04-12T06:50:13.378031Z",
     "shell.execute_reply": "2022-04-12T06:50:13.378534Z",
     "shell.execute_reply.started": "2022-04-12T06:48:57.385810Z"
    },
    "papermill": {
     "duration": 0.285292,
     "end_time": "2022-04-12T06:50:13.378707",
     "exception": false,
     "start_time": "2022-04-12T06:50:13.093415",
     "status": "completed"
    },
    "tags": []
   },
   "outputs": [
    {
     "data": {
      "image/png": "[encoded data removed]",
      "text/plain": [
       "<Figure size 432x288 with 2 Axes>"
      ]
     },
     "metadata": {
      "needs_background": "light"
     },
     "output_type": "display_data"
    }
   ],
   "source": [
    "label = [\"True Neg\", \"False Pos\", \"False Neg\", \"True Pos\"]\n",
    "label = np.asarray(label).reshape(2,2)\n",
    "sns.heatmap(cm, annot=label, cmap='Blues', fmt='')\n",
    "plt.xlabel(\"Actual\")\n",
    "plt.ylabel(\"Predicted\");"
   ]
  },
  {
   "cell_type": "code",
   "execution_count": 16,
   "id": "61f43422",
   "metadata": {
    "execution": {
     "iopub.execute_input": "2022-04-12T06:50:13.446777Z",
     "iopub.status.busy": "2022-04-12T06:50:13.446076Z",
     "iopub.status.idle": "2022-04-12T06:50:13.606758Z",
     "shell.execute_reply": "2022-04-12T06:50:13.607461Z",
     "shell.execute_reply.started": "2022-04-12T06:48:57.630268Z"
    },
    "papermill": {
     "duration": 0.196768,
     "end_time": "2022-04-12T06:50:13.607706",
     "exception": false,
     "start_time": "2022-04-12T06:50:13.410938",
     "status": "completed"
    },
    "tags": []
   },
   "outputs": [
    {
     "name": "stdout",
     "output_type": "stream",
     "text": [
      "Accuracy of Logistic Regression Model calculated manually is  0.9\n",
      "Accuracy of Logistic Regression Model is  0.9007383100902379\n",
      "\n",
      " \n",
      " Confusion Matrix of Logistic Regression Model:\n",
      " [[1219   60]\n",
      " [ 182  977]]\n",
      "\n",
      " \n",
      " Classification Report for Logistic Regression Model:\n",
      "               precision    recall  f1-score   support\n",
      "\n",
      "      Edible       0.87      0.95      0.91      1279\n",
      "   Poisonous       0.94      0.84      0.89      1159\n",
      "\n",
      "    accuracy                           0.90      2438\n",
      "   macro avg       0.91      0.90      0.90      2438\n",
      "weighted avg       0.90      0.90      0.90      2438\n",
      "\n"
     ]
    }
   ],
   "source": [
    "from sklearn.metrics import confusion_matrix, classification_report\n",
    "from sklearn.metrics import accuracy_score\n",
    "accuracy = (y_pred == y_test).sum() / len(y_test)\n",
    "print('Accuracy of Logistic Regression Model calculated manually is ', accuracy.round(2))\n",
    "print('Accuracy of Logistic Regression Model is ', accuracy_score(y_test, y_pred))\n",
    "print('\\n', '\\n','Confusion Matrix of Logistic Regression Model:' '\\n', confusion_matrix(y_test, y_pred))\n",
    "print('\\n', '\\n','Classification Report for Logistic Regression Model:' '\\n',classification_report(y_test, y_pred))\n",
    "from sklearn.metrics import jaccard_score"
   ]
  }
 ],
 "metadata": {
  "kernelspec": {
   "display_name": "Python 3",
   "language": "python",
   "name": "python3"
  },
  "language_info": {
   "codemirror_mode": {
    "name": "ipython",
    "version": 3
   },
   "file_extension": ".py",
   "mimetype": "text/x-python",
   "name": "python",
   "nbconvert_exporter": "python",
   "pygments_lexer": "ipython3",
   "version": "3.7.12"
  },
  "papermill": {
   "default_parameters": {},
   "duration": 14.867198,
   "end_time": "2022-04-12T06:50:14.350831",
   "environment_variables": {},
   "exception": null,
   "input_path": "__notebook__.ipynb",
   "output_path": "__notebook__.ipynb",
   "parameters": {},
   "start_time": "2022-04-12T06:49:59.483633",
   "version": "2.3.3"
  }
 },
 "nbformat": 4,
 "nbformat_minor": 5
}
