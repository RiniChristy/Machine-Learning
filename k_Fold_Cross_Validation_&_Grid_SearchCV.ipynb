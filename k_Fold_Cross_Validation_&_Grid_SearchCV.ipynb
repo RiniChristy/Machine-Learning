{
  "metadata": {
    "kernelspec": {
      "language": "python",
      "display_name": "Python 3",
      "name": "python3"
    },
    "language_info": {
      "name": "python",
      "version": "3.7.12",
      "mimetype": "text/x-python",
      "codemirror_mode": {
        "name": "ipython",
        "version": 3
      },
      "pygments_lexer": "ipython3",
      "nbconvert_exporter": "python",
      "file_extension": ".py"
    },
    "colab": {
      "name": " k-Fold Cross Validation & Grid SearchCV.ipynb",
      "provenance": [],
      "include_colab_link": true
    }
  },
  "nbformat_minor": 0,
  "nbformat": 4,
  "cells": [
    {
      "cell_type": "markdown",
      "metadata": {
        "id": "view-in-github",
        "colab_type": "text"
      },
      "source": [
        "<a href=\"https://colab.research.google.com/github/RiniChristy/Machine-Learning/blob/main/k_Fold_Cross_Validation_%26_Grid_SearchCV.ipynb\" target=\"_parent\"><img src=\"https://colab.research.google.com/assets/colab-badge.svg\" alt=\"Open In Colab\"/></a>"
      ]
    },
    {
      "cell_type": "markdown",
      "source": [
        "# **k-Fold Cross Validation & Grid Search**\n",
        "## **Data Preprocessing**\n",
        "\n",
        "### **Importing the libraries**"
      ],
      "metadata": {
        "id": "FLExkt_ijxYE"
      }
    },
    {
      "cell_type": "code",
      "source": [
        "import numpy as np\n",
        "import matplotlib.pyplot as plt\n",
        "import pandas as pd\n",
        "import seaborn as sns"
      ],
      "metadata": {
        "execution": {
          "iopub.status.busy": "2022-03-25T18:16:27.694146Z",
          "iopub.execute_input": "2022-03-25T18:16:27.694590Z",
          "iopub.status.idle": "2022-03-25T18:16:28.783433Z",
          "shell.execute_reply.started": "2022-03-25T18:16:27.694493Z",
          "shell.execute_reply": "2022-03-25T18:16:28.782317Z"
        },
        "trusted": true,
        "id": "ATpyanppjxYL"
      },
      "execution_count": null,
      "outputs": []
    },
    {
      "cell_type": "markdown",
      "source": [
        "### **Loading the data set**"
      ],
      "metadata": {
        "id": "z_8CQnxFjxYO"
      }
    },
    {
      "cell_type": "code",
      "source": [
        "df = pd.read_csv('/content/heart_2020_cleaned.csv')\n",
        "df.head()"
      ],
      "metadata": {
        "execution": {
          "iopub.status.busy": "2022-03-25T18:16:28.785129Z",
          "iopub.execute_input": "2022-03-25T18:16:28.785433Z",
          "iopub.status.idle": "2022-03-25T18:16:30.193313Z",
          "shell.execute_reply.started": "2022-03-25T18:16:28.785400Z",
          "shell.execute_reply": "2022-03-25T18:16:30.192332Z"
        },
        "trusted": true,
        "colab": {
          "base_uri": "https://localhost:8080/",
          "height": 205
        },
        "id": "R2ZKq2bBjxYP",
        "outputId": "b48c7f24-9fc7-4155-e2e1-8ef54c68332f"
      },
      "execution_count": null,
      "outputs": [
        {
          "output_type": "execute_result",
          "data": {
            "text/plain": [
              "  HeartDisease    BMI Smoking AlcoholDrinking Stroke  PhysicalHealth  \\\n",
              "0           No  16.60     Yes              No     No             3.0   \n",
              "1           No  20.34      No              No    Yes             0.0   \n",
              "2           No  26.58     Yes              No     No            20.0   \n",
              "3           No  24.21      No              No     No             0.0   \n",
              "4           No  23.71      No              No     No            28.0   \n",
              "\n",
              "   MentalHealth DiffWalking     Sex  AgeCategory   Race Diabetic  \\\n",
              "0          30.0          No  Female        55-59  White      Yes   \n",
              "1           0.0          No  Female  80 or older  White       No   \n",
              "2          30.0          No    Male        65-69  White      Yes   \n",
              "3           0.0          No  Female        75-79  White       No   \n",
              "4           0.0         Yes  Female        40-44  White       No   \n",
              "\n",
              "  PhysicalActivity  GenHealth  SleepTime Asthma KidneyDisease SkinCancer  \n",
              "0              Yes  Very good        5.0    Yes            No        Yes  \n",
              "1              Yes  Very good        7.0     No            No         No  \n",
              "2              Yes       Fair        8.0    Yes            No         No  \n",
              "3               No       Good        6.0     No            No        Yes  \n",
              "4              Yes  Very good        8.0     No            No         No  "
            ],
            "text/html": [
              "\n",
              "  <div id=\"df-1ca8c5d1-7cc9-4093-922c-351eea5506d8\">\n",
              "    <div class=\"colab-df-container\">\n",
              "      <div>\n",
              "<style scoped>\n",
              "    .dataframe tbody tr th:only-of-type {\n",
              "        vertical-align: middle;\n",
              "    }\n",
              "\n",
              "    .dataframe tbody tr th {\n",
              "        vertical-align: top;\n",
              "    }\n",
              "\n",
              "    .dataframe thead th {\n",
              "        text-align: right;\n",
              "    }\n",
              "</style>\n",
              "<table border=\"1\" class=\"dataframe\">\n",
              "  <thead>\n",
              "    <tr style=\"text-align: right;\">\n",
              "      <th></th>\n",
              "      <th>HeartDisease</th>\n",
              "      <th>BMI</th>\n",
              "      <th>Smoking</th>\n",
              "      <th>AlcoholDrinking</th>\n",
              "      <th>Stroke</th>\n",
              "      <th>PhysicalHealth</th>\n",
              "      <th>MentalHealth</th>\n",
              "      <th>DiffWalking</th>\n",
              "      <th>Sex</th>\n",
              "      <th>AgeCategory</th>\n",
              "      <th>Race</th>\n",
              "      <th>Diabetic</th>\n",
              "      <th>PhysicalActivity</th>\n",
              "      <th>GenHealth</th>\n",
              "      <th>SleepTime</th>\n",
              "      <th>Asthma</th>\n",
              "      <th>KidneyDisease</th>\n",
              "      <th>SkinCancer</th>\n",
              "    </tr>\n",
              "  </thead>\n",
              "  <tbody>\n",
              "    <tr>\n",
              "      <th>0</th>\n",
              "      <td>No</td>\n",
              "      <td>16.60</td>\n",
              "      <td>Yes</td>\n",
              "      <td>No</td>\n",
              "      <td>No</td>\n",
              "      <td>3.0</td>\n",
              "      <td>30.0</td>\n",
              "      <td>No</td>\n",
              "      <td>Female</td>\n",
              "      <td>55-59</td>\n",
              "      <td>White</td>\n",
              "      <td>Yes</td>\n",
              "      <td>Yes</td>\n",
              "      <td>Very good</td>\n",
              "      <td>5.0</td>\n",
              "      <td>Yes</td>\n",
              "      <td>No</td>\n",
              "      <td>Yes</td>\n",
              "    </tr>\n",
              "    <tr>\n",
              "      <th>1</th>\n",
              "      <td>No</td>\n",
              "      <td>20.34</td>\n",
              "      <td>No</td>\n",
              "      <td>No</td>\n",
              "      <td>Yes</td>\n",
              "      <td>0.0</td>\n",
              "      <td>0.0</td>\n",
              "      <td>No</td>\n",
              "      <td>Female</td>\n",
              "      <td>80 or older</td>\n",
              "      <td>White</td>\n",
              "      <td>No</td>\n",
              "      <td>Yes</td>\n",
              "      <td>Very good</td>\n",
              "      <td>7.0</td>\n",
              "      <td>No</td>\n",
              "      <td>No</td>\n",
              "      <td>No</td>\n",
              "    </tr>\n",
              "    <tr>\n",
              "      <th>2</th>\n",
              "      <td>No</td>\n",
              "      <td>26.58</td>\n",
              "      <td>Yes</td>\n",
              "      <td>No</td>\n",
              "      <td>No</td>\n",
              "      <td>20.0</td>\n",
              "      <td>30.0</td>\n",
              "      <td>No</td>\n",
              "      <td>Male</td>\n",
              "      <td>65-69</td>\n",
              "      <td>White</td>\n",
              "      <td>Yes</td>\n",
              "      <td>Yes</td>\n",
              "      <td>Fair</td>\n",
              "      <td>8.0</td>\n",
              "      <td>Yes</td>\n",
              "      <td>No</td>\n",
              "      <td>No</td>\n",
              "    </tr>\n",
              "    <tr>\n",
              "      <th>3</th>\n",
              "      <td>No</td>\n",
              "      <td>24.21</td>\n",
              "      <td>No</td>\n",
              "      <td>No</td>\n",
              "      <td>No</td>\n",
              "      <td>0.0</td>\n",
              "      <td>0.0</td>\n",
              "      <td>No</td>\n",
              "      <td>Female</td>\n",
              "      <td>75-79</td>\n",
              "      <td>White</td>\n",
              "      <td>No</td>\n",
              "      <td>No</td>\n",
              "      <td>Good</td>\n",
              "      <td>6.0</td>\n",
              "      <td>No</td>\n",
              "      <td>No</td>\n",
              "      <td>Yes</td>\n",
              "    </tr>\n",
              "    <tr>\n",
              "      <th>4</th>\n",
              "      <td>No</td>\n",
              "      <td>23.71</td>\n",
              "      <td>No</td>\n",
              "      <td>No</td>\n",
              "      <td>No</td>\n",
              "      <td>28.0</td>\n",
              "      <td>0.0</td>\n",
              "      <td>Yes</td>\n",
              "      <td>Female</td>\n",
              "      <td>40-44</td>\n",
              "      <td>White</td>\n",
              "      <td>No</td>\n",
              "      <td>Yes</td>\n",
              "      <td>Very good</td>\n",
              "      <td>8.0</td>\n",
              "      <td>No</td>\n",
              "      <td>No</td>\n",
              "      <td>No</td>\n",
              "    </tr>\n",
              "  </tbody>\n",
              "</table>\n",
              "</div>\n",
              "      <button class=\"colab-df-convert\" onclick=\"convertToInteractive('df-1ca8c5d1-7cc9-4093-922c-351eea5506d8')\"\n",
              "              title=\"Convert this dataframe to an interactive table.\"\n",
              "              style=\"display:none;\">\n",
              "        \n",
              "  <svg xmlns=\"http://www.w3.org/2000/svg\" height=\"24px\"viewBox=\"0 0 24 24\"\n",
              "       width=\"24px\">\n",
              "    <path d=\"M0 0h24v24H0V0z\" fill=\"none\"/>\n",
              "    <path d=\"M18.56 5.44l.94 2.06.94-2.06 2.06-.94-2.06-.94-.94-2.06-.94 2.06-2.06.94zm-11 1L8.5 8.5l.94-2.06 2.06-.94-2.06-.94L8.5 2.5l-.94 2.06-2.06.94zm10 10l.94 2.06.94-2.06 2.06-.94-2.06-.94-.94-2.06-.94 2.06-2.06.94z\"/><path d=\"M17.41 7.96l-1.37-1.37c-.4-.4-.92-.59-1.43-.59-.52 0-1.04.2-1.43.59L10.3 9.45l-7.72 7.72c-.78.78-.78 2.05 0 2.83L4 21.41c.39.39.9.59 1.41.59.51 0 1.02-.2 1.41-.59l7.78-7.78 2.81-2.81c.8-.78.8-2.07 0-2.86zM5.41 20L4 18.59l7.72-7.72 1.47 1.35L5.41 20z\"/>\n",
              "  </svg>\n",
              "      </button>\n",
              "      \n",
              "  <style>\n",
              "    .colab-df-container {\n",
              "      display:flex;\n",
              "      flex-wrap:wrap;\n",
              "      gap: 12px;\n",
              "    }\n",
              "\n",
              "    .colab-df-convert {\n",
              "      background-color: #E8F0FE;\n",
              "      border: none;\n",
              "      border-radius: 50%;\n",
              "      cursor: pointer;\n",
              "      display: none;\n",
              "      fill: #1967D2;\n",
              "      height: 32px;\n",
              "      padding: 0 0 0 0;\n",
              "      width: 32px;\n",
              "    }\n",
              "\n",
              "    .colab-df-convert:hover {\n",
              "      background-color: #E2EBFA;\n",
              "      box-shadow: 0px 1px 2px rgba(60, 64, 67, 0.3), 0px 1px 3px 1px rgba(60, 64, 67, 0.15);\n",
              "      fill: #174EA6;\n",
              "    }\n",
              "\n",
              "    [theme=dark] .colab-df-convert {\n",
              "      background-color: #3B4455;\n",
              "      fill: #D2E3FC;\n",
              "    }\n",
              "\n",
              "    [theme=dark] .colab-df-convert:hover {\n",
              "      background-color: #434B5C;\n",
              "      box-shadow: 0px 1px 3px 1px rgba(0, 0, 0, 0.15);\n",
              "      filter: drop-shadow(0px 1px 2px rgba(0, 0, 0, 0.3));\n",
              "      fill: #FFFFFF;\n",
              "    }\n",
              "  </style>\n",
              "\n",
              "      <script>\n",
              "        const buttonEl =\n",
              "          document.querySelector('#df-1ca8c5d1-7cc9-4093-922c-351eea5506d8 button.colab-df-convert');\n",
              "        buttonEl.style.display =\n",
              "          google.colab.kernel.accessAllowed ? 'block' : 'none';\n",
              "\n",
              "        async function convertToInteractive(key) {\n",
              "          const element = document.querySelector('#df-1ca8c5d1-7cc9-4093-922c-351eea5506d8');\n",
              "          const dataTable =\n",
              "            await google.colab.kernel.invokeFunction('convertToInteractive',\n",
              "                                                     [key], {});\n",
              "          if (!dataTable) return;\n",
              "\n",
              "          const docLinkHtml = 'Like what you see? Visit the ' +\n",
              "            '<a target=\"_blank\" href=https://colab.research.google.com/notebooks/data_table.ipynb>data table notebook</a>'\n",
              "            + ' to learn more about interactive tables.';\n",
              "          element.innerHTML = '';\n",
              "          dataTable['output_type'] = 'display_data';\n",
              "          await google.colab.output.renderOutput(dataTable, element);\n",
              "          const docLink = document.createElement('div');\n",
              "          docLink.innerHTML = docLinkHtml;\n",
              "          element.appendChild(docLink);\n",
              "        }\n",
              "      </script>\n",
              "    </div>\n",
              "  </div>\n",
              "  "
            ]
          },
          "metadata": {},
          "execution_count": 3
        }
      ]
    },
    {
      "cell_type": "code",
      "source": [
        "df['AgeCategory'].value_counts()"
      ],
      "metadata": {
        "execution": {
          "iopub.status.busy": "2022-03-25T18:16:30.194426Z",
          "iopub.execute_input": "2022-03-25T18:16:30.194660Z",
          "iopub.status.idle": "2022-03-25T18:16:30.261025Z",
          "shell.execute_reply.started": "2022-03-25T18:16:30.194633Z",
          "shell.execute_reply": "2022-03-25T18:16:30.259996Z"
        },
        "trusted": true,
        "colab": {
          "base_uri": "https://localhost:8080/"
        },
        "id": "ZGSCQO72jxYQ",
        "outputId": "d6b2b3e4-5313-4ced-ca6c-2dbe882f2d41"
      },
      "execution_count": null,
      "outputs": [
        {
          "output_type": "execute_result",
          "data": {
            "text/plain": [
              "65-69          34151\n",
              "60-64          33686\n",
              "70-74          31065\n",
              "55-59          29757\n",
              "50-54          25382\n",
              "80 or older    24153\n",
              "45-49          21791\n",
              "75-79          21482\n",
              "18-24          21064\n",
              "40-44          21006\n",
              "35-39          20550\n",
              "30-34          18753\n",
              "25-29          16955\n",
              "Name: AgeCategory, dtype: int64"
            ]
          },
          "metadata": {},
          "execution_count": 3
        }
      ]
    },
    {
      "cell_type": "code",
      "source": [
        "#Label Encoding \n",
        "from sklearn.preprocessing import LabelEncoder, OneHotEncoder\n",
        "from sklearn.preprocessing import LabelEncoder\n",
        "le = LabelEncoder()\n",
        "df['Smoking'] = le.fit_transform(df['Smoking'])\n",
        "df['AlcoholDrinking'] = le.fit_transform(df['AlcoholDrinking'])\n",
        "df['Stroke'] = le.fit_transform(df['Stroke'])\n",
        "df['DiffWalking'] = le.fit_transform(df['DiffWalking'])\n",
        "df['Sex'] = le.fit_transform(df['Sex'])\n",
        "df['Diabetic'] = le.fit_transform(df['Diabetic'])\n",
        "df['PhysicalActivity'] = le.fit_transform(df['PhysicalActivity'])\n",
        "df['Asthma'] = le.fit_transform(df['Asthma'])\n",
        "df['KidneyDisease'] = le.fit_transform(df['KidneyDisease'])\n",
        "df['SkinCancer'] = le.fit_transform(df['SkinCancer'])\n",
        "\n",
        "Race = pd.get_dummies(df['Race'],drop_first=True)\n",
        "GenHealth = pd.get_dummies(df['GenHealth'],drop_first=True)\n",
        "AgeCategory = pd.get_dummies(df['AgeCategory'],drop_first=True)\n",
        "df = pd.concat([df,Race, GenHealth, AgeCategory],axis=1)\n",
        "df.drop(['Race', 'GenHealth', 'AgeCategory'],axis=1,inplace=True)\n",
        "df.info()"
      ],
      "metadata": {
        "execution": {
          "iopub.status.busy": "2022-03-25T18:16:30.263506Z",
          "iopub.execute_input": "2022-03-25T18:16:30.263798Z",
          "iopub.status.idle": "2022-03-25T18:16:32.017900Z",
          "shell.execute_reply.started": "2022-03-25T18:16:30.263753Z",
          "shell.execute_reply": "2022-03-25T18:16:32.016931Z"
        },
        "trusted": true,
        "colab": {
          "base_uri": "https://localhost:8080/"
        },
        "id": "zdHSjwUUjxYQ",
        "outputId": "cf3c6843-3319-44b9-9806-59338e75d62e"
      },
      "execution_count": null,
      "outputs": [
        {
          "output_type": "stream",
          "name": "stdout",
          "text": [
            "<class 'pandas.core.frame.DataFrame'>\n",
            "RangeIndex: 26382 entries, 0 to 26381\n",
            "Data columns (total 36 columns):\n",
            " #   Column            Non-Null Count  Dtype  \n",
            "---  ------            --------------  -----  \n",
            " 0   HeartDisease      26382 non-null  object \n",
            " 1   BMI               26382 non-null  float64\n",
            " 2   Smoking           26382 non-null  int64  \n",
            " 3   AlcoholDrinking   26382 non-null  int64  \n",
            " 4   Stroke            26382 non-null  int64  \n",
            " 5   PhysicalHealth    26382 non-null  float64\n",
            " 6   MentalHealth      26382 non-null  float64\n",
            " 7   DiffWalking       26382 non-null  int64  \n",
            " 8   Sex               26382 non-null  int64  \n",
            " 9   Diabetic          26382 non-null  int64  \n",
            " 10  PhysicalActivity  26382 non-null  int64  \n",
            " 11  SleepTime         26382 non-null  float64\n",
            " 12  Asthma            26382 non-null  int64  \n",
            " 13  KidneyDisease     26382 non-null  int64  \n",
            " 14  SkinCancer        26382 non-null  int64  \n",
            " 15  Asian             26382 non-null  uint8  \n",
            " 16  Black             26382 non-null  uint8  \n",
            " 17  Hispanic          26382 non-null  uint8  \n",
            " 18  Other             26382 non-null  uint8  \n",
            " 19  White             26382 non-null  uint8  \n",
            " 20  Fair              26382 non-null  uint8  \n",
            " 21  Good              26382 non-null  uint8  \n",
            " 22  Poor              26382 non-null  uint8  \n",
            " 23  Very good         26382 non-null  uint8  \n",
            " 24  25-29             26382 non-null  uint8  \n",
            " 25  30-34             26382 non-null  uint8  \n",
            " 26  35-39             26382 non-null  uint8  \n",
            " 27  40-44             26382 non-null  uint8  \n",
            " 28  45-49             26382 non-null  uint8  \n",
            " 29  50-54             26382 non-null  uint8  \n",
            " 30  55-59             26382 non-null  uint8  \n",
            " 31  60-64             26382 non-null  uint8  \n",
            " 32  65-69             26382 non-null  uint8  \n",
            " 33  70-74             26382 non-null  uint8  \n",
            " 34  75-79             26382 non-null  uint8  \n",
            " 35  80 or older       26382 non-null  uint8  \n",
            "dtypes: float64(4), int64(10), object(1), uint8(21)\n",
            "memory usage: 3.5+ MB\n"
          ]
        }
      ]
    },
    {
      "cell_type": "code",
      "source": [
        "from sklearn.model_selection import train_test_split\n",
        "X = df.drop('HeartDisease',axis=1)\n",
        "y = df['HeartDisease']\n",
        "X_train, X_test, y_train, y_test = train_test_split(X, y, test_size=0.30)"
      ],
      "metadata": {
        "execution": {
          "iopub.status.busy": "2022-03-25T18:16:32.019090Z",
          "iopub.execute_input": "2022-03-25T18:16:32.019341Z",
          "iopub.status.idle": "2022-03-25T18:16:32.263388Z",
          "shell.execute_reply.started": "2022-03-25T18:16:32.019311Z",
          "shell.execute_reply": "2022-03-25T18:16:32.262401Z"
        },
        "trusted": true,
        "id": "uRBjR45TjxYS"
      },
      "execution_count": null,
      "outputs": []
    },
    {
      "cell_type": "code",
      "source": [
        "from sklearn.linear_model import LogisticRegression\n",
        "from sklearn.neighbors import KNeighborsClassifier\n",
        "from sklearn.svm import SVC\n",
        "from sklearn.naive_bayes import GaussianNB\n",
        "from sklearn.tree import DecisionTreeClassifier\n",
        "from sklearn.ensemble import RandomForestClassifier\n",
        "clf1 = LogisticRegression(max_iter =10000)\n",
        "clf2 = KNeighborsClassifier(n_neighbors = 5, metric = 'minkowski', p = 2)\n",
        "#clf3 = SVC(kernel = 'rbf',  gamma=0.5, C=1, random_state = 0)\n",
        "clf4 = GaussianNB()\n",
        "clf5 = DecisionTreeClassifier(criterion = 'entropy', random_state = 0)\n",
        "clf6 = RandomForestClassifier(n_estimators = 10, criterion = 'entropy', random_state = 0)"
      ],
      "metadata": {
        "execution": {
          "iopub.status.busy": "2022-03-25T18:16:32.264771Z",
          "iopub.execute_input": "2022-03-25T18:16:32.265048Z",
          "iopub.status.idle": "2022-03-25T18:16:32.500137Z",
          "shell.execute_reply.started": "2022-03-25T18:16:32.265016Z",
          "shell.execute_reply": "2022-03-25T18:16:32.499146Z"
        },
        "trusted": true,
        "id": "Dy39J5QAjxYT"
      },
      "execution_count": null,
      "outputs": []
    },
    {
      "cell_type": "code",
      "source": [
        "from sklearn.linear_model import LogisticRegression\n",
        "from sklearn.neighbors import KNeighborsClassifier\n",
        "from sklearn.svm import SVC\n",
        "from sklearn.naive_bayes import GaussianNB\n",
        "from sklearn.tree import DecisionTreeClassifier\n",
        "from sklearn.ensemble import RandomForestClassifier\n",
        "clf1 = LogisticRegression(max_iter =10000)\n",
        "clf2 = KNeighborsClassifier(n_neighbors = 5, metric = 'minkowski', p = 2)\n",
        "#clf3 = SVC(kernel = 'rbf',  gamma=0.5, C=1, random_state = 0)\n",
        "clf4 = GaussianNB()\n",
        "clf5 = DecisionTreeClassifier(criterion = 'entropy', random_state = 0)\n",
        "clf6 = RandomForestClassifier(n_estimators = 10, criterion = 'entropy', random_state = 0)\n",
        "\n",
        "#Training the Classification models on the Train set\n",
        "clf1.fit(X_train, y_train)\n",
        "clf2.fit(X_train, y_train)\n",
        "#clf3.fit(X_train, y_train)\n",
        "clf4.fit(X_train, y_train)\n",
        "clf5.fit(X_train, y_train)\n",
        "clf6.fit(X_train, y_train)\n",
        "\n",
        "#Predicting the Test set results\n",
        "y_pred_LR = clf1.predict(X_test)\n",
        "y_pred_KNN = clf2.predict(X_test)\n",
        "#y_pred_SVC = clf3.predict(X_test)\n",
        "y_pred_NB = clf4.predict(X_test)\n",
        "y_pred_DTC = clf5.predict(X_test)\n",
        "y_pred_RFC = clf6.predict(X_test)\n",
        "\n",
        "#KEY PERFORMANCE INDICATORS (KPI)\n",
        "#Generating the Confusion Matrix and Classification report\n",
        "from sklearn.metrics import confusion_matrix, classification_report\n",
        "from sklearn.metrics import accuracy_score\n",
        "print('Accuracy of Logistic Regression Model is ', accuracy_score(y_test, y_pred_LR))\n",
        "print('\\n','Confusion Matrix of Logistic Regression Model:' '\\n', confusion_matrix(y_test, y_pred_LR))\n",
        "print('\\n', '\\n','Classification Report for Logistic Regression Model:' '\\n',classification_report(y_test, y_pred_LR))\n",
        "print('\\n','\\n','Accuracy of K-Nearest Neighbor Model is ', accuracy_score(y_test, y_pred_KNN))\n",
        "print('\\n','Confusion Matrix of K-Nearest Neighbor Model:' '\\n', confusion_matrix(y_test, y_pred_KNN))\n",
        "print('\\n', '\\n','Classification Report for K-Nearest Neighbor Model:' '\\n',classification_report(y_test, y_pred_KNN))\n",
        "#print('\\n','\\n', 'Accuracy of Support Vector Classification Model is ', accuracy_score(y_test, y_pred_SVC))\n",
        "#print('\\n','Confusion Matrix of Support Vector Classification Model:' '\\n', confusion_matrix(y_test, y_pred_SVC))\n",
        "#print('\\n', '\\n','Classification Report for Support Vector Classification Model:' '\\n',classification_report(y_test, y_pred_SVC))\n",
        "print('\\n','\\n', 'Accuracy of Naive Bayes Classification  Model is ', accuracy_score(y_test, y_pred_NB))\n",
        "print('\\n','Confusion Matrix of Naive Bayes Classification  Model:' '\\n', confusion_matrix(y_test, y_pred_NB))\n",
        "print('\\n', '\\n','Classification Report for Naive Bayes Classification  Model:' '\\n',classification_report(y_test, y_pred_NB))\n",
        "print('\\n','\\n', 'Accuracy of Decision Tree Model is ', accuracy_score(y_test, y_pred_DTC))\n",
        "print('\\n','Confusion Matrix of Decision Tree Model:' '\\n', confusion_matrix(y_test, y_pred_DTC))\n",
        "print('\\n', '\\n','Classification Report for Decision Tree Model:' '\\n',classification_report(y_test, y_pred_DTC))\n",
        "print('\\n','\\n', 'Accuracy of Random Forest Model is ', accuracy_score(y_test, y_pred_RFC))\n",
        "print('\\n','Confusion Matrix of  Random Forest Model:' '\\n', confusion_matrix(y_test, y_pred_RFC))\n",
        "print('\\n', '\\n','Classification Report for  Random Forest Model:' '\\n',classification_report(y_test, y_pred_RFC))"
      ],
      "metadata": {
        "execution": {
          "iopub.status.busy": "2022-03-25T18:16:32.501791Z",
          "iopub.execute_input": "2022-03-25T18:16:32.502133Z",
          "iopub.status.idle": "2022-03-25T18:26:52.975250Z",
          "shell.execute_reply.started": "2022-03-25T18:16:32.502089Z",
          "shell.execute_reply": "2022-03-25T18:26:52.974266Z"
        },
        "trusted": true,
        "colab": {
          "base_uri": "https://localhost:8080/"
        },
        "id": "-HgqWDdUjxYV",
        "outputId": "370fd5d2-2e3e-4a35-a77c-04179131c050"
      },
      "execution_count": null,
      "outputs": [
        {
          "output_type": "stream",
          "name": "stdout",
          "text": [
            "Accuracy of Logistic Regression Model is  0.91595701435287\n",
            "\n",
            " Confusion Matrix of Logistic Regression Model:\n",
            " [[87019   678]\n",
            " [ 7385   857]]\n",
            "\n",
            " \n",
            " Classification Report for Logistic Regression Model:\n",
            "               precision    recall  f1-score   support\n",
            "\n",
            "          No       0.92      0.99      0.96     87697\n",
            "         Yes       0.56      0.10      0.18      8242\n",
            "\n",
            "    accuracy                           0.92     95939\n",
            "   macro avg       0.74      0.55      0.57     95939\n",
            "weighted avg       0.89      0.92      0.89     95939\n",
            "\n",
            "\n",
            " \n",
            " Accuracy of K-Nearest Neighbor Model is  0.9068679056483807\n",
            "\n",
            " Confusion Matrix of K-Nearest Neighbor Model:\n",
            " [[86362  1335]\n",
            " [ 7600   642]]\n",
            "\n",
            " \n",
            " Classification Report for K-Nearest Neighbor Model:\n",
            "               precision    recall  f1-score   support\n",
            "\n",
            "          No       0.92      0.98      0.95     87697\n",
            "         Yes       0.32      0.08      0.13      8242\n",
            "\n",
            "    accuracy                           0.91     95939\n",
            "   macro avg       0.62      0.53      0.54     95939\n",
            "weighted avg       0.87      0.91      0.88     95939\n",
            "\n",
            "\n",
            " \n",
            " Accuracy of Naive Bayes Classification  Model is  0.7460261207642356\n",
            "\n",
            " Confusion Matrix of Naive Bayes Classification  Model:\n",
            " [[65538 22159]\n",
            " [ 2207  6035]]\n",
            "\n",
            " \n",
            " Classification Report for Naive Bayes Classification  Model:\n",
            "               precision    recall  f1-score   support\n",
            "\n",
            "          No       0.97      0.75      0.84     87697\n",
            "         Yes       0.21      0.73      0.33      8242\n",
            "\n",
            "    accuracy                           0.75     95939\n",
            "   macro avg       0.59      0.74      0.59     95939\n",
            "weighted avg       0.90      0.75      0.80     95939\n",
            "\n",
            "\n",
            " \n",
            " Accuracy of Decision Tree Model is  0.8661962288537508\n",
            "\n",
            " Confusion Matrix of Decision Tree Model:\n",
            " [[81047  6650]\n",
            " [ 6187  2055]]\n",
            "\n",
            " \n",
            " Classification Report for Decision Tree Model:\n",
            "               precision    recall  f1-score   support\n",
            "\n",
            "          No       0.93      0.92      0.93     87697\n",
            "         Yes       0.24      0.25      0.24      8242\n",
            "\n",
            "    accuracy                           0.87     95939\n",
            "   macro avg       0.58      0.59      0.58     95939\n",
            "weighted avg       0.87      0.87      0.87     95939\n",
            "\n",
            "\n",
            " \n",
            " Accuracy of Random Forest Model is  0.9039806543741336\n",
            "\n",
            " Confusion Matrix of  Random Forest Model:\n",
            " [[85760  1937]\n",
            " [ 7275   967]]\n",
            "\n",
            " \n",
            " Classification Report for  Random Forest Model:\n",
            "               precision    recall  f1-score   support\n",
            "\n",
            "          No       0.92      0.98      0.95     87697\n",
            "         Yes       0.33      0.12      0.17      8242\n",
            "\n",
            "    accuracy                           0.90     95939\n",
            "   macro avg       0.63      0.55      0.56     95939\n",
            "weighted avg       0.87      0.90      0.88     95939\n",
            "\n"
          ]
        }
      ]
    },
    {
      "cell_type": "markdown",
      "source": [
        "## **k-Fold Cross Validation**"
      ],
      "metadata": {
        "id": "Y0Z99qiEjxYX"
      }
    },
    {
      "cell_type": "code",
      "source": [
        "# Applying k-Fold Cross Validation\n",
        "from sklearn.model_selection import cross_val_score\n",
        "\n",
        "\n",
        "accuracies_LR = cross_val_score(estimator = clf1, X = X_train, y = y_train, cv = 10)\n",
        "print(\"Accuracy  of Logistic Regression Model: {:.2f} %\".format(accuracies_LR.mean()*100))\n",
        "print(\"Standard Deviation: {:.2f} %\".format(accuracies_LR.std()*100))\n",
        "\n",
        "accuracies_KNN = cross_val_score(estimator = clf2, X = X_train, y = y_train, cv = 10)\n",
        "print(\"Accuracy  of K-Nearest Neighbor Model: {:.2f} %\".format(accuracies_KNN.mean()*100))\n",
        "print(\"Standard Deviation: {:.2f} %\".format(accuracies_KNN.std()*100))\n",
        "\n",
        "#accuracies_SV = cross_val_score(estimator = clf3, X = X_train, y = y_train, cv = 10)\n",
        "#print(\"Accuracy  of Support Vector Model: {:.2f} %\".format(accuracies_SV.mean()*100))\n",
        "#print(\"Standard Deviation: {:.2f} %\".format(accuracies_SV.std()*100))\n",
        "\n",
        "accuracies_NB = cross_val_score(estimator = clf4, X = X_train, y = y_train, cv = 10)\n",
        "print(\"Accuracy  of Naive Bayes Model: {:.2f} %\".format(accuracies_NB.mean()*100))\n",
        "print(\"Standard Deviation: {:.2f} %\".format(accuracies_NB.std()*100))\n",
        "\n",
        "accuracies_DTC = cross_val_score(estimator = clf5, X = X_train, y = y_train, cv = 10)\n",
        "print(\"Accuracy  of Decision Tree Model: {:.2f} %\".format(accuracies_DTC.mean()*100))\n",
        "print(\"Standard Deviation: {:.2f} %\".format(accuracies_DTC.std()*100))\n",
        "\n",
        "accuracies_RF = cross_val_score(estimator = clf6, X = X_train, y = y_train, cv = 10)\n",
        "print(\"Accuracy  of Random Forest Model: {:.2f} %\".format(accuracies_RF.mean()*100))\n",
        "print(\"Standard Deviation: {:.2f} %\".format(accuracies_RF.std()*100))"
      ],
      "metadata": {
        "execution": {
          "iopub.status.busy": "2022-03-25T18:26:52.976912Z",
          "iopub.execute_input": "2022-03-25T18:26:52.977146Z",
          "iopub.status.idle": "2022-03-25T18:51:35.419202Z",
          "shell.execute_reply.started": "2022-03-25T18:26:52.977117Z",
          "shell.execute_reply": "2022-03-25T18:51:35.418017Z"
        },
        "trusted": true,
        "colab": {
          "base_uri": "https://localhost:8080/"
        },
        "id": "_o2fL3W0jxYY",
        "outputId": "e0694b79-2307-447c-e72d-2f5a991da8f1"
      },
      "execution_count": null,
      "outputs": [
        {
          "output_type": "stream",
          "name": "stdout",
          "text": [
            "Accuracy  of Logistic Regression Model: 91.60 %\n",
            "Standard Deviation: 0.05 %\n",
            "Accuracy  of K-Nearest Neighbor Model: 90.75 %\n",
            "Standard Deviation: 0.09 %\n",
            "Accuracy  of Naive Bayes Model: 74.53 %\n",
            "Standard Deviation: 0.15 %\n",
            "Accuracy  of Decision Tree Model: 86.60 %\n",
            "Standard Deviation: 0.20 %\n",
            "Accuracy  of Random Forest Model: 90.43 %\n",
            "Standard Deviation: 0.08 %\n"
          ]
        }
      ]
    },
    {
      "cell_type": "markdown",
      "source": [
        "## **GridSearchCV**\n",
        "GridSearchCV is a module of the Sklearn model_selection package that is used for Hyperparameter tuning. Given a set of different hyperparameters, GridSearchCV loops through all possible values and combinations of the hyperparameter and fits the model on the training dataset. In this process, it is able to identify the best values and combination of hyperparameters (from the given set) that produces the best accuracy."
      ],
      "metadata": {
        "id": "GIY-Uz3CjxYZ"
      }
    },
    {
      "cell_type": "markdown",
      "source": [
        "### **Logistic Regression with GridSearchCV**"
      ],
      "metadata": {
        "id": "9JzmX2-JjxYa"
      }
    },
    {
      "cell_type": "code",
      "source": [
        "# Applying Grid Search to find the best model and the best parameters\n",
        "from sklearn.model_selection import GridSearchCV\n",
        "grid_values = {'penalty': ['l1','l2'], 'C': [0.001,0.01,0.1,1,10,100,1000]}\n",
        "grid_search = GridSearchCV(clf1, param_grid=grid_values)\n",
        "grid_search = grid_search.fit(X_train, y_train)\n",
        "best_accuracy = grid_search.best_score_\n",
        "best_parameters = grid_search.best_params_\n",
        "print(\"Best Accuracy of Logistic Regression Model: {:.2f} %\".format(best_accuracy*100))\n",
        "print(\"Best Parameters of Logistic Regression Model:\", best_parameters)\n"
      ],
      "metadata": {
        "execution": {
          "iopub.status.busy": "2022-03-25T18:52:25.676520Z",
          "iopub.execute_input": "2022-03-25T18:52:25.676938Z",
          "iopub.status.idle": "2022-03-25T19:06:38.453431Z",
          "shell.execute_reply.started": "2022-03-25T18:52:25.676906Z",
          "shell.execute_reply": "2022-03-25T19:06:38.452442Z"
        },
        "trusted": true,
        "colab": {
          "base_uri": "https://localhost:8080/"
        },
        "id": "7yTkzJxOjxYa",
        "outputId": "f843d713-a2dc-4424-aa57-ddd665bf56c2"
      },
      "execution_count": null,
      "outputs": [
        {
          "output_type": "stream",
          "name": "stderr",
          "text": [
            "/usr/local/lib/python3.7/dist-packages/sklearn/model_selection/_validation.py:372: FitFailedWarning: \n",
            "35 fits failed out of a total of 70.\n",
            "The score on these train-test partitions for these parameters will be set to nan.\n",
            "If these failures are not expected, you can try to debug them by setting error_score='raise'.\n",
            "\n",
            "Below are more details about the failures:\n",
            "--------------------------------------------------------------------------------\n",
            "35 fits failed with the following error:\n",
            "Traceback (most recent call last):\n",
            "  File \"/usr/local/lib/python3.7/dist-packages/sklearn/model_selection/_validation.py\", line 680, in _fit_and_score\n",
            "    estimator.fit(X_train, y_train, **fit_params)\n",
            "  File \"/usr/local/lib/python3.7/dist-packages/sklearn/linear_model/_logistic.py\", line 1461, in fit\n",
            "    solver = _check_solver(self.solver, self.penalty, self.dual)\n",
            "  File \"/usr/local/lib/python3.7/dist-packages/sklearn/linear_model/_logistic.py\", line 449, in _check_solver\n",
            "    % (solver, penalty)\n",
            "ValueError: Solver lbfgs supports only 'l2' or 'none' penalties, got l1 penalty.\n",
            "\n",
            "  warnings.warn(some_fits_failed_message, FitFailedWarning)\n",
            "/usr/local/lib/python3.7/dist-packages/sklearn/model_selection/_search.py:972: UserWarning: One or more of the test scores are non-finite: [       nan 0.91558413        nan 0.91592363        nan 0.91593256\n",
            "        nan 0.9159683         nan 0.91599064        nan 0.9159549\n",
            "        nan 0.9159683 ]\n",
            "  category=UserWarning,\n"
          ]
        },
        {
          "output_type": "stream",
          "name": "stdout",
          "text": [
            "Best Accuracy of Logistic Regression Model: 91.60 %\n",
            "Best Parameters of Logistic Regression Model: {'C': 10, 'penalty': 'l2'}\n"
          ]
        }
      ]
    },
    {
      "cell_type": "markdown",
      "source": [
        "### **KNN with GridSearchCV**"
      ],
      "metadata": {
        "id": "EGfXsaQHjxYb"
      }
    },
    {
      "cell_type": "code",
      "source": [
        "from sklearn.model_selection import GridSearchCV\n",
        "from sklearn.metrics import accuracy_score\n",
        "k_range = list(range(1, 10))\n",
        "param_grid = dict(n_neighbors=k_range)\n",
        "grid_knn = GridSearchCV(clf2, param_grid, cv=5, scoring='accuracy', return_train_score=False)\n",
        "grid_search = grid_knn.fit(X_train,y_train)\n",
        "best_accuracy = grid_search.best_score_\n",
        "best_parameters = grid_search.best_params_\n",
        "print(\"Best Accuracy of K-Nearest Neighbor Model: {:.2f} %\".format(best_accuracy*100))\n",
        "print(\"Best Parameters of K-Nearest Neighbor Model:\", best_parameters)\n",
        "# make predictions on test data \n",
        "grid_predictions = grid_knn.predict(X_test) \n",
        "test_accuracy=accuracy_score(y_test,grid_predictions)*100\n",
        "print(\"Accuracy for K-Nearest Neighbor testing dataset with tuning is : {:.2f}%\".format(test_accuracy) )"
      ],
      "metadata": {
        "execution": {
          "iopub.status.busy": "2022-03-25T19:08:47.280707Z",
          "iopub.execute_input": "2022-03-25T19:08:47.281431Z"
        },
        "trusted": true,
        "colab": {
          "base_uri": "https://localhost:8080/"
        },
        "id": "TkIO35R-jxYb",
        "outputId": "66ea898d-c20c-487b-b471-601fc5c37fc8"
      },
      "execution_count": null,
      "outputs": [
        {
          "output_type": "stream",
          "name": "stdout",
          "text": [
            "Best Accuracy of K-Nearest Neighbor Model: 90.58 %\n",
            "Best Parameters of K-Nearest Neighbor Model: {'n_neighbors': 8}\n",
            "Accuracy for K-Nearest Neighbor testing dataset with tuning is : 90.63%\n"
          ]
        }
      ]
    },
    {
      "cell_type": "markdown",
      "source": [
        "### **Gaussian Naive Bayes with GridSearchCV**"
      ],
      "metadata": {
        "id": "p_D0hQKBjxYc"
      }
    },
    {
      "cell_type": "code",
      "source": [
        "from sklearn.model_selection import GridSearchCV\n",
        "from sklearn.metrics import accuracy_score\n",
        "clf4 = GaussianNB()\n",
        "parameters_4 = {\n",
        "    'var_smoothing': (0,1e-9,1e-7, 1e-5), \n",
        "                   }\n",
        "# with GridSearch\n",
        "grid_search_NB = GridSearchCV(\n",
        "    estimator=clf4,\n",
        "    param_grid=parameters_4,\n",
        "    scoring = 'accuracy',\n",
        "    n_jobs = -1,\n",
        "    cv = 5\n",
        ")\n",
        "grid_search=grid_search_NB.fit(X_train, y_train)\n",
        "best_accuracy = grid_search.best_score_\n",
        "best_parameters = grid_search.best_params_\n",
        "print(\"Best Accuracy of Naive Bayes Model: {:.2f} %\".format(best_accuracy*100))\n",
        "print(\"Best Parameters of Naive Bayes Model:\", best_parameters)\n",
        "# make predictions on test data \n",
        "grid_predictions = grid_search_NB.predict(X_test) \n",
        "test_accuracy=accuracy_score(y_test,grid_predictions)*100\n",
        "print(\"Accuracy for Naive Bayes testing dataset with tuning is : {:.2f}%\".format(test_accuracy) )"
      ],
      "metadata": {
        "colab": {
          "base_uri": "https://localhost:8080/"
        },
        "id": "pCCxzE3qjxYd",
        "outputId": "c97acfda-5e60-46c4-f260-ab4c85a064c2"
      },
      "execution_count": null,
      "outputs": [
        {
          "output_type": "stream",
          "name": "stdout",
          "text": [
            "Best Accuracy of Naive Bayes Model: 73.18 %\n",
            "Best Parameters of Naive Bayes Model: {'var_smoothing': 1e-05}\n",
            "Accuracy for Naive Bayes testing dataset with tuning is : 73.13%\n"
          ]
        }
      ]
    },
    {
      "cell_type": "markdown",
      "source": [
        "### **Random Forest with GridSearchCV**"
      ],
      "metadata": {
        "id": "RnQL_9FjjxYd"
      }
    },
    {
      "cell_type": "code",
      "source": [
        "param_grid = {\n",
        "    'n_estimators': [200, 700],\n",
        "    'max_features': ['auto', 'sqrt', 'log2']\n",
        "}\n",
        "CV_rfc = GridSearchCV(estimator=clf6,param_grid=param_grid, cv= 5,scoring='accuracy')\n",
        "CV_rfc.fit(X_train, y_train)\n",
        "print(\"tuned hyperparameters :(best parameters) \",CV_rfc.best_params_)\n",
        "print(\"Best accuracy for Random Forest Model :\",CV_rfc.best_score_*100)\n",
        "# make predictions on test data \n",
        "grid_predictions = CV_rfc.predict(X_test) \n",
        "test_accuracy=accuracy_score(y_test,grid_predictions)*100\n",
        "print(\"Accuracy for Random Forest testing dataset with tuning is : {:.2f}%\".format(test_accuracy) )"
      ],
      "metadata": {
        "execution": {
          "iopub.status.busy": "2022-03-25T18:51:35.548321Z",
          "iopub.status.idle": "2022-03-25T18:51:35.548966Z",
          "shell.execute_reply.started": "2022-03-25T18:51:35.548712Z",
          "shell.execute_reply": "2022-03-25T18:51:35.548739Z"
        },
        "trusted": true,
        "id": "AZRrnvPRjxYd",
        "colab": {
          "base_uri": "https://localhost:8080/"
        },
        "outputId": "64808d17-c1a2-4f73-b939-2e6f1a65d46e"
      },
      "execution_count": null,
      "outputs": [
        {
          "output_type": "stream",
          "name": "stdout",
          "text": [
            "tuned hyperparameters :(best parameters)  {'max_features': 'auto', 'n_estimators': 700}\n",
            "Best accuracy for Random Forest Model : 90.57779310306407\n",
            "Accuracy for Random Forest testing dataset with tuning is : 90.32%\n"
          ]
        }
      ]
    },
    {
      "cell_type": "markdown",
      "source": [
        " ### **Kernel SVM with GridSearchCV**"
      ],
      "metadata": {
        "id": "cW2RkSjg9DvN"
      }
    },
    {
      "cell_type": "code",
      "source": [
        "# Importing the dataset\n",
        "dataset = pd.read_csv('/content/Social_Network_Ads.csv')\n",
        "X = dataset.iloc[:, [2, 3]].values\n",
        "y = dataset.iloc[:, -1].values\n",
        "# Feature Scaling\n",
        "from sklearn.preprocessing import StandardScaler\n",
        "sc = StandardScaler()\n",
        "X = sc.fit_transform(X)\n",
        "\n",
        "# Splitting the dataset into the Training set and Test set\n",
        "from sklearn.model_selection import train_test_split\n",
        "X_train, X_test, y_train, y_test = train_test_split(X, y, test_size = 0.25, random_state = 0)\n",
        "\n",
        "# Training the Kernel SVM model on the Training set\n",
        "from sklearn.svm import SVC\n",
        "classifier = SVC(kernel = 'rbf', random_state = 0)\n",
        "classifier.fit(X_train, y_train)\n",
        "\n",
        "# Predicting the Test set results\n",
        "y_pred = classifier.predict(X_test)\n",
        "\n",
        "# Making the Confusion Matrix\n",
        "from sklearn.metrics import confusion_matrix\n",
        "cm = confusion_matrix(y_test, y_pred)\n",
        "print(cm)"
      ],
      "metadata": {
        "id": "dhY7Wo4EjxYe",
        "colab": {
          "base_uri": "https://localhost:8080/"
        },
        "outputId": "ceabfcaf-3042-43ba-d523-4e749a31a2b6"
      },
      "execution_count": null,
      "outputs": [
        {
          "output_type": "stream",
          "name": "stdout",
          "text": [
            "[[64  4]\n",
            " [ 3 29]]\n"
          ]
        }
      ]
    },
    {
      "cell_type": "code",
      "source": [
        "# Applying k-Fold Cross Validation\n",
        "from sklearn.model_selection import cross_val_score\n",
        "accuracies = cross_val_score(estimator = classifier, X = X_train, y = y_train, cv = 10)\n",
        "print(\"Accuracy of Kernel SVM Model: {:.2f} %\".format(accuracies.mean()*100))\n",
        "print(\"Standard Deviation: {:.2f} %\".format(accuracies.std()*100))\n",
        "\n",
        "# Applying Grid Search to find the best model and the best parameters\n",
        "from sklearn.model_selection import GridSearchCV\n",
        "parameters = [{'C': [1, 10, 100, 1000], 'kernel': ['linear']},\n",
        "              {'C': [1, 10, 100, 1000], 'kernel': ['rbf'], 'gamma': [0.1, 0.2, 0.3, 0.4, 0.5, 0.6, 0.7, 0.8, 0.9]}]\n",
        "grid_search = GridSearchCV(estimator = classifier,\n",
        "                           param_grid = parameters,\n",
        "                           scoring = 'accuracy',\n",
        "                           cv = 10,\n",
        "                           n_jobs = -1)\n",
        "grid_search = grid_search.fit(X_train, y_train)\n",
        "best_accuracy = grid_search.best_score_\n",
        "best_parameters = grid_search.best_params_\n",
        "print(\"Best Accuracy: {:.2f} %\".format(best_accuracy*100))\n",
        "print(\"Best Parameters:\", best_parameters)"
      ],
      "metadata": {
        "id": "5oxVq4A_jxYf",
        "colab": {
          "base_uri": "https://localhost:8080/"
        },
        "outputId": "3a1d72ed-f1f3-4c22-8fe1-05a35d2eec55"
      },
      "execution_count": null,
      "outputs": [
        {
          "output_type": "stream",
          "name": "stdout",
          "text": [
            "Accuracy of Kernel SVM Model: 90.00 %\n",
            "Standard Deviation: 6.83 %\n",
            "Best Accuracy: 91.00 %\n",
            "Best Parameters: {'C': 1, 'gamma': 0.7, 'kernel': 'rbf'}\n"
          ]
        }
      ]
    },
    {
      "cell_type": "code",
      "source": [
        ""
      ],
      "metadata": {
        "id": "-OzF29unjxYg"
      },
      "execution_count": null,
      "outputs": []
    }
  ]
}