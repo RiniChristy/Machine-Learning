{
 "cells": [
  {
   "cell_type": "markdown",
   "id": "842aecea",
   "metadata": {
    "execution": {
     "iopub.execute_input": "2022-05-09T10:27:42.594359Z",
     "iopub.status.busy": "2022-05-09T10:27:42.592975Z",
     "iopub.status.idle": "2022-05-09T10:27:42.602689Z",
     "shell.execute_reply": "2022-05-09T10:27:42.601475Z",
     "shell.execute_reply.started": "2022-05-09T10:27:42.594292Z"
    },
    "papermill": {
     "duration": 0.035966,
     "end_time": "2022-05-09T12:00:49.102911",
     "exception": false,
     "start_time": "2022-05-09T12:00:49.066945",
     "status": "completed"
    },
    "tags": []
   },
   "source": [
    "# **Spaceship Titanic Passenger Destiny**\n",
    "## **Table of Contents**\n",
    "\n",
    "  * [Data Set Information: Spaceship Titanic Data Set](#Information)<br></br>\n",
    "  * [Load & Explore the Spaceship Titanic dataset](#Dataset)<br></br>\n",
    "  * [Data Preprocessing and Visualization](#Preprocessing)<br></br>\n",
    "  * [Model Development & Evaluation](#Model)<br></br>\n",
    "  * [Prediction](#Prediction)<br></br>\n",
    "    \n",
    "\n",
    "\n",
    "### **Import Libraries & Primary modules**"
   ]
  },
  {
   "cell_type": "code",
   "execution_count": 1,
   "id": "8e409f12",
   "metadata": {
    "execution": {
     "iopub.execute_input": "2022-05-09T12:00:49.175041Z",
     "iopub.status.busy": "2022-05-09T12:00:49.174432Z",
     "iopub.status.idle": "2022-05-09T12:00:50.391876Z",
     "shell.execute_reply": "2022-05-09T12:00:50.391210Z"
    },
    "papermill": {
     "duration": 1.256136,
     "end_time": "2022-05-09T12:00:50.394138",
     "exception": false,
     "start_time": "2022-05-09T12:00:49.138002",
     "status": "completed"
    },
    "tags": []
   },
   "outputs": [],
   "source": [
    "import numpy as np \n",
    "import pandas as pd \n",
    "import seaborn as sns\n",
    "import matplotlib.pyplot as plt "
   ]
  },
  {
   "cell_type": "markdown",
   "id": "db4ba067",
   "metadata": {
    "papermill": {
     "duration": 0.033037,
     "end_time": "2022-05-09T12:00:50.463173",
     "exception": false,
     "start_time": "2022-05-09T12:00:50.430136",
     "status": "completed"
    },
    "tags": []
   },
   "source": [
    "## **Dataset Information: Spaceship Titanic Data Set**<a name=\"DatasetInformation\"></a>\n",
    "\n",
    "Spaceship Titanic was enroute with about 13,000 passengers from three different points of origin, Earth, Europa and Mars. The three different destinations recorded for this voyage were as follows:<br>\n",
    "TRAPPIST-1 e around forty light-years away; 55 Cancri e, also known as Janssen, orbits a star called Copernicus only 41 light years away; And finally the farthest, PSO J318.5-22, afree-Floating Exoplanet Found 80 Light-Years from Earth.<br>\n",
    "On its maiden voyage, on course of this ill-fated journey, the Spaceship Titanic collided with a spacetime anomaly. The aim of this project is to predict whether a passenger travelling on this spaceship was transported to an alternate dimension or not from the data of ~8700 passengers of known fate. The fate of the rest of one-third is still a mystery. Using machine learning algorithms this project tries to predict what really happened to those passengers whose fate was still buried from historical records. <br>\n",
    "\n",
    "**File and Data Field Descriptions**<br>\n",
    "1. Passenger with known fate: Personal records for about two-thirds (~8700) of the passengers, to be used as training data\n",
    "  \n",
    "    * PassengerId - A unique Id for each passenger. Each Id takes the form gggg_pp where gggg indicates a group the passenger is travelling with and pp is their number within the group. People in a group are often family members, but not always.\n",
    "    * HomePlanet - The planet the passenger departed from, typically their planet of permanent residence.\n",
    "    * CryoSleep - Indicates whether the passenger elected to be put into suspended animation for the duration of the voyage. Passengers in cryosleep are confined to their cabins.\n",
    "    * Cabin - The cabin number where the passenger is staying. Takes the form deck/num/side, where side can be either P for Port or S for Starboard.\n",
    "    * Destination - The planet the passenger will be debarking to.\n",
    "    * Age - The age of the passenger.\n",
    "    * VIP - Whether the passenger has paid for special VIP service during the voyage.\n",
    "    * RoomService, FoodCourt, ShoppingMall, Spa, VRDeck - Amount the passenger has billed at each of the Spaceship Titanic's many luxury amenities.\n",
    "    * Name - The first and last names of the passenger.\n",
    "    * Transported - Whether the passenger was transported to another dimension. This is the target, the column you are trying to predict.\n",
    "    \n",
    "2. Passengers with unknown fate: Personal records for the remaining one-third (~4300) of the passengers, to be used as test data. The task is to predict the value of Transported for the passengers in this set.\n",
    "\n",
    "Transported - The target. For each passenger, predict either True or False."
   ]
  },
  {
   "cell_type": "markdown",
   "id": "c5bc7714",
   "metadata": {
    "papermill": {
     "duration": 0.033579,
     "end_time": "2022-05-09T12:00:50.531312",
     "exception": false,
     "start_time": "2022-05-09T12:00:50.497733",
     "status": "completed"
    },
    "tags": []
   },
   "source": [
    "## **Load & Explore the Spaceship Titanic datasets**<a name = \"Dataset\"></a>"
   ]
  },
  {
   "cell_type": "code",
   "execution_count": 2,
   "id": "6ac9f5e0",
   "metadata": {
    "execution": {
     "iopub.execute_input": "2022-05-09T12:00:50.600244Z",
     "iopub.status.busy": "2022-05-09T12:00:50.599693Z",
     "iopub.status.idle": "2022-05-09T12:00:50.677253Z",
     "shell.execute_reply": "2022-05-09T12:00:50.676076Z"
    },
    "papermill": {
     "duration": 0.11512,
     "end_time": "2022-05-09T12:00:50.679889",
     "exception": false,
     "start_time": "2022-05-09T12:00:50.564769",
     "status": "completed"
    },
    "tags": []
   },
   "outputs": [
    {
     "data": {
      "text/html": [
       "<div>\n",
       "<style scoped>\n",
       "    .dataframe tbody tr th:only-of-type {\n",
       "        vertical-align: middle;\n",
       "    }\n",
       "\n",
       "    .dataframe tbody tr th {\n",
       "        vertical-align: top;\n",
       "    }\n",
       "\n",
       "    .dataframe thead th {\n",
       "        text-align: right;\n",
       "    }\n",
       "</style>\n",
       "<table border=\"1\" class=\"dataframe\">\n",
       "  <thead>\n",
       "    <tr style=\"text-align: right;\">\n",
       "      <th></th>\n",
       "      <th>PassengerId</th>\n",
       "      <th>HomePlanet</th>\n",
       "      <th>CryoSleep</th>\n",
       "      <th>Cabin</th>\n",
       "      <th>Destination</th>\n",
       "      <th>Age</th>\n",
       "      <th>VIP</th>\n",
       "      <th>RoomService</th>\n",
       "      <th>FoodCourt</th>\n",
       "      <th>ShoppingMall</th>\n",
       "      <th>Spa</th>\n",
       "      <th>VRDeck</th>\n",
       "      <th>Name</th>\n",
       "      <th>Transported</th>\n",
       "    </tr>\n",
       "  </thead>\n",
       "  <tbody>\n",
       "    <tr>\n",
       "      <th>0</th>\n",
       "      <td>0001_01</td>\n",
       "      <td>Europa</td>\n",
       "      <td>False</td>\n",
       "      <td>B/0/P</td>\n",
       "      <td>TRAPPIST-1e</td>\n",
       "      <td>39.0</td>\n",
       "      <td>False</td>\n",
       "      <td>0.0</td>\n",
       "      <td>0.0</td>\n",
       "      <td>0.0</td>\n",
       "      <td>0.0</td>\n",
       "      <td>0.0</td>\n",
       "      <td>Maham Ofracculy</td>\n",
       "      <td>False</td>\n",
       "    </tr>\n",
       "    <tr>\n",
       "      <th>1</th>\n",
       "      <td>0002_01</td>\n",
       "      <td>Earth</td>\n",
       "      <td>False</td>\n",
       "      <td>F/0/S</td>\n",
       "      <td>TRAPPIST-1e</td>\n",
       "      <td>24.0</td>\n",
       "      <td>False</td>\n",
       "      <td>109.0</td>\n",
       "      <td>9.0</td>\n",
       "      <td>25.0</td>\n",
       "      <td>549.0</td>\n",
       "      <td>44.0</td>\n",
       "      <td>Juanna Vines</td>\n",
       "      <td>True</td>\n",
       "    </tr>\n",
       "    <tr>\n",
       "      <th>2</th>\n",
       "      <td>0003_01</td>\n",
       "      <td>Europa</td>\n",
       "      <td>False</td>\n",
       "      <td>A/0/S</td>\n",
       "      <td>TRAPPIST-1e</td>\n",
       "      <td>58.0</td>\n",
       "      <td>True</td>\n",
       "      <td>43.0</td>\n",
       "      <td>3576.0</td>\n",
       "      <td>0.0</td>\n",
       "      <td>6715.0</td>\n",
       "      <td>49.0</td>\n",
       "      <td>Altark Susent</td>\n",
       "      <td>False</td>\n",
       "    </tr>\n",
       "    <tr>\n",
       "      <th>3</th>\n",
       "      <td>0003_02</td>\n",
       "      <td>Europa</td>\n",
       "      <td>False</td>\n",
       "      <td>A/0/S</td>\n",
       "      <td>TRAPPIST-1e</td>\n",
       "      <td>33.0</td>\n",
       "      <td>False</td>\n",
       "      <td>0.0</td>\n",
       "      <td>1283.0</td>\n",
       "      <td>371.0</td>\n",
       "      <td>3329.0</td>\n",
       "      <td>193.0</td>\n",
       "      <td>Solam Susent</td>\n",
       "      <td>False</td>\n",
       "    </tr>\n",
       "    <tr>\n",
       "      <th>4</th>\n",
       "      <td>0004_01</td>\n",
       "      <td>Earth</td>\n",
       "      <td>False</td>\n",
       "      <td>F/1/S</td>\n",
       "      <td>TRAPPIST-1e</td>\n",
       "      <td>16.0</td>\n",
       "      <td>False</td>\n",
       "      <td>303.0</td>\n",
       "      <td>70.0</td>\n",
       "      <td>151.0</td>\n",
       "      <td>565.0</td>\n",
       "      <td>2.0</td>\n",
       "      <td>Willy Santantines</td>\n",
       "      <td>True</td>\n",
       "    </tr>\n",
       "  </tbody>\n",
       "</table>\n",
       "</div>"
      ],
      "text/plain": [
       "  PassengerId HomePlanet CryoSleep  Cabin  Destination   Age    VIP  \\\n",
       "0     0001_01     Europa     False  B/0/P  TRAPPIST-1e  39.0  False   \n",
       "1     0002_01      Earth     False  F/0/S  TRAPPIST-1e  24.0  False   \n",
       "2     0003_01     Europa     False  A/0/S  TRAPPIST-1e  58.0   True   \n",
       "3     0003_02     Europa     False  A/0/S  TRAPPIST-1e  33.0  False   \n",
       "4     0004_01      Earth     False  F/1/S  TRAPPIST-1e  16.0  False   \n",
       "\n",
       "   RoomService  FoodCourt  ShoppingMall     Spa  VRDeck               Name  \\\n",
       "0          0.0        0.0           0.0     0.0     0.0    Maham Ofracculy   \n",
       "1        109.0        9.0          25.0   549.0    44.0       Juanna Vines   \n",
       "2         43.0     3576.0           0.0  6715.0    49.0      Altark Susent   \n",
       "3          0.0     1283.0         371.0  3329.0   193.0       Solam Susent   \n",
       "4        303.0       70.0         151.0   565.0     2.0  Willy Santantines   \n",
       "\n",
       "   Transported  \n",
       "0        False  \n",
       "1         True  \n",
       "2        False  \n",
       "3        False  \n",
       "4         True  "
      ]
     },
     "execution_count": 2,
     "metadata": {},
     "output_type": "execute_result"
    }
   ],
   "source": [
    "df = pd.read_csv('../input/spaceship-titanic/train.csv')\n",
    "df.head()"
   ]
  },
  {
   "cell_type": "code",
   "execution_count": 3,
   "id": "f5d2cc4d",
   "metadata": {
    "execution": {
     "iopub.execute_input": "2022-05-09T12:00:50.750531Z",
     "iopub.status.busy": "2022-05-09T12:00:50.749627Z",
     "iopub.status.idle": "2022-05-09T12:00:50.794636Z",
     "shell.execute_reply": "2022-05-09T12:00:50.793762Z"
    },
    "papermill": {
     "duration": 0.082316,
     "end_time": "2022-05-09T12:00:50.796665",
     "exception": false,
     "start_time": "2022-05-09T12:00:50.714349",
     "status": "completed"
    },
    "tags": []
   },
   "outputs": [
    {
     "data": {
      "text/html": [
       "<div>\n",
       "<style scoped>\n",
       "    .dataframe tbody tr th:only-of-type {\n",
       "        vertical-align: middle;\n",
       "    }\n",
       "\n",
       "    .dataframe tbody tr th {\n",
       "        vertical-align: top;\n",
       "    }\n",
       "\n",
       "    .dataframe thead th {\n",
       "        text-align: right;\n",
       "    }\n",
       "</style>\n",
       "<table border=\"1\" class=\"dataframe\">\n",
       "  <thead>\n",
       "    <tr style=\"text-align: right;\">\n",
       "      <th></th>\n",
       "      <th>PassengerId</th>\n",
       "      <th>HomePlanet</th>\n",
       "      <th>CryoSleep</th>\n",
       "      <th>Cabin</th>\n",
       "      <th>Destination</th>\n",
       "      <th>Age</th>\n",
       "      <th>VIP</th>\n",
       "      <th>RoomService</th>\n",
       "      <th>FoodCourt</th>\n",
       "      <th>ShoppingMall</th>\n",
       "      <th>Spa</th>\n",
       "      <th>VRDeck</th>\n",
       "      <th>Name</th>\n",
       "    </tr>\n",
       "  </thead>\n",
       "  <tbody>\n",
       "    <tr>\n",
       "      <th>0</th>\n",
       "      <td>0013_01</td>\n",
       "      <td>Earth</td>\n",
       "      <td>True</td>\n",
       "      <td>G/3/S</td>\n",
       "      <td>TRAPPIST-1e</td>\n",
       "      <td>27.0</td>\n",
       "      <td>False</td>\n",
       "      <td>0.0</td>\n",
       "      <td>0.0</td>\n",
       "      <td>0.0</td>\n",
       "      <td>0.0</td>\n",
       "      <td>0.0</td>\n",
       "      <td>Nelly Carsoning</td>\n",
       "    </tr>\n",
       "    <tr>\n",
       "      <th>1</th>\n",
       "      <td>0018_01</td>\n",
       "      <td>Earth</td>\n",
       "      <td>False</td>\n",
       "      <td>F/4/S</td>\n",
       "      <td>TRAPPIST-1e</td>\n",
       "      <td>19.0</td>\n",
       "      <td>False</td>\n",
       "      <td>0.0</td>\n",
       "      <td>9.0</td>\n",
       "      <td>0.0</td>\n",
       "      <td>2823.0</td>\n",
       "      <td>0.0</td>\n",
       "      <td>Lerome Peckers</td>\n",
       "    </tr>\n",
       "    <tr>\n",
       "      <th>2</th>\n",
       "      <td>0019_01</td>\n",
       "      <td>Europa</td>\n",
       "      <td>True</td>\n",
       "      <td>C/0/S</td>\n",
       "      <td>55 Cancri e</td>\n",
       "      <td>31.0</td>\n",
       "      <td>False</td>\n",
       "      <td>0.0</td>\n",
       "      <td>0.0</td>\n",
       "      <td>0.0</td>\n",
       "      <td>0.0</td>\n",
       "      <td>0.0</td>\n",
       "      <td>Sabih Unhearfus</td>\n",
       "    </tr>\n",
       "    <tr>\n",
       "      <th>3</th>\n",
       "      <td>0021_01</td>\n",
       "      <td>Europa</td>\n",
       "      <td>False</td>\n",
       "      <td>C/1/S</td>\n",
       "      <td>TRAPPIST-1e</td>\n",
       "      <td>38.0</td>\n",
       "      <td>False</td>\n",
       "      <td>0.0</td>\n",
       "      <td>6652.0</td>\n",
       "      <td>0.0</td>\n",
       "      <td>181.0</td>\n",
       "      <td>585.0</td>\n",
       "      <td>Meratz Caltilter</td>\n",
       "    </tr>\n",
       "    <tr>\n",
       "      <th>4</th>\n",
       "      <td>0023_01</td>\n",
       "      <td>Earth</td>\n",
       "      <td>False</td>\n",
       "      <td>F/5/S</td>\n",
       "      <td>TRAPPIST-1e</td>\n",
       "      <td>20.0</td>\n",
       "      <td>False</td>\n",
       "      <td>10.0</td>\n",
       "      <td>0.0</td>\n",
       "      <td>635.0</td>\n",
       "      <td>0.0</td>\n",
       "      <td>0.0</td>\n",
       "      <td>Brence Harperez</td>\n",
       "    </tr>\n",
       "  </tbody>\n",
       "</table>\n",
       "</div>"
      ],
      "text/plain": [
       "  PassengerId HomePlanet CryoSleep  Cabin  Destination   Age    VIP  \\\n",
       "0     0013_01      Earth      True  G/3/S  TRAPPIST-1e  27.0  False   \n",
       "1     0018_01      Earth     False  F/4/S  TRAPPIST-1e  19.0  False   \n",
       "2     0019_01     Europa      True  C/0/S  55 Cancri e  31.0  False   \n",
       "3     0021_01     Europa     False  C/1/S  TRAPPIST-1e  38.0  False   \n",
       "4     0023_01      Earth     False  F/5/S  TRAPPIST-1e  20.0  False   \n",
       "\n",
       "   RoomService  FoodCourt  ShoppingMall     Spa  VRDeck              Name  \n",
       "0          0.0        0.0           0.0     0.0     0.0   Nelly Carsoning  \n",
       "1          0.0        9.0           0.0  2823.0     0.0    Lerome Peckers  \n",
       "2          0.0        0.0           0.0     0.0     0.0   Sabih Unhearfus  \n",
       "3          0.0     6652.0           0.0   181.0   585.0  Meratz Caltilter  \n",
       "4         10.0        0.0         635.0     0.0     0.0   Brence Harperez  "
      ]
     },
     "execution_count": 3,
     "metadata": {},
     "output_type": "execute_result"
    }
   ],
   "source": [
    "df_test = pd.read_csv('../input/spaceship-titanic/test.csv')\n",
    "df_test.head()"
   ]
  },
  {
   "cell_type": "code",
   "execution_count": 4,
   "id": "18e0643a",
   "metadata": {
    "execution": {
     "iopub.execute_input": "2022-05-09T12:00:50.868731Z",
     "iopub.status.busy": "2022-05-09T12:00:50.868112Z",
     "iopub.status.idle": "2022-05-09T12:00:50.873688Z",
     "shell.execute_reply": "2022-05-09T12:00:50.872878Z"
    },
    "papermill": {
     "duration": 0.044416,
     "end_time": "2022-05-09T12:00:50.875496",
     "exception": false,
     "start_time": "2022-05-09T12:00:50.831080",
     "status": "completed"
    },
    "tags": []
   },
   "outputs": [
    {
     "name": "stdout",
     "output_type": "stream",
     "text": [
      "(8693, 14)\n",
      "(4277, 13)\n"
     ]
    }
   ],
   "source": [
    "print(df.shape)\n",
    "print(df_test.shape)"
   ]
  },
  {
   "cell_type": "code",
   "execution_count": 5,
   "id": "3e7c823f",
   "metadata": {
    "execution": {
     "iopub.execute_input": "2022-05-09T12:00:50.948478Z",
     "iopub.status.busy": "2022-05-09T12:00:50.948027Z",
     "iopub.status.idle": "2022-05-09T12:00:50.986787Z",
     "shell.execute_reply": "2022-05-09T12:00:50.985587Z"
    },
    "papermill": {
     "duration": 0.077137,
     "end_time": "2022-05-09T12:00:50.988931",
     "exception": false,
     "start_time": "2022-05-09T12:00:50.911794",
     "status": "completed"
    },
    "tags": []
   },
   "outputs": [
    {
     "name": "stdout",
     "output_type": "stream",
     "text": [
      "<class 'pandas.core.frame.DataFrame'>\n",
      "RangeIndex: 8693 entries, 0 to 8692\n",
      "Data columns (total 14 columns):\n",
      " #   Column        Non-Null Count  Dtype  \n",
      "---  ------        --------------  -----  \n",
      " 0   PassengerId   8693 non-null   object \n",
      " 1   HomePlanet    8492 non-null   object \n",
      " 2   CryoSleep     8476 non-null   object \n",
      " 3   Cabin         8494 non-null   object \n",
      " 4   Destination   8511 non-null   object \n",
      " 5   Age           8514 non-null   float64\n",
      " 6   VIP           8490 non-null   object \n",
      " 7   RoomService   8512 non-null   float64\n",
      " 8   FoodCourt     8510 non-null   float64\n",
      " 9   ShoppingMall  8485 non-null   float64\n",
      " 10  Spa           8510 non-null   float64\n",
      " 11  VRDeck        8505 non-null   float64\n",
      " 12  Name          8493 non-null   object \n",
      " 13  Transported   8693 non-null   bool   \n",
      "dtypes: bool(1), float64(6), object(7)\n",
      "memory usage: 891.5+ KB\n",
      "<class 'pandas.core.frame.DataFrame'>\n",
      "RangeIndex: 4277 entries, 0 to 4276\n",
      "Data columns (total 13 columns):\n",
      " #   Column        Non-Null Count  Dtype  \n",
      "---  ------        --------------  -----  \n",
      " 0   PassengerId   4277 non-null   object \n",
      " 1   HomePlanet    4190 non-null   object \n",
      " 2   CryoSleep     4184 non-null   object \n",
      " 3   Cabin         4177 non-null   object \n",
      " 4   Destination   4185 non-null   object \n",
      " 5   Age           4186 non-null   float64\n",
      " 6   VIP           4184 non-null   object \n",
      " 7   RoomService   4195 non-null   float64\n",
      " 8   FoodCourt     4171 non-null   float64\n",
      " 9   ShoppingMall  4179 non-null   float64\n",
      " 10  Spa           4176 non-null   float64\n",
      " 11  VRDeck        4197 non-null   float64\n",
      " 12  Name          4183 non-null   object \n",
      "dtypes: float64(6), object(7)\n",
      "memory usage: 434.5+ KB\n"
     ]
    },
    {
     "data": {
      "text/plain": [
       "(None, None)"
      ]
     },
     "execution_count": 5,
     "metadata": {},
     "output_type": "execute_result"
    }
   ],
   "source": [
    "df.info(), df_test.info()"
   ]
  },
  {
   "cell_type": "markdown",
   "id": "e057b056",
   "metadata": {
    "papermill": {
     "duration": 0.034834,
     "end_time": "2022-05-09T12:00:51.059075",
     "exception": false,
     "start_time": "2022-05-09T12:00:51.024241",
     "status": "completed"
    },
    "tags": []
   },
   "source": [
    "## **Data Preprocessing and Visualization**<a name = 'Preprocessing'></a>\n",
    "### **Missing data cleaning**"
   ]
  },
  {
   "cell_type": "code",
   "execution_count": 6,
   "id": "42e1f01c",
   "metadata": {
    "execution": {
     "iopub.execute_input": "2022-05-09T12:00:51.132240Z",
     "iopub.status.busy": "2022-05-09T12:00:51.131769Z",
     "iopub.status.idle": "2022-05-09T12:00:51.144840Z",
     "shell.execute_reply": "2022-05-09T12:00:51.144151Z"
    },
    "papermill": {
     "duration": 0.051798,
     "end_time": "2022-05-09T12:00:51.146911",
     "exception": false,
     "start_time": "2022-05-09T12:00:51.095113",
     "status": "completed"
    },
    "tags": []
   },
   "outputs": [
    {
     "data": {
      "text/plain": [
       "(PassengerId       0\n",
       " HomePlanet      201\n",
       " CryoSleep       217\n",
       " Cabin           199\n",
       " Destination     182\n",
       " Age             179\n",
       " VIP             203\n",
       " RoomService     181\n",
       " FoodCourt       183\n",
       " ShoppingMall    208\n",
       " Spa             183\n",
       " VRDeck          188\n",
       " Name            200\n",
       " Transported       0\n",
       " dtype: int64,\n",
       " PassengerId       0\n",
       " HomePlanet       87\n",
       " CryoSleep        93\n",
       " Cabin           100\n",
       " Destination      92\n",
       " Age              91\n",
       " VIP              93\n",
       " RoomService      82\n",
       " FoodCourt       106\n",
       " ShoppingMall     98\n",
       " Spa             101\n",
       " VRDeck           80\n",
       " Name             94\n",
       " dtype: int64)"
      ]
     },
     "execution_count": 6,
     "metadata": {},
     "output_type": "execute_result"
    }
   ],
   "source": [
    "df.isnull().sum(), df_test.isnull().sum()"
   ]
  },
  {
   "cell_type": "markdown",
   "id": "a5bde82c",
   "metadata": {
    "papermill": {
     "duration": 0.037105,
     "end_time": "2022-05-09T12:00:51.221926",
     "exception": false,
     "start_time": "2022-05-09T12:00:51.184821",
     "status": "completed"
    },
    "tags": []
   },
   "source": [
    "The missing values can be easily spotted through sns.heatmap"
   ]
  },
  {
   "cell_type": "code",
   "execution_count": 7,
   "id": "23c5613e",
   "metadata": {
    "execution": {
     "iopub.execute_input": "2022-05-09T12:00:51.299490Z",
     "iopub.status.busy": "2022-05-09T12:00:51.299136Z",
     "iopub.status.idle": "2022-05-09T12:00:51.719829Z",
     "shell.execute_reply": "2022-05-09T12:00:51.718819Z"
    },
    "papermill": {
     "duration": 0.461934,
     "end_time": "2022-05-09T12:00:51.721853",
     "exception": false,
     "start_time": "2022-05-09T12:00:51.259919",
     "status": "completed"
    },
    "tags": []
   },
   "outputs": [
    {
     "data": {
      "image/png": "[encoded data removed]",
      "text/plain": [
       "<Figure size 864x432 with 1 Axes>"
      ]
     },
     "metadata": {
      "needs_background": "light"
     },
     "output_type": "display_data"
    }
   ],
   "source": [
    "plt.figure(figsize = (12,6))\n",
    "sns.heatmap(df.isnull(), yticklabels=False, cbar=False, cmap = 'cividis');"
   ]
  },
  {
   "cell_type": "code",
   "execution_count": 8,
   "id": "282c196a",
   "metadata": {
    "execution": {
     "iopub.execute_input": "2022-05-09T12:00:51.798474Z",
     "iopub.status.busy": "2022-05-09T12:00:51.798153Z",
     "iopub.status.idle": "2022-05-09T12:00:52.085133Z",
     "shell.execute_reply": "2022-05-09T12:00:52.084294Z"
    },
    "papermill": {
     "duration": 0.327848,
     "end_time": "2022-05-09T12:00:52.087495",
     "exception": false,
     "start_time": "2022-05-09T12:00:51.759647",
     "status": "completed"
    },
    "tags": []
   },
   "outputs": [
    {
     "data": {
      "image/png": "[encoded data removed]",
      "text/plain": [
       "<Figure size 864x432 with 1 Axes>"
      ]
     },
     "metadata": {
      "needs_background": "light"
     },
     "output_type": "display_data"
    }
   ],
   "source": [
    "plt.figure(figsize = (12,6))\n",
    "sns.heatmap(df_test.isnull(), yticklabels=False, cbar=False, cmap = 'plasma');"
   ]
  },
  {
   "cell_type": "markdown",
   "id": "6264864d",
   "metadata": {
    "papermill": {
     "duration": 0.037803,
     "end_time": "2022-05-09T12:00:52.163639",
     "exception": false,
     "start_time": "2022-05-09T12:00:52.125836",
     "status": "completed"
    },
    "tags": []
   },
   "source": [
    "#### **Handling Cabin Column**\n",
    "The cabin number where the passenger is staying. Takes the form deck/num/side, where side can be either P for Port or S for Starboard. The missing values are replaced by a new value 'X/0/x'. The filled 'Cabin column is then split into 'deck', 'num' and 'side'."
   ]
  },
  {
   "cell_type": "code",
   "execution_count": 9,
   "id": "498d459a",
   "metadata": {
    "execution": {
     "iopub.execute_input": "2022-05-09T12:00:52.243003Z",
     "iopub.status.busy": "2022-05-09T12:00:52.242180Z",
     "iopub.status.idle": "2022-05-09T12:00:52.269924Z",
     "shell.execute_reply": "2022-05-09T12:00:52.268966Z"
    },
    "papermill": {
     "duration": 0.069225,
     "end_time": "2022-05-09T12:00:52.272273",
     "exception": false,
     "start_time": "2022-05-09T12:00:52.203048",
     "status": "completed"
    },
    "tags": []
   },
   "outputs": [],
   "source": [
    "df['Cabin']= df['Cabin'].fillna(value = 'X/0.0/x')\n",
    "df_test['Cabin']= df_test['Cabin'].fillna(value = 'X/0.0/x')\n",
    "df[['deck', 'num', 'side']]= df['Cabin'].str.split('/', expand = True)\n",
    "df_test[['deck', 'num', 'side']]= df_test['Cabin'].str.split('/', expand = True)"
   ]
  },
  {
   "cell_type": "markdown",
   "id": "fec7149e",
   "metadata": {
    "papermill": {
     "duration": 0.037279,
     "end_time": "2022-05-09T12:00:52.347052",
     "exception": false,
     "start_time": "2022-05-09T12:00:52.309773",
     "status": "completed"
    },
    "tags": []
   },
   "source": [
    "#### **Filling up age column:** \n",
    "It seems better to fill the age column with the mean age per VIP class. Use the average age values based on VIP for Age."
   ]
  },
  {
   "cell_type": "code",
   "execution_count": 10,
   "id": "da73039a",
   "metadata": {
    "execution": {
     "iopub.execute_input": "2022-05-09T12:00:52.423054Z",
     "iopub.status.busy": "2022-05-09T12:00:52.422752Z",
     "iopub.status.idle": "2022-05-09T12:00:52.635962Z",
     "shell.execute_reply": "2022-05-09T12:00:52.635073Z"
    },
    "papermill": {
     "duration": 0.25375,
     "end_time": "2022-05-09T12:00:52.637903",
     "exception": false,
     "start_time": "2022-05-09T12:00:52.384153",
     "status": "completed"
    },
    "tags": []
   },
   "outputs": [
    {
     "data": {
      "image/png": "[encoded data removed]",
      "text/plain": [
       "<Figure size 864x432 with 1 Axes>"
      ]
     },
     "metadata": {
      "needs_background": "light"
     },
     "output_type": "display_data"
    }
   ],
   "source": [
    "plt.figure(figsize=(12, 6))\n",
    "sns.boxplot(x='VIP',y='Age',data=df,palette='winter');"
   ]
  },
  {
   "cell_type": "code",
   "execution_count": 11,
   "id": "7da73e7c",
   "metadata": {
    "execution": {
     "iopub.execute_input": "2022-05-09T12:00:52.716294Z",
     "iopub.status.busy": "2022-05-09T12:00:52.715799Z",
     "iopub.status.idle": "2022-05-09T12:00:52.735045Z",
     "shell.execute_reply": "2022-05-09T12:00:52.734146Z"
    },
    "papermill": {
     "duration": 0.061213,
     "end_time": "2022-05-09T12:00:52.737193",
     "exception": false,
     "start_time": "2022-05-09T12:00:52.675980",
     "status": "completed"
    },
    "tags": []
   },
   "outputs": [
    {
     "data": {
      "text/html": [
       "<div>\n",
       "<style scoped>\n",
       "    .dataframe tbody tr th:only-of-type {\n",
       "        vertical-align: middle;\n",
       "    }\n",
       "\n",
       "    .dataframe tbody tr th {\n",
       "        vertical-align: top;\n",
       "    }\n",
       "\n",
       "    .dataframe thead th {\n",
       "        text-align: right;\n",
       "    }\n",
       "</style>\n",
       "<table border=\"1\" class=\"dataframe\">\n",
       "  <thead>\n",
       "    <tr style=\"text-align: right;\">\n",
       "      <th></th>\n",
       "      <th>Age</th>\n",
       "      <th>RoomService</th>\n",
       "      <th>FoodCourt</th>\n",
       "      <th>ShoppingMall</th>\n",
       "      <th>Spa</th>\n",
       "      <th>VRDeck</th>\n",
       "      <th>Transported</th>\n",
       "    </tr>\n",
       "    <tr>\n",
       "      <th>VIP</th>\n",
       "      <th></th>\n",
       "      <th></th>\n",
       "      <th></th>\n",
       "      <th></th>\n",
       "      <th></th>\n",
       "      <th></th>\n",
       "      <th></th>\n",
       "    </tr>\n",
       "  </thead>\n",
       "  <tbody>\n",
       "    <tr>\n",
       "      <th>False</th>\n",
       "      <td>28.639611</td>\n",
       "      <td>217.218527</td>\n",
       "      <td>426.336536</td>\n",
       "      <td>173.876298</td>\n",
       "      <td>301.711045</td>\n",
       "      <td>282.718056</td>\n",
       "      <td>0.506332</td>\n",
       "    </tr>\n",
       "    <tr>\n",
       "      <th>True</th>\n",
       "      <td>37.449495</td>\n",
       "      <td>473.615385</td>\n",
       "      <td>1811.393782</td>\n",
       "      <td>247.726804</td>\n",
       "      <td>760.710660</td>\n",
       "      <td>1234.856410</td>\n",
       "      <td>0.381910</td>\n",
       "    </tr>\n",
       "  </tbody>\n",
       "</table>\n",
       "</div>"
      ],
      "text/plain": [
       "             Age  RoomService    FoodCourt  ShoppingMall         Spa  \\\n",
       "VIP                                                                    \n",
       "False  28.639611   217.218527   426.336536    173.876298  301.711045   \n",
       "True   37.449495   473.615385  1811.393782    247.726804  760.710660   \n",
       "\n",
       "            VRDeck  Transported  \n",
       "VIP                              \n",
       "False   282.718056     0.506332  \n",
       "True   1234.856410     0.381910  "
      ]
     },
     "execution_count": 11,
     "metadata": {},
     "output_type": "execute_result"
    }
   ],
   "source": [
    "df.groupby('VIP').mean()"
   ]
  },
  {
   "cell_type": "code",
   "execution_count": 12,
   "id": "b1001a25",
   "metadata": {
    "execution": {
     "iopub.execute_input": "2022-05-09T12:00:52.816592Z",
     "iopub.status.busy": "2022-05-09T12:00:52.816260Z",
     "iopub.status.idle": "2022-05-09T12:00:52.831273Z",
     "shell.execute_reply": "2022-05-09T12:00:52.830719Z"
    },
    "papermill": {
     "duration": 0.056268,
     "end_time": "2022-05-09T12:00:52.832981",
     "exception": false,
     "start_time": "2022-05-09T12:00:52.776713",
     "status": "completed"
    },
    "tags": []
   },
   "outputs": [
    {
     "data": {
      "text/html": [
       "<div>\n",
       "<style scoped>\n",
       "    .dataframe tbody tr th:only-of-type {\n",
       "        vertical-align: middle;\n",
       "    }\n",
       "\n",
       "    .dataframe tbody tr th {\n",
       "        vertical-align: top;\n",
       "    }\n",
       "\n",
       "    .dataframe thead th {\n",
       "        text-align: right;\n",
       "    }\n",
       "</style>\n",
       "<table border=\"1\" class=\"dataframe\">\n",
       "  <thead>\n",
       "    <tr style=\"text-align: right;\">\n",
       "      <th></th>\n",
       "      <th>Age</th>\n",
       "      <th>RoomService</th>\n",
       "      <th>FoodCourt</th>\n",
       "      <th>ShoppingMall</th>\n",
       "      <th>Spa</th>\n",
       "      <th>VRDeck</th>\n",
       "    </tr>\n",
       "    <tr>\n",
       "      <th>VIP</th>\n",
       "      <th></th>\n",
       "      <th></th>\n",
       "      <th></th>\n",
       "      <th></th>\n",
       "      <th></th>\n",
       "      <th></th>\n",
       "    </tr>\n",
       "  </thead>\n",
       "  <tbody>\n",
       "    <tr>\n",
       "      <th>False</th>\n",
       "      <td>28.487447</td>\n",
       "      <td>215.763334</td>\n",
       "      <td>405.711610</td>\n",
       "      <td>174.269240</td>\n",
       "      <td>274.936207</td>\n",
       "      <td>291.327467</td>\n",
       "    </tr>\n",
       "    <tr>\n",
       "      <th>True</th>\n",
       "      <td>34.534247</td>\n",
       "      <td>519.905405</td>\n",
       "      <td>1747.378378</td>\n",
       "      <td>343.611111</td>\n",
       "      <td>1403.833333</td>\n",
       "      <td>1131.239437</td>\n",
       "    </tr>\n",
       "  </tbody>\n",
       "</table>\n",
       "</div>"
      ],
      "text/plain": [
       "             Age  RoomService    FoodCourt  ShoppingMall          Spa  \\\n",
       "VIP                                                                     \n",
       "False  28.487447   215.763334   405.711610    174.269240   274.936207   \n",
       "True   34.534247   519.905405  1747.378378    343.611111  1403.833333   \n",
       "\n",
       "            VRDeck  \n",
       "VIP                 \n",
       "False   291.327467  \n",
       "True   1131.239437  "
      ]
     },
     "execution_count": 12,
     "metadata": {},
     "output_type": "execute_result"
    }
   ],
   "source": [
    "df_test.groupby('VIP').mean()"
   ]
  },
  {
   "cell_type": "code",
   "execution_count": 13,
   "id": "63a6c00d",
   "metadata": {
    "execution": {
     "iopub.execute_input": "2022-05-09T12:00:52.913062Z",
     "iopub.status.busy": "2022-05-09T12:00:52.912293Z",
     "iopub.status.idle": "2022-05-09T12:00:52.919296Z",
     "shell.execute_reply": "2022-05-09T12:00:52.918496Z"
    },
    "papermill": {
     "duration": 0.049366,
     "end_time": "2022-05-09T12:00:52.921345",
     "exception": false,
     "start_time": "2022-05-09T12:00:52.871979",
     "status": "completed"
    },
    "tags": []
   },
   "outputs": [
    {
     "data": {
      "text/plain": [
       "28.82793046746535"
      ]
     },
     "execution_count": 13,
     "metadata": {},
     "output_type": "execute_result"
    }
   ],
   "source": [
    "df['Age'].mean()"
   ]
  },
  {
   "cell_type": "markdown",
   "id": "870cbf14",
   "metadata": {
    "papermill": {
     "duration": 0.039084,
     "end_time": "2022-05-09T12:00:53.001461",
     "exception": false,
     "start_time": "2022-05-09T12:00:52.962377",
     "status": "completed"
    },
    "tags": []
   },
   "source": [
    "For Train set the mean age of VIP paasengers are found to be 38 and in test set it is 35. So define different functions for both train and test set. The mean age of all passengers and also those in non -VIP list is found to be 29. So define function accordingly. "
   ]
  },
  {
   "cell_type": "code",
   "execution_count": 14,
   "id": "48f03f7e",
   "metadata": {
    "execution": {
     "iopub.execute_input": "2022-05-09T12:00:53.082138Z",
     "iopub.status.busy": "2022-05-09T12:00:53.081842Z",
     "iopub.status.idle": "2022-05-09T12:00:53.087120Z",
     "shell.execute_reply": "2022-05-09T12:00:53.086201Z"
    },
    "papermill": {
     "duration": 0.048385,
     "end_time": "2022-05-09T12:00:53.089204",
     "exception": false,
     "start_time": "2022-05-09T12:00:53.040819",
     "status": "completed"
    },
    "tags": []
   },
   "outputs": [],
   "source": [
    "def impute_age(cols):\n",
    "    Age = cols[0]\n",
    "    VIP = cols[1]   \n",
    "    if pd.isnull(Age):\n",
    "        if VIP == True:\n",
    "            return 38\n",
    "        elif VIP == False:\n",
    "            return 29\n",
    "        else:\n",
    "            return 29\n",
    "    else:\n",
    "        return Age"
   ]
  },
  {
   "cell_type": "code",
   "execution_count": 15,
   "id": "e0f9b920",
   "metadata": {
    "execution": {
     "iopub.execute_input": "2022-05-09T12:00:53.171219Z",
     "iopub.status.busy": "2022-05-09T12:00:53.170372Z",
     "iopub.status.idle": "2022-05-09T12:00:53.175492Z",
     "shell.execute_reply": "2022-05-09T12:00:53.174852Z"
    },
    "papermill": {
     "duration": 0.048385,
     "end_time": "2022-05-09T12:00:53.177245",
     "exception": false,
     "start_time": "2022-05-09T12:00:53.128860",
     "status": "completed"
    },
    "tags": []
   },
   "outputs": [],
   "source": [
    "def impute_age_test(cols): \n",
    "    Age = cols[0]\n",
    "    VIP = cols[1]\n",
    "    if pd.isnull(Age):\n",
    "        if VIP == True:\n",
    "            return 35\n",
    "        elif VIP == False:\n",
    "            return 29\n",
    "        else:\n",
    "            return 29\n",
    "    else:\n",
    "        return Age"
   ]
  },
  {
   "cell_type": "code",
   "execution_count": 16,
   "id": "3cd90c95",
   "metadata": {
    "execution": {
     "iopub.execute_input": "2022-05-09T12:00:53.260048Z",
     "iopub.status.busy": "2022-05-09T12:00:53.259128Z",
     "iopub.status.idle": "2022-05-09T12:00:53.394626Z",
     "shell.execute_reply": "2022-05-09T12:00:53.393763Z"
    },
    "papermill": {
     "duration": 0.179831,
     "end_time": "2022-05-09T12:00:53.396651",
     "exception": false,
     "start_time": "2022-05-09T12:00:53.216820",
     "status": "completed"
    },
    "tags": []
   },
   "outputs": [
    {
     "name": "stdout",
     "output_type": "stream",
     "text": [
      "0\n",
      "0\n"
     ]
    }
   ],
   "source": [
    "#Now apply those function!\n",
    "df['Age'] = df[['Age','VIP']].apply(impute_age,axis=1)\n",
    "print(df['Age'].isnull().sum())\n",
    "df_test['Age'] = df_test[['Age','VIP']].apply(impute_age_test,axis=1)\n",
    "print(df_test['Age'].isnull().sum())"
   ]
  },
  {
   "cell_type": "markdown",
   "id": "81cd891d",
   "metadata": {
    "papermill": {
     "duration": 0.039253,
     "end_time": "2022-05-09T12:00:53.475549",
     "exception": false,
     "start_time": "2022-05-09T12:00:53.436296",
     "status": "completed"
    },
    "tags": []
   },
   "source": [
    "The missing categorical values are filled as 'Unknown' and numerical values as 0, except for the age."
   ]
  },
  {
   "cell_type": "code",
   "execution_count": 17,
   "id": "a8defa4a",
   "metadata": {
    "execution": {
     "iopub.execute_input": "2022-05-09T12:00:53.558310Z",
     "iopub.status.busy": "2022-05-09T12:00:53.557643Z",
     "iopub.status.idle": "2022-05-09T12:00:53.596151Z",
     "shell.execute_reply": "2022-05-09T12:00:53.595299Z"
    },
    "papermill": {
     "duration": 0.083119,
     "end_time": "2022-05-09T12:00:53.598665",
     "exception": false,
     "start_time": "2022-05-09T12:00:53.515546",
     "status": "completed"
    },
    "tags": []
   },
   "outputs": [],
   "source": [
    "df[df.select_dtypes(include=['object']).columns] = df[df.select_dtypes(include=['object']).columns].fillna('Unknown')\n",
    "df = df.fillna(0.0)\n",
    "df_test[df_test.select_dtypes(include=['object']).columns] = df_test[df_test.select_dtypes(include=['object']).columns].fillna('Unknown')\n",
    "df_test = df_test.fillna(0.0)"
   ]
  },
  {
   "cell_type": "code",
   "execution_count": 18,
   "id": "5a374b5c",
   "metadata": {
    "execution": {
     "iopub.execute_input": "2022-05-09T12:00:53.680470Z",
     "iopub.status.busy": "2022-05-09T12:00:53.680177Z",
     "iopub.status.idle": "2022-05-09T12:00:53.690146Z",
     "shell.execute_reply": "2022-05-09T12:00:53.689463Z"
    },
    "papermill": {
     "duration": 0.052661,
     "end_time": "2022-05-09T12:00:53.691937",
     "exception": false,
     "start_time": "2022-05-09T12:00:53.639276",
     "status": "completed"
    },
    "tags": []
   },
   "outputs": [
    {
     "data": {
      "text/plain": [
       "False"
      ]
     },
     "execution_count": 18,
     "metadata": {},
     "output_type": "execute_result"
    }
   ],
   "source": [
    "df.isnull().values.any()"
   ]
  },
  {
   "cell_type": "code",
   "execution_count": 19,
   "id": "a86b1986",
   "metadata": {
    "execution": {
     "iopub.execute_input": "2022-05-09T12:00:53.774525Z",
     "iopub.status.busy": "2022-05-09T12:00:53.774166Z",
     "iopub.status.idle": "2022-05-09T12:00:53.784013Z",
     "shell.execute_reply": "2022-05-09T12:00:53.783161Z"
    },
    "papermill": {
     "duration": 0.053188,
     "end_time": "2022-05-09T12:00:53.785956",
     "exception": false,
     "start_time": "2022-05-09T12:00:53.732768",
     "status": "completed"
    },
    "tags": []
   },
   "outputs": [
    {
     "data": {
      "text/plain": [
       "False"
      ]
     },
     "execution_count": 19,
     "metadata": {},
     "output_type": "execute_result"
    }
   ],
   "source": [
    "df_test.isnull().values.any()"
   ]
  },
  {
   "cell_type": "markdown",
   "id": "53ebee00",
   "metadata": {
    "papermill": {
     "duration": 0.039675,
     "end_time": "2022-05-09T12:00:53.865607",
     "exception": false,
     "start_time": "2022-05-09T12:00:53.825932",
     "status": "completed"
    },
    "tags": []
   },
   "source": [
    "### **Converting Categorical Features**"
   ]
  },
  {
   "cell_type": "markdown",
   "id": "686a3fd5",
   "metadata": {
    "papermill": {
     "duration": 0.040054,
     "end_time": "2022-05-09T12:00:53.945993",
     "exception": false,
     "start_time": "2022-05-09T12:00:53.905939",
     "status": "completed"
    },
    "tags": []
   },
   "source": [
    "Encoders require their input to be uniformly strings or numbers. 'CryoSleep' and'VIP' columns contain Boolean values. Convert them to string data type before going in for encoding. "
   ]
  },
  {
   "cell_type": "code",
   "execution_count": 20,
   "id": "723b495c",
   "metadata": {
    "execution": {
     "iopub.execute_input": "2022-05-09T12:00:54.029997Z",
     "iopub.status.busy": "2022-05-09T12:00:54.029413Z",
     "iopub.status.idle": "2022-05-09T12:00:54.045202Z",
     "shell.execute_reply": "2022-05-09T12:00:54.044471Z"
    },
    "papermill": {
     "duration": 0.059535,
     "end_time": "2022-05-09T12:00:54.047387",
     "exception": false,
     "start_time": "2022-05-09T12:00:53.987852",
     "status": "completed"
    },
    "tags": []
   },
   "outputs": [],
   "source": [
    "convert_dict = {'CryoSleep': str,'VIP': str}\n",
    "df = df.astype(convert_dict)\n",
    "df_test = df_test.astype(convert_dict)"
   ]
  },
  {
   "cell_type": "code",
   "execution_count": 21,
   "id": "0b6a6874",
   "metadata": {
    "execution": {
     "iopub.execute_input": "2022-05-09T12:00:54.132077Z",
     "iopub.status.busy": "2022-05-09T12:00:54.131500Z",
     "iopub.status.idle": "2022-05-09T12:00:54.145898Z",
     "shell.execute_reply": "2022-05-09T12:00:54.144916Z"
    },
    "papermill": {
     "duration": 0.059425,
     "end_time": "2022-05-09T12:00:54.147993",
     "exception": false,
     "start_time": "2022-05-09T12:00:54.088568",
     "status": "completed"
    },
    "tags": []
   },
   "outputs": [
    {
     "name": "stdout",
     "output_type": "stream",
     "text": [
      "(8693, 14)\n",
      "(8693,)\n",
      "(4277, 14)\n"
     ]
    }
   ],
   "source": [
    "X = df.drop([\"PassengerId\", \"Cabin\", \"Transported\"], axis = 1)\n",
    "y = df[\"Transported\"]\n",
    "titanic_test = df_test.drop([\"PassengerId\", \"Cabin\"], axis = 1)\n",
    "\n",
    "print(X.shape)\n",
    "print(y.shape)\n",
    "print (titanic_test.shape)"
   ]
  },
  {
   "cell_type": "markdown",
   "id": "619b9d20",
   "metadata": {
    "papermill": {
     "duration": 0.040077,
     "end_time": "2022-05-09T12:00:54.228245",
     "exception": false,
     "start_time": "2022-05-09T12:00:54.188168",
     "status": "completed"
    },
    "tags": []
   },
   "source": [
    "OrdinalEncoder from scikit learn, which allows multi-column encoding can be used to convert categorical features in numerical data type."
   ]
  },
  {
   "cell_type": "code",
   "execution_count": 22,
   "id": "ed1cc1fb",
   "metadata": {
    "execution": {
     "iopub.execute_input": "2022-05-09T12:00:54.311278Z",
     "iopub.status.busy": "2022-05-09T12:00:54.310987Z",
     "iopub.status.idle": "2022-05-09T12:00:54.566520Z",
     "shell.execute_reply": "2022-05-09T12:00:54.565746Z"
    },
    "papermill": {
     "duration": 0.300128,
     "end_time": "2022-05-09T12:00:54.568867",
     "exception": false,
     "start_time": "2022-05-09T12:00:54.268739",
     "status": "completed"
    },
    "tags": []
   },
   "outputs": [],
   "source": [
    "from sklearn.preprocessing import OrdinalEncoder\n",
    "enc = OrdinalEncoder()\n",
    "X[X.select_dtypes(include=['object']).columns] = enc.fit_transform(X[X.select_dtypes(include=['object']).columns])\n",
    "titanic_test[titanic_test.select_dtypes(include=['object']).columns] = enc.fit_transform(titanic_test[titanic_test.select_dtypes(include=['object']).columns])"
   ]
  },
  {
   "cell_type": "code",
   "execution_count": 23,
   "id": "098297a8",
   "metadata": {
    "execution": {
     "iopub.execute_input": "2022-05-09T12:00:54.651254Z",
     "iopub.status.busy": "2022-05-09T12:00:54.650947Z",
     "iopub.status.idle": "2022-05-09T12:00:54.674054Z",
     "shell.execute_reply": "2022-05-09T12:00:54.673338Z"
    },
    "papermill": {
     "duration": 0.067678,
     "end_time": "2022-05-09T12:00:54.676962",
     "exception": false,
     "start_time": "2022-05-09T12:00:54.609284",
     "status": "completed"
    },
    "tags": []
   },
   "outputs": [
    {
     "name": "stdout",
     "output_type": "stream",
     "text": [
      "<class 'pandas.core.frame.DataFrame'>\n",
      "RangeIndex: 8693 entries, 0 to 8692\n",
      "Data columns (total 14 columns):\n",
      " #   Column        Non-Null Count  Dtype  \n",
      "---  ------        --------------  -----  \n",
      " 0   HomePlanet    8693 non-null   float64\n",
      " 1   CryoSleep     8693 non-null   float64\n",
      " 2   Destination   8693 non-null   float64\n",
      " 3   Age           8693 non-null   float64\n",
      " 4   VIP           8693 non-null   float64\n",
      " 5   RoomService   8693 non-null   float64\n",
      " 6   FoodCourt     8693 non-null   float64\n",
      " 7   ShoppingMall  8693 non-null   float64\n",
      " 8   Spa           8693 non-null   float64\n",
      " 9   VRDeck        8693 non-null   float64\n",
      " 10  Name          8693 non-null   float64\n",
      " 11  deck          8693 non-null   float64\n",
      " 12  num           8693 non-null   float64\n",
      " 13  side          8693 non-null   float64\n",
      "dtypes: float64(14)\n",
      "memory usage: 950.9 KB\n",
      "<class 'pandas.core.frame.DataFrame'>\n",
      "RangeIndex: 4277 entries, 0 to 4276\n",
      "Data columns (total 14 columns):\n",
      " #   Column        Non-Null Count  Dtype  \n",
      "---  ------        --------------  -----  \n",
      " 0   HomePlanet    4277 non-null   float64\n",
      " 1   CryoSleep     4277 non-null   float64\n",
      " 2   Destination   4277 non-null   float64\n",
      " 3   Age           4277 non-null   float64\n",
      " 4   VIP           4277 non-null   float64\n",
      " 5   RoomService   4277 non-null   float64\n",
      " 6   FoodCourt     4277 non-null   float64\n",
      " 7   ShoppingMall  4277 non-null   float64\n",
      " 8   Spa           4277 non-null   float64\n",
      " 9   VRDeck        4277 non-null   float64\n",
      " 10  Name          4277 non-null   float64\n",
      " 11  deck          4277 non-null   float64\n",
      " 12  num           4277 non-null   float64\n",
      " 13  side          4277 non-null   float64\n",
      "dtypes: float64(14)\n",
      "memory usage: 467.9 KB\n"
     ]
    },
    {
     "data": {
      "text/plain": [
       "(None, None)"
      ]
     },
     "execution_count": 23,
     "metadata": {},
     "output_type": "execute_result"
    }
   ],
   "source": [
    "X.info(), titanic_test.info()"
   ]
  },
  {
   "cell_type": "markdown",
   "id": "7d789b38",
   "metadata": {
    "papermill": {
     "duration": 0.040861,
     "end_time": "2022-05-09T12:00:54.758930",
     "exception": false,
     "start_time": "2022-05-09T12:00:54.718069",
     "status": "completed"
    },
    "tags": []
   },
   "source": [
    "### **Train Test Split**"
   ]
  },
  {
   "cell_type": "code",
   "execution_count": 24,
   "id": "13c9b0d0",
   "metadata": {
    "execution": {
     "iopub.execute_input": "2022-05-09T12:00:54.842597Z",
     "iopub.status.busy": "2022-05-09T12:00:54.841826Z",
     "iopub.status.idle": "2022-05-09T12:00:54.917774Z",
     "shell.execute_reply": "2022-05-09T12:00:54.916225Z"
    },
    "papermill": {
     "duration": 0.120404,
     "end_time": "2022-05-09T12:00:54.920060",
     "exception": false,
     "start_time": "2022-05-09T12:00:54.799656",
     "status": "completed"
    },
    "tags": []
   },
   "outputs": [
    {
     "name": "stdout",
     "output_type": "stream",
     "text": [
      "Train set: (6085, 14) (6085,)\n",
      "Test set: (2608, 14) (2608,)\n"
     ]
    }
   ],
   "source": [
    "from sklearn.model_selection import train_test_split\n",
    "X_train, X_test, y_train, y_test = train_test_split(X, y, test_size=0.30, random_state=101)\n",
    "print ('Train set:', X_train.shape,  y_train.shape)\n",
    "print ('Test set:', X_test.shape,  y_test.shape)"
   ]
  },
  {
   "cell_type": "markdown",
   "id": "6e7f944c",
   "metadata": {
    "papermill": {
     "duration": 0.041613,
     "end_time": "2022-05-09T12:00:55.003205",
     "exception": false,
     "start_time": "2022-05-09T12:00:54.961592",
     "status": "completed"
    },
    "tags": []
   },
   "source": [
    "### **Standardize the Variables**"
   ]
  },
  {
   "cell_type": "code",
   "execution_count": 25,
   "id": "5596d7db",
   "metadata": {
    "execution": {
     "iopub.execute_input": "2022-05-09T12:00:55.089472Z",
     "iopub.status.busy": "2022-05-09T12:00:55.088465Z",
     "iopub.status.idle": "2022-05-09T12:00:55.102102Z",
     "shell.execute_reply": "2022-05-09T12:00:55.101440Z"
    },
    "papermill": {
     "duration": 0.059169,
     "end_time": "2022-05-09T12:00:55.104160",
     "exception": false,
     "start_time": "2022-05-09T12:00:55.044991",
     "status": "completed"
    },
    "tags": []
   },
   "outputs": [],
   "source": [
    "from sklearn.preprocessing import StandardScaler\n",
    "scaler = StandardScaler()\n",
    "X_train = scaler.fit_transform(X_train)\n",
    "X_test = scaler.transform(X_test)\n",
    "titanic_test = scaler.transform(titanic_test)"
   ]
  },
  {
   "cell_type": "markdown",
   "id": "0650cb94",
   "metadata": {
    "papermill": {
     "duration": 0.041007,
     "end_time": "2022-05-09T12:00:55.187252",
     "exception": false,
     "start_time": "2022-05-09T12:00:55.146245",
     "status": "completed"
    },
    "tags": []
   },
   "source": [
    "## **Model Development** <a name = 'Model'></a>\n",
    "The following algorithms can be used:\n",
    "\n",
    "* K Nearest Neighbor(KNN)\n",
    "* Random Forest Classifier\n",
    "* Support Vector Machine - Linear Kernel\n",
    "* Support Vector Machine - rbf Kernel\n",
    "* XGBoost Classifier\n",
    "* Gradient Boosting Classifier\n",
    "* Artificial Neural Network"
   ]
  },
  {
   "cell_type": "markdown",
   "id": "9e119898",
   "metadata": {
    "papermill": {
     "duration": 0.041068,
     "end_time": "2022-05-09T12:00:55.269473",
     "exception": false,
     "start_time": "2022-05-09T12:00:55.228405",
     "status": "completed"
    },
    "tags": []
   },
   "source": [
    "### **Import the required packages**"
   ]
  },
  {
   "cell_type": "code",
   "execution_count": 26,
   "id": "0a985922",
   "metadata": {
    "execution": {
     "iopub.execute_input": "2022-05-09T12:00:55.353572Z",
     "iopub.status.busy": "2022-05-09T12:00:55.353072Z",
     "iopub.status.idle": "2022-05-09T12:00:55.687122Z",
     "shell.execute_reply": "2022-05-09T12:00:55.686312Z"
    },
    "papermill": {
     "duration": 0.378862,
     "end_time": "2022-05-09T12:00:55.689349",
     "exception": false,
     "start_time": "2022-05-09T12:00:55.310487",
     "status": "completed"
    },
    "tags": []
   },
   "outputs": [],
   "source": [
    "from sklearn.neighbors import KNeighborsClassifier\n",
    "from sklearn.ensemble import RandomForestClassifier\n",
    "from sklearn import svm\n",
    "from xgboost import XGBClassifier\n",
    "from sklearn.ensemble import GradientBoostingClassifier\n",
    "from sklearn.metrics import f1_score, precision_score\n",
    "from sklearn.metrics import accuracy_score"
   ]
  },
  {
   "cell_type": "code",
   "execution_count": 27,
   "id": "d1959b2e",
   "metadata": {
    "execution": {
     "iopub.execute_input": "2022-05-09T12:00:55.772937Z",
     "iopub.status.busy": "2022-05-09T12:00:55.772617Z",
     "iopub.status.idle": "2022-05-09T12:01:10.074528Z",
     "shell.execute_reply": "2022-05-09T12:01:10.073627Z"
    },
    "papermill": {
     "duration": 14.346488,
     "end_time": "2022-05-09T12:01:10.076799",
     "exception": false,
     "start_time": "2022-05-09T12:00:55.730311",
     "status": "completed"
    },
    "tags": []
   },
   "outputs": [
    {
     "data": {
      "text/html": [
       "<div>\n",
       "<style scoped>\n",
       "    .dataframe tbody tr th:only-of-type {\n",
       "        vertical-align: middle;\n",
       "    }\n",
       "\n",
       "    .dataframe tbody tr th {\n",
       "        vertical-align: top;\n",
       "    }\n",
       "\n",
       "    .dataframe thead th {\n",
       "        text-align: right;\n",
       "    }\n",
       "</style>\n",
       "<table border=\"1\" class=\"dataframe\">\n",
       "  <thead>\n",
       "    <tr style=\"text-align: right;\">\n",
       "      <th></th>\n",
       "      <th>Algorithm</th>\n",
       "      <th>Parameter</th>\n",
       "      <th>Train_set_Accuracy</th>\n",
       "      <th>Accuracy</th>\n",
       "      <th>F1-score</th>\n",
       "    </tr>\n",
       "  </thead>\n",
       "  <tbody>\n",
       "    <tr>\n",
       "      <th>0</th>\n",
       "      <td>KNN</td>\n",
       "      <td>(k, 7)</td>\n",
       "      <td>0.822843</td>\n",
       "      <td>0.784893</td>\n",
       "      <td>0.784857</td>\n",
       "    </tr>\n",
       "    <tr>\n",
       "      <th>1</th>\n",
       "      <td>Random Forest</td>\n",
       "      <td>criterion_entropy</td>\n",
       "      <td>0.920460</td>\n",
       "      <td>0.815184</td>\n",
       "      <td>0.815168</td>\n",
       "    </tr>\n",
       "    <tr>\n",
       "      <th>2</th>\n",
       "      <td>Random Forest</td>\n",
       "      <td>criterion_gini</td>\n",
       "      <td>0.964174</td>\n",
       "      <td>0.817101</td>\n",
       "      <td>0.817102</td>\n",
       "    </tr>\n",
       "    <tr>\n",
       "      <th>3</th>\n",
       "      <td>SVM_Linear</td>\n",
       "      <td>Linear</td>\n",
       "      <td>0.786524</td>\n",
       "      <td>0.801380</td>\n",
       "      <td>0.800420</td>\n",
       "    </tr>\n",
       "    <tr>\n",
       "      <th>4</th>\n",
       "      <td>SVM_rbf</td>\n",
       "      <td>RBF</td>\n",
       "      <td>0.811832</td>\n",
       "      <td>0.803681</td>\n",
       "      <td>0.803638</td>\n",
       "    </tr>\n",
       "    <tr>\n",
       "      <th>5</th>\n",
       "      <td>XGB</td>\n",
       "      <td>dart</td>\n",
       "      <td>0.835497</td>\n",
       "      <td>0.808666</td>\n",
       "      <td>0.808558</td>\n",
       "    </tr>\n",
       "    <tr>\n",
       "      <th>6</th>\n",
       "      <td>XGB</td>\n",
       "      <td>gbtree</td>\n",
       "      <td>0.848644</td>\n",
       "      <td>0.812500</td>\n",
       "      <td>0.812277</td>\n",
       "    </tr>\n",
       "    <tr>\n",
       "      <th>7</th>\n",
       "      <td>Gradient Boosting</td>\n",
       "      <td>criterion_friedman_mse</td>\n",
       "      <td>0.834840</td>\n",
       "      <td>0.806365</td>\n",
       "      <td>0.806155</td>\n",
       "    </tr>\n",
       "  </tbody>\n",
       "</table>\n",
       "</div>"
      ],
      "text/plain": [
       "           Algorithm               Parameter  Train_set_Accuracy  Accuracy  \\\n",
       "0                KNN                  (k, 7)            0.822843  0.784893   \n",
       "1      Random Forest       criterion_entropy            0.920460  0.815184   \n",
       "2      Random Forest          criterion_gini            0.964174  0.817101   \n",
       "3         SVM_Linear                  Linear            0.786524  0.801380   \n",
       "4            SVM_rbf                     RBF            0.811832  0.803681   \n",
       "5                XGB                    dart            0.835497  0.808666   \n",
       "6                XGB                  gbtree            0.848644  0.812500   \n",
       "7  Gradient Boosting  criterion_friedman_mse            0.834840  0.806365   \n",
       "\n",
       "   F1-score  \n",
       "0  0.784857  \n",
       "1  0.815168  \n",
       "2  0.817102  \n",
       "3  0.800420  \n",
       "4  0.803638  \n",
       "5  0.808558  \n",
       "6  0.812277  \n",
       "7  0.806155  "
      ]
     },
     "execution_count": 27,
     "metadata": {},
     "output_type": "execute_result"
    }
   ],
   "source": [
    "Models=[(\"KNN\",KNeighborsClassifier(n_neighbors=7, weights= 'uniform')),\n",
    "        (\"Random Forest\",RandomForestClassifier(n_estimators = 100, criterion = \"entropy\", max_depth= 13, random_state = 0)),\n",
    "        (\"Random Forest\",RandomForestClassifier(n_estimators = 100, criterion = \"gini\", max_depth= 15, random_state = 0)),\n",
    "        (\"SVM_Linear\",svm.SVC(kernel='linear')),\n",
    "        (\"SVM_rbf\",svm.SVC(kernel='rbf')),\n",
    "        (\"XGB\", XGBClassifier(booster = 'dart', learning_rate=0.05, n_estimators=50, objective='binary:logistic',  use_label_encoder=False,  disable_default_eval_metric = True)), \n",
    "        (\"XGB\", XGBClassifier(booster= 'gbtree', learning_rate=0.05, n_estimators=100, objective='binary:logistic',  use_label_encoder=False,  disable_default_eval_metric = True)),\n",
    "        (\"Gradient Boosting\", GradientBoostingClassifier(criterion = 'friedman_mse', max_depth = 2, n_estimators= 500))]\n",
    "\n",
    "Model_output=[]\n",
    "for name,model in Models:\n",
    "    yhat=model.fit(X_train, y_train).predict(X_test)\n",
    "    Train_set_Accuracy = accuracy_score(y_train, model.predict(X_train))\n",
    "    F1_score = f1_score(y_test, yhat, average='weighted')\n",
    "    Accuracy = accuracy_score(y_test, yhat)\n",
    "    Model_output.append((name, Train_set_Accuracy, Accuracy, F1_score))\n",
    "    final_Report=pd.DataFrame(Model_output, columns=['Algorithm','Train_set_Accuracy', 'Accuracy','F1-score'])\n",
    "        \n",
    "Parameter= [(\"k\", 7),(\"criterion_entropy\"), (\"criterion_gini\"),(\"Linear\"),(\"RBF\"), (\"dart\"), (\"gbtree\"),('criterion_friedman_mse')]\n",
    "final_Report['Parameter'] = Parameter\n",
    "final_Report = final_Report[['Algorithm','Parameter', 'Train_set_Accuracy', 'Accuracy','F1-score']]\n",
    "final_Report"
   ]
  },
  {
   "cell_type": "markdown",
   "id": "45c28869",
   "metadata": {
    "papermill": {
     "duration": 0.041735,
     "end_time": "2022-05-09T12:01:10.161832",
     "exception": false,
     "start_time": "2022-05-09T12:01:10.120097",
     "status": "completed"
    },
    "tags": []
   },
   "source": [
    "### **Support Vector Machine - Radial Basis Function (RBF) Kernel**"
   ]
  },
  {
   "cell_type": "code",
   "execution_count": 28,
   "id": "17273824",
   "metadata": {
    "execution": {
     "iopub.execute_input": "2022-05-09T12:01:10.251180Z",
     "iopub.status.busy": "2022-05-09T12:01:10.250895Z",
     "iopub.status.idle": "2022-05-09T12:01:13.774677Z",
     "shell.execute_reply": "2022-05-09T12:01:13.772948Z"
    },
    "papermill": {
     "duration": 3.571478,
     "end_time": "2022-05-09T12:01:13.777417",
     "exception": false,
     "start_time": "2022-05-09T12:01:10.205939",
     "status": "completed"
    },
    "tags": []
   },
   "outputs": [
    {
     "name": "stdout",
     "output_type": "stream",
     "text": [
      "Train set Accuracy:  0.8118323746918652\n",
      "Accuracy of Support Vector Classifier (SVC) calculated manually is  0.8 %\n",
      "Accuracy of Support Vector Classifier (SVC) is 0.80 % \n",
      "\n",
      " \n",
      " Confusion Matrix of Support Vector Classifier (SVC):\n",
      " [[1026  273]\n",
      " [ 239 1070]]\n",
      "\n",
      " \n",
      " Classification Report for Support Vector Classifier (SVC):\n",
      "               precision    recall  f1-score   support\n",
      "\n",
      "       False       0.81      0.79      0.80      1299\n",
      "        True       0.80      0.82      0.81      1309\n",
      "\n",
      "    accuracy                           0.80      2608\n",
      "   macro avg       0.80      0.80      0.80      2608\n",
      "weighted avg       0.80      0.80      0.80      2608\n",
      "\n"
     ]
    },
    {
     "data": {
      "image/png": "[encoded data removed]",
      "text/plain": [
       "<Figure size 432x288 with 2 Axes>"
      ]
     },
     "metadata": {
      "needs_background": "light"
     },
     "output_type": "display_data"
    }
   ],
   "source": [
    "from sklearn import svm\n",
    "svm_rbf = svm.SVC(kernel='rbf')\n",
    "svm_rbf.fit(X_train, y_train) \n",
    "y_pred = svm_rbf.predict(X_test)\n",
    "from sklearn.metrics import confusion_matrix, classification_report\n",
    "from sklearn.metrics import accuracy_score\n",
    "cm = confusion_matrix(y_test, y_pred)\n",
    "print(\"Train set Accuracy: \", accuracy_score(y_train, svm_rbf.predict(X_train)))\n",
    "accuracy = (y_pred == y_test).sum() / len(y_test)\n",
    "print('Accuracy of Support Vector Classifier (SVC) calculated manually is ', accuracy.round(2), '%')\n",
    "print('Accuracy of Support Vector Classifier (SVC) is {:.2f} % '.format(accuracy_score(y_test, y_pred)))\n",
    "print('\\n', '\\n','Confusion Matrix of Support Vector Classifier (SVC):' '\\n', confusion_matrix(y_test, y_pred))\n",
    "print('\\n', '\\n','Classification Report for Support Vector Classifier (SVC):' '\\n',classification_report(y_test, y_pred))\n",
    "plt.figure()\n",
    "plt.title('Confusion matrix')\n",
    "sns.heatmap(cm, annot=True, cmap = 'plasma',  linecolor='black', linewidths=1)\n",
    "plt.xlabel(\"Predicted\")\n",
    "plt.ylabel(\"Actual\");\n",
    "plt.xticks(np.arange(0.5, 2.5), ['False', 'True'])\n",
    "plt.yticks(np.arange(0.5, 2.5), ['False', 'True']);"
   ]
  },
  {
   "cell_type": "markdown",
   "id": "2c0ffb83",
   "metadata": {
    "papermill": {
     "duration": 0.042618,
     "end_time": "2022-05-09T12:01:13.863644",
     "exception": false,
     "start_time": "2022-05-09T12:01:13.821026",
     "status": "completed"
    },
    "tags": []
   },
   "source": [
    "### **XGBoost Classifier with gbtree booster**"
   ]
  },
  {
   "cell_type": "code",
   "execution_count": 29,
   "id": "bed52e43",
   "metadata": {
    "execution": {
     "iopub.execute_input": "2022-05-09T12:01:13.951970Z",
     "iopub.status.busy": "2022-05-09T12:01:13.951674Z",
     "iopub.status.idle": "2022-05-09T12:01:15.140131Z",
     "shell.execute_reply": "2022-05-09T12:01:15.139294Z"
    },
    "papermill": {
     "duration": 1.236294,
     "end_time": "2022-05-09T12:01:15.142373",
     "exception": false,
     "start_time": "2022-05-09T12:01:13.906079",
     "status": "completed"
    },
    "tags": []
   },
   "outputs": [
    {
     "name": "stdout",
     "output_type": "stream",
     "text": [
      "Train set Accuracy:  0.8486442070665571\n",
      "Accuracy of XGBoost Classifier calculated manually is  0.81\n",
      "Accuracy of XGBoost Classifier is  0.8125\n",
      "\n",
      " \n",
      " Confusion Matrix of XGBoost Classifier:\n",
      " [[1012  287]\n",
      " [ 202 1107]]\n",
      "\n",
      " \n",
      " Classification Report for XGBoost Classifier:\n",
      "               precision    recall  f1-score   support\n",
      "\n",
      "       False       0.83      0.78      0.81      1299\n",
      "        True       0.79      0.85      0.82      1309\n",
      "\n",
      "    accuracy                           0.81      2608\n",
      "   macro avg       0.81      0.81      0.81      2608\n",
      "weighted avg       0.81      0.81      0.81      2608\n",
      "\n"
     ]
    },
    {
     "data": {
      "image/png": "[encoded data removed]",
      "text/plain": [
       "<Figure size 648x648 with 2 Axes>"
      ]
     },
     "metadata": {
      "needs_background": "light"
     },
     "output_type": "display_data"
    }
   ],
   "source": [
    "from xgboost import XGBClassifier\n",
    "XGB = XGBClassifier(booster= 'gbtree', learning_rate=0.05, n_estimators=100, objective='binary:logistic', \n",
    "                          use_label_encoder=False,  disable_default_eval_metric = True)\n",
    "XGB.fit(X_train, y_train)\n",
    "y_pred_XGB = XGB.predict(X_test)\n",
    "from sklearn.metrics import confusion_matrix, classification_report\n",
    "from sklearn.metrics import accuracy_score\n",
    "print(\"Train set Accuracy: \", accuracy_score(y_train, XGB.predict(X_train)))\n",
    "accuracy = (y_pred_XGB == y_test).sum() / len(y_test)\n",
    "print('Accuracy of XGBoost Classifier calculated manually is ', accuracy.round(2))\n",
    "print('Accuracy of XGBoost Classifier is ', accuracy_score(y_test, y_pred_XGB))\n",
    "print('\\n', '\\n','Confusion Matrix of XGBoost Classifier:' '\\n', confusion_matrix(y_test, y_pred_XGB))\n",
    "print('\\n', '\\n','Classification Report for XGBoost Classifier:' '\\n',classification_report(y_test, y_pred_XGB))\n",
    "\n",
    "from sklearn.metrics import confusion_matrix, ConfusionMatrixDisplay\n",
    "cm = confusion_matrix(y_test, y_pred_XGB)\n",
    "cmd = ConfusionMatrixDisplay(cm, display_labels=['False', 'True'])\n",
    "fig, ax = plt.subplots(figsize=(9,9))\n",
    "cmd.plot(ax=ax)\n",
    "cmd.ax_.set(xlabel='Predicted', ylabel='Actual', title='Confusion Matrix Actual vs Predicted');"
   ]
  },
  {
   "cell_type": "markdown",
   "id": "26b4b161",
   "metadata": {
    "papermill": {
     "duration": 0.046577,
     "end_time": "2022-05-09T12:01:15.233003",
     "exception": false,
     "start_time": "2022-05-09T12:01:15.186426",
     "status": "completed"
    },
    "tags": []
   },
   "source": [
    "### **Artificial Neural Network**"
   ]
  },
  {
   "cell_type": "code",
   "execution_count": 30,
   "id": "c368af11",
   "metadata": {
    "execution": {
     "iopub.execute_input": "2022-05-09T12:01:15.323181Z",
     "iopub.status.busy": "2022-05-09T12:01:15.322373Z",
     "iopub.status.idle": "2022-05-09T12:01:28.535649Z",
     "shell.execute_reply": "2022-05-09T12:01:28.534664Z"
    },
    "papermill": {
     "duration": 13.260442,
     "end_time": "2022-05-09T12:01:28.537593",
     "exception": false,
     "start_time": "2022-05-09T12:01:15.277151",
     "status": "completed"
    },
    "tags": []
   },
   "outputs": [
    {
     "name": "stderr",
     "output_type": "stream",
     "text": [
      "2022-05-09 12:01:22.242630: I tensorflow/core/common_runtime/process_util.cc:146] Creating new thread pool with default inter op setting: 2. Tune using inter_op_parallelism_threads for best performance.\n",
      "2022-05-09 12:01:22.393660: I tensorflow/compiler/mlir/mlir_graph_optimization_pass.cc:185] None of the MLIR Optimization Passes are enabled (registered 2)\n"
     ]
    },
    {
     "data": {
      "text/plain": [
       "<keras.callbacks.History at 0x7f77a6cd10d0>"
      ]
     },
     "execution_count": 30,
     "metadata": {},
     "output_type": "execute_result"
    }
   ],
   "source": [
    "import tensorflow as tf\n",
    "import warnings\n",
    "warnings.filterwarnings('ignore')\n",
    "from tensorflow.keras.models import Sequential\n",
    "from tensorflow.keras.layers import Dense, Activation,Dropout\n",
    "from tensorflow.keras.constraints import max_norm\n",
    "model = Sequential()\n",
    "# input layer\n",
    "model.add(Dense(70,  activation='relu'))\n",
    "model.add(Dropout(0.2))\n",
    "\n",
    "# hidden layer\n",
    "model.add(Dense(70, activation='relu'))\n",
    "model.add(Dropout(0.2))\n",
    "\n",
    "# hidden layer\n",
    "model.add(Dense(70, activation='relu'))\n",
    "model.add(Dropout(0.2))\n",
    "\n",
    "# output layer\n",
    "model.add(Dense(units=1,activation='sigmoid'))\n",
    "\n",
    "# Compile model\n",
    "model.compile(loss='binary_crossentropy', optimizer='rmsprop')\n",
    "model.fit(x=X_train, \n",
    "          y=y_train, \n",
    "          epochs=25,\n",
    "          verbose = 0,\n",
    "          batch_size=256,\n",
    "          validation_data=(X_test, y_test), \n",
    "          )"
   ]
  },
  {
   "cell_type": "code",
   "execution_count": 31,
   "id": "e9cc4223",
   "metadata": {
    "execution": {
     "iopub.execute_input": "2022-05-09T12:01:28.629399Z",
     "iopub.status.busy": "2022-05-09T12:01:28.629109Z",
     "iopub.status.idle": "2022-05-09T12:01:28.866076Z",
     "shell.execute_reply": "2022-05-09T12:01:28.865245Z"
    },
    "papermill": {
     "duration": 0.285428,
     "end_time": "2022-05-09T12:01:28.868250",
     "exception": false,
     "start_time": "2022-05-09T12:01:28.582822",
     "status": "completed"
    },
    "tags": []
   },
   "outputs": [
    {
     "data": {
      "image/png": "[encoded data removed]",
      "text/plain": [
       "<Figure size 432x288 with 1 Axes>"
      ]
     },
     "metadata": {
      "needs_background": "light"
     },
     "output_type": "display_data"
    }
   ],
   "source": [
    "losses = pd.DataFrame(model.history.history)\n",
    "losses[['loss','val_loss']].plot();"
   ]
  },
  {
   "cell_type": "code",
   "execution_count": 32,
   "id": "87bf9223",
   "metadata": {
    "execution": {
     "iopub.execute_input": "2022-05-09T12:01:28.961864Z",
     "iopub.status.busy": "2022-05-09T12:01:28.961282Z",
     "iopub.status.idle": "2022-05-09T12:01:29.192863Z",
     "shell.execute_reply": "2022-05-09T12:01:29.191775Z"
    },
    "papermill": {
     "duration": 0.28159,
     "end_time": "2022-05-09T12:01:29.195531",
     "exception": false,
     "start_time": "2022-05-09T12:01:28.913941",
     "status": "completed"
    },
    "tags": []
   },
   "outputs": [
    {
     "name": "stdout",
     "output_type": "stream",
     "text": [
      "Accuracy of the ANN Model is  0.8163343558282209\n",
      "\n",
      " \n",
      " Confusion Matrix of ANN Model:\n",
      " [[1033  266]\n",
      " [ 213 1096]]\n",
      "\n",
      " \n",
      " Classification Report for ANN Model:\n",
      "               precision    recall  f1-score   support\n",
      "\n",
      "       False       0.83      0.80      0.81      1299\n",
      "        True       0.80      0.84      0.82      1309\n",
      "\n",
      "    accuracy                           0.82      2608\n",
      "   macro avg       0.82      0.82      0.82      2608\n",
      "weighted avg       0.82      0.82      0.82      2608\n",
      "\n"
     ]
    }
   ],
   "source": [
    "predictions = model.predict(X_test) > 0.5\n",
    "from sklearn.metrics import confusion_matrix,classification_report\n",
    "from sklearn.metrics import accuracy_score\n",
    "print('Accuracy of the ANN Model is ', accuracy_score(y_test,predictions))\n",
    "print('\\n', '\\n','Confusion Matrix of ANN Model:' '\\n', confusion_matrix(y_test,predictions))\n",
    "print('\\n', '\\n','Classification Report for ANN Model:' '\\n',classification_report(y_test,predictions))"
   ]
  },
  {
   "cell_type": "markdown",
   "id": "1cf6ff20",
   "metadata": {
    "papermill": {
     "duration": 0.04475,
     "end_time": "2022-05-09T12:01:29.285962",
     "exception": false,
     "start_time": "2022-05-09T12:01:29.241212",
     "status": "completed"
    },
    "tags": []
   },
   "source": [
    "## **Final Prediction**<a name = 'Prediction'></a>"
   ]
  },
  {
   "cell_type": "code",
   "execution_count": 33,
   "id": "af45004c",
   "metadata": {
    "execution": {
     "iopub.execute_input": "2022-05-09T12:01:29.379207Z",
     "iopub.status.busy": "2022-05-09T12:01:29.378932Z",
     "iopub.status.idle": "2022-05-09T12:01:29.574216Z",
     "shell.execute_reply": "2022-05-09T12:01:29.573509Z"
    },
    "papermill": {
     "duration": 0.244803,
     "end_time": "2022-05-09T12:01:29.576503",
     "exception": false,
     "start_time": "2022-05-09T12:01:29.331700",
     "status": "completed"
    },
    "tags": []
   },
   "outputs": [],
   "source": [
    "# Prediction using ANN Classifier\n",
    "predictions = (model.predict(titanic_test) > 0.5)\n",
    "submission_preds = predictions.reshape(len(df_test),)\n",
    "test_ids = df_test['PassengerId']\n",
    "df = pd.DataFrame({'PassengerId': test_ids.values, 'Transported': submission_preds})\n",
    "df.to_csv('submission.csv', index = False)"
   ]
  },
  {
   "cell_type": "code",
   "execution_count": 34,
   "id": "3fe72c92",
   "metadata": {
    "execution": {
     "iopub.execute_input": "2022-05-09T12:01:29.672555Z",
     "iopub.status.busy": "2022-05-09T12:01:29.671935Z",
     "iopub.status.idle": "2022-05-09T12:01:29.677581Z",
     "shell.execute_reply": "2022-05-09T12:01:29.676963Z"
    },
    "papermill": {
     "duration": 0.055809,
     "end_time": "2022-05-09T12:01:29.679273",
     "exception": false,
     "start_time": "2022-05-09T12:01:29.623464",
     "status": "completed"
    },
    "tags": []
   },
   "outputs": [
    {
     "data": {
      "text/plain": [
       "array([ True, False,  True, ...,  True,  True,  True])"
      ]
     },
     "execution_count": 34,
     "metadata": {},
     "output_type": "execute_result"
    }
   ],
   "source": [
    "submission_preds"
   ]
  }
 ],
 "metadata": {
  "kernelspec": {
   "display_name": "Python 3",
   "language": "python",
   "name": "python3"
  },
  "language_info": {
   "codemirror_mode": {
    "name": "ipython",
    "version": 3
   },
   "file_extension": ".py",
   "mimetype": "text/x-python",
   "name": "python",
   "nbconvert_exporter": "python",
   "pygments_lexer": "ipython3",
   "version": "3.7.12"
  },
  "papermill": {
   "default_parameters": {},
   "duration": 52.656014,
   "end_time": "2022-05-09T12:01:32.594859",
   "environment_variables": {},
   "exception": null,
   "input_path": "__notebook__.ipynb",
   "output_path": "__notebook__.ipynb",
   "parameters": {},
   "start_time": "2022-05-09T12:00:39.938845",
   "version": "2.3.4"
  }
 },
 "nbformat": 4,
 "nbformat_minor": 5
}
