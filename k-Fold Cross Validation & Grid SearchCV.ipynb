{
 "cells": [
  {
   "cell_type": "markdown",
   "id": "fa3aa468",
   "metadata": {
    "papermill": {
     "duration": 0.018136,
     "end_time": "2022-03-26T07:38:51.252270",
     "exception": false,
     "start_time": "2022-03-26T07:38:51.234134",
     "status": "completed"
    },
    "tags": []
   },
   "source": [
    "# **k-Fold Cross Validation & Grid Search**\n",
    "## **Data Preprocessing**\n",
    "\n",
    "### **Importing the libraries**"
   ]
  },
  {
   "cell_type": "code",
   "execution_count": 1,
   "id": "e5547828",
   "metadata": {
    "execution": {
     "iopub.execute_input": "2022-03-26T07:38:51.291913Z",
     "iopub.status.busy": "2022-03-26T07:38:51.290731Z",
     "iopub.status.idle": "2022-03-26T07:38:52.362008Z",
     "shell.execute_reply": "2022-03-26T07:38:52.360958Z",
     "shell.execute_reply.started": "2022-03-26T06:59:51.907092Z"
    },
    "papermill": {
     "duration": 1.092143,
     "end_time": "2022-03-26T07:38:52.362175",
     "exception": false,
     "start_time": "2022-03-26T07:38:51.270032",
     "status": "completed"
    },
    "tags": []
   },
   "outputs": [],
   "source": [
    "import numpy as np\n",
    "import matplotlib.pyplot as plt\n",
    "import pandas as pd\n",
    "import seaborn as sns"
   ]
  },
  {
   "cell_type": "markdown",
   "id": "0970e681",
   "metadata": {
    "papermill": {
     "duration": 0.025877,
     "end_time": "2022-03-26T07:38:52.414517",
     "exception": false,
     "start_time": "2022-03-26T07:38:52.388640",
     "status": "completed"
    },
    "tags": []
   },
   "source": [
    "### **Loading the data set**"
   ]
  },
  {
   "cell_type": "code",
   "execution_count": 2,
   "id": "4dcff815",
   "metadata": {
    "execution": {
     "iopub.execute_input": "2022-03-26T07:38:52.472105Z",
     "iopub.status.busy": "2022-03-26T07:38:52.471417Z",
     "iopub.status.idle": "2022-03-26T07:38:53.302846Z",
     "shell.execute_reply": "2022-03-26T07:38:53.301948Z",
     "shell.execute_reply.started": "2022-03-26T06:59:56.698762Z"
    },
    "papermill": {
     "duration": 0.8621,
     "end_time": "2022-03-26T07:38:53.302991",
     "exception": false,
     "start_time": "2022-03-26T07:38:52.440891",
     "status": "completed"
    },
    "tags": []
   },
   "outputs": [
    {
     "data": {
      "text/html": [
       "<div>\n",
       "<style scoped>\n",
       "    .dataframe tbody tr th:only-of-type {\n",
       "        vertical-align: middle;\n",
       "    }\n",
       "\n",
       "    .dataframe tbody tr th {\n",
       "        vertical-align: top;\n",
       "    }\n",
       "\n",
       "    .dataframe thead th {\n",
       "        text-align: right;\n",
       "    }\n",
       "</style>\n",
       "<table border=\"1\" class=\"dataframe\">\n",
       "  <thead>\n",
       "    <tr style=\"text-align: right;\">\n",
       "      <th></th>\n",
       "      <th>HeartDisease</th>\n",
       "      <th>BMI</th>\n",
       "      <th>Smoking</th>\n",
       "      <th>AlcoholDrinking</th>\n",
       "      <th>Stroke</th>\n",
       "      <th>PhysicalHealth</th>\n",
       "      <th>MentalHealth</th>\n",
       "      <th>DiffWalking</th>\n",
       "      <th>Sex</th>\n",
       "      <th>AgeCategory</th>\n",
       "      <th>Race</th>\n",
       "      <th>Diabetic</th>\n",
       "      <th>PhysicalActivity</th>\n",
       "      <th>GenHealth</th>\n",
       "      <th>SleepTime</th>\n",
       "      <th>Asthma</th>\n",
       "      <th>KidneyDisease</th>\n",
       "      <th>SkinCancer</th>\n",
       "    </tr>\n",
       "  </thead>\n",
       "  <tbody>\n",
       "    <tr>\n",
       "      <th>0</th>\n",
       "      <td>No</td>\n",
       "      <td>16.60</td>\n",
       "      <td>Yes</td>\n",
       "      <td>No</td>\n",
       "      <td>No</td>\n",
       "      <td>3.0</td>\n",
       "      <td>30.0</td>\n",
       "      <td>No</td>\n",
       "      <td>Female</td>\n",
       "      <td>55-59</td>\n",
       "      <td>White</td>\n",
       "      <td>Yes</td>\n",
       "      <td>Yes</td>\n",
       "      <td>Very good</td>\n",
       "      <td>5.0</td>\n",
       "      <td>Yes</td>\n",
       "      <td>No</td>\n",
       "      <td>Yes</td>\n",
       "    </tr>\n",
       "    <tr>\n",
       "      <th>1</th>\n",
       "      <td>No</td>\n",
       "      <td>20.34</td>\n",
       "      <td>No</td>\n",
       "      <td>No</td>\n",
       "      <td>Yes</td>\n",
       "      <td>0.0</td>\n",
       "      <td>0.0</td>\n",
       "      <td>No</td>\n",
       "      <td>Female</td>\n",
       "      <td>80 or older</td>\n",
       "      <td>White</td>\n",
       "      <td>No</td>\n",
       "      <td>Yes</td>\n",
       "      <td>Very good</td>\n",
       "      <td>7.0</td>\n",
       "      <td>No</td>\n",
       "      <td>No</td>\n",
       "      <td>No</td>\n",
       "    </tr>\n",
       "    <tr>\n",
       "      <th>2</th>\n",
       "      <td>No</td>\n",
       "      <td>26.58</td>\n",
       "      <td>Yes</td>\n",
       "      <td>No</td>\n",
       "      <td>No</td>\n",
       "      <td>20.0</td>\n",
       "      <td>30.0</td>\n",
       "      <td>No</td>\n",
       "      <td>Male</td>\n",
       "      <td>65-69</td>\n",
       "      <td>White</td>\n",
       "      <td>Yes</td>\n",
       "      <td>Yes</td>\n",
       "      <td>Fair</td>\n",
       "      <td>8.0</td>\n",
       "      <td>Yes</td>\n",
       "      <td>No</td>\n",
       "      <td>No</td>\n",
       "    </tr>\n",
       "    <tr>\n",
       "      <th>3</th>\n",
       "      <td>No</td>\n",
       "      <td>24.21</td>\n",
       "      <td>No</td>\n",
       "      <td>No</td>\n",
       "      <td>No</td>\n",
       "      <td>0.0</td>\n",
       "      <td>0.0</td>\n",
       "      <td>No</td>\n",
       "      <td>Female</td>\n",
       "      <td>75-79</td>\n",
       "      <td>White</td>\n",
       "      <td>No</td>\n",
       "      <td>No</td>\n",
       "      <td>Good</td>\n",
       "      <td>6.0</td>\n",
       "      <td>No</td>\n",
       "      <td>No</td>\n",
       "      <td>Yes</td>\n",
       "    </tr>\n",
       "    <tr>\n",
       "      <th>4</th>\n",
       "      <td>No</td>\n",
       "      <td>23.71</td>\n",
       "      <td>No</td>\n",
       "      <td>No</td>\n",
       "      <td>No</td>\n",
       "      <td>28.0</td>\n",
       "      <td>0.0</td>\n",
       "      <td>Yes</td>\n",
       "      <td>Female</td>\n",
       "      <td>40-44</td>\n",
       "      <td>White</td>\n",
       "      <td>No</td>\n",
       "      <td>Yes</td>\n",
       "      <td>Very good</td>\n",
       "      <td>8.0</td>\n",
       "      <td>No</td>\n",
       "      <td>No</td>\n",
       "      <td>No</td>\n",
       "    </tr>\n",
       "  </tbody>\n",
       "</table>\n",
       "</div>"
      ],
      "text/plain": [
       "  HeartDisease    BMI Smoking AlcoholDrinking Stroke  PhysicalHealth  \\\n",
       "0           No  16.60     Yes              No     No             3.0   \n",
       "1           No  20.34      No              No    Yes             0.0   \n",
       "2           No  26.58     Yes              No     No            20.0   \n",
       "3           No  24.21      No              No     No             0.0   \n",
       "4           No  23.71      No              No     No            28.0   \n",
       "\n",
       "   MentalHealth DiffWalking     Sex  AgeCategory   Race Diabetic  \\\n",
       "0          30.0          No  Female        55-59  White      Yes   \n",
       "1           0.0          No  Female  80 or older  White       No   \n",
       "2          30.0          No    Male        65-69  White      Yes   \n",
       "3           0.0          No  Female        75-79  White       No   \n",
       "4           0.0         Yes  Female        40-44  White       No   \n",
       "\n",
       "  PhysicalActivity  GenHealth  SleepTime Asthma KidneyDisease SkinCancer  \n",
       "0              Yes  Very good        5.0    Yes            No        Yes  \n",
       "1              Yes  Very good        7.0     No            No         No  \n",
       "2              Yes       Fair        8.0    Yes            No         No  \n",
       "3               No       Good        6.0     No            No        Yes  \n",
       "4              Yes  Very good        8.0     No            No         No  "
      ]
     },
     "execution_count": 2,
     "metadata": {},
     "output_type": "execute_result"
    }
   ],
   "source": [
    "df = pd.read_csv('../input/personal-key-indicators-of-heart-disease/heart_2020_cleaned.csv')\n",
    "df.head()"
   ]
  },
  {
   "cell_type": "code",
   "execution_count": 3,
   "id": "01b536ad",
   "metadata": {
    "execution": {
     "iopub.execute_input": "2022-03-26T07:38:53.387227Z",
     "iopub.status.busy": "2022-03-26T07:38:53.386561Z",
     "iopub.status.idle": "2022-03-26T07:38:53.389974Z",
     "shell.execute_reply": "2022-03-26T07:38:53.390414Z",
     "shell.execute_reply.started": "2022-03-25T18:16:30.194633Z"
    },
    "papermill": {
     "duration": 0.059762,
     "end_time": "2022-03-26T07:38:53.390548",
     "exception": false,
     "start_time": "2022-03-26T07:38:53.330786",
     "status": "completed"
    },
    "tags": []
   },
   "outputs": [
    {
     "data": {
      "text/plain": [
       "65-69          34151\n",
       "60-64          33686\n",
       "70-74          31065\n",
       "55-59          29757\n",
       "50-54          25382\n",
       "80 or older    24153\n",
       "45-49          21791\n",
       "75-79          21482\n",
       "18-24          21064\n",
       "40-44          21006\n",
       "35-39          20550\n",
       "30-34          18753\n",
       "25-29          16955\n",
       "Name: AgeCategory, dtype: int64"
      ]
     },
     "execution_count": 3,
     "metadata": {},
     "output_type": "execute_result"
    }
   ],
   "source": [
    "df['AgeCategory'].value_counts()"
   ]
  },
  {
   "cell_type": "code",
   "execution_count": 4,
   "id": "d4a89ca7",
   "metadata": {
    "execution": {
     "iopub.execute_input": "2022-03-26T07:38:53.430640Z",
     "iopub.status.busy": "2022-03-26T07:38:53.429993Z",
     "iopub.status.idle": "2022-03-26T07:38:54.675140Z",
     "shell.execute_reply": "2022-03-26T07:38:54.675869Z",
     "shell.execute_reply.started": "2022-03-26T07:00:04.538344Z"
    },
    "papermill": {
     "duration": 1.266978,
     "end_time": "2022-03-26T07:38:54.676084",
     "exception": false,
     "start_time": "2022-03-26T07:38:53.409106",
     "status": "completed"
    },
    "tags": []
   },
   "outputs": [
    {
     "name": "stdout",
     "output_type": "stream",
     "text": [
      "<class 'pandas.core.frame.DataFrame'>\n",
      "RangeIndex: 319795 entries, 0 to 319794\n",
      "Data columns (total 36 columns):\n",
      " #   Column            Non-Null Count   Dtype  \n",
      "---  ------            --------------   -----  \n",
      " 0   HeartDisease      319795 non-null  object \n",
      " 1   BMI               319795 non-null  float64\n",
      " 2   Smoking           319795 non-null  int64  \n",
      " 3   AlcoholDrinking   319795 non-null  int64  \n",
      " 4   Stroke            319795 non-null  int64  \n",
      " 5   PhysicalHealth    319795 non-null  float64\n",
      " 6   MentalHealth      319795 non-null  float64\n",
      " 7   DiffWalking       319795 non-null  int64  \n",
      " 8   Sex               319795 non-null  int64  \n",
      " 9   Diabetic          319795 non-null  int64  \n",
      " 10  PhysicalActivity  319795 non-null  int64  \n",
      " 11  SleepTime         319795 non-null  float64\n",
      " 12  Asthma            319795 non-null  int64  \n",
      " 13  KidneyDisease     319795 non-null  int64  \n",
      " 14  SkinCancer        319795 non-null  int64  \n",
      " 15  Asian             319795 non-null  uint8  \n",
      " 16  Black             319795 non-null  uint8  \n",
      " 17  Hispanic          319795 non-null  uint8  \n",
      " 18  Other             319795 non-null  uint8  \n",
      " 19  White             319795 non-null  uint8  \n",
      " 20  Fair              319795 non-null  uint8  \n",
      " 21  Good              319795 non-null  uint8  \n",
      " 22  Poor              319795 non-null  uint8  \n",
      " 23  Very good         319795 non-null  uint8  \n",
      " 24  25-29             319795 non-null  uint8  \n",
      " 25  30-34             319795 non-null  uint8  \n",
      " 26  35-39             319795 non-null  uint8  \n",
      " 27  40-44             319795 non-null  uint8  \n",
      " 28  45-49             319795 non-null  uint8  \n",
      " 29  50-54             319795 non-null  uint8  \n",
      " 30  55-59             319795 non-null  uint8  \n",
      " 31  60-64             319795 non-null  uint8  \n",
      " 32  65-69             319795 non-null  uint8  \n",
      " 33  70-74             319795 non-null  uint8  \n",
      " 34  75-79             319795 non-null  uint8  \n",
      " 35  80 or older       319795 non-null  uint8  \n",
      "dtypes: float64(4), int64(10), object(1), uint8(21)\n",
      "memory usage: 43.0+ MB\n"
     ]
    }
   ],
   "source": [
    "#Label Encoding \n",
    "from sklearn.preprocessing import LabelEncoder, OneHotEncoder\n",
    "from sklearn.preprocessing import LabelEncoder\n",
    "le = LabelEncoder()\n",
    "df['Smoking'] = le.fit_transform(df['Smoking'])\n",
    "df['AlcoholDrinking'] = le.fit_transform(df['AlcoholDrinking'])\n",
    "df['Stroke'] = le.fit_transform(df['Stroke'])\n",
    "df['DiffWalking'] = le.fit_transform(df['DiffWalking'])\n",
    "df['Sex'] = le.fit_transform(df['Sex'])\n",
    "df['Diabetic'] = le.fit_transform(df['Diabetic'])\n",
    "df['PhysicalActivity'] = le.fit_transform(df['PhysicalActivity'])\n",
    "df['Asthma'] = le.fit_transform(df['Asthma'])\n",
    "df['KidneyDisease'] = le.fit_transform(df['KidneyDisease'])\n",
    "df['SkinCancer'] = le.fit_transform(df['SkinCancer'])\n",
    "\n",
    "Race = pd.get_dummies(df['Race'],drop_first=True)\n",
    "GenHealth = pd.get_dummies(df['GenHealth'],drop_first=True)\n",
    "AgeCategory = pd.get_dummies(df['AgeCategory'],drop_first=True)\n",
    "df = pd.concat([df,Race, GenHealth, AgeCategory],axis=1)\n",
    "df.drop(['Race', 'GenHealth', 'AgeCategory'],axis=1,inplace=True)\n",
    "df.info()"
   ]
  },
  {
   "cell_type": "code",
   "execution_count": 5,
   "id": "74412bc2",
   "metadata": {
    "execution": {
     "iopub.execute_input": "2022-03-26T07:38:54.738509Z",
     "iopub.status.busy": "2022-03-26T07:38:54.737988Z",
     "iopub.status.idle": "2022-03-26T07:38:54.923860Z",
     "shell.execute_reply": "2022-03-26T07:38:54.923396Z",
     "shell.execute_reply.started": "2022-03-26T07:00:13.450949Z"
    },
    "papermill": {
     "duration": 0.21872,
     "end_time": "2022-03-26T07:38:54.923976",
     "exception": false,
     "start_time": "2022-03-26T07:38:54.705256",
     "status": "completed"
    },
    "tags": []
   },
   "outputs": [],
   "source": [
    "from sklearn.model_selection import train_test_split\n",
    "X = df.drop('HeartDisease',axis=1)\n",
    "y = df['HeartDisease']\n",
    "X_train, X_test, y_train, y_test = train_test_split(X, y, test_size=0.30)"
   ]
  },
  {
   "cell_type": "code",
   "execution_count": 6,
   "id": "36214aa7",
   "metadata": {
    "execution": {
     "iopub.execute_input": "2022-03-26T07:38:54.964568Z",
     "iopub.status.busy": "2022-03-26T07:38:54.963926Z",
     "iopub.status.idle": "2022-03-26T07:38:55.206466Z",
     "shell.execute_reply": "2022-03-26T07:38:55.205930Z",
     "shell.execute_reply.started": "2022-03-26T07:00:29.533763Z"
    },
    "papermill": {
     "duration": 0.263556,
     "end_time": "2022-03-26T07:38:55.206591",
     "exception": false,
     "start_time": "2022-03-26T07:38:54.943035",
     "status": "completed"
    },
    "tags": []
   },
   "outputs": [],
   "source": [
    "from sklearn.linear_model import LogisticRegression\n",
    "from sklearn.neighbors import KNeighborsClassifier\n",
    "from sklearn.svm import SVC\n",
    "from sklearn.naive_bayes import GaussianNB\n",
    "from sklearn.tree import DecisionTreeClassifier\n",
    "from sklearn.ensemble import RandomForestClassifier\n",
    "clf1 = LogisticRegression(max_iter =10000)\n",
    "clf2 = KNeighborsClassifier(n_neighbors = 5, metric = 'minkowski', p = 2)\n",
    "clf3 = SVC(kernel = 'rbf',  gamma=0.5, C=1, random_state = 0)\n",
    "clf4 = GaussianNB()\n",
    "clf5 = DecisionTreeClassifier(criterion = 'entropy', random_state = 0)\n",
    "clf6 = RandomForestClassifier(n_estimators = 10, criterion = 'entropy', random_state = 0)"
   ]
  },
  {
   "cell_type": "code",
   "execution_count": 7,
   "id": "f79bc75a",
   "metadata": {
    "execution": {
     "iopub.execute_input": "2022-03-26T07:38:55.264302Z",
     "iopub.status.busy": "2022-03-26T07:38:55.253098Z",
     "iopub.status.idle": "2022-03-26T07:46:47.554016Z",
     "shell.execute_reply": "2022-03-26T07:46:47.553415Z",
     "shell.execute_reply.started": "2022-03-26T07:01:12.169941Z"
    },
    "papermill": {
     "duration": 472.328144,
     "end_time": "2022-03-26T07:46:47.554144",
     "exception": false,
     "start_time": "2022-03-26T07:38:55.226000",
     "status": "completed"
    },
    "tags": []
   },
   "outputs": [
    {
     "name": "stdout",
     "output_type": "stream",
     "text": [
      "Accuracy of Logistic Regression Model is  0.9156651622385057\n",
      "\n",
      " Confusion Matrix of Logistic Regression Model:\n",
      " [[87037   704]\n",
      " [ 7387   811]]\n",
      "\n",
      " \n",
      " Classification Report for Logistic Regression Model:\n",
      "               precision    recall  f1-score   support\n",
      "\n",
      "          No       0.92      0.99      0.96     87741\n",
      "         Yes       0.54      0.10      0.17      8198\n",
      "\n",
      "    accuracy                           0.92     95939\n",
      "   macro avg       0.73      0.55      0.56     95939\n",
      "weighted avg       0.89      0.92      0.89     95939\n",
      "\n",
      "\n",
      " \n",
      " Accuracy of K-Nearest Neighbor Model is  0.9071806043423425\n",
      "\n",
      " Confusion Matrix of K-Nearest Neighbor Model:\n",
      " [[86420  1321]\n",
      " [ 7584   614]]\n",
      "\n",
      " \n",
      " Classification Report for K-Nearest Neighbor Model:\n",
      "               precision    recall  f1-score   support\n",
      "\n",
      "          No       0.92      0.98      0.95     87741\n",
      "         Yes       0.32      0.07      0.12      8198\n",
      "\n",
      "    accuracy                           0.91     95939\n",
      "   macro avg       0.62      0.53      0.54     95939\n",
      "weighted avg       0.87      0.91      0.88     95939\n",
      "\n",
      "\n",
      " \n",
      " Accuracy of Naive Bayes Classification  Model is  0.7422633131468954\n",
      "\n",
      " Confusion Matrix of Naive Bayes Classification  Model:\n",
      " [[65155 22586]\n",
      " [ 2141  6057]]\n",
      "\n",
      " \n",
      " Classification Report for Naive Bayes Classification  Model:\n",
      "               precision    recall  f1-score   support\n",
      "\n",
      "          No       0.97      0.74      0.84     87741\n",
      "         Yes       0.21      0.74      0.33      8198\n",
      "\n",
      "    accuracy                           0.74     95939\n",
      "   macro avg       0.59      0.74      0.58     95939\n",
      "weighted avg       0.90      0.74      0.80     95939\n",
      "\n",
      "\n",
      " \n",
      " Accuracy of Decision Tree Model is  0.8665610439967062\n",
      "\n",
      " Confusion Matrix of Decision Tree Model:\n",
      " [[81150  6591]\n",
      " [ 6211  1987]]\n",
      "\n",
      " \n",
      " Classification Report for Decision Tree Model:\n",
      "               precision    recall  f1-score   support\n",
      "\n",
      "          No       0.93      0.92      0.93     87741\n",
      "         Yes       0.23      0.24      0.24      8198\n",
      "\n",
      "    accuracy                           0.87     95939\n",
      "   macro avg       0.58      0.58      0.58     95939\n",
      "weighted avg       0.87      0.87      0.87     95939\n",
      "\n",
      "\n",
      " \n",
      " Accuracy of Random Forest Model is  0.9038764214761463\n",
      "\n",
      " Confusion Matrix of  Random Forest Model:\n",
      " [[85763  1978]\n",
      " [ 7244   954]]\n",
      "\n",
      " \n",
      " Classification Report for  Random Forest Model:\n",
      "               precision    recall  f1-score   support\n",
      "\n",
      "          No       0.92      0.98      0.95     87741\n",
      "         Yes       0.33      0.12      0.17      8198\n",
      "\n",
      "    accuracy                           0.90     95939\n",
      "   macro avg       0.62      0.55      0.56     95939\n",
      "weighted avg       0.87      0.90      0.88     95939\n",
      "\n"
     ]
    }
   ],
   "source": [
    "from sklearn.linear_model import LogisticRegression\n",
    "from sklearn.neighbors import KNeighborsClassifier\n",
    "from sklearn.svm import SVC\n",
    "from sklearn.naive_bayes import GaussianNB\n",
    "from sklearn.tree import DecisionTreeClassifier\n",
    "from sklearn.ensemble import RandomForestClassifier\n",
    "clf1 = LogisticRegression(max_iter =10000)\n",
    "clf2 = KNeighborsClassifier(n_neighbors = 5, metric = 'minkowski', p = 2)\n",
    "#clf3 = SVC(kernel = 'rbf',  gamma=0.5, C=1, random_state = 0)\n",
    "clf4 = GaussianNB()\n",
    "clf5 = DecisionTreeClassifier(criterion = 'entropy', random_state = 0)\n",
    "clf6 = RandomForestClassifier(n_estimators = 10, criterion = 'entropy', random_state = 0)\n",
    "\n",
    "#Training the Classification models on the Train set\n",
    "clf1.fit(X_train, y_train)\n",
    "clf2.fit(X_train, y_train)\n",
    "#clf3.fit(X_train, y_train)\n",
    "clf4.fit(X_train, y_train)\n",
    "clf5.fit(X_train, y_train)\n",
    "clf6.fit(X_train, y_train)\n",
    "\n",
    "#Predicting the Test set results\n",
    "y_pred_LR = clf1.predict(X_test)\n",
    "y_pred_KNN = clf2.predict(X_test)\n",
    "#y_pred_SVC = clf3.predict(X_test)\n",
    "y_pred_NB = clf4.predict(X_test)\n",
    "y_pred_DTC = clf5.predict(X_test)\n",
    "y_pred_RFC = clf6.predict(X_test)\n",
    "\n",
    "#KEY PERFORMANCE INDICATORS (KPI)\n",
    "#Generating the Confusion Matrix and Classification report\n",
    "from sklearn.metrics import confusion_matrix, classification_report\n",
    "from sklearn.metrics import accuracy_score\n",
    "print('Accuracy of Logistic Regression Model is ', accuracy_score(y_test, y_pred_LR))\n",
    "print('\\n','Confusion Matrix of Logistic Regression Model:' '\\n', confusion_matrix(y_test, y_pred_LR))\n",
    "print('\\n', '\\n','Classification Report for Logistic Regression Model:' '\\n',classification_report(y_test, y_pred_LR))\n",
    "print('\\n','\\n','Accuracy of K-Nearest Neighbor Model is ', accuracy_score(y_test, y_pred_KNN))\n",
    "print('\\n','Confusion Matrix of K-Nearest Neighbor Model:' '\\n', confusion_matrix(y_test, y_pred_KNN))\n",
    "print('\\n', '\\n','Classification Report for K-Nearest Neighbor Model:' '\\n',classification_report(y_test, y_pred_KNN))\n",
    "#print('\\n','\\n', 'Accuracy of Support Vector Classification Model is ', accuracy_score(y_test, y_pred_SVC))\n",
    "#print('\\n','Confusion Matrix of Support Vector Classification Model:' '\\n', confusion_matrix(y_test, y_pred_SVC))\n",
    "#print('\\n', '\\n','Classification Report for Support Vector Classification Model:' '\\n',classification_report(y_test, y_pred_SVC))\n",
    "print('\\n','\\n', 'Accuracy of Naive Bayes Classification  Model is ', accuracy_score(y_test, y_pred_NB))\n",
    "print('\\n','Confusion Matrix of Naive Bayes Classification  Model:' '\\n', confusion_matrix(y_test, y_pred_NB))\n",
    "print('\\n', '\\n','Classification Report for Naive Bayes Classification  Model:' '\\n',classification_report(y_test, y_pred_NB))\n",
    "print('\\n','\\n', 'Accuracy of Decision Tree Model is ', accuracy_score(y_test, y_pred_DTC))\n",
    "print('\\n','Confusion Matrix of Decision Tree Model:' '\\n', confusion_matrix(y_test, y_pred_DTC))\n",
    "print('\\n', '\\n','Classification Report for Decision Tree Model:' '\\n',classification_report(y_test, y_pred_DTC))\n",
    "print('\\n','\\n', 'Accuracy of Random Forest Model is ', accuracy_score(y_test, y_pred_RFC))\n",
    "print('\\n','Confusion Matrix of  Random Forest Model:' '\\n', confusion_matrix(y_test, y_pred_RFC))\n",
    "print('\\n', '\\n','Classification Report for  Random Forest Model:' '\\n',classification_report(y_test, y_pred_RFC))"
   ]
  },
  {
   "cell_type": "markdown",
   "id": "f292769c",
   "metadata": {
    "papermill": {
     "duration": 0.022996,
     "end_time": "2022-03-26T07:46:47.600702",
     "exception": false,
     "start_time": "2022-03-26T07:46:47.577706",
     "status": "completed"
    },
    "tags": []
   },
   "source": [
    "## **k-Fold Cross Validation**"
   ]
  },
  {
   "cell_type": "code",
   "execution_count": 8,
   "id": "d98aaafa",
   "metadata": {
    "execution": {
     "iopub.execute_input": "2022-03-26T07:46:47.986840Z",
     "iopub.status.busy": "2022-03-26T07:46:47.976170Z",
     "iopub.status.idle": "2022-03-26T08:06:41.959097Z",
     "shell.execute_reply": "2022-03-26T08:06:41.959711Z",
     "shell.execute_reply.started": "2022-03-26T07:10:38.816793Z"
    },
    "papermill": {
     "duration": 1194.334492,
     "end_time": "2022-03-26T08:06:41.960069",
     "exception": false,
     "start_time": "2022-03-26T07:46:47.625577",
     "status": "completed"
    },
    "tags": []
   },
   "outputs": [
    {
     "name": "stdout",
     "output_type": "stream",
     "text": [
      "Accuracy  of Logistic Regression Model: 91.60 %\n",
      "Standard Deviation: 0.06 %\n",
      "Accuracy  of K-Nearest Neighbor Model: 90.66 %\n",
      "Standard Deviation: 0.09 %\n",
      "Accuracy  of Naive Bayes Model: 74.22 %\n",
      "Standard Deviation: 0.39 %\n",
      "Accuracy  of Decision Tree Model: 86.56 %\n",
      "Standard Deviation: 0.11 %\n",
      "Accuracy  of Random Forest Model: 90.36 %\n",
      "Standard Deviation: 0.08 %\n"
     ]
    }
   ],
   "source": [
    "# Applying k-Fold Cross Validation\n",
    "from sklearn.model_selection import cross_val_score\n",
    "\n",
    "\n",
    "accuracies_LR = cross_val_score(estimator = clf1, X = X_train, y = y_train, cv = 10)\n",
    "print(\"Accuracy  of Logistic Regression Model: {:.2f} %\".format(accuracies_LR.mean()*100))\n",
    "print(\"Standard Deviation: {:.2f} %\".format(accuracies_LR.std()*100))\n",
    "\n",
    "accuracies_KNN = cross_val_score(estimator = clf2, X = X_train, y = y_train, cv = 10)\n",
    "print(\"Accuracy  of K-Nearest Neighbor Model: {:.2f} %\".format(accuracies_KNN.mean()*100))\n",
    "print(\"Standard Deviation: {:.2f} %\".format(accuracies_KNN.std()*100))\n",
    "\n",
    "#accuracies_SV = cross_val_score(estimator = clf3, X = X_train, y = y_train, cv = 10)\n",
    "#print(\"Accuracy  of Support Vector Model: {:.2f} %\".format(accuracies_SV.mean()*100))\n",
    "#print(\"Standard Deviation: {:.2f} %\".format(accuracies_SV.std()*100))\n",
    "\n",
    "accuracies_NB = cross_val_score(estimator = clf4, X = X_train, y = y_train, cv = 10)\n",
    "print(\"Accuracy  of Naive Bayes Model: {:.2f} %\".format(accuracies_NB.mean()*100))\n",
    "print(\"Standard Deviation: {:.2f} %\".format(accuracies_NB.std()*100))\n",
    "\n",
    "accuracies_DTC = cross_val_score(estimator = clf5, X = X_train, y = y_train, cv = 10)\n",
    "print(\"Accuracy  of Decision Tree Model: {:.2f} %\".format(accuracies_DTC.mean()*100))\n",
    "print(\"Standard Deviation: {:.2f} %\".format(accuracies_DTC.std()*100))\n",
    "\n",
    "accuracies_RF = cross_val_score(estimator = clf6, X = X_train, y = y_train, cv = 10)\n",
    "print(\"Accuracy  of Random Forest Model: {:.2f} %\".format(accuracies_RF.mean()*100))\n",
    "print(\"Standard Deviation: {:.2f} %\".format(accuracies_RF.std()*100))"
   ]
  },
  {
   "cell_type": "markdown",
   "id": "03ad578f",
   "metadata": {
    "papermill": {
     "duration": 0.036437,
     "end_time": "2022-03-26T08:06:42.033558",
     "exception": false,
     "start_time": "2022-03-26T08:06:41.997121",
     "status": "completed"
    },
    "tags": []
   },
   "source": [
    "## **GridSearchCV**\n",
    "\n",
    "GridSearchCV is a module of the Sklearn model_selection package that is used for Hyperparameter tuning. Given a set of different hyperparameters, GridSearchCV loops through all possible values and combinations of the hyperparameter and fits the model on the training dataset. In this process, it is able to identify the best values and combination of hyperparameters (from the given set) that produces the best accuracy."
   ]
  },
  {
   "cell_type": "markdown",
   "id": "6f285d81",
   "metadata": {
    "papermill": {
     "duration": 0.048356,
     "end_time": "2022-03-26T08:06:42.117099",
     "exception": false,
     "start_time": "2022-03-26T08:06:42.068743",
     "status": "completed"
    },
    "tags": []
   },
   "source": [
    "### **Logistic Regression with GridSearchCV**"
   ]
  },
  {
   "cell_type": "code",
   "execution_count": 9,
   "id": "b7123dcc",
   "metadata": {
    "execution": {
     "iopub.execute_input": "2022-03-26T08:06:42.309811Z",
     "iopub.status.busy": "2022-03-26T08:06:42.309019Z",
     "iopub.status.idle": "2022-03-26T08:18:33.680113Z",
     "shell.execute_reply": "2022-03-26T08:18:33.680641Z",
     "shell.execute_reply.started": "2022-03-25T18:52:25.676906Z"
    },
    "papermill": {
     "duration": 711.535044,
     "end_time": "2022-03-26T08:18:33.680834",
     "exception": false,
     "start_time": "2022-03-26T08:06:42.145790",
     "status": "completed"
    },
    "tags": []
   },
   "outputs": [
    {
     "name": "stderr",
     "output_type": "stream",
     "text": [
      "/opt/conda/lib/python3.7/site-packages/sklearn/model_selection/_validation.py:372: FitFailedWarning: \n",
      "35 fits failed out of a total of 70.\n",
      "The score on these train-test partitions for these parameters will be set to nan.\n",
      "If these failures are not expected, you can try to debug them by setting error_score='raise'.\n",
      "\n",
      "Below are more details about the failures:\n",
      "--------------------------------------------------------------------------------\n",
      "35 fits failed with the following error:\n",
      "Traceback (most recent call last):\n",
      "  File \"/opt/conda/lib/python3.7/site-packages/sklearn/model_selection/_validation.py\", line 681, in _fit_and_score\n",
      "    estimator.fit(X_train, y_train, **fit_params)\n",
      "  File \"/opt/conda/lib/python3.7/site-packages/sklearn/linear_model/_logistic.py\", line 1461, in fit\n",
      "    solver = _check_solver(self.solver, self.penalty, self.dual)\n",
      "  File \"/opt/conda/lib/python3.7/site-packages/sklearn/linear_model/_logistic.py\", line 449, in _check_solver\n",
      "    % (solver, penalty)\n",
      "ValueError: Solver lbfgs supports only 'l2' or 'none' penalties, got l1 penalty.\n",
      "\n",
      "  warnings.warn(some_fits_failed_message, FitFailedWarning)\n",
      "/opt/conda/lib/python3.7/site-packages/sklearn/model_selection/_search.py:972: UserWarning: One or more of the test scores are non-finite: [       nan 0.91559753        nan 0.91605317        nan 0.91595936\n",
      "        nan 0.91589236        nan 0.91587449        nan 0.91587449\n",
      "        nan 0.91588789]\n",
      "  category=UserWarning,\n"
     ]
    },
    {
     "name": "stdout",
     "output_type": "stream",
     "text": [
      "Best Accuracy of Logistic Regression Model: 91.61 %\n",
      "Best Parameters of Logistic Regression Model: {'C': 0.01, 'penalty': 'l2'}\n"
     ]
    }
   ],
   "source": [
    "# Applying Grid Search to find the best model and the best parameters\n",
    "from sklearn.model_selection import GridSearchCV\n",
    "grid_values = {'penalty': ['l1','l2'], 'C': [0.001,0.01,0.1,1,10,100,1000]}\n",
    "grid_search = GridSearchCV(clf1, param_grid=grid_values)\n",
    "grid_search = grid_search.fit(X_train, y_train)\n",
    "best_accuracy = grid_search.best_score_\n",
    "best_parameters = grid_search.best_params_\n",
    "print(\"Best Accuracy of Logistic Regression Model: {:.2f} %\".format(best_accuracy*100))\n",
    "print(\"Best Parameters of Logistic Regression Model:\", best_parameters)\n"
   ]
  },
  {
   "cell_type": "markdown",
   "id": "cfc408f0",
   "metadata": {
    "papermill": {
     "duration": 0.035095,
     "end_time": "2022-03-26T08:18:33.749015",
     "exception": false,
     "start_time": "2022-03-26T08:18:33.713920",
     "status": "completed"
    },
    "tags": []
   },
   "source": [
    "### **KNN with GridSearchCV**"
   ]
  },
  {
   "cell_type": "code",
   "execution_count": 10,
   "id": "8dba08da",
   "metadata": {
    "execution": {
     "iopub.execute_input": "2022-03-26T08:18:33.960521Z",
     "iopub.status.busy": "2022-03-26T08:18:33.959930Z",
     "iopub.status.idle": "2022-03-26T09:19:56.379791Z",
     "shell.execute_reply": "2022-03-26T09:19:56.380336Z",
     "shell.execute_reply.started": "2022-03-25T22:17:23.960562Z"
    },
    "papermill": {
     "duration": 3682.597227,
     "end_time": "2022-03-26T09:19:56.380614",
     "exception": false,
     "start_time": "2022-03-26T08:18:33.783387",
     "status": "completed"
    },
    "tags": []
   },
   "outputs": [
    {
     "name": "stdout",
     "output_type": "stream",
     "text": [
      "Best Accuracy of K-Nearest Neighbor Model: 91.21 %\n",
      "Best Parameters of K-Nearest Neighbor Model: {'n_neighbors': 6}\n",
      "Accuracy for K-Nearest Neighbor testing dataset with tuning is : 91.23%\n"
     ]
    }
   ],
   "source": [
    "k_range = list(range(1, 7))\n",
    "param_grid = dict(n_neighbors=k_range)\n",
    "grid_knn = GridSearchCV(clf2, param_grid, cv=5, scoring='accuracy', return_train_score=False)\n",
    "grid_search = grid_knn.fit(X_train,y_train)\n",
    "best_accuracy = grid_search.best_score_\n",
    "best_parameters = grid_search.best_params_\n",
    "print(\"Best Accuracy of K-Nearest Neighbor Model: {:.2f} %\".format(best_accuracy*100))\n",
    "print(\"Best Parameters of K-Nearest Neighbor Model:\", best_parameters)\n",
    "# make predictions on test data \n",
    "grid_predictions = grid_knn.predict(X_test) \n",
    "test_accuracy=accuracy_score(y_test,grid_predictions)*100\n",
    "print(\"Accuracy for K-Nearest Neighbor testing dataset with tuning is : {:.2f}%\".format(test_accuracy) )"
   ]
  },
  {
   "cell_type": "markdown",
   "id": "d54c8c77",
   "metadata": {
    "papermill": {
     "duration": 0.039019,
     "end_time": "2022-03-26T09:19:56.459959",
     "exception": false,
     "start_time": "2022-03-26T09:19:56.420940",
     "status": "completed"
    },
    "tags": []
   },
   "source": [
    "### **Gaussian Naive Bayes with GridSearchCV**"
   ]
  },
  {
   "cell_type": "code",
   "execution_count": 11,
   "id": "595af5e6",
   "metadata": {
    "execution": {
     "iopub.execute_input": "2022-03-26T09:19:56.544568Z",
     "iopub.status.busy": "2022-03-26T09:19:56.543883Z",
     "iopub.status.idle": "2022-03-26T09:20:05.185400Z",
     "shell.execute_reply": "2022-03-26T09:20:05.184712Z",
     "shell.execute_reply.started": "2022-03-26T04:32:48.322273Z"
    },
    "papermill": {
     "duration": 8.685534,
     "end_time": "2022-03-26T09:20:05.185583",
     "exception": false,
     "start_time": "2022-03-26T09:19:56.500049",
     "status": "completed"
    },
    "tags": []
   },
   "outputs": [
    {
     "name": "stdout",
     "output_type": "stream",
     "text": [
      "Best Accuracy of Naive Bayes Model: 74.76 %\n",
      "Best Parameters of Naive Bayes Model: {'var_smoothing': 1e-05}\n",
      "Accuracy for Naive Bayes testing dataset with tuning is : 74.77%\n"
     ]
    }
   ],
   "source": [
    "from sklearn.model_selection import GridSearchCV\n",
    "from sklearn.metrics import accuracy_score\n",
    "clf4 = GaussianNB()\n",
    "parameters_4 = {\n",
    "    'var_smoothing': (0,1e-9,1e-7, 1e-5), \n",
    "                   }\n",
    "# with GridSearch\n",
    "grid_search_NB = GridSearchCV(\n",
    "    estimator=clf4,\n",
    "    param_grid=parameters_4,\n",
    "    scoring = 'accuracy',\n",
    "    n_jobs = -1,\n",
    "    cv = 5\n",
    ")\n",
    "grid_search=grid_search_NB.fit(X_train, y_train)\n",
    "best_accuracy = grid_search.best_score_\n",
    "best_parameters = grid_search.best_params_\n",
    "print(\"Best Accuracy of Naive Bayes Model: {:.2f} %\".format(best_accuracy*100))\n",
    "print(\"Best Parameters of Naive Bayes Model:\", best_parameters)\n",
    "# make predictions on test data \n",
    "grid_predictions = grid_search_NB.predict(X_test) \n",
    "test_accuracy=accuracy_score(y_test,grid_predictions)*100\n",
    "print(\"Accuracy for Naive Bayes testing dataset with tuning is : {:.2f}%\".format(test_accuracy) )\n"
   ]
  },
  {
   "cell_type": "markdown",
   "id": "55f62687",
   "metadata": {
    "papermill": {
     "duration": 0.040987,
     "end_time": "2022-03-26T09:20:05.268728",
     "exception": false,
     "start_time": "2022-03-26T09:20:05.227741",
     "status": "completed"
    },
    "tags": []
   },
   "source": [
    "### **Random Forest with GridSearchCV**"
   ]
  },
  {
   "cell_type": "code",
   "execution_count": 12,
   "id": "a455cd77",
   "metadata": {
    "execution": {
     "iopub.execute_input": "2022-03-26T09:20:05.359183Z",
     "iopub.status.busy": "2022-03-26T09:20:05.358414Z",
     "iopub.status.idle": "2022-03-26T10:34:19.239393Z",
     "shell.execute_reply": "2022-03-26T10:34:19.239822Z",
     "shell.execute_reply.started": "2022-03-26T04:34:00.491226Z"
    },
    "papermill": {
     "duration": 4453.929476,
     "end_time": "2022-03-26T10:34:19.239992",
     "exception": false,
     "start_time": "2022-03-26T09:20:05.310516",
     "status": "completed"
    },
    "tags": []
   },
   "outputs": [
    {
     "name": "stdout",
     "output_type": "stream",
     "text": [
      "tuned hyperparameters :(best parameters)  {'max_features': 'auto', 'n_estimators': 200}\n",
      "Best accuracy for Random Forest Model : 90.52158546771511\n",
      "Accuracy for Random Forest testing dataset with tuning is : 90.47%\n"
     ]
    }
   ],
   "source": [
    "param_grid = {\n",
    "    'n_estimators': [200, 700],\n",
    "    'max_features': ['auto', 'sqrt', 'log2']\n",
    "}\n",
    "CV_rfc = GridSearchCV(estimator=clf6,param_grid=param_grid, cv= 5,scoring='accuracy')\n",
    "CV_rfc.fit(X_train, y_train)\n",
    "print(\"tuned hyperparameters :(best parameters) \",CV_rfc.best_params_)\n",
    "print(\"Best accuracy for Random Forest Model :\",CV_rfc.best_score_*100)\n",
    "# make predictions on test data \n",
    "grid_predictions = CV_rfc.predict(X_test) \n",
    "test_accuracy=accuracy_score(y_test,grid_predictions)*100\n",
    "print(\"Accuracy for Random Forest testing dataset with tuning is : {:.2f}%\".format(test_accuracy) )"
   ]
  },
  {
   "cell_type": "markdown",
   "id": "ac376281",
   "metadata": {
    "papermill": {
     "duration": 0.028217,
     "end_time": "2022-03-26T10:34:19.297269",
     "exception": false,
     "start_time": "2022-03-26T10:34:19.269052",
     "status": "completed"
    },
    "tags": []
   },
   "source": [
    "### **Kernel SVM with GridSearchCV**"
   ]
  },
  {
   "cell_type": "code",
   "execution_count": 13,
   "id": "6c372037",
   "metadata": {
    "execution": {
     "iopub.execute_input": "2022-03-26T10:34:19.361600Z",
     "iopub.status.busy": "2022-03-26T10:34:19.360279Z",
     "iopub.status.idle": "2022-03-26T10:34:19.395299Z",
     "shell.execute_reply": "2022-03-26T10:34:19.395814Z",
     "shell.execute_reply.started": "2022-03-26T05:35:05.939740Z"
    },
    "papermill": {
     "duration": 0.068995,
     "end_time": "2022-03-26T10:34:19.395974",
     "exception": false,
     "start_time": "2022-03-26T10:34:19.326979",
     "status": "completed"
    },
    "tags": []
   },
   "outputs": [
    {
     "name": "stdout",
     "output_type": "stream",
     "text": [
      "[[64  4]\n",
      " [ 3 29]]\n"
     ]
    }
   ],
   "source": [
    "# Importing the dataset\n",
    "dataset = pd.read_csv('../input/social-network-ads/Social_Network_Ads.csv')\n",
    "X = dataset.iloc[:, [2, 3]].values\n",
    "y = dataset.iloc[:, -1].values\n",
    "# Feature Scaling\n",
    "from sklearn.preprocessing import StandardScaler\n",
    "sc = StandardScaler()\n",
    "X = sc.fit_transform(X)\n",
    "\n",
    "# Splitting the dataset into the Training set and Test set\n",
    "from sklearn.model_selection import train_test_split\n",
    "X_train, X_test, y_train, y_test = train_test_split(X, y, test_size = 0.25, random_state = 0)\n",
    "\n",
    "# Training the Kernel SVM model on the Training set\n",
    "from sklearn.svm import SVC\n",
    "classifier = SVC(kernel = 'rbf', random_state = 0)\n",
    "classifier.fit(X_train, y_train)\n",
    "\n",
    "# Predicting the Test set results\n",
    "y_pred = classifier.predict(X_test)\n",
    "\n",
    "# Making the Confusion Matrix\n",
    "from sklearn.metrics import confusion_matrix\n",
    "cm = confusion_matrix(y_test, y_pred)\n",
    "print(cm)"
   ]
  },
  {
   "cell_type": "code",
   "execution_count": 14,
   "id": "95033e72",
   "metadata": {
    "execution": {
     "iopub.execute_input": "2022-03-26T10:34:19.456851Z",
     "iopub.status.busy": "2022-03-26T10:34:19.456161Z",
     "iopub.status.idle": "2022-03-26T10:34:21.838791Z",
     "shell.execute_reply": "2022-03-26T10:34:21.839608Z",
     "shell.execute_reply.started": "2022-03-26T05:35:13.068205Z"
    },
    "papermill": {
     "duration": 2.414735,
     "end_time": "2022-03-26T10:34:21.839830",
     "exception": false,
     "start_time": "2022-03-26T10:34:19.425095",
     "status": "completed"
    },
    "tags": []
   },
   "outputs": [
    {
     "name": "stdout",
     "output_type": "stream",
     "text": [
      "Accuracy of Kernel SVM Model: 90.00 %\n",
      "Standard Deviation: 6.83 %\n",
      "Best Accuracy: 91.00 %\n",
      "Best Parameters: {'C': 1, 'gamma': 0.7, 'kernel': 'rbf'}\n"
     ]
    }
   ],
   "source": [
    "# Applying k-Fold Cross Validation\n",
    "from sklearn.model_selection import cross_val_score\n",
    "accuracies = cross_val_score(estimator = classifier, X = X_train, y = y_train, cv = 10)\n",
    "print(\"Accuracy of Kernel SVM Model: {:.2f} %\".format(accuracies.mean()*100))\n",
    "print(\"Standard Deviation: {:.2f} %\".format(accuracies.std()*100))\n",
    "\n",
    "# Applying Grid Search to find the best model and the best parameters\n",
    "from sklearn.model_selection import GridSearchCV\n",
    "parameters = [{'C': [1, 10, 100, 1000], 'kernel': ['linear']},\n",
    "              {'C': [1, 10, 100, 1000], 'kernel': ['rbf'], 'gamma': [0.1, 0.2, 0.3, 0.4, 0.5, 0.6, 0.7, 0.8, 0.9]}]\n",
    "grid_search = GridSearchCV(estimator = classifier,\n",
    "                           param_grid = parameters,\n",
    "                           scoring = 'accuracy',\n",
    "                           cv = 10,\n",
    "                           n_jobs = -1)\n",
    "grid_search = grid_search.fit(X_train, y_train)\n",
    "best_accuracy = grid_search.best_score_\n",
    "best_parameters = grid_search.best_params_\n",
    "print(\"Best Accuracy: {:.2f} %\".format(best_accuracy*100))\n",
    "print(\"Best Parameters:\", best_parameters)"
   ]
  },
  {
   "cell_type": "code",
   "execution_count": null,
   "id": "4dba40fa",
   "metadata": {
    "papermill": {
     "duration": 0.042941,
     "end_time": "2022-03-26T10:34:21.926175",
     "exception": false,
     "start_time": "2022-03-26T10:34:21.883234",
     "status": "completed"
    },
    "tags": []
   },
   "outputs": [],
   "source": []
  }
 ],
 "metadata": {
  "kernelspec": {
   "display_name": "Python 3",
   "language": "python",
   "name": "python3"
  },
  "language_info": {
   "codemirror_mode": {
    "name": "ipython",
    "version": 3
   },
   "file_extension": ".py",
   "mimetype": "text/x-python",
   "name": "python",
   "nbconvert_exporter": "python",
   "pygments_lexer": "ipython3",
   "version": "3.7.12"
  },
  "papermill": {
   "default_parameters": {},
   "duration": 10540.205579,
   "end_time": "2022-03-26T10:34:22.917941",
   "environment_variables": {},
   "exception": null,
   "input_path": "__notebook__.ipynb",
   "output_path": "__notebook__.ipynb",
   "parameters": {},
   "start_time": "2022-03-26T07:38:42.712362",
   "version": "2.3.3"
  }
 },
 "nbformat": 4,
 "nbformat_minor": 5
}
