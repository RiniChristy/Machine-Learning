{
 "cells": [
  {
   "cell_type": "markdown",
   "id": "3174ebae",
   "metadata": {
    "papermill": {
     "duration": 0.029247,
     "end_time": "2022-03-26T13:45:36.745342",
     "exception": false,
     "start_time": "2022-03-26T13:45:36.716095",
     "status": "completed"
    },
    "tags": []
   },
   "source": [
    "# **k-Fold Cross Validation & Grid Search**\n",
    "## **Data Preprocessing**\n",
    "\n",
    "### **Importing the libraries**"
   ]
  },
  {
   "cell_type": "code",
   "execution_count": 1,
   "id": "3856215c",
   "metadata": {
    "execution": {
     "iopub.execute_input": "2022-03-26T13:45:36.808568Z",
     "iopub.status.busy": "2022-03-26T13:45:36.806845Z",
     "iopub.status.idle": "2022-03-26T13:45:37.879389Z",
     "shell.execute_reply": "2022-03-26T13:45:37.878672Z",
     "shell.execute_reply.started": "2022-03-26T13:44:52.489522Z"
    },
    "papermill": {
     "duration": 1.106674,
     "end_time": "2022-03-26T13:45:37.879550",
     "exception": false,
     "start_time": "2022-03-26T13:45:36.772876",
     "status": "completed"
    },
    "tags": []
   },
   "outputs": [],
   "source": [
    "import numpy as np\n",
    "import matplotlib.pyplot as plt\n",
    "import pandas as pd\n",
    "import seaborn as sns"
   ]
  },
  {
   "cell_type": "markdown",
   "id": "0d75a7be",
   "metadata": {
    "papermill": {
     "duration": 0.026517,
     "end_time": "2022-03-26T13:45:37.933185",
     "exception": false,
     "start_time": "2022-03-26T13:45:37.906668",
     "status": "completed"
    },
    "tags": []
   },
   "source": [
    "### **Loading the data set**"
   ]
  },
  {
   "cell_type": "code",
   "execution_count": 2,
   "id": "600007ab",
   "metadata": {
    "execution": {
     "iopub.execute_input": "2022-03-26T13:45:37.991627Z",
     "iopub.status.busy": "2022-03-26T13:45:37.990600Z",
     "iopub.status.idle": "2022-03-26T13:45:38.856022Z",
     "shell.execute_reply": "2022-03-26T13:45:38.856542Z",
     "shell.execute_reply.started": "2022-03-26T11:04:23.224952Z"
    },
    "papermill": {
     "duration": 0.896542,
     "end_time": "2022-03-26T13:45:38.856704",
     "exception": false,
     "start_time": "2022-03-26T13:45:37.960162",
     "status": "completed"
    },
    "tags": []
   },
   "outputs": [
    {
     "data": {
      "text/html": [
       "<div>\n",
       "<style scoped>\n",
       "    .dataframe tbody tr th:only-of-type {\n",
       "        vertical-align: middle;\n",
       "    }\n",
       "\n",
       "    .dataframe tbody tr th {\n",
       "        vertical-align: top;\n",
       "    }\n",
       "\n",
       "    .dataframe thead th {\n",
       "        text-align: right;\n",
       "    }\n",
       "</style>\n",
       "<table border=\"1\" class=\"dataframe\">\n",
       "  <thead>\n",
       "    <tr style=\"text-align: right;\">\n",
       "      <th></th>\n",
       "      <th>HeartDisease</th>\n",
       "      <th>BMI</th>\n",
       "      <th>Smoking</th>\n",
       "      <th>AlcoholDrinking</th>\n",
       "      <th>Stroke</th>\n",
       "      <th>PhysicalHealth</th>\n",
       "      <th>MentalHealth</th>\n",
       "      <th>DiffWalking</th>\n",
       "      <th>Sex</th>\n",
       "      <th>AgeCategory</th>\n",
       "      <th>Race</th>\n",
       "      <th>Diabetic</th>\n",
       "      <th>PhysicalActivity</th>\n",
       "      <th>GenHealth</th>\n",
       "      <th>SleepTime</th>\n",
       "      <th>Asthma</th>\n",
       "      <th>KidneyDisease</th>\n",
       "      <th>SkinCancer</th>\n",
       "    </tr>\n",
       "  </thead>\n",
       "  <tbody>\n",
       "    <tr>\n",
       "      <th>0</th>\n",
       "      <td>No</td>\n",
       "      <td>16.60</td>\n",
       "      <td>Yes</td>\n",
       "      <td>No</td>\n",
       "      <td>No</td>\n",
       "      <td>3.0</td>\n",
       "      <td>30.0</td>\n",
       "      <td>No</td>\n",
       "      <td>Female</td>\n",
       "      <td>55-59</td>\n",
       "      <td>White</td>\n",
       "      <td>Yes</td>\n",
       "      <td>Yes</td>\n",
       "      <td>Very good</td>\n",
       "      <td>5.0</td>\n",
       "      <td>Yes</td>\n",
       "      <td>No</td>\n",
       "      <td>Yes</td>\n",
       "    </tr>\n",
       "    <tr>\n",
       "      <th>1</th>\n",
       "      <td>No</td>\n",
       "      <td>20.34</td>\n",
       "      <td>No</td>\n",
       "      <td>No</td>\n",
       "      <td>Yes</td>\n",
       "      <td>0.0</td>\n",
       "      <td>0.0</td>\n",
       "      <td>No</td>\n",
       "      <td>Female</td>\n",
       "      <td>80 or older</td>\n",
       "      <td>White</td>\n",
       "      <td>No</td>\n",
       "      <td>Yes</td>\n",
       "      <td>Very good</td>\n",
       "      <td>7.0</td>\n",
       "      <td>No</td>\n",
       "      <td>No</td>\n",
       "      <td>No</td>\n",
       "    </tr>\n",
       "    <tr>\n",
       "      <th>2</th>\n",
       "      <td>No</td>\n",
       "      <td>26.58</td>\n",
       "      <td>Yes</td>\n",
       "      <td>No</td>\n",
       "      <td>No</td>\n",
       "      <td>20.0</td>\n",
       "      <td>30.0</td>\n",
       "      <td>No</td>\n",
       "      <td>Male</td>\n",
       "      <td>65-69</td>\n",
       "      <td>White</td>\n",
       "      <td>Yes</td>\n",
       "      <td>Yes</td>\n",
       "      <td>Fair</td>\n",
       "      <td>8.0</td>\n",
       "      <td>Yes</td>\n",
       "      <td>No</td>\n",
       "      <td>No</td>\n",
       "    </tr>\n",
       "    <tr>\n",
       "      <th>3</th>\n",
       "      <td>No</td>\n",
       "      <td>24.21</td>\n",
       "      <td>No</td>\n",
       "      <td>No</td>\n",
       "      <td>No</td>\n",
       "      <td>0.0</td>\n",
       "      <td>0.0</td>\n",
       "      <td>No</td>\n",
       "      <td>Female</td>\n",
       "      <td>75-79</td>\n",
       "      <td>White</td>\n",
       "      <td>No</td>\n",
       "      <td>No</td>\n",
       "      <td>Good</td>\n",
       "      <td>6.0</td>\n",
       "      <td>No</td>\n",
       "      <td>No</td>\n",
       "      <td>Yes</td>\n",
       "    </tr>\n",
       "    <tr>\n",
       "      <th>4</th>\n",
       "      <td>No</td>\n",
       "      <td>23.71</td>\n",
       "      <td>No</td>\n",
       "      <td>No</td>\n",
       "      <td>No</td>\n",
       "      <td>28.0</td>\n",
       "      <td>0.0</td>\n",
       "      <td>Yes</td>\n",
       "      <td>Female</td>\n",
       "      <td>40-44</td>\n",
       "      <td>White</td>\n",
       "      <td>No</td>\n",
       "      <td>Yes</td>\n",
       "      <td>Very good</td>\n",
       "      <td>8.0</td>\n",
       "      <td>No</td>\n",
       "      <td>No</td>\n",
       "      <td>No</td>\n",
       "    </tr>\n",
       "  </tbody>\n",
       "</table>\n",
       "</div>"
      ],
      "text/plain": [
       "  HeartDisease    BMI Smoking AlcoholDrinking Stroke  PhysicalHealth  \\\n",
       "0           No  16.60     Yes              No     No             3.0   \n",
       "1           No  20.34      No              No    Yes             0.0   \n",
       "2           No  26.58     Yes              No     No            20.0   \n",
       "3           No  24.21      No              No     No             0.0   \n",
       "4           No  23.71      No              No     No            28.0   \n",
       "\n",
       "   MentalHealth DiffWalking     Sex  AgeCategory   Race Diabetic  \\\n",
       "0          30.0          No  Female        55-59  White      Yes   \n",
       "1           0.0          No  Female  80 or older  White       No   \n",
       "2          30.0          No    Male        65-69  White      Yes   \n",
       "3           0.0          No  Female        75-79  White       No   \n",
       "4           0.0         Yes  Female        40-44  White       No   \n",
       "\n",
       "  PhysicalActivity  GenHealth  SleepTime Asthma KidneyDisease SkinCancer  \n",
       "0              Yes  Very good        5.0    Yes            No        Yes  \n",
       "1              Yes  Very good        7.0     No            No         No  \n",
       "2              Yes       Fair        8.0    Yes            No         No  \n",
       "3               No       Good        6.0     No            No        Yes  \n",
       "4              Yes  Very good        8.0     No            No         No  "
      ]
     },
     "execution_count": 2,
     "metadata": {},
     "output_type": "execute_result"
    }
   ],
   "source": [
    "df = pd.read_csv('../input/personal-key-indicators-of-heart-disease/heart_2020_cleaned.csv')\n",
    "df.head()"
   ]
  },
  {
   "cell_type": "code",
   "execution_count": 3,
   "id": "0d5b9f77",
   "metadata": {
    "execution": {
     "iopub.execute_input": "2022-03-26T13:45:38.920334Z",
     "iopub.status.busy": "2022-03-26T13:45:38.919698Z",
     "iopub.status.idle": "2022-03-26T13:45:38.946801Z",
     "shell.execute_reply": "2022-03-26T13:45:38.947229Z",
     "shell.execute_reply.started": "2022-03-25T18:16:30.194633Z"
    },
    "papermill": {
     "duration": 0.062706,
     "end_time": "2022-03-26T13:45:38.947405",
     "exception": false,
     "start_time": "2022-03-26T13:45:38.884699",
     "status": "completed"
    },
    "tags": []
   },
   "outputs": [
    {
     "data": {
      "text/plain": [
       "65-69          34151\n",
       "60-64          33686\n",
       "70-74          31065\n",
       "55-59          29757\n",
       "50-54          25382\n",
       "80 or older    24153\n",
       "45-49          21791\n",
       "75-79          21482\n",
       "18-24          21064\n",
       "40-44          21006\n",
       "35-39          20550\n",
       "30-34          18753\n",
       "25-29          16955\n",
       "Name: AgeCategory, dtype: int64"
      ]
     },
     "execution_count": 3,
     "metadata": {},
     "output_type": "execute_result"
    }
   ],
   "source": [
    "df['AgeCategory'].value_counts()"
   ]
  },
  {
   "cell_type": "code",
   "execution_count": 4,
   "id": "2aade1df",
   "metadata": {
    "execution": {
     "iopub.execute_input": "2022-03-26T13:45:39.008135Z",
     "iopub.status.busy": "2022-03-26T13:45:39.007463Z",
     "iopub.status.idle": "2022-03-26T13:45:40.256462Z",
     "shell.execute_reply": "2022-03-26T13:45:40.256997Z",
     "shell.execute_reply.started": "2022-03-26T11:04:24.289373Z"
    },
    "papermill": {
     "duration": 1.281669,
     "end_time": "2022-03-26T13:45:40.257201",
     "exception": false,
     "start_time": "2022-03-26T13:45:38.975532",
     "status": "completed"
    },
    "tags": []
   },
   "outputs": [
    {
     "name": "stdout",
     "output_type": "stream",
     "text": [
      "<class 'pandas.core.frame.DataFrame'>\n",
      "RangeIndex: 319795 entries, 0 to 319794\n",
      "Data columns (total 36 columns):\n",
      " #   Column            Non-Null Count   Dtype  \n",
      "---  ------            --------------   -----  \n",
      " 0   HeartDisease      319795 non-null  object \n",
      " 1   BMI               319795 non-null  float64\n",
      " 2   Smoking           319795 non-null  int64  \n",
      " 3   AlcoholDrinking   319795 non-null  int64  \n",
      " 4   Stroke            319795 non-null  int64  \n",
      " 5   PhysicalHealth    319795 non-null  float64\n",
      " 6   MentalHealth      319795 non-null  float64\n",
      " 7   DiffWalking       319795 non-null  int64  \n",
      " 8   Sex               319795 non-null  int64  \n",
      " 9   Diabetic          319795 non-null  int64  \n",
      " 10  PhysicalActivity  319795 non-null  int64  \n",
      " 11  SleepTime         319795 non-null  float64\n",
      " 12  Asthma            319795 non-null  int64  \n",
      " 13  KidneyDisease     319795 non-null  int64  \n",
      " 14  SkinCancer        319795 non-null  int64  \n",
      " 15  Asian             319795 non-null  uint8  \n",
      " 16  Black             319795 non-null  uint8  \n",
      " 17  Hispanic          319795 non-null  uint8  \n",
      " 18  Other             319795 non-null  uint8  \n",
      " 19  White             319795 non-null  uint8  \n",
      " 20  Fair              319795 non-null  uint8  \n",
      " 21  Good              319795 non-null  uint8  \n",
      " 22  Poor              319795 non-null  uint8  \n",
      " 23  Very good         319795 non-null  uint8  \n",
      " 24  25-29             319795 non-null  uint8  \n",
      " 25  30-34             319795 non-null  uint8  \n",
      " 26  35-39             319795 non-null  uint8  \n",
      " 27  40-44             319795 non-null  uint8  \n",
      " 28  45-49             319795 non-null  uint8  \n",
      " 29  50-54             319795 non-null  uint8  \n",
      " 30  55-59             319795 non-null  uint8  \n",
      " 31  60-64             319795 non-null  uint8  \n",
      " 32  65-69             319795 non-null  uint8  \n",
      " 33  70-74             319795 non-null  uint8  \n",
      " 34  75-79             319795 non-null  uint8  \n",
      " 35  80 or older       319795 non-null  uint8  \n",
      "dtypes: float64(4), int64(10), object(1), uint8(21)\n",
      "memory usage: 43.0+ MB\n"
     ]
    }
   ],
   "source": [
    "#Label Encoding \n",
    "from sklearn.preprocessing import LabelEncoder, OneHotEncoder\n",
    "from sklearn.preprocessing import LabelEncoder\n",
    "le = LabelEncoder()\n",
    "df['Smoking'] = le.fit_transform(df['Smoking'])\n",
    "df['AlcoholDrinking'] = le.fit_transform(df['AlcoholDrinking'])\n",
    "df['Stroke'] = le.fit_transform(df['Stroke'])\n",
    "df['DiffWalking'] = le.fit_transform(df['DiffWalking'])\n",
    "df['Sex'] = le.fit_transform(df['Sex'])\n",
    "df['Diabetic'] = le.fit_transform(df['Diabetic'])\n",
    "df['PhysicalActivity'] = le.fit_transform(df['PhysicalActivity'])\n",
    "df['Asthma'] = le.fit_transform(df['Asthma'])\n",
    "df['KidneyDisease'] = le.fit_transform(df['KidneyDisease'])\n",
    "df['SkinCancer'] = le.fit_transform(df['SkinCancer'])\n",
    "\n",
    "Race = pd.get_dummies(df['Race'],drop_first=True)\n",
    "GenHealth = pd.get_dummies(df['GenHealth'],drop_first=True)\n",
    "AgeCategory = pd.get_dummies(df['AgeCategory'],drop_first=True)\n",
    "df = pd.concat([df,Race, GenHealth, AgeCategory],axis=1)\n",
    "df.drop(['Race', 'GenHealth', 'AgeCategory'],axis=1,inplace=True)\n",
    "df.info()"
   ]
  },
  {
   "cell_type": "code",
   "execution_count": 5,
   "id": "964ca378",
   "metadata": {
    "execution": {
     "iopub.execute_input": "2022-03-26T13:45:40.320683Z",
     "iopub.status.busy": "2022-03-26T13:45:40.320055Z",
     "iopub.status.idle": "2022-03-26T13:45:40.502373Z",
     "shell.execute_reply": "2022-03-26T13:45:40.502837Z",
     "shell.execute_reply.started": "2022-03-26T07:00:13.450949Z"
    },
    "papermill": {
     "duration": 0.216585,
     "end_time": "2022-03-26T13:45:40.503045",
     "exception": false,
     "start_time": "2022-03-26T13:45:40.286460",
     "status": "completed"
    },
    "tags": []
   },
   "outputs": [],
   "source": [
    "from sklearn.model_selection import train_test_split\n",
    "X = df.drop('HeartDisease',axis=1)\n",
    "y = df['HeartDisease']\n",
    "X_train, X_test, y_train, y_test = train_test_split(X, y, test_size=0.30)"
   ]
  },
  {
   "cell_type": "code",
   "execution_count": 6,
   "id": "39dac805",
   "metadata": {
    "execution": {
     "iopub.execute_input": "2022-03-26T13:45:40.566556Z",
     "iopub.status.busy": "2022-03-26T13:45:40.565844Z",
     "iopub.status.idle": "2022-03-26T13:45:40.787177Z",
     "shell.execute_reply": "2022-03-26T13:45:40.787632Z",
     "shell.execute_reply.started": "2022-03-26T07:00:29.533763Z"
    },
    "papermill": {
     "duration": 0.256389,
     "end_time": "2022-03-26T13:45:40.787812",
     "exception": false,
     "start_time": "2022-03-26T13:45:40.531423",
     "status": "completed"
    },
    "tags": []
   },
   "outputs": [],
   "source": [
    "from sklearn.linear_model import LogisticRegression\n",
    "from sklearn.neighbors import KNeighborsClassifier\n",
    "from sklearn.svm import SVC\n",
    "from sklearn.naive_bayes import GaussianNB\n",
    "from sklearn.tree import DecisionTreeClassifier\n",
    "from sklearn.ensemble import RandomForestClassifier\n",
    "clf1 = LogisticRegression(max_iter =10000)\n",
    "clf2 = KNeighborsClassifier(n_neighbors = 5, metric = 'minkowski', p = 2)\n",
    "clf3 = SVC(kernel = 'rbf',  gamma=0.5, C=1, random_state = 0)\n",
    "clf4 = GaussianNB()\n",
    "clf5 = DecisionTreeClassifier(criterion = 'entropy', random_state = 0)\n",
    "clf6 = RandomForestClassifier(n_estimators = 10, criterion = 'entropy', random_state = 0)"
   ]
  },
  {
   "cell_type": "code",
   "execution_count": 7,
   "id": "e0cb5891",
   "metadata": {
    "execution": {
     "iopub.execute_input": "2022-03-26T13:45:40.848296Z",
     "iopub.status.busy": "2022-03-26T13:45:40.847609Z",
     "iopub.status.idle": "2022-03-26T13:54:24.131535Z",
     "shell.execute_reply": "2022-03-26T13:54:24.130774Z",
     "shell.execute_reply.started": "2022-03-26T07:01:12.169941Z"
    },
    "papermill": {
     "duration": 523.315488,
     "end_time": "2022-03-26T13:54:24.131743",
     "exception": false,
     "start_time": "2022-03-26T13:45:40.816255",
     "status": "completed"
    },
    "tags": []
   },
   "outputs": [
    {
     "name": "stdout",
     "output_type": "stream",
     "text": [
      "Accuracy of Logistic Regression Model is  0.9156338923691095\n",
      "\n",
      " Confusion Matrix of Logistic Regression Model:\n",
      " [[86958   727]\n",
      " [ 7367   887]]\n",
      "\n",
      " \n",
      " Classification Report for Logistic Regression Model:\n",
      "               precision    recall  f1-score   support\n",
      "\n",
      "          No       0.92      0.99      0.96     87685\n",
      "         Yes       0.55      0.11      0.18      8254\n",
      "\n",
      "    accuracy                           0.92     95939\n",
      "   macro avg       0.74      0.55      0.57     95939\n",
      "weighted avg       0.89      0.92      0.89     95939\n",
      "\n",
      "\n",
      " \n",
      " Accuracy of K-Nearest Neighbor Model is  0.906857482358582\n",
      "\n",
      " Confusion Matrix of K-Nearest Neighbor Model:\n",
      " [[86357  1328]\n",
      " [ 7608   646]]\n",
      "\n",
      " \n",
      " Classification Report for K-Nearest Neighbor Model:\n",
      "               precision    recall  f1-score   support\n",
      "\n",
      "          No       0.92      0.98      0.95     87685\n",
      "         Yes       0.33      0.08      0.13      8254\n",
      "\n",
      "    accuracy                           0.91     95939\n",
      "   macro avg       0.62      0.53      0.54     95939\n",
      "weighted avg       0.87      0.91      0.88     95939\n",
      "\n",
      "\n",
      " \n",
      " Accuracy of Naive Bayes Classification  Model is  0.7443688176862381\n",
      "\n",
      " Confusion Matrix of Naive Bayes Classification  Model:\n",
      " [[65334 22351]\n",
      " [ 2174  6080]]\n",
      "\n",
      " \n",
      " Classification Report for Naive Bayes Classification  Model:\n",
      "               precision    recall  f1-score   support\n",
      "\n",
      "          No       0.97      0.75      0.84     87685\n",
      "         Yes       0.21      0.74      0.33      8254\n",
      "\n",
      "    accuracy                           0.74     95939\n",
      "   macro avg       0.59      0.74      0.59     95939\n",
      "weighted avg       0.90      0.74      0.80     95939\n",
      "\n",
      "\n",
      " \n",
      " Accuracy of Decision Tree Model is  0.8653206725106578\n",
      "\n",
      " Confusion Matrix of Decision Tree Model:\n",
      " [[80986  6699]\n",
      " [ 6222  2032]]\n",
      "\n",
      " \n",
      " Classification Report for Decision Tree Model:\n",
      "               precision    recall  f1-score   support\n",
      "\n",
      "          No       0.93      0.92      0.93     87685\n",
      "         Yes       0.23      0.25      0.24      8254\n",
      "\n",
      "    accuracy                           0.87     95939\n",
      "   macro avg       0.58      0.58      0.58     95939\n",
      "weighted avg       0.87      0.87      0.87     95939\n",
      "\n",
      "\n",
      " \n",
      " Accuracy of Random Forest Model is  0.9032301775086252\n",
      "\n",
      " Confusion Matrix of  Random Forest Model:\n",
      " [[85652  2033]\n",
      " [ 7251  1003]]\n",
      "\n",
      " \n",
      " Classification Report for  Random Forest Model:\n",
      "               precision    recall  f1-score   support\n",
      "\n",
      "          No       0.92      0.98      0.95     87685\n",
      "         Yes       0.33      0.12      0.18      8254\n",
      "\n",
      "    accuracy                           0.90     95939\n",
      "   macro avg       0.63      0.55      0.56     95939\n",
      "weighted avg       0.87      0.90      0.88     95939\n",
      "\n"
     ]
    }
   ],
   "source": [
    "from sklearn.linear_model import LogisticRegression\n",
    "from sklearn.neighbors import KNeighborsClassifier\n",
    "from sklearn.svm import SVC\n",
    "from sklearn.naive_bayes import GaussianNB\n",
    "from sklearn.tree import DecisionTreeClassifier\n",
    "from sklearn.ensemble import RandomForestClassifier\n",
    "clf1 = LogisticRegression(max_iter =10000)\n",
    "clf2 = KNeighborsClassifier(n_neighbors = 5, metric = 'minkowski', p = 2)\n",
    "#clf3 = SVC(kernel = 'rbf',  gamma=0.5, C=1, random_state = 0)\n",
    "clf4 = GaussianNB()\n",
    "clf5 = DecisionTreeClassifier(criterion = 'entropy', random_state = 0)\n",
    "clf6 = RandomForestClassifier(n_estimators = 10, criterion = 'entropy', random_state = 0)\n",
    "\n",
    "#Training the Classification models on the Train set\n",
    "clf1.fit(X_train, y_train)\n",
    "clf2.fit(X_train, y_train)\n",
    "#clf3.fit(X_train, y_train)\n",
    "clf4.fit(X_train, y_train)\n",
    "clf5.fit(X_train, y_train)\n",
    "clf6.fit(X_train, y_train)\n",
    "\n",
    "#Predicting the Test set results\n",
    "y_pred_LR = clf1.predict(X_test)\n",
    "y_pred_KNN = clf2.predict(X_test)\n",
    "#y_pred_SVC = clf3.predict(X_test)\n",
    "y_pred_NB = clf4.predict(X_test)\n",
    "y_pred_DTC = clf5.predict(X_test)\n",
    "y_pred_RFC = clf6.predict(X_test)\n",
    "\n",
    "#KEY PERFORMANCE INDICATORS (KPI)\n",
    "#Generating the Confusion Matrix and Classification report\n",
    "from sklearn.metrics import confusion_matrix, classification_report\n",
    "from sklearn.metrics import accuracy_score\n",
    "print('Accuracy of Logistic Regression Model is ', accuracy_score(y_test, y_pred_LR))\n",
    "print('\\n','Confusion Matrix of Logistic Regression Model:' '\\n', confusion_matrix(y_test, y_pred_LR))\n",
    "print('\\n', '\\n','Classification Report for Logistic Regression Model:' '\\n',classification_report(y_test, y_pred_LR))\n",
    "print('\\n','\\n','Accuracy of K-Nearest Neighbor Model is ', accuracy_score(y_test, y_pred_KNN))\n",
    "print('\\n','Confusion Matrix of K-Nearest Neighbor Model:' '\\n', confusion_matrix(y_test, y_pred_KNN))\n",
    "print('\\n', '\\n','Classification Report for K-Nearest Neighbor Model:' '\\n',classification_report(y_test, y_pred_KNN))\n",
    "#print('\\n','\\n', 'Accuracy of Support Vector Classification Model is ', accuracy_score(y_test, y_pred_SVC))\n",
    "#print('\\n','Confusion Matrix of Support Vector Classification Model:' '\\n', confusion_matrix(y_test, y_pred_SVC))\n",
    "#print('\\n', '\\n','Classification Report for Support Vector Classification Model:' '\\n',classification_report(y_test, y_pred_SVC))\n",
    "print('\\n','\\n', 'Accuracy of Naive Bayes Classification  Model is ', accuracy_score(y_test, y_pred_NB))\n",
    "print('\\n','Confusion Matrix of Naive Bayes Classification  Model:' '\\n', confusion_matrix(y_test, y_pred_NB))\n",
    "print('\\n', '\\n','Classification Report for Naive Bayes Classification  Model:' '\\n',classification_report(y_test, y_pred_NB))\n",
    "print('\\n','\\n', 'Accuracy of Decision Tree Model is ', accuracy_score(y_test, y_pred_DTC))\n",
    "print('\\n','Confusion Matrix of Decision Tree Model:' '\\n', confusion_matrix(y_test, y_pred_DTC))\n",
    "print('\\n', '\\n','Classification Report for Decision Tree Model:' '\\n',classification_report(y_test, y_pred_DTC))\n",
    "print('\\n','\\n', 'Accuracy of Random Forest Model is ', accuracy_score(y_test, y_pred_RFC))\n",
    "print('\\n','Confusion Matrix of  Random Forest Model:' '\\n', confusion_matrix(y_test, y_pred_RFC))\n",
    "print('\\n', '\\n','Classification Report for  Random Forest Model:' '\\n',classification_report(y_test, y_pred_RFC))"
   ]
  },
  {
   "cell_type": "markdown",
   "id": "039fa0b2",
   "metadata": {
    "papermill": {
     "duration": 0.033635,
     "end_time": "2022-03-26T13:54:24.200406",
     "exception": false,
     "start_time": "2022-03-26T13:54:24.166771",
     "status": "completed"
    },
    "tags": []
   },
   "source": [
    "## **k-Fold Cross Validation**"
   ]
  },
  {
   "cell_type": "code",
   "execution_count": 8,
   "id": "b6d7e7a5",
   "metadata": {
    "execution": {
     "iopub.execute_input": "2022-03-26T13:54:24.273860Z",
     "iopub.status.busy": "2022-03-26T13:54:24.273149Z",
     "iopub.status.idle": "2022-03-26T14:16:57.506156Z",
     "shell.execute_reply": "2022-03-26T14:16:57.506757Z",
     "shell.execute_reply.started": "2022-03-26T07:10:38.816793Z"
    },
    "papermill": {
     "duration": 1353.273958,
     "end_time": "2022-03-26T14:16:57.507165",
     "exception": false,
     "start_time": "2022-03-26T13:54:24.233207",
     "status": "completed"
    },
    "tags": []
   },
   "outputs": [
    {
     "name": "stdout",
     "output_type": "stream",
     "text": [
      "Accuracy  of Logistic Regression Model: 91.59 %\n",
      "Standard Deviation: 0.09 %\n",
      "Accuracy  of K-Nearest Neighbor Model: 90.75 %\n",
      "Standard Deviation: 0.12 %\n",
      "Accuracy  of Naive Bayes Model: 74.45 %\n",
      "Standard Deviation: 0.31 %\n",
      "Accuracy  of Decision Tree Model: 86.62 %\n",
      "Standard Deviation: 0.17 %\n",
      "Accuracy  of Random Forest Model: 90.46 %\n",
      "Standard Deviation: 0.10 %\n"
     ]
    }
   ],
   "source": [
    "# Applying k-Fold Cross Validation\n",
    "from sklearn.model_selection import cross_val_score\n",
    "\n",
    "\n",
    "accuracies_LR = cross_val_score(estimator = clf1, X = X_train, y = y_train, cv = 10)\n",
    "print(\"Accuracy  of Logistic Regression Model: {:.2f} %\".format(accuracies_LR.mean()*100))\n",
    "print(\"Standard Deviation: {:.2f} %\".format(accuracies_LR.std()*100))\n",
    "\n",
    "accuracies_KNN = cross_val_score(estimator = clf2, X = X_train, y = y_train, cv = 10)\n",
    "print(\"Accuracy  of K-Nearest Neighbor Model: {:.2f} %\".format(accuracies_KNN.mean()*100))\n",
    "print(\"Standard Deviation: {:.2f} %\".format(accuracies_KNN.std()*100))\n",
    "\n",
    "#accuracies_SV = cross_val_score(estimator = clf3, X = X_train, y = y_train, cv = 10)\n",
    "#print(\"Accuracy  of Support Vector Model: {:.2f} %\".format(accuracies_SV.mean()*100))\n",
    "#print(\"Standard Deviation: {:.2f} %\".format(accuracies_SV.std()*100))\n",
    "\n",
    "accuracies_NB = cross_val_score(estimator = clf4, X = X_train, y = y_train, cv = 10)\n",
    "print(\"Accuracy  of Naive Bayes Model: {:.2f} %\".format(accuracies_NB.mean()*100))\n",
    "print(\"Standard Deviation: {:.2f} %\".format(accuracies_NB.std()*100))\n",
    "\n",
    "accuracies_DTC = cross_val_score(estimator = clf5, X = X_train, y = y_train, cv = 10)\n",
    "print(\"Accuracy  of Decision Tree Model: {:.2f} %\".format(accuracies_DTC.mean()*100))\n",
    "print(\"Standard Deviation: {:.2f} %\".format(accuracies_DTC.std()*100))\n",
    "\n",
    "accuracies_RF = cross_val_score(estimator = clf6, X = X_train, y = y_train, cv = 10)\n",
    "print(\"Accuracy  of Random Forest Model: {:.2f} %\".format(accuracies_RF.mean()*100))\n",
    "print(\"Standard Deviation: {:.2f} %\".format(accuracies_RF.std()*100))"
   ]
  },
  {
   "cell_type": "markdown",
   "id": "0bdd55a5",
   "metadata": {
    "papermill": {
     "duration": 0.033221,
     "end_time": "2022-03-26T14:16:57.574210",
     "exception": false,
     "start_time": "2022-03-26T14:16:57.540989",
     "status": "completed"
    },
    "tags": []
   },
   "source": [
    "## **GridSearchCV**\n",
    "\n",
    "GridSearchCV is a module of the Sklearn model_selection package that is used for Hyperparameter tuning. Given a set of different hyperparameters, GridSearchCV loops through all possible values and combinations of the hyperparameter and fits the model on the training dataset. In this process, it is able to identify the best values and combination of hyperparameters (from the given set) that produces the best accuracy."
   ]
  },
  {
   "cell_type": "markdown",
   "id": "cf312aac",
   "metadata": {
    "papermill": {
     "duration": 0.033559,
     "end_time": "2022-03-26T14:16:57.641227",
     "exception": false,
     "start_time": "2022-03-26T14:16:57.607668",
     "status": "completed"
    },
    "tags": []
   },
   "source": [
    "### **Logistic Regression with GridSearchCV**"
   ]
  },
  {
   "cell_type": "code",
   "execution_count": 9,
   "id": "93f224ce",
   "metadata": {
    "execution": {
     "iopub.execute_input": "2022-03-26T14:16:57.883729Z",
     "iopub.status.busy": "2022-03-26T14:16:57.882990Z",
     "iopub.status.idle": "2022-03-26T14:30:14.312846Z",
     "shell.execute_reply": "2022-03-26T14:30:14.313873Z",
     "shell.execute_reply.started": "2022-03-25T18:52:25.676906Z"
    },
    "papermill": {
     "duration": 796.639618,
     "end_time": "2022-03-26T14:30:14.314214",
     "exception": false,
     "start_time": "2022-03-26T14:16:57.674596",
     "status": "completed"
    },
    "tags": []
   },
   "outputs": [
    {
     "name": "stderr",
     "output_type": "stream",
     "text": [
      "/opt/conda/lib/python3.7/site-packages/sklearn/model_selection/_validation.py:372: FitFailedWarning: \n",
      "35 fits failed out of a total of 70.\n",
      "The score on these train-test partitions for these parameters will be set to nan.\n",
      "If these failures are not expected, you can try to debug them by setting error_score='raise'.\n",
      "\n",
      "Below are more details about the failures:\n",
      "--------------------------------------------------------------------------------\n",
      "35 fits failed with the following error:\n",
      "Traceback (most recent call last):\n",
      "  File \"/opt/conda/lib/python3.7/site-packages/sklearn/model_selection/_validation.py\", line 681, in _fit_and_score\n",
      "    estimator.fit(X_train, y_train, **fit_params)\n",
      "  File \"/opt/conda/lib/python3.7/site-packages/sklearn/linear_model/_logistic.py\", line 1461, in fit\n",
      "    solver = _check_solver(self.solver, self.penalty, self.dual)\n",
      "  File \"/opt/conda/lib/python3.7/site-packages/sklearn/linear_model/_logistic.py\", line 449, in _check_solver\n",
      "    % (solver, penalty)\n",
      "ValueError: Solver lbfgs supports only 'l2' or 'none' penalties, got l1 penalty.\n",
      "\n",
      "  warnings.warn(some_fits_failed_message, FitFailedWarning)\n",
      "/opt/conda/lib/python3.7/site-packages/sklearn/model_selection/_search.py:972: UserWarning: One or more of the test scores are non-finite: [       nan 0.91593703        nan 0.91618273        nan 0.91596831\n",
      "        nan 0.91599511        nan 0.91599957        nan 0.91599064\n",
      "        nan 0.91598617]\n",
      "  category=UserWarning,\n"
     ]
    },
    {
     "name": "stdout",
     "output_type": "stream",
     "text": [
      "Best Accuracy of Logistic Regression Model: 91.62 %\n",
      "Best Parameters of Logistic Regression Model: {'C': 0.01, 'penalty': 'l2'}\n"
     ]
    }
   ],
   "source": [
    "# Applying Grid Search to find the best model and the best parameters\n",
    "from sklearn.model_selection import GridSearchCV\n",
    "grid_values = {'penalty': ['l1','l2'], 'C': [0.001,0.01,0.1,1,10,100,1000]}\n",
    "grid_search = GridSearchCV(clf1, param_grid=grid_values)\n",
    "grid_search = grid_search.fit(X_train, y_train)\n",
    "best_accuracy = grid_search.best_score_\n",
    "best_parameters = grid_search.best_params_\n",
    "print(\"Best Accuracy of Logistic Regression Model: {:.2f} %\".format(best_accuracy*100))\n",
    "print(\"Best Parameters of Logistic Regression Model:\", best_parameters)\n"
   ]
  },
  {
   "cell_type": "markdown",
   "id": "62ab0039",
   "metadata": {
    "papermill": {
     "duration": 0.054798,
     "end_time": "2022-03-26T14:30:14.437848",
     "exception": false,
     "start_time": "2022-03-26T14:30:14.383050",
     "status": "completed"
    },
    "tags": []
   },
   "source": [
    "### **KNN with GridSearchCV**"
   ]
  },
  {
   "cell_type": "code",
   "execution_count": 10,
   "id": "05c042a4",
   "metadata": {
    "execution": {
     "iopub.execute_input": "2022-03-26T14:30:14.514227Z",
     "iopub.status.busy": "2022-03-26T14:30:14.513339Z",
     "iopub.status.idle": "2022-03-26T15:51:22.348205Z",
     "shell.execute_reply": "2022-03-26T15:51:22.349283Z",
     "shell.execute_reply.started": "2022-03-25T22:17:23.960562Z"
    },
    "papermill": {
     "duration": 4867.878004,
     "end_time": "2022-03-26T15:51:22.350486",
     "exception": false,
     "start_time": "2022-03-26T14:30:14.472482",
     "status": "completed"
    },
    "tags": []
   },
   "outputs": [
    {
     "name": "stdout",
     "output_type": "stream",
     "text": [
      "Best Accuracy of K-Nearest Neighbor Model: 91.27 %\n",
      "Best Parameters of K-Nearest Neighbor Model: {'n_neighbors': 6}\n",
      "Accuracy for K-Nearest Neighbor testing dataset with tuning is : 91.19%\n"
     ]
    }
   ],
   "source": [
    "k_range = list(range(1, 7))\n",
    "param_grid = dict(n_neighbors=k_range)\n",
    "grid_knn = GridSearchCV(clf2, param_grid, cv=5, scoring='accuracy', return_train_score=False)\n",
    "grid_search = grid_knn.fit(X_train,y_train)\n",
    "best_accuracy = grid_search.best_score_\n",
    "best_parameters = grid_search.best_params_\n",
    "print(\"Best Accuracy of K-Nearest Neighbor Model: {:.2f} %\".format(best_accuracy*100))\n",
    "print(\"Best Parameters of K-Nearest Neighbor Model:\", best_parameters)\n",
    "# make predictions on test data \n",
    "grid_predictions = grid_knn.predict(X_test) \n",
    "test_accuracy=accuracy_score(y_test,grid_predictions)*100\n",
    "print(\"Accuracy for K-Nearest Neighbor testing dataset with tuning is : {:.2f}%\".format(test_accuracy) )"
   ]
  },
  {
   "cell_type": "markdown",
   "id": "447f2787",
   "metadata": {
    "papermill": {
     "duration": 0.035108,
     "end_time": "2022-03-26T15:51:22.421793",
     "exception": false,
     "start_time": "2022-03-26T15:51:22.386685",
     "status": "completed"
    },
    "tags": []
   },
   "source": [
    "### **Gaussian Naive Bayes with GridSearchCV**"
   ]
  },
  {
   "cell_type": "code",
   "execution_count": 11,
   "id": "6dad9f2c",
   "metadata": {
    "execution": {
     "iopub.execute_input": "2022-03-26T15:51:22.497937Z",
     "iopub.status.busy": "2022-03-26T15:51:22.497237Z",
     "iopub.status.idle": "2022-03-26T15:51:33.755901Z",
     "shell.execute_reply": "2022-03-26T15:51:33.755170Z",
     "shell.execute_reply.started": "2022-03-26T04:32:48.322273Z"
    },
    "papermill": {
     "duration": 11.298776,
     "end_time": "2022-03-26T15:51:33.756230",
     "exception": false,
     "start_time": "2022-03-26T15:51:22.457454",
     "status": "completed"
    },
    "tags": []
   },
   "outputs": [
    {
     "name": "stdout",
     "output_type": "stream",
     "text": [
      "Best Accuracy of Naive Bayes Model: 74.91 %\n",
      "Best Parameters of Naive Bayes Model: {'var_smoothing': 1e-05}\n",
      "Accuracy for Naive Bayes testing dataset with tuning is : 74.88%\n"
     ]
    }
   ],
   "source": [
    "from sklearn.model_selection import GridSearchCV\n",
    "from sklearn.metrics import accuracy_score\n",
    "clf4 = GaussianNB()\n",
    "parameters_4 = {\n",
    "    'var_smoothing': (0,1e-9,1e-7, 1e-5), \n",
    "                   }\n",
    "# with GridSearch\n",
    "grid_search_NB = GridSearchCV(\n",
    "    estimator=clf4,\n",
    "    param_grid=parameters_4,\n",
    "    scoring = 'accuracy',\n",
    "    n_jobs = -1,\n",
    "    cv = 5\n",
    ")\n",
    "grid_search=grid_search_NB.fit(X_train, y_train)\n",
    "best_accuracy = grid_search.best_score_\n",
    "best_parameters = grid_search.best_params_\n",
    "print(\"Best Accuracy of Naive Bayes Model: {:.2f} %\".format(best_accuracy*100))\n",
    "print(\"Best Parameters of Naive Bayes Model:\", best_parameters)\n",
    "# make predictions on test data \n",
    "grid_predictions = grid_search_NB.predict(X_test) \n",
    "test_accuracy=accuracy_score(y_test,grid_predictions)*100\n",
    "print(\"Accuracy for Naive Bayes testing dataset with tuning is : {:.2f}%\".format(test_accuracy) )\n"
   ]
  },
  {
   "cell_type": "markdown",
   "id": "56c3c028",
   "metadata": {
    "papermill": {
     "duration": 0.037182,
     "end_time": "2022-03-26T15:51:33.830389",
     "exception": false,
     "start_time": "2022-03-26T15:51:33.793207",
     "status": "completed"
    },
    "tags": []
   },
   "source": [
    "### **Random Forest with GridSearchCV**"
   ]
  },
  {
   "cell_type": "code",
   "execution_count": 12,
   "id": "e1d6c037",
   "metadata": {
    "execution": {
     "iopub.execute_input": "2022-03-26T15:51:33.912227Z",
     "iopub.status.busy": "2022-03-26T15:51:33.911543Z",
     "iopub.status.idle": "2022-03-26T16:52:52.853137Z",
     "shell.execute_reply": "2022-03-26T16:52:52.852319Z",
     "shell.execute_reply.started": "2022-03-26T04:34:00.491226Z"
    },
    "papermill": {
     "duration": 3678.986332,
     "end_time": "2022-03-26T16:52:52.853383",
     "exception": false,
     "start_time": "2022-03-26T15:51:33.867051",
     "status": "completed"
    },
    "tags": []
   },
   "outputs": [
    {
     "name": "stdout",
     "output_type": "stream",
     "text": [
      "tuned hyperparameters :(best parameters)  {'max_features': 'auto', 'n_estimators': 700}\n",
      "Best accuracy for Random Forest Model : 90.5859123934386\n",
      "Accuracy for Random Forest testing dataset with tuning is : 90.44%\n"
     ]
    }
   ],
   "source": [
    "param_grid = {\n",
    "    'n_estimators': [200, 700],\n",
    "    'max_features': ['auto', 'sqrt', 'log2']\n",
    "}\n",
    "CV_rfc = GridSearchCV(estimator=clf6,param_grid=param_grid, cv= 5,scoring='accuracy')\n",
    "CV_rfc.fit(X_train, y_train)\n",
    "print(\"tuned hyperparameters :(best parameters) \",CV_rfc.best_params_)\n",
    "print(\"Best accuracy for Random Forest Model :\",CV_rfc.best_score_*100)\n",
    "# make predictions on test data \n",
    "grid_predictions = CV_rfc.predict(X_test) \n",
    "test_accuracy=accuracy_score(y_test,grid_predictions)*100\n",
    "print(\"Accuracy for Random Forest testing dataset with tuning is : {:.2f}%\".format(test_accuracy) )"
   ]
  },
  {
   "cell_type": "markdown",
   "id": "487a70ca",
   "metadata": {
    "papermill": {
     "duration": 0.036625,
     "end_time": "2022-03-26T16:52:52.926642",
     "exception": false,
     "start_time": "2022-03-26T16:52:52.890017",
     "status": "completed"
    },
    "tags": []
   },
   "source": [
    "### **Kernel SVM with GridSearchCV**"
   ]
  },
  {
   "cell_type": "code",
   "execution_count": 13,
   "id": "26f3886a",
   "metadata": {
    "execution": {
     "iopub.execute_input": "2022-03-26T16:52:53.005667Z",
     "iopub.status.busy": "2022-03-26T16:52:53.004598Z",
     "iopub.status.idle": "2022-03-26T16:52:53.059594Z",
     "shell.execute_reply": "2022-03-26T16:52:53.058990Z",
     "shell.execute_reply.started": "2022-03-26T05:35:05.939740Z"
    },
    "papermill": {
     "duration": 0.097337,
     "end_time": "2022-03-26T16:52:53.059728",
     "exception": false,
     "start_time": "2022-03-26T16:52:52.962391",
     "status": "completed"
    },
    "tags": []
   },
   "outputs": [
    {
     "name": "stdout",
     "output_type": "stream",
     "text": [
      "[[64  4]\n",
      " [ 3 29]]\n"
     ]
    }
   ],
   "source": [
    "# Importing the dataset\n",
    "dataset = pd.read_csv('../input/social-network-ads/Social_Network_Ads.csv')\n",
    "X = dataset.iloc[:, [2, 3]].values\n",
    "y = dataset.iloc[:, -1].values\n",
    "# Feature Scaling\n",
    "from sklearn.preprocessing import StandardScaler\n",
    "sc = StandardScaler()\n",
    "X = sc.fit_transform(X)\n",
    "\n",
    "# Splitting the dataset into the Training set and Test set\n",
    "from sklearn.model_selection import train_test_split\n",
    "X_train, X_test, y_train, y_test = train_test_split(X, y, test_size = 0.25, random_state = 0)\n",
    "\n",
    "# Training the Kernel SVM model on the Training set\n",
    "from sklearn.svm import SVC\n",
    "classifier = SVC(kernel = 'rbf', random_state = 0)\n",
    "classifier.fit(X_train, y_train)\n",
    "\n",
    "# Predicting the Test set results\n",
    "y_pred = classifier.predict(X_test)\n",
    "\n",
    "# Making the Confusion Matrix\n",
    "from sklearn.metrics import confusion_matrix\n",
    "cm = confusion_matrix(y_test, y_pred)\n",
    "print(cm)"
   ]
  },
  {
   "cell_type": "code",
   "execution_count": 14,
   "id": "ea357b10",
   "metadata": {
    "execution": {
     "iopub.execute_input": "2022-03-26T16:52:53.137709Z",
     "iopub.status.busy": "2022-03-26T16:52:53.136687Z",
     "iopub.status.idle": "2022-03-26T16:52:55.703461Z",
     "shell.execute_reply": "2022-03-26T16:52:55.704051Z",
     "shell.execute_reply.started": "2022-03-26T05:35:13.068205Z"
    },
    "papermill": {
     "duration": 2.607496,
     "end_time": "2022-03-26T16:52:55.704232",
     "exception": false,
     "start_time": "2022-03-26T16:52:53.096736",
     "status": "completed"
    },
    "tags": []
   },
   "outputs": [
    {
     "name": "stdout",
     "output_type": "stream",
     "text": [
      "Accuracy of Kernel SVM Model: 90.00 %\n",
      "Standard Deviation: 6.83 %\n",
      "Best Accuracy: 91.00 %\n",
      "Best Parameters: {'C': 1, 'gamma': 0.7, 'kernel': 'rbf'}\n"
     ]
    }
   ],
   "source": [
    "# Applying k-Fold Cross Validation\n",
    "from sklearn.model_selection import cross_val_score\n",
    "accuracies = cross_val_score(estimator = classifier, X = X_train, y = y_train, cv = 10)\n",
    "print(\"Accuracy of Kernel SVM Model: {:.2f} %\".format(accuracies.mean()*100))\n",
    "print(\"Standard Deviation: {:.2f} %\".format(accuracies.std()*100))\n",
    "\n",
    "# Applying Grid Search to find the best model and the best parameters\n",
    "from sklearn.model_selection import GridSearchCV\n",
    "parameters = [{'C': [1, 10, 100, 1000], 'kernel': ['linear']},\n",
    "              {'C': [1, 10, 100, 1000], 'kernel': ['rbf'], 'gamma': [0.1, 0.2, 0.3, 0.4, 0.5, 0.6, 0.7, 0.8, 0.9]}]\n",
    "grid_search = GridSearchCV(estimator = classifier,\n",
    "                           param_grid = parameters,\n",
    "                           scoring = 'accuracy',\n",
    "                           cv = 10,\n",
    "                           n_jobs = -1)\n",
    "grid_search = grid_search.fit(X_train, y_train)\n",
    "best_accuracy = grid_search.best_score_\n",
    "best_parameters = grid_search.best_params_\n",
    "print(\"Best Accuracy: {:.2f} %\".format(best_accuracy*100))\n",
    "print(\"Best Parameters:\", best_parameters)"
   ]
  },
  {
   "cell_type": "markdown",
   "id": "ef1952da",
   "metadata": {
    "papermill": {
     "duration": 0.037056,
     "end_time": "2022-03-26T16:52:55.778152",
     "exception": false,
     "start_time": "2022-03-26T16:52:55.741096",
     "status": "completed"
    },
    "tags": []
   },
   "source": [
    "### **Linear Discriminant Analysis**"
   ]
  },
  {
   "cell_type": "code",
   "execution_count": 15,
   "id": "fe14bddc",
   "metadata": {
    "execution": {
     "iopub.execute_input": "2022-03-26T16:52:55.857359Z",
     "iopub.status.busy": "2022-03-26T16:52:55.856712Z",
     "iopub.status.idle": "2022-03-26T16:52:55.873795Z",
     "shell.execute_reply": "2022-03-26T16:52:55.874374Z",
     "shell.execute_reply.started": "2022-03-26T13:22:04.482448Z"
    },
    "papermill": {
     "duration": 0.058856,
     "end_time": "2022-03-26T16:52:55.874560",
     "exception": false,
     "start_time": "2022-03-26T16:52:55.815704",
     "status": "completed"
    },
    "tags": []
   },
   "outputs": [],
   "source": [
    "df2 = pd.read_csv('../input/uci-wine-dataset/wine.data', header = None)\n",
    "df2.columns = ['Customer_Segment', \n",
    "                 'Alcohol', \n",
    "                 'Malic_Acid', \n",
    "                 'Ash', 'Ash_Alcanity', \n",
    "                 'Magnesium', \n",
    "                 'Total_Phenols', \n",
    "                 'Flavanoids', \n",
    "                 'Nonflavanoid_Phenols', \n",
    "                 'Proanthocyanins', \n",
    "                 'Color_Intensity', \n",
    "                 'Hue', 'OD280', \n",
    "                 'Proline']"
   ]
  },
  {
   "cell_type": "code",
   "execution_count": 16,
   "id": "af2bbd86",
   "metadata": {
    "execution": {
     "iopub.execute_input": "2022-03-26T16:52:55.953348Z",
     "iopub.status.busy": "2022-03-26T16:52:55.952657Z",
     "iopub.status.idle": "2022-03-26T16:52:55.959737Z",
     "shell.execute_reply": "2022-03-26T16:52:55.960368Z",
     "shell.execute_reply.started": "2022-03-26T13:22:10.746865Z"
    },
    "papermill": {
     "duration": 0.048221,
     "end_time": "2022-03-26T16:52:55.960533",
     "exception": false,
     "start_time": "2022-03-26T16:52:55.912312",
     "status": "completed"
    },
    "tags": []
   },
   "outputs": [],
   "source": [
    "from sklearn.model_selection import train_test_split\n",
    "X = df2.iloc[:, 1:].values\n",
    "y = df2.iloc[:, 0].values\n",
    "#X = df.drop('HeartDisease',axis=1)\n",
    "#y = df['HeartDisease']\n",
    "\n",
    "X_train, X_test, y_train, y_test = train_test_split(X, y, test_size = 0.2, random_state = 0)\n",
    "from sklearn.preprocessing import StandardScaler\n",
    "sc = StandardScaler()\n",
    "X_train = sc.fit_transform(X_train)\n",
    "X_test = sc.transform(X_test)"
   ]
  },
  {
   "cell_type": "code",
   "execution_count": 17,
   "id": "58b1cd43",
   "metadata": {
    "execution": {
     "iopub.execute_input": "2022-03-26T16:52:56.042106Z",
     "iopub.status.busy": "2022-03-26T16:52:56.041481Z",
     "iopub.status.idle": "2022-03-26T16:52:56.043681Z",
     "shell.execute_reply": "2022-03-26T16:52:56.044207Z",
     "shell.execute_reply.started": "2022-03-26T13:22:13.356972Z"
    },
    "papermill": {
     "duration": 0.046651,
     "end_time": "2022-03-26T16:52:56.044373",
     "exception": false,
     "start_time": "2022-03-26T16:52:55.997722",
     "status": "completed"
    },
    "tags": []
   },
   "outputs": [
    {
     "data": {
      "text/plain": [
       "(178, 13)"
      ]
     },
     "execution_count": 17,
     "metadata": {},
     "output_type": "execute_result"
    }
   ],
   "source": [
    "X.shape"
   ]
  },
  {
   "cell_type": "code",
   "execution_count": 18,
   "id": "2b74d0f2",
   "metadata": {
    "execution": {
     "iopub.execute_input": "2022-03-26T16:52:56.133856Z",
     "iopub.status.busy": "2022-03-26T16:52:56.133253Z",
     "iopub.status.idle": "2022-03-26T16:52:56.169408Z",
     "shell.execute_reply": "2022-03-26T16:52:56.169992Z",
     "shell.execute_reply.started": "2022-03-26T13:22:19.306356Z"
    },
    "papermill": {
     "duration": 0.086619,
     "end_time": "2022-03-26T16:52:56.170174",
     "exception": false,
     "start_time": "2022-03-26T16:52:56.083555",
     "status": "completed"
    },
    "tags": []
   },
   "outputs": [],
   "source": [
    "#Default LDA model without any tuning - base metric\n",
    "from sklearn.discriminant_analysis import LinearDiscriminantAnalysis as LDA\n",
    "lda_default = LDA()\n",
    "X_train_lda = lda_default.fit_transform(X_train, y_train)\n",
    "X_test_lda = lda_default.transform(X_test)\n",
    "y_pred_default =lda_default.predict(X_test)"
   ]
  },
  {
   "cell_type": "code",
   "execution_count": 19,
   "id": "609c1a0b",
   "metadata": {
    "execution": {
     "iopub.execute_input": "2022-03-26T16:52:56.255626Z",
     "iopub.status.busy": "2022-03-26T16:52:56.255033Z",
     "iopub.status.idle": "2022-03-26T16:52:56.268463Z",
     "shell.execute_reply": "2022-03-26T16:52:56.269197Z",
     "shell.execute_reply.started": "2022-03-26T13:22:22.568451Z"
    },
    "papermill": {
     "duration": 0.060721,
     "end_time": "2022-03-26T16:52:56.269380",
     "exception": false,
     "start_time": "2022-03-26T16:52:56.208659",
     "status": "completed"
    },
    "tags": []
   },
   "outputs": [
    {
     "name": "stdout",
     "output_type": "stream",
     "text": [
      "Accuracy of LDA Default Model is  0.9722222222222222\n",
      "\n",
      " Confusion Matrix of LDA Default Model:\n",
      " [[14  0  0]\n",
      " [ 1 15  0]\n",
      " [ 0  0  6]]\n",
      "\n",
      " \n",
      " Classification Report for LDA Default Model:\n",
      "               precision    recall  f1-score   support\n",
      "\n",
      "           1       0.93      1.00      0.97        14\n",
      "           2       1.00      0.94      0.97        16\n",
      "           3       1.00      1.00      1.00         6\n",
      "\n",
      "    accuracy                           0.97        36\n",
      "   macro avg       0.98      0.98      0.98        36\n",
      "weighted avg       0.97      0.97      0.97        36\n",
      "\n"
     ]
    }
   ],
   "source": [
    "from sklearn.metrics import confusion_matrix, classification_report\n",
    "from sklearn.metrics import accuracy_score\n",
    "print('Accuracy of LDA Default Model is ', accuracy_score(y_test, y_pred_default))\n",
    "print('\\n','Confusion Matrix of LDA Default Model:' '\\n', confusion_matrix(y_test, y_pred_default))\n",
    "print('\\n', '\\n','Classification Report for LDA Default Model:' '\\n',classification_report(y_test, y_pred_default))"
   ]
  },
  {
   "cell_type": "markdown",
   "id": "6b009d94",
   "metadata": {
    "papermill": {
     "duration": 0.038746,
     "end_time": "2022-03-26T16:52:56.349288",
     "exception": false,
     "start_time": "2022-03-26T16:52:56.310542",
     "status": "completed"
    },
    "tags": []
   },
   "source": [
    "#### **Parameter tuning with GridSearchCV - Method 1 (LDA  - lsqr & eigen)**"
   ]
  },
  {
   "cell_type": "code",
   "execution_count": 20,
   "id": "e903c501",
   "metadata": {
    "execution": {
     "iopub.execute_input": "2022-03-26T16:52:56.434020Z",
     "iopub.status.busy": "2022-03-26T16:52:56.433393Z",
     "iopub.status.idle": "2022-03-26T16:52:56.555392Z",
     "shell.execute_reply": "2022-03-26T16:52:56.556628Z",
     "shell.execute_reply.started": "2022-03-26T13:22:28.558464Z"
    },
    "papermill": {
     "duration": 0.169972,
     "end_time": "2022-03-26T16:52:56.556865",
     "exception": false,
     "start_time": "2022-03-26T16:52:56.386893",
     "status": "completed"
    },
    "tags": []
   },
   "outputs": [
    {
     "name": "stdout",
     "output_type": "stream",
     "text": [
      "Accuracy of LDA Tuned Model is  1.0\n",
      "\n",
      " Confusion Matrix of LDA Tuned Model:\n",
      " [[14  0  0]\n",
      " [ 0 16  0]\n",
      " [ 0  0  6]]\n",
      "\n",
      " \n",
      " Classification Report for LDA Tuned Model:\n",
      "               precision    recall  f1-score   support\n",
      "\n",
      "           1       1.00      1.00      1.00        14\n",
      "           2       1.00      1.00      1.00        16\n",
      "           3       1.00      1.00      1.00         6\n",
      "\n",
      "    accuracy                           1.00        36\n",
      "   macro avg       1.00      1.00      1.00        36\n",
      "weighted avg       1.00      1.00      1.00        36\n",
      "\n",
      "Best Accuracy: 96.53 %\n",
      "Best Parameters: {'n_components': 0, 'solver': 'lsqr'}\n"
     ]
    }
   ],
   "source": [
    "lda_1 = LDA(shrinkage='auto')\n",
    "parameters_1 = {\n",
    "    'solver': ('lsqr','eigen'),  #note svd does not run with shrinkage and models using it will be tuned separately\n",
    "    'n_components': (0,1,2),\n",
    "                   }\n",
    "\n",
    "\n",
    "# with GridSearch\n",
    "from sklearn.model_selection import GridSearchCV\n",
    "grid_search_lda_1 = GridSearchCV(\n",
    "    estimator=lda_1,\n",
    "    param_grid=parameters_1,\n",
    "    scoring = 'accuracy',\n",
    "    n_jobs = -1,\n",
    "    cv = 5\n",
    ")\n",
    "lda_1=grid_search_lda_1.fit(X_train, y_train)\n",
    "y_pred_ldaTuned =lda_1.predict(X_test)\n",
    "print('Accuracy of LDA Tuned Model is ', accuracy_score(y_test, y_pred_ldaTuned))\n",
    "print('\\n','Confusion Matrix of LDA Tuned Model:' '\\n', confusion_matrix(y_test, y_pred_ldaTuned))\n",
    "print('\\n', '\\n','Classification Report for LDA Tuned Model:' '\\n',classification_report(y_test, y_pred_ldaTuned))\n",
    "\n",
    "best_accuracy = lda_1.best_score_\n",
    "best_parameters = lda_1.best_params_\n",
    "print(\"Best Accuracy: {:.2f} %\".format(best_accuracy*100))\n",
    "print(\"Best Parameters:\", best_parameters)"
   ]
  },
  {
   "cell_type": "markdown",
   "id": "ecfcabca",
   "metadata": {
    "papermill": {
     "duration": 0.057811,
     "end_time": "2022-03-26T16:52:56.690442",
     "exception": false,
     "start_time": "2022-03-26T16:52:56.632631",
     "status": "completed"
    },
    "tags": []
   },
   "source": [
    "#### **Parameter tuning with GridSearchCV - Method 2 (LDA  - svd)**"
   ]
  },
  {
   "cell_type": "code",
   "execution_count": 21,
   "id": "f44c2f6f",
   "metadata": {
    "execution": {
     "iopub.execute_input": "2022-03-26T16:52:56.775835Z",
     "iopub.status.busy": "2022-03-26T16:52:56.774832Z",
     "iopub.status.idle": "2022-03-26T16:52:56.874796Z",
     "shell.execute_reply": "2022-03-26T16:52:56.875973Z",
     "shell.execute_reply.started": "2022-03-26T13:22:36.477630Z"
    },
    "papermill": {
     "duration": 0.147725,
     "end_time": "2022-03-26T16:52:56.876284",
     "exception": false,
     "start_time": "2022-03-26T16:52:56.728559",
     "status": "completed"
    },
    "tags": []
   },
   "outputs": [
    {
     "name": "stdout",
     "output_type": "stream",
     "text": [
      "Accuracy of LDA Tuned Model is  0.9722222222222222\n",
      "\n",
      " Confusion Matrix of LDA Tuned Model:\n",
      " [[14  0  0]\n",
      " [ 1 15  0]\n",
      " [ 0  0  6]]\n",
      "\n",
      " \n",
      " Classification Report for LDA Tuned Model:\n",
      "               precision    recall  f1-score   support\n",
      "\n",
      "           1       0.93      1.00      0.97        14\n",
      "           2       1.00      0.94      0.97        16\n",
      "           3       1.00      1.00      1.00         6\n",
      "\n",
      "    accuracy                           0.97        36\n",
      "   macro avg       0.98      0.98      0.98        36\n",
      "weighted avg       0.97      0.97      0.97        36\n",
      "\n",
      "Best Accuracy: 97.93 %\n",
      "Best Parameters: {'n_components': 0, 'store_covariance': True}\n"
     ]
    }
   ],
   "source": [
    "lda_2 = LDA(solver='svd')#note svd does not run with shrinkage and models using it will be tuned separately \n",
    "parameters_2 = {\n",
    "    'n_components': (0,1, 2),\n",
    "    'store_covariance' :(True, False),\n",
    "                       }\n",
    "# with GridSearch\n",
    "from sklearn.model_selection import GridSearchCV\n",
    "grid_search_lda_2 = GridSearchCV(\n",
    "    estimator=lda_2,\n",
    "    param_grid=parameters_2,\n",
    "    scoring = 'accuracy',\n",
    "    n_jobs = -1,\n",
    "    cv = 5\n",
    ")\n",
    "lda_2=grid_search_lda_2.fit(X_train, y_train)\n",
    "y_pred_ldaTuned =lda_2.predict(X_test)\n",
    "print('Accuracy of LDA Tuned Model is ', accuracy_score(y_test, y_pred_ldaTuned))\n",
    "print('\\n','Confusion Matrix of LDA Tuned Model:' '\\n', confusion_matrix(y_test, y_pred_ldaTuned))\n",
    "print('\\n', '\\n','Classification Report for LDA Tuned Model:' '\\n',classification_report(y_test, y_pred_ldaTuned))\n",
    "\n",
    "best_accuracy = lda_2.best_score_\n",
    "best_parameters = lda_2.best_params_\n",
    "print(\"Best Accuracy: {:.2f} %\".format(best_accuracy*100))\n",
    "print(\"Best Parameters:\", best_parameters)"
   ]
  },
  {
   "cell_type": "markdown",
   "id": "7ba4be3f",
   "metadata": {
    "papermill": {
     "duration": 0.038419,
     "end_time": "2022-03-26T16:52:56.976175",
     "exception": false,
     "start_time": "2022-03-26T16:52:56.937756",
     "status": "completed"
    },
    "tags": []
   },
   "source": [
    "### **Quadratic Discriminant Analysis**"
   ]
  },
  {
   "cell_type": "markdown",
   "id": "78441644",
   "metadata": {
    "papermill": {
     "duration": 0.038127,
     "end_time": "2022-03-26T16:52:57.052600",
     "exception": false,
     "start_time": "2022-03-26T16:52:57.014473",
     "status": "completed"
    },
    "tags": []
   },
   "source": [
    "#### **QDA Without any tuning**"
   ]
  },
  {
   "cell_type": "code",
   "execution_count": 22,
   "id": "1e7b69f9",
   "metadata": {
    "execution": {
     "iopub.execute_input": "2022-03-26T16:52:57.136549Z",
     "iopub.status.busy": "2022-03-26T16:52:57.135898Z",
     "iopub.status.idle": "2022-03-26T16:52:57.160785Z",
     "shell.execute_reply": "2022-03-26T16:52:57.161249Z",
     "shell.execute_reply.started": "2022-03-26T13:22:42.987625Z"
    },
    "papermill": {
     "duration": 0.070161,
     "end_time": "2022-03-26T16:52:57.161426",
     "exception": false,
     "start_time": "2022-03-26T16:52:57.091265",
     "status": "completed"
    },
    "tags": []
   },
   "outputs": [
    {
     "name": "stdout",
     "output_type": "stream",
     "text": [
      "Accuracy of QDA Default Model is  1.0\n",
      "\n",
      " Confusion Matrix of QDA Default Model:\n",
      " [[14  0  0]\n",
      " [ 0 16  0]\n",
      " [ 0  0  6]]\n",
      "\n",
      " \n",
      " Classification Report for QDA Default Model:\n",
      "               precision    recall  f1-score   support\n",
      "\n",
      "           1       1.00      1.00      1.00        14\n",
      "           2       1.00      1.00      1.00        16\n",
      "           3       1.00      1.00      1.00         6\n",
      "\n",
      "    accuracy                           1.00        36\n",
      "   macro avg       1.00      1.00      1.00        36\n",
      "weighted avg       1.00      1.00      1.00        36\n",
      "\n"
     ]
    }
   ],
   "source": [
    "#Implementing QDA with Scikit-Learn\n",
    "from sklearn.discriminant_analysis import QuadraticDiscriminantAnalysis as QDA\n",
    "qda_default = QDA()\n",
    "qda_default.fit(X_train, y_train)\n",
    "y_pred_default =qda_default.predict(X_test)\n",
    "from sklearn.metrics import confusion_matrix, classification_report\n",
    "from sklearn.metrics import accuracy_score\n",
    "print('Accuracy of QDA Default Model is ', accuracy_score(y_test, y_pred_default))\n",
    "print('\\n','Confusion Matrix of QDA Default Model:' '\\n', confusion_matrix(y_test, y_pred_default))\n",
    "print('\\n', '\\n','Classification Report for QDA Default Model:' '\\n',classification_report(y_test, y_pred_default))"
   ]
  },
  {
   "cell_type": "markdown",
   "id": "276562c2",
   "metadata": {
    "papermill": {
     "duration": 0.040933,
     "end_time": "2022-03-26T16:52:57.248287",
     "exception": false,
     "start_time": "2022-03-26T16:52:57.207354",
     "status": "completed"
    },
    "tags": []
   },
   "source": [
    "#### **Parameter tuning with GridSearchCV**"
   ]
  },
  {
   "cell_type": "code",
   "execution_count": 23,
   "id": "9b979cf3",
   "metadata": {
    "execution": {
     "iopub.execute_input": "2022-03-26T16:52:57.333420Z",
     "iopub.status.busy": "2022-03-26T16:52:57.327813Z",
     "iopub.status.idle": "2022-03-26T16:52:57.552086Z",
     "shell.execute_reply": "2022-03-26T16:52:57.552541Z",
     "shell.execute_reply.started": "2022-03-26T13:22:49.516882Z"
    },
    "papermill": {
     "duration": 0.265849,
     "end_time": "2022-03-26T16:52:57.552714",
     "exception": false,
     "start_time": "2022-03-26T16:52:57.286865",
     "status": "completed"
    },
    "tags": []
   },
   "outputs": [
    {
     "name": "stdout",
     "output_type": "stream",
     "text": [
      "Accuracy of QDA Tuned Model is  1.0\n",
      "\n",
      " Confusion Matrix of QDA Tuned Model:\n",
      " [[14  0  0]\n",
      " [ 0 16  0]\n",
      " [ 0  0  6]]\n",
      "\n",
      " \n",
      " Classification Report for QDA Tuned Model:\n",
      "               precision    recall  f1-score   support\n",
      "\n",
      "           1       1.00      1.00      1.00        14\n",
      "           2       1.00      1.00      1.00        16\n",
      "           3       1.00      1.00      1.00         6\n",
      "\n",
      "    accuracy                           1.00        36\n",
      "   macro avg       1.00      1.00      1.00        36\n",
      "weighted avg       1.00      1.00      1.00        36\n",
      "\n",
      "Best Accuracy: 98.57 %\n",
      "Best Parameters: {'reg_param': 1e-05, 'store_covariance': True, 'tol': 0.0001}\n"
     ]
    }
   ],
   "source": [
    "from sklearn.model_selection import GridSearchCV\n",
    "qda1 = QDA()\n",
    "parameters = {\n",
    "    'reg_param': (0.00001, 0.0001, 0.001,0.01, 0.1), \n",
    "    'store_covariance': (True, False),\n",
    "    'tol': (0.0001, 0.001,0.01, 0.1), \n",
    "                   }\n",
    "# with GridSearch\n",
    "grid_search_qda = GridSearchCV(\n",
    "    estimator=qda1,\n",
    "    param_grid=parameters,\n",
    "    scoring = 'accuracy',\n",
    "    n_jobs = -1,\n",
    "    cv = 5\n",
    ")\n",
    "qda_1=grid_search_qda.fit(X_train, y_train)\n",
    "y_pred_qda =qda_1.predict(X_test)\n",
    "from sklearn.metrics import confusion_matrix, classification_report\n",
    "from sklearn.metrics import accuracy_score\n",
    "print('Accuracy of QDA Tuned Model is ', accuracy_score(y_test, y_pred_qda))\n",
    "print('\\n','Confusion Matrix of QDA Tuned Model:' '\\n', confusion_matrix(y_test, y_pred_qda))\n",
    "print('\\n', '\\n','Classification Report for QDA Tuned Model:' '\\n',classification_report(y_test, y_pred_qda))\n",
    "best_accuracy = qda_1.best_score_\n",
    "best_parameters = qda_1.best_params_\n",
    "print(\"Best Accuracy: {:.2f} %\".format(best_accuracy*100))\n",
    "print(\"Best Parameters:\", best_parameters)"
   ]
  },
  {
   "cell_type": "code",
   "execution_count": null,
   "id": "5e7dcdd4",
   "metadata": {
    "papermill": {
     "duration": 0.038495,
     "end_time": "2022-03-26T16:52:57.629870",
     "exception": false,
     "start_time": "2022-03-26T16:52:57.591375",
     "status": "completed"
    },
    "tags": []
   },
   "outputs": [],
   "source": []
  },
  {
   "cell_type": "code",
   "execution_count": null,
   "id": "431ea579",
   "metadata": {
    "papermill": {
     "duration": 0.038459,
     "end_time": "2022-03-26T16:52:57.707627",
     "exception": false,
     "start_time": "2022-03-26T16:52:57.669168",
     "status": "completed"
    },
    "tags": []
   },
   "outputs": [],
   "source": []
  },
  {
   "cell_type": "code",
   "execution_count": null,
   "id": "9c17caa7",
   "metadata": {
    "papermill": {
     "duration": 0.039476,
     "end_time": "2022-03-26T16:52:57.786185",
     "exception": false,
     "start_time": "2022-03-26T16:52:57.746709",
     "status": "completed"
    },
    "tags": []
   },
   "outputs": [],
   "source": []
  },
  {
   "cell_type": "code",
   "execution_count": null,
   "id": "d803093a",
   "metadata": {
    "papermill": {
     "duration": 0.039991,
     "end_time": "2022-03-26T16:52:57.865761",
     "exception": false,
     "start_time": "2022-03-26T16:52:57.825770",
     "status": "completed"
    },
    "tags": []
   },
   "outputs": [],
   "source": []
  },
  {
   "cell_type": "code",
   "execution_count": null,
   "id": "875fbd74",
   "metadata": {
    "papermill": {
     "duration": 0.04133,
     "end_time": "2022-03-26T16:52:57.947952",
     "exception": false,
     "start_time": "2022-03-26T16:52:57.906622",
     "status": "completed"
    },
    "tags": []
   },
   "outputs": [],
   "source": []
  }
 ],
 "metadata": {
  "kernelspec": {
   "display_name": "Python 3",
   "language": "python",
   "name": "python3"
  },
  "language_info": {
   "codemirror_mode": {
    "name": "ipython",
    "version": 3
   },
   "file_extension": ".py",
   "mimetype": "text/x-python",
   "name": "python",
   "nbconvert_exporter": "python",
   "pygments_lexer": "ipython3",
   "version": "3.7.12"
  },
  "papermill": {
   "default_parameters": {},
   "duration": 11250.9354,
   "end_time": "2022-03-26T16:52:59.019906",
   "environment_variables": {},
   "exception": null,
   "input_path": "__notebook__.ipynb",
   "output_path": "__notebook__.ipynb",
   "parameters": {},
   "start_time": "2022-03-26T13:45:28.084506",
   "version": "2.3.3"
  }
 },
 "nbformat": 4,
 "nbformat_minor": 5
}
